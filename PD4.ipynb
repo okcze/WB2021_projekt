{
 "cells": [
  {
   "cell_type": "markdown",
   "id": "tested-abortion",
   "metadata": {},
   "source": [
    "## Reprodukcja modeli\n",
    "### Artykuł: \"Predictive modeling in urgent care: a comparative study of machine learning approaches\"\n",
    "**Task**: klasyfikacja binarna (in-hospital mortality)  \n",
    "**Modele**: regresja logistyczna, las losowy  \n",
    "**Zmienne**: W48 == w2v(embedding diagnoz historycznych) + x48(statystyki opisowe szeregów czasowych)"
   ]
  },
  {
   "cell_type": "code",
   "execution_count": 42,
   "id": "seven-transparency",
   "metadata": {},
   "outputs": [],
   "source": [
    "import pandas as pd\n",
    "def raw_to_df(path):\n",
    "    result = pd.read_pickle(path)\n",
    "    result_df = [None]*5\n",
    "    for i in range(len(result)):\n",
    "        result_df[i] = [result[i+1]['tr_auc'], \n",
    "                        result[i+1]['te_auc'], \n",
    "                        result[i+1]['f1_score'], \n",
    "                        result[i+1]['sen'], \n",
    "                        result[i+1]['spec']]\n",
    "    df = pd.DataFrame(result_df, columns=[\"train_auc\", \"test_auc\", \"F1\", \"Sn\", \"Sp\"])\n",
    "    return df"
   ]
  },
  {
   "cell_type": "code",
   "execution_count": 43,
   "id": "native-buddy",
   "metadata": {},
   "outputs": [],
   "source": [
    "result_lr = raw_to_df('./results/try1_LR/lr-mort-x48-w2v/scores/raw_stats')\n",
    "result_rf = raw_to_df('./results/try2_RF/rf-mort-x48-w2v/scores/raw_stats')"
   ]
  },
  {
   "cell_type": "markdown",
   "id": "expensive-recipe",
   "metadata": {},
   "source": [
    "#### Regresja logistyczna"
   ]
  },
  {
   "cell_type": "code",
   "execution_count": 44,
   "id": "imported-penalty",
   "metadata": {},
   "outputs": [
    {
     "data": {
      "text/html": [
       "<div>\n",
       "<style scoped>\n",
       "    .dataframe tbody tr th:only-of-type {\n",
       "        vertical-align: middle;\n",
       "    }\n",
       "\n",
       "    .dataframe tbody tr th {\n",
       "        vertical-align: top;\n",
       "    }\n",
       "\n",
       "    .dataframe thead th {\n",
       "        text-align: right;\n",
       "    }\n",
       "</style>\n",
       "<table border=\"1\" class=\"dataframe\">\n",
       "  <thead>\n",
       "    <tr style=\"text-align: right;\">\n",
       "      <th></th>\n",
       "      <th>train_auc</th>\n",
       "      <th>test_auc</th>\n",
       "      <th>F1</th>\n",
       "      <th>Sn</th>\n",
       "      <th>Sp</th>\n",
       "    </tr>\n",
       "  </thead>\n",
       "  <tbody>\n",
       "    <tr>\n",
       "      <th>count</th>\n",
       "      <td>5.000000</td>\n",
       "      <td>5.000000</td>\n",
       "      <td>5.000000</td>\n",
       "      <td>5.000000</td>\n",
       "      <td>5.000000</td>\n",
       "    </tr>\n",
       "    <tr>\n",
       "      <th>mean</th>\n",
       "      <td>0.799982</td>\n",
       "      <td>0.798273</td>\n",
       "      <td>0.490097</td>\n",
       "      <td>0.791432</td>\n",
       "      <td>0.805115</td>\n",
       "    </tr>\n",
       "    <tr>\n",
       "      <th>std</th>\n",
       "      <td>0.005154</td>\n",
       "      <td>0.022988</td>\n",
       "      <td>0.026431</td>\n",
       "      <td>0.038751</td>\n",
       "      <td>0.007720</td>\n",
       "    </tr>\n",
       "    <tr>\n",
       "      <th>min</th>\n",
       "      <td>0.793615</td>\n",
       "      <td>0.773680</td>\n",
       "      <td>0.462330</td>\n",
       "      <td>0.749621</td>\n",
       "      <td>0.797739</td>\n",
       "    </tr>\n",
       "    <tr>\n",
       "      <th>25%</th>\n",
       "      <td>0.796195</td>\n",
       "      <td>0.785897</td>\n",
       "      <td>0.476323</td>\n",
       "      <td>0.767477</td>\n",
       "      <td>0.798109</td>\n",
       "    </tr>\n",
       "    <tr>\n",
       "      <th>50%</th>\n",
       "      <td>0.801231</td>\n",
       "      <td>0.788280</td>\n",
       "      <td>0.477541</td>\n",
       "      <td>0.778452</td>\n",
       "      <td>0.804317</td>\n",
       "    </tr>\n",
       "    <tr>\n",
       "      <th>75%</th>\n",
       "      <td>0.802181</td>\n",
       "      <td>0.813005</td>\n",
       "      <td>0.506830</td>\n",
       "      <td>0.816388</td>\n",
       "      <td>0.809622</td>\n",
       "    </tr>\n",
       "    <tr>\n",
       "      <th>max</th>\n",
       "      <td>0.806688</td>\n",
       "      <td>0.830505</td>\n",
       "      <td>0.527462</td>\n",
       "      <td>0.845220</td>\n",
       "      <td>0.815789</td>\n",
       "    </tr>\n",
       "  </tbody>\n",
       "</table>\n",
       "</div>"
      ],
      "text/plain": [
       "       train_auc  test_auc        F1        Sn        Sp\n",
       "count   5.000000  5.000000  5.000000  5.000000  5.000000\n",
       "mean    0.799982  0.798273  0.490097  0.791432  0.805115\n",
       "std     0.005154  0.022988  0.026431  0.038751  0.007720\n",
       "min     0.793615  0.773680  0.462330  0.749621  0.797739\n",
       "25%     0.796195  0.785897  0.476323  0.767477  0.798109\n",
       "50%     0.801231  0.788280  0.477541  0.778452  0.804317\n",
       "75%     0.802181  0.813005  0.506830  0.816388  0.809622\n",
       "max     0.806688  0.830505  0.527462  0.845220  0.815789"
      ]
     },
     "execution_count": 44,
     "metadata": {},
     "output_type": "execute_result"
    }
   ],
   "source": [
    "result_lr.describe()"
   ]
  },
  {
   "cell_type": "markdown",
   "id": "bridal-concord",
   "metadata": {},
   "source": [
    "#### Random Forest"
   ]
  },
  {
   "cell_type": "code",
   "execution_count": 45,
   "id": "unexpected-vancouver",
   "metadata": {},
   "outputs": [
    {
     "data": {
      "text/html": [
       "<div>\n",
       "<style scoped>\n",
       "    .dataframe tbody tr th:only-of-type {\n",
       "        vertical-align: middle;\n",
       "    }\n",
       "\n",
       "    .dataframe tbody tr th {\n",
       "        vertical-align: top;\n",
       "    }\n",
       "\n",
       "    .dataframe thead th {\n",
       "        text-align: right;\n",
       "    }\n",
       "</style>\n",
       "<table border=\"1\" class=\"dataframe\">\n",
       "  <thead>\n",
       "    <tr style=\"text-align: right;\">\n",
       "      <th></th>\n",
       "      <th>train_auc</th>\n",
       "      <th>test_auc</th>\n",
       "      <th>F1</th>\n",
       "      <th>Sn</th>\n",
       "      <th>Sp</th>\n",
       "    </tr>\n",
       "  </thead>\n",
       "  <tbody>\n",
       "    <tr>\n",
       "      <th>count</th>\n",
       "      <td>5.000000</td>\n",
       "      <td>5.000000</td>\n",
       "      <td>5.000000</td>\n",
       "      <td>5.000000</td>\n",
       "      <td>5.000000</td>\n",
       "    </tr>\n",
       "    <tr>\n",
       "      <th>mean</th>\n",
       "      <td>0.903169</td>\n",
       "      <td>0.816402</td>\n",
       "      <td>0.488737</td>\n",
       "      <td>0.856715</td>\n",
       "      <td>0.776089</td>\n",
       "    </tr>\n",
       "    <tr>\n",
       "      <th>std</th>\n",
       "      <td>0.003008</td>\n",
       "      <td>0.015643</td>\n",
       "      <td>0.023032</td>\n",
       "      <td>0.019958</td>\n",
       "      <td>0.017800</td>\n",
       "    </tr>\n",
       "    <tr>\n",
       "      <th>min</th>\n",
       "      <td>0.899265</td>\n",
       "      <td>0.791164</td>\n",
       "      <td>0.455993</td>\n",
       "      <td>0.825493</td>\n",
       "      <td>0.756835</td>\n",
       "    </tr>\n",
       "    <tr>\n",
       "      <th>25%</th>\n",
       "      <td>0.901943</td>\n",
       "      <td>0.812236</td>\n",
       "      <td>0.481197</td>\n",
       "      <td>0.854325</td>\n",
       "      <td>0.765673</td>\n",
       "    </tr>\n",
       "    <tr>\n",
       "      <th>50%</th>\n",
       "      <td>0.903202</td>\n",
       "      <td>0.821286</td>\n",
       "      <td>0.485895</td>\n",
       "      <td>0.855842</td>\n",
       "      <td>0.770148</td>\n",
       "    </tr>\n",
       "    <tr>\n",
       "      <th>75%</th>\n",
       "      <td>0.903921</td>\n",
       "      <td>0.828600</td>\n",
       "      <td>0.505059</td>\n",
       "      <td>0.871017</td>\n",
       "      <td>0.786184</td>\n",
       "    </tr>\n",
       "    <tr>\n",
       "      <th>max</th>\n",
       "      <td>0.907514</td>\n",
       "      <td>0.828723</td>\n",
       "      <td>0.515539</td>\n",
       "      <td>0.876900</td>\n",
       "      <td>0.801604</td>\n",
       "    </tr>\n",
       "  </tbody>\n",
       "</table>\n",
       "</div>"
      ],
      "text/plain": [
       "       train_auc  test_auc        F1        Sn        Sp\n",
       "count   5.000000  5.000000  5.000000  5.000000  5.000000\n",
       "mean    0.903169  0.816402  0.488737  0.856715  0.776089\n",
       "std     0.003008  0.015643  0.023032  0.019958  0.017800\n",
       "min     0.899265  0.791164  0.455993  0.825493  0.756835\n",
       "25%     0.901943  0.812236  0.481197  0.854325  0.765673\n",
       "50%     0.903202  0.821286  0.485895  0.855842  0.770148\n",
       "75%     0.903921  0.828600  0.505059  0.871017  0.786184\n",
       "max     0.907514  0.828723  0.515539  0.876900  0.801604"
      ]
     },
     "execution_count": 45,
     "metadata": {},
     "output_type": "execute_result"
    }
   ],
   "source": [
    "result_rf.describe()"
   ]
  },
  {
   "cell_type": "markdown",
   "id": "acoustic-perspective",
   "metadata": {},
   "source": [
    "AUC - F1 - Sn - Sp\n",
    "![tabela](./results/tabela.png)"
   ]
  },
  {
   "cell_type": "markdown",
   "id": "isolated-referral",
   "metadata": {},
   "source": [
    "### \"Best model\""
   ]
  },
  {
   "cell_type": "code",
   "execution_count": 46,
   "id": "corrected-pastor",
   "metadata": {},
   "outputs": [
    {
     "data": {
      "text/plain": [
       "{'C': 0.001,\n",
       " 'class_weight': None,\n",
       " 'dual': False,\n",
       " 'fit_intercept': True,\n",
       " 'intercept_scaling': 1,\n",
       " 'l1_ratio': None,\n",
       " 'max_iter': 100,\n",
       " 'multi_class': 'auto',\n",
       " 'n_jobs': None,\n",
       " 'penalty': 'l2',\n",
       " 'random_state': None,\n",
       " 'solver': 'lbfgs',\n",
       " 'tol': 0.0001,\n",
       " 'verbose': 1,\n",
       " 'warm_start': False}"
      ]
     },
     "execution_count": 46,
     "metadata": {},
     "output_type": "execute_result"
    }
   ],
   "source": [
    "lr = pd.read_pickle('./results/try1_LR/lr-mort-x48-w2v/best_model')\n",
    "lr.get_params()"
   ]
  },
  {
   "cell_type": "code",
   "execution_count": 47,
   "id": "matched-interstate",
   "metadata": {},
   "outputs": [
    {
     "data": {
      "text/plain": [
       "{'bootstrap': True,\n",
       " 'ccp_alpha': 0.0,\n",
       " 'class_weight': None,\n",
       " 'criterion': 'gini',\n",
       " 'max_depth': None,\n",
       " 'max_features': 'auto',\n",
       " 'max_leaf_nodes': None,\n",
       " 'max_samples': None,\n",
       " 'min_impurity_decrease': 0.0,\n",
       " 'min_impurity_split': None,\n",
       " 'min_samples_leaf': 1,\n",
       " 'min_samples_split': 2,\n",
       " 'min_weight_fraction_leaf': 0.0,\n",
       " 'n_estimators': 450,\n",
       " 'n_jobs': None,\n",
       " 'oob_score': False,\n",
       " 'random_state': None,\n",
       " 'verbose': 1,\n",
       " 'warm_start': False}"
      ]
     },
     "execution_count": 47,
     "metadata": {},
     "output_type": "execute_result"
    }
   ],
   "source": [
    "rf = pd.read_pickle('./results/try2_RF/rf-mort-x48-w2v/best_model')\n",
    "rf.get_params()"
   ]
  }
 ],
 "metadata": {
  "kernelspec": {
   "display_name": "Python 3",
   "language": "python",
   "name": "python3"
  },
  "language_info": {
   "codemirror_mode": {
    "name": "ipython",
    "version": 3
   },
   "file_extension": ".py",
   "mimetype": "text/x-python",
   "name": "python",
   "nbconvert_exporter": "python",
   "pygments_lexer": "ipython3",
   "version": "3.8.5"
  }
 },
 "nbformat": 4,
 "nbformat_minor": 5
}
