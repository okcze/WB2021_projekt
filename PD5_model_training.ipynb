{
 "cells": [
  {
   "cell_type": "code",
   "execution_count": 12,
   "id": "adapted-charm",
   "metadata": {},
   "outputs": [],
   "source": [
    "import numpy as np\n",
    "import pandas as pd\n",
    "import pickle\n",
    "from sklearn.model_selection import *\n",
    "from sklearn.metrics import roc_curve, auc as auc_score, confusion_matrix, f1_score\n",
    "from xgboost import XGBClassifier"
   ]
  },
  {
   "cell_type": "code",
   "execution_count": 13,
   "id": "actual-communication",
   "metadata": {},
   "outputs": [],
   "source": [
    "def get_task(path):\n",
    "    with open(path, 'rb') as f:\n",
    "        labels = pickle.load(f)\n",
    "    dct = {'mort':0, 'readmit': 1, 'los': 2, 'dx':3 }\n",
    "    task = [yy[dct['mort']] for yy in labels]\n",
    "    return np.array(task)"
   ]
  },
  {
   "cell_type": "code",
   "execution_count": 14,
   "id": "vital-sudan",
   "metadata": {},
   "outputs": [],
   "source": [
    "#Loading data\n",
    "X = np.load(\"./local_mimic/save/X48.npy\")\n",
    "Z = np.load(\"./local_mimic/save/w2v.npy\")\n",
    "y = get_task(\"./local_mimic/save/y\")"
   ]
  },
  {
   "cell_type": "code",
   "execution_count": 15,
   "id": "tribal-couple",
   "metadata": {},
   "outputs": [],
   "source": [
    "#Data transformations\n",
    "X, Z, y = np.array(X), np.array(Z), np.array(y)\n",
    "X = np.append(X, Z, axis=1)"
   ]
  },
  {
   "cell_type": "code",
   "execution_count": 16,
   "id": "amended-assurance",
   "metadata": {},
   "outputs": [],
   "source": [
    "X_train, X_test, y_train, y_test = train_test_split(X, y, test_size=0.2, random_state=123)"
   ]
  },
  {
   "cell_type": "code",
   "execution_count": 17,
   "id": "arctic-station",
   "metadata": {},
   "outputs": [],
   "source": [
    "parameters_space = {\n",
    "'eta': 2**np.linspace(-10, 0, 10),\n",
    "'alpha': 2**np.linspace(-10, 10, 10),\n",
    "'nrounds': np.floor(np.linspace(1, 5000, 10)),\n",
    "'lambda': 2**np.linspace(-10, 10, 10),\n",
    "'min_child_weight': 2**np.linspace(0, 7, 10),\n",
    "'colsample_bytree': np.linspace(0, 1, 10),\n",
    "'colsample_bylevel': np.linspace(0, 1, 10),}"
   ]
  },
  {
   "cell_type": "code",
   "execution_count": 18,
   "id": "synthetic-customs",
   "metadata": {},
   "outputs": [],
   "source": [
    "xgb = XGBClassifier(n_jobs=-1)"
   ]
  },
  {
   "cell_type": "code",
   "execution_count": 19,
   "id": "comparable-courage",
   "metadata": {},
   "outputs": [],
   "source": [
    "random_cv = RandomizedSearchCV(estimator=xgb, \n",
    "                               param_distributions=parameters_space, \n",
    "                               n_iter=300, \n",
    "                               scoring=[\"roc_auc\", \"f1\", \"accuracy\"],\n",
    "                               refit=\"roc_auc\",\n",
    "                               random_state=123, \n",
    "                               verbose=10,\n",
    "                               n_jobs=-1)"
   ]
  },
  {
   "cell_type": "code",
   "execution_count": 20,
   "id": "aware-cache",
   "metadata": {},
   "outputs": [
    {
     "name": "stdout",
     "output_type": "stream",
     "text": [
      "Fitting 5 folds for each of 300 candidates, totalling 1500 fits\n"
     ]
    },
    {
     "name": "stderr",
     "output_type": "stream",
     "text": [
      "C:\\Users\\adria\\Anaconda3\\lib\\site-packages\\xgboost\\sklearn.py:1146: UserWarning: The use of label encoder in XGBClassifier is deprecated and will be removed in a future release. To remove this warning, do the following: 1) Pass option use_label_encoder=False when constructing XGBClassifier object; and 2) Encode your labels (y) as integers starting with 0, i.e. 0, 1, 2, ..., [num_class - 1].\n",
      "  warnings.warn(label_encoder_deprecation_msg, UserWarning)\n"
     ]
    },
    {
     "name": "stdout",
     "output_type": "stream",
     "text": [
      "[20:05:33] WARNING: C:/Users/Administrator/workspace/xgboost-win64_release_1.4.0/src/learner.cc:573: \n",
      "Parameters: { \"nrounds\" } might not be used.\n",
      "\n",
      "  This may not be accurate due to some parameters are only used in language bindings but\n",
      "  passed down to XGBoost core.  Or some parameters are not used but slip through this\n",
      "  verification. Please open an issue if you find above cases.\n",
      "\n",
      "\n",
      "[20:05:33] WARNING: C:/Users/Administrator/workspace/xgboost-win64_release_1.4.0/src/learner.cc:1095: Starting in XGBoost 1.3.0, the default evaluation metric used with the objective 'binary:logistic' was changed from 'error' to 'logloss'. Explicitly set eval_metric if you'd like to restore the old behavior.\n"
     ]
    }
   ],
   "source": [
    "cv_res = random_cv.fit(X_train, y_train)"
   ]
  },
  {
   "cell_type": "code",
   "execution_count": 23,
   "id": "taken-accreditation",
   "metadata": {},
   "outputs": [
    {
     "name": "stdout",
     "output_type": "stream",
     "text": [
      "Best mean AUC: \n",
      "0.9174918953294815\n"
     ]
    }
   ],
   "source": [
    "print(\"Best mean AUC: \")\n",
    "print(cv_res.best_score_)\n",
    "cv_res_df = pd.DataFrame(cv_res.cv_results_)\n",
    "cv_res_df.to_csv(\"CV_results_2.csv\")\n",
    "cv_res.best_estimator_.save_model(\"CV_best_model2\")"
   ]
  },
  {
   "cell_type": "code",
   "execution_count": 24,
   "id": "875841dd",
   "metadata": {},
   "outputs": [
    {
     "name": "stdout",
     "output_type": "stream",
     "text": [
      "Test DF AUC: \n",
      "0.9279470211134784\n"
     ]
    }
   ],
   "source": [
    "#Score on test data\n",
    "print(\"Test DF AUC: \")\n",
    "print(cv_res.score(X_test, y_test))"
   ]
  },
  {
   "cell_type": "code",
   "execution_count": null,
   "id": "9df932f9",
   "metadata": {},
   "outputs": [],
   "source": []
  }
 ],
 "metadata": {
  "kernelspec": {
   "display_name": "Python 3",
   "language": "python",
   "name": "python3"
  },
  "language_info": {
   "codemirror_mode": {
    "name": "ipython",
    "version": 3
   },
   "file_extension": ".py",
   "mimetype": "text/x-python",
   "name": "python",
   "nbconvert_exporter": "python",
   "pygments_lexer": "ipython3",
   "version": "3.7.3"
  }
 },
 "nbformat": 4,
 "nbformat_minor": 5
}
