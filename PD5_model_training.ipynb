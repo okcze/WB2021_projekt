{
 "cells": [
  {
   "cell_type": "code",
   "execution_count": 1,
   "id": "adapted-charm",
   "metadata": {},
   "outputs": [],
   "source": [
    "import numpy as np\n",
    "import pandas as pd\n",
    "import pickle\n",
    "from sklearn.model_selection import *\n",
    "from sklearn.metrics import roc_curve, auc as auc_score, confusion_matrix, f1_score\n",
    "from xgboost import XGBClassifier"
   ]
  },
  {
   "cell_type": "code",
   "execution_count": 2,
   "id": "actual-communication",
   "metadata": {},
   "outputs": [],
   "source": [
    "def get_task(path):\n",
    "    with open(path, 'rb') as f:\n",
    "        labels = pickle.load(f)\n",
    "    dct = {'mort':0, 'readmit': 1, 'los': 2, 'dx':3 }\n",
    "    task = [yy[dct['mort']] for yy in labels]\n",
    "    return np.array(task)"
   ]
  },
  {
   "cell_type": "code",
   "execution_count": 3,
   "id": "vital-sudan",
   "metadata": {},
   "outputs": [],
   "source": [
    "#Loading data\n",
    "X = np.load(\"./local_mimic/save/X48.npy\")\n",
    "Z = np.load(\"./local_mimic/save/w2v.npy\")\n",
    "y = get_task(\"./local_mimic/save/y\")"
   ]
  },
  {
   "cell_type": "code",
   "execution_count": 4,
   "id": "tribal-couple",
   "metadata": {},
   "outputs": [],
   "source": [
    "#Data transformations\n",
    "X, Z, y = np.array(X), np.array(Z), np.array(y)\n",
    "X = np.append(X, Z, axis=1)"
   ]
  },
  {
   "cell_type": "code",
   "execution_count": 5,
   "id": "amended-assurance",
   "metadata": {},
   "outputs": [],
   "source": [
    "X_train, X_test, y_train, y_test = train_test_split(X, y, test_size=0.2, random_state=123)"
   ]
  },
  {
   "cell_type": "code",
   "execution_count": 6,
   "id": "arctic-station",
   "metadata": {},
   "outputs": [],
   "source": [
    "parameters_space = {\n",
    "'eta': 2**np.linspace(-10, 0, 10),\n",
    "'alpha': 2**np.linspace(-10, 10, 10),\n",
    "'nrounds': np.floor(np.linspace(1, 5000, 10)),\n",
    "'lambda': 2**np.linspace(-10, 10, 10),\n",
    "'min_child_weight': 2**np.linspace(0, 7, 10),\n",
    "'colsample_bytree': np.linspace(0, 1, 10),\n",
    "'colsample_bylevel': np.linspace(0, 1, 10),}"
   ]
  },
  {
   "cell_type": "code",
   "execution_count": 7,
   "id": "synthetic-customs",
   "metadata": {},
   "outputs": [],
   "source": [
    "xgb = XGBClassifier()"
   ]
  },
  {
   "cell_type": "code",
   "execution_count": 8,
   "id": "comparable-courage",
   "metadata": {},
   "outputs": [],
   "source": [
    "random_cv = RandomizedSearchCV(estimator=xgb, \n",
    "                               param_distributions=parameters_space, \n",
    "                               n_iter=50, \n",
    "                               scoring=[\"roc_auc\", \"f1\", \"accuracy\"],\n",
    "                               refit=\"roc_auc\",\n",
    "                               random_state=123, \n",
    "                               verbose=10)"
   ]
  },
  {
   "cell_type": "code",
   "execution_count": 9,
   "id": "aware-cache",
   "metadata": {},
   "outputs": [
    {
     "name": "stdout",
     "output_type": "stream",
     "text": [
      "Fitting 5 folds for each of 50 candidates, totalling 250 fits\n",
      "[CV] nrounds=2222.0, min_child_weight=5.039684199579493, lambda=1024.0, eta=0.21431099571326834, colsample_bytree=0.6666666666666666, colsample_bylevel=1.0, alpha=0.46293735614364534 \n",
      "[23:37:23] WARNING: ../src/learner.cc:541: \n",
      "Parameters: { nrounds } might not be used.\n",
      "\n",
      "  This may not be accurate due to some parameters are only used in language bindings but\n",
      "  passed down to XGBoost core.  Or some parameters are not used but slip through this\n",
      "  verification. Please open an issue if you find above cases.\n",
      "\n",
      "\n"
     ]
    },
    {
     "name": "stderr",
     "output_type": "stream",
     "text": [
      "[Parallel(n_jobs=1)]: Using backend SequentialBackend with 1 concurrent workers.\n",
      "/home/piotr/miniconda3/lib/python3.8/site-packages/xgboost/sklearn.py:888: UserWarning: The use of label encoder in XGBClassifier is deprecated and will be removed in a future release. To remove this warning, do the following: 1) Pass option use_label_encoder=False when constructing XGBClassifier object; and 2) Encode your labels (y) as integers starting with 0, i.e. 0, 1, 2, ..., [num_class - 1].\n",
      "  warnings.warn(label_encoder_deprecation_msg, UserWarning)\n"
     ]
    },
    {
     "name": "stdout",
     "output_type": "stream",
     "text": [
      "[23:37:23] WARNING: ../src/learner.cc:1061: Starting in XGBoost 1.3.0, the default evaluation metric used with the objective 'binary:logistic' was changed from 'error' to 'logloss'. Explicitly set eval_metric if you'd like to restore the old behavior.\n",
      "[CV]  nrounds=2222.0, min_child_weight=5.039684199579493, lambda=1024.0, eta=0.21431099571326834, colsample_bytree=0.6666666666666666, colsample_bylevel=1.0, alpha=0.46293735614364534, accuracy=0.900, f1=0.392, roc_auc=0.903, total=  12.7s\n",
      "[CV] nrounds=2222.0, min_child_weight=5.039684199579493, lambda=1024.0, eta=0.21431099571326834, colsample_bytree=0.6666666666666666, colsample_bylevel=1.0, alpha=0.46293735614364534 \n",
      "[23:37:35] WARNING: ../src/learner.cc:541: \n",
      "Parameters: { nrounds } might not be used.\n",
      "\n",
      "  This may not be accurate due to some parameters are only used in language bindings but\n",
      "  passed down to XGBoost core.  Or some parameters are not used but slip through this\n",
      "  verification. Please open an issue if you find above cases.\n",
      "\n",
      "\n"
     ]
    },
    {
     "name": "stderr",
     "output_type": "stream",
     "text": [
      "[Parallel(n_jobs=1)]: Done   1 out of   1 | elapsed:   12.7s remaining:    0.0s\n",
      "/home/piotr/miniconda3/lib/python3.8/site-packages/xgboost/sklearn.py:888: UserWarning: The use of label encoder in XGBClassifier is deprecated and will be removed in a future release. To remove this warning, do the following: 1) Pass option use_label_encoder=False when constructing XGBClassifier object; and 2) Encode your labels (y) as integers starting with 0, i.e. 0, 1, 2, ..., [num_class - 1].\n",
      "  warnings.warn(label_encoder_deprecation_msg, UserWarning)\n"
     ]
    },
    {
     "name": "stdout",
     "output_type": "stream",
     "text": [
      "[23:37:36] WARNING: ../src/learner.cc:1061: Starting in XGBoost 1.3.0, the default evaluation metric used with the objective 'binary:logistic' was changed from 'error' to 'logloss'. Explicitly set eval_metric if you'd like to restore the old behavior.\n",
      "[CV]  nrounds=2222.0, min_child_weight=5.039684199579493, lambda=1024.0, eta=0.21431099571326834, colsample_bytree=0.6666666666666666, colsample_bylevel=1.0, alpha=0.46293735614364534, accuracy=0.895, f1=0.390, roc_auc=0.901, total=  13.4s\n",
      "[CV] nrounds=2222.0, min_child_weight=5.039684199579493, lambda=1024.0, eta=0.21431099571326834, colsample_bytree=0.6666666666666666, colsample_bylevel=1.0, alpha=0.46293735614364534 \n",
      "[23:37:49] WARNING: ../src/learner.cc:541: \n",
      "Parameters: { nrounds } might not be used.\n",
      "\n",
      "  This may not be accurate due to some parameters are only used in language bindings but\n",
      "  passed down to XGBoost core.  Or some parameters are not used but slip through this\n",
      "  verification. Please open an issue if you find above cases.\n",
      "\n",
      "\n"
     ]
    },
    {
     "name": "stderr",
     "output_type": "stream",
     "text": [
      "[Parallel(n_jobs=1)]: Done   2 out of   2 | elapsed:   26.1s remaining:    0.0s\n",
      "/home/piotr/miniconda3/lib/python3.8/site-packages/xgboost/sklearn.py:888: UserWarning: The use of label encoder in XGBClassifier is deprecated and will be removed in a future release. To remove this warning, do the following: 1) Pass option use_label_encoder=False when constructing XGBClassifier object; and 2) Encode your labels (y) as integers starting with 0, i.e. 0, 1, 2, ..., [num_class - 1].\n",
      "  warnings.warn(label_encoder_deprecation_msg, UserWarning)\n"
     ]
    },
    {
     "name": "stdout",
     "output_type": "stream",
     "text": [
      "[23:37:49] WARNING: ../src/learner.cc:1061: Starting in XGBoost 1.3.0, the default evaluation metric used with the objective 'binary:logistic' was changed from 'error' to 'logloss'. Explicitly set eval_metric if you'd like to restore the old behavior.\n",
      "[CV]  nrounds=2222.0, min_child_weight=5.039684199579493, lambda=1024.0, eta=0.21431099571326834, colsample_bytree=0.6666666666666666, colsample_bylevel=1.0, alpha=0.46293735614364534, accuracy=0.901, f1=0.403, roc_auc=0.911, total=  15.7s\n",
      "[CV] nrounds=2222.0, min_child_weight=5.039684199579493, lambda=1024.0, eta=0.21431099571326834, colsample_bytree=0.6666666666666666, colsample_bylevel=1.0, alpha=0.46293735614364534 \n",
      "[23:38:05] WARNING: ../src/learner.cc:541: \n",
      "Parameters: { nrounds } might not be used.\n",
      "\n",
      "  This may not be accurate due to some parameters are only used in language bindings but\n",
      "  passed down to XGBoost core.  Or some parameters are not used but slip through this\n",
      "  verification. Please open an issue if you find above cases.\n",
      "\n",
      "\n"
     ]
    },
    {
     "name": "stderr",
     "output_type": "stream",
     "text": [
      "[Parallel(n_jobs=1)]: Done   3 out of   3 | elapsed:   41.9s remaining:    0.0s\n",
      "/home/piotr/miniconda3/lib/python3.8/site-packages/xgboost/sklearn.py:888: UserWarning: The use of label encoder in XGBClassifier is deprecated and will be removed in a future release. To remove this warning, do the following: 1) Pass option use_label_encoder=False when constructing XGBClassifier object; and 2) Encode your labels (y) as integers starting with 0, i.e. 0, 1, 2, ..., [num_class - 1].\n",
      "  warnings.warn(label_encoder_deprecation_msg, UserWarning)\n"
     ]
    },
    {
     "name": "stdout",
     "output_type": "stream",
     "text": [
      "[23:38:05] WARNING: ../src/learner.cc:1061: Starting in XGBoost 1.3.0, the default evaluation metric used with the objective 'binary:logistic' was changed from 'error' to 'logloss'. Explicitly set eval_metric if you'd like to restore the old behavior.\n",
      "[CV]  nrounds=2222.0, min_child_weight=5.039684199579493, lambda=1024.0, eta=0.21431099571326834, colsample_bytree=0.6666666666666666, colsample_bylevel=1.0, alpha=0.46293735614364534, accuracy=0.901, f1=0.425, roc_auc=0.912, total=  15.9s\n",
      "[CV] nrounds=2222.0, min_child_weight=5.039684199579493, lambda=1024.0, eta=0.21431099571326834, colsample_bytree=0.6666666666666666, colsample_bylevel=1.0, alpha=0.46293735614364534 \n",
      "[23:38:20] WARNING: ../src/learner.cc:541: \n",
      "Parameters: { nrounds } might not be used.\n",
      "\n",
      "  This may not be accurate due to some parameters are only used in language bindings but\n",
      "  passed down to XGBoost core.  Or some parameters are not used but slip through this\n",
      "  verification. Please open an issue if you find above cases.\n",
      "\n",
      "\n"
     ]
    },
    {
     "name": "stderr",
     "output_type": "stream",
     "text": [
      "[Parallel(n_jobs=1)]: Done   4 out of   4 | elapsed:   57.7s remaining:    0.0s\n",
      "/home/piotr/miniconda3/lib/python3.8/site-packages/xgboost/sklearn.py:888: UserWarning: The use of label encoder in XGBClassifier is deprecated and will be removed in a future release. To remove this warning, do the following: 1) Pass option use_label_encoder=False when constructing XGBClassifier object; and 2) Encode your labels (y) as integers starting with 0, i.e. 0, 1, 2, ..., [num_class - 1].\n",
      "  warnings.warn(label_encoder_deprecation_msg, UserWarning)\n"
     ]
    },
    {
     "name": "stdout",
     "output_type": "stream",
     "text": [
      "[23:38:21] WARNING: ../src/learner.cc:1061: Starting in XGBoost 1.3.0, the default evaluation metric used with the objective 'binary:logistic' was changed from 'error' to 'logloss'. Explicitly set eval_metric if you'd like to restore the old behavior.\n",
      "[CV]  nrounds=2222.0, min_child_weight=5.039684199579493, lambda=1024.0, eta=0.21431099571326834, colsample_bytree=0.6666666666666666, colsample_bylevel=1.0, alpha=0.46293735614364534, accuracy=0.904, f1=0.435, roc_auc=0.909, total=  15.9s\n",
      "[CV] nrounds=3889.0, min_child_weight=43.54528000558007, lambda=0.46293735614364534, eta=0.09921256574801249, colsample_bytree=0.6666666666666666, colsample_bylevel=0.6666666666666666, alpha=219.45445961038678 \n",
      "[23:38:36] WARNING: ../src/learner.cc:541: \n",
      "Parameters: { nrounds } might not be used.\n",
      "\n",
      "  This may not be accurate due to some parameters are only used in language bindings but\n",
      "  passed down to XGBoost core.  Or some parameters are not used but slip through this\n",
      "  verification. Please open an issue if you find above cases.\n",
      "\n",
      "\n"
     ]
    },
    {
     "name": "stderr",
     "output_type": "stream",
     "text": [
      "[Parallel(n_jobs=1)]: Done   5 out of   5 | elapsed:  1.2min remaining:    0.0s\n",
      "/home/piotr/miniconda3/lib/python3.8/site-packages/xgboost/sklearn.py:888: UserWarning: The use of label encoder in XGBClassifier is deprecated and will be removed in a future release. To remove this warning, do the following: 1) Pass option use_label_encoder=False when constructing XGBClassifier object; and 2) Encode your labels (y) as integers starting with 0, i.e. 0, 1, 2, ..., [num_class - 1].\n",
      "  warnings.warn(label_encoder_deprecation_msg, UserWarning)\n"
     ]
    },
    {
     "name": "stdout",
     "output_type": "stream",
     "text": [
      "[23:38:36] WARNING: ../src/learner.cc:1061: Starting in XGBoost 1.3.0, the default evaluation metric used with the objective 'binary:logistic' was changed from 'error' to 'logloss'. Explicitly set eval_metric if you'd like to restore the old behavior.\n",
      "[CV]  nrounds=3889.0, min_child_weight=43.54528000558007, lambda=0.46293735614364534, eta=0.09921256574801249, colsample_bytree=0.6666666666666666, colsample_bylevel=0.6666666666666666, alpha=219.45445961038678, accuracy=0.888, f1=0.170, roc_auc=0.869, total=   6.7s\n",
      "[CV] nrounds=3889.0, min_child_weight=43.54528000558007, lambda=0.46293735614364534, eta=0.09921256574801249, colsample_bytree=0.6666666666666666, colsample_bylevel=0.6666666666666666, alpha=219.45445961038678 \n",
      "[23:38:43] WARNING: ../src/learner.cc:541: \n",
      "Parameters: { nrounds } might not be used.\n",
      "\n",
      "  This may not be accurate due to some parameters are only used in language bindings but\n",
      "  passed down to XGBoost core.  Or some parameters are not used but slip through this\n",
      "  verification. Please open an issue if you find above cases.\n",
      "\n",
      "\n"
     ]
    },
    {
     "name": "stderr",
     "output_type": "stream",
     "text": [
      "[Parallel(n_jobs=1)]: Done   6 out of   6 | elapsed:  1.3min remaining:    0.0s\n",
      "/home/piotr/miniconda3/lib/python3.8/site-packages/xgboost/sklearn.py:888: UserWarning: The use of label encoder in XGBClassifier is deprecated and will be removed in a future release. To remove this warning, do the following: 1) Pass option use_label_encoder=False when constructing XGBClassifier object; and 2) Encode your labels (y) as integers starting with 0, i.e. 0, 1, 2, ..., [num_class - 1].\n",
      "  warnings.warn(label_encoder_deprecation_msg, UserWarning)\n"
     ]
    },
    {
     "name": "stdout",
     "output_type": "stream",
     "text": [
      "[23:38:43] WARNING: ../src/learner.cc:1061: Starting in XGBoost 1.3.0, the default evaluation metric used with the objective 'binary:logistic' was changed from 'error' to 'logloss'. Explicitly set eval_metric if you'd like to restore the old behavior.\n",
      "[CV]  nrounds=3889.0, min_child_weight=43.54528000558007, lambda=0.46293735614364534, eta=0.09921256574801249, colsample_bytree=0.6666666666666666, colsample_bylevel=0.6666666666666666, alpha=219.45445961038678, accuracy=0.886, f1=0.157, roc_auc=0.863, total=   6.6s\n",
      "[CV] nrounds=3889.0, min_child_weight=43.54528000558007, lambda=0.46293735614364534, eta=0.09921256574801249, colsample_bytree=0.6666666666666666, colsample_bylevel=0.6666666666666666, alpha=219.45445961038678 \n",
      "[23:38:50] WARNING: ../src/learner.cc:541: \n",
      "Parameters: { nrounds } might not be used.\n",
      "\n",
      "  This may not be accurate due to some parameters are only used in language bindings but\n",
      "  passed down to XGBoost core.  Or some parameters are not used but slip through this\n",
      "  verification. Please open an issue if you find above cases.\n",
      "\n",
      "\n"
     ]
    },
    {
     "name": "stderr",
     "output_type": "stream",
     "text": [
      "[Parallel(n_jobs=1)]: Done   7 out of   7 | elapsed:  1.4min remaining:    0.0s\n",
      "/home/piotr/miniconda3/lib/python3.8/site-packages/xgboost/sklearn.py:888: UserWarning: The use of label encoder in XGBClassifier is deprecated and will be removed in a future release. To remove this warning, do the following: 1) Pass option use_label_encoder=False when constructing XGBClassifier object; and 2) Encode your labels (y) as integers starting with 0, i.e. 0, 1, 2, ..., [num_class - 1].\n",
      "  warnings.warn(label_encoder_deprecation_msg, UserWarning)\n"
     ]
    },
    {
     "name": "stdout",
     "output_type": "stream",
     "text": [
      "[23:38:50] WARNING: ../src/learner.cc:1061: Starting in XGBoost 1.3.0, the default evaluation metric used with the objective 'binary:logistic' was changed from 'error' to 'logloss'. Explicitly set eval_metric if you'd like to restore the old behavior.\n",
      "[CV]  nrounds=3889.0, min_child_weight=43.54528000558007, lambda=0.46293735614364534, eta=0.09921256574801249, colsample_bytree=0.6666666666666666, colsample_bylevel=0.6666666666666666, alpha=219.45445961038678, accuracy=0.885, f1=0.105, roc_auc=0.871, total=   6.5s\n",
      "[CV] nrounds=3889.0, min_child_weight=43.54528000558007, lambda=0.46293735614364534, eta=0.09921256574801249, colsample_bytree=0.6666666666666666, colsample_bylevel=0.6666666666666666, alpha=219.45445961038678 \n",
      "[23:38:56] WARNING: ../src/learner.cc:541: \n",
      "Parameters: { nrounds } might not be used.\n",
      "\n",
      "  This may not be accurate due to some parameters are only used in language bindings but\n",
      "  passed down to XGBoost core.  Or some parameters are not used but slip through this\n",
      "  verification. Please open an issue if you find above cases.\n",
      "\n",
      "\n"
     ]
    },
    {
     "name": "stderr",
     "output_type": "stream",
     "text": [
      "[Parallel(n_jobs=1)]: Done   8 out of   8 | elapsed:  1.6min remaining:    0.0s\n",
      "/home/piotr/miniconda3/lib/python3.8/site-packages/xgboost/sklearn.py:888: UserWarning: The use of label encoder in XGBClassifier is deprecated and will be removed in a future release. To remove this warning, do the following: 1) Pass option use_label_encoder=False when constructing XGBClassifier object; and 2) Encode your labels (y) as integers starting with 0, i.e. 0, 1, 2, ..., [num_class - 1].\n",
      "  warnings.warn(label_encoder_deprecation_msg, UserWarning)\n"
     ]
    },
    {
     "name": "stdout",
     "output_type": "stream",
     "text": [
      "[23:38:56] WARNING: ../src/learner.cc:1061: Starting in XGBoost 1.3.0, the default evaluation metric used with the objective 'binary:logistic' was changed from 'error' to 'logloss'. Explicitly set eval_metric if you'd like to restore the old behavior.\n",
      "[CV]  nrounds=3889.0, min_child_weight=43.54528000558007, lambda=0.46293735614364534, eta=0.09921256574801249, colsample_bytree=0.6666666666666666, colsample_bylevel=0.6666666666666666, alpha=219.45445961038678, accuracy=0.888, f1=0.206, roc_auc=0.878, total=   7.0s\n",
      "[CV] nrounds=3889.0, min_child_weight=43.54528000558007, lambda=0.46293735614364534, eta=0.09921256574801249, colsample_bytree=0.6666666666666666, colsample_bylevel=0.6666666666666666, alpha=219.45445961038678 \n",
      "[23:39:03] WARNING: ../src/learner.cc:541: \n",
      "Parameters: { nrounds } might not be used.\n",
      "\n",
      "  This may not be accurate due to some parameters are only used in language bindings but\n",
      "  passed down to XGBoost core.  Or some parameters are not used but slip through this\n",
      "  verification. Please open an issue if you find above cases.\n",
      "\n",
      "\n"
     ]
    },
    {
     "name": "stderr",
     "output_type": "stream",
     "text": [
      "[Parallel(n_jobs=1)]: Done   9 out of   9 | elapsed:  1.7min remaining:    0.0s\n",
      "/home/piotr/miniconda3/lib/python3.8/site-packages/xgboost/sklearn.py:888: UserWarning: The use of label encoder in XGBClassifier is deprecated and will be removed in a future release. To remove this warning, do the following: 1) Pass option use_label_encoder=False when constructing XGBClassifier object; and 2) Encode your labels (y) as integers starting with 0, i.e. 0, 1, 2, ..., [num_class - 1].\n",
      "  warnings.warn(label_encoder_deprecation_msg, UserWarning)\n"
     ]
    },
    {
     "name": "stdout",
     "output_type": "stream",
     "text": [
      "[23:39:03] WARNING: ../src/learner.cc:1061: Starting in XGBoost 1.3.0, the default evaluation metric used with the objective 'binary:logistic' was changed from 'error' to 'logloss'. Explicitly set eval_metric if you'd like to restore the old behavior.\n",
      "[CV]  nrounds=3889.0, min_child_weight=43.54528000558007, lambda=0.46293735614364534, eta=0.09921256574801249, colsample_bytree=0.6666666666666666, colsample_bylevel=0.6666666666666666, alpha=219.45445961038678, accuracy=0.889, f1=0.183, roc_auc=0.878, total=   6.6s\n",
      "[CV] nrounds=2222.0, min_child_weight=5.039684199579493, lambda=0.09921256574801249, eta=0.004556754060844206, colsample_bytree=0.2222222222222222, colsample_bylevel=0.2222222222222222, alpha=0.46293735614364534 \n",
      "[23:39:10] WARNING: ../src/learner.cc:541: \n",
      "Parameters: { nrounds } might not be used.\n",
      "\n",
      "  This may not be accurate due to some parameters are only used in language bindings but\n",
      "  passed down to XGBoost core.  Or some parameters are not used but slip through this\n",
      "  verification. Please open an issue if you find above cases.\n",
      "\n",
      "\n",
      "[23:39:10] WARNING: ../src/learner.cc:1061: Starting in XGBoost 1.3.0, the default evaluation metric used with the objective 'binary:logistic' was changed from 'error' to 'logloss'. Explicitly set eval_metric if you'd like to restore the old behavior.\n"
     ]
    },
    {
     "name": "stderr",
     "output_type": "stream",
     "text": [
      "/home/piotr/miniconda3/lib/python3.8/site-packages/xgboost/sklearn.py:888: UserWarning: The use of label encoder in XGBClassifier is deprecated and will be removed in a future release. To remove this warning, do the following: 1) Pass option use_label_encoder=False when constructing XGBClassifier object; and 2) Encode your labels (y) as integers starting with 0, i.e. 0, 1, 2, ..., [num_class - 1].\n",
      "  warnings.warn(label_encoder_deprecation_msg, UserWarning)\n"
     ]
    },
    {
     "name": "stdout",
     "output_type": "stream",
     "text": [
      "[CV]  nrounds=2222.0, min_child_weight=5.039684199579493, lambda=0.09921256574801249, eta=0.004556754060844206, colsample_bytree=0.2222222222222222, colsample_bylevel=0.2222222222222222, alpha=0.46293735614364534, accuracy=0.888, f1=0.142, roc_auc=0.880, total=   2.4s\n",
      "[CV] nrounds=2222.0, min_child_weight=5.039684199579493, lambda=0.09921256574801249, eta=0.004556754060844206, colsample_bytree=0.2222222222222222, colsample_bylevel=0.2222222222222222, alpha=0.46293735614364534 \n",
      "[23:39:12] WARNING: ../src/learner.cc:541: \n",
      "Parameters: { nrounds } might not be used.\n",
      "\n",
      "  This may not be accurate due to some parameters are only used in language bindings but\n",
      "  passed down to XGBoost core.  Or some parameters are not used but slip through this\n",
      "  verification. Please open an issue if you find above cases.\n",
      "\n",
      "\n",
      "[23:39:12] WARNING: ../src/learner.cc:1061: Starting in XGBoost 1.3.0, the default evaluation metric used with the objective 'binary:logistic' was changed from 'error' to 'logloss'. Explicitly set eval_metric if you'd like to restore the old behavior.\n"
     ]
    },
    {
     "name": "stderr",
     "output_type": "stream",
     "text": [
      "/home/piotr/miniconda3/lib/python3.8/site-packages/xgboost/sklearn.py:888: UserWarning: The use of label encoder in XGBClassifier is deprecated and will be removed in a future release. To remove this warning, do the following: 1) Pass option use_label_encoder=False when constructing XGBClassifier object; and 2) Encode your labels (y) as integers starting with 0, i.e. 0, 1, 2, ..., [num_class - 1].\n",
      "  warnings.warn(label_encoder_deprecation_msg, UserWarning)\n"
     ]
    },
    {
     "name": "stdout",
     "output_type": "stream",
     "text": [
      "[CV]  nrounds=2222.0, min_child_weight=5.039684199579493, lambda=0.09921256574801249, eta=0.004556754060844206, colsample_bytree=0.2222222222222222, colsample_bylevel=0.2222222222222222, alpha=0.46293735614364534, accuracy=0.886, f1=0.149, roc_auc=0.874, total=   2.1s\n",
      "[CV] nrounds=2222.0, min_child_weight=5.039684199579493, lambda=0.09921256574801249, eta=0.004556754060844206, colsample_bytree=0.2222222222222222, colsample_bylevel=0.2222222222222222, alpha=0.46293735614364534 \n",
      "[23:39:14] WARNING: ../src/learner.cc:541: \n",
      "Parameters: { nrounds } might not be used.\n",
      "\n",
      "  This may not be accurate due to some parameters are only used in language bindings but\n",
      "  passed down to XGBoost core.  Or some parameters are not used but slip through this\n",
      "  verification. Please open an issue if you find above cases.\n",
      "\n",
      "\n",
      "[23:39:14] WARNING: ../src/learner.cc:1061: Starting in XGBoost 1.3.0, the default evaluation metric used with the objective 'binary:logistic' was changed from 'error' to 'logloss'. Explicitly set eval_metric if you'd like to restore the old behavior.\n"
     ]
    },
    {
     "name": "stderr",
     "output_type": "stream",
     "text": [
      "/home/piotr/miniconda3/lib/python3.8/site-packages/xgboost/sklearn.py:888: UserWarning: The use of label encoder in XGBClassifier is deprecated and will be removed in a future release. To remove this warning, do the following: 1) Pass option use_label_encoder=False when constructing XGBClassifier object; and 2) Encode your labels (y) as integers starting with 0, i.e. 0, 1, 2, ..., [num_class - 1].\n",
      "  warnings.warn(label_encoder_deprecation_msg, UserWarning)\n"
     ]
    },
    {
     "name": "stdout",
     "output_type": "stream",
     "text": [
      "[CV]  nrounds=2222.0, min_child_weight=5.039684199579493, lambda=0.09921256574801249, eta=0.004556754060844206, colsample_bytree=0.2222222222222222, colsample_bylevel=0.2222222222222222, alpha=0.46293735614364534, accuracy=0.887, f1=0.141, roc_auc=0.879, total=   2.2s\n",
      "[CV] nrounds=2222.0, min_child_weight=5.039684199579493, lambda=0.09921256574801249, eta=0.004556754060844206, colsample_bytree=0.2222222222222222, colsample_bylevel=0.2222222222222222, alpha=0.46293735614364534 \n",
      "[23:39:16] WARNING: ../src/learner.cc:541: \n",
      "Parameters: { nrounds } might not be used.\n",
      "\n",
      "  This may not be accurate due to some parameters are only used in language bindings but\n",
      "  passed down to XGBoost core.  Or some parameters are not used but slip through this\n",
      "  verification. Please open an issue if you find above cases.\n",
      "\n",
      "\n",
      "[23:39:16] WARNING: ../src/learner.cc:1061: Starting in XGBoost 1.3.0, the default evaluation metric used with the objective 'binary:logistic' was changed from 'error' to 'logloss'. Explicitly set eval_metric if you'd like to restore the old behavior.\n"
     ]
    },
    {
     "name": "stderr",
     "output_type": "stream",
     "text": [
      "/home/piotr/miniconda3/lib/python3.8/site-packages/xgboost/sklearn.py:888: UserWarning: The use of label encoder in XGBClassifier is deprecated and will be removed in a future release. To remove this warning, do the following: 1) Pass option use_label_encoder=False when constructing XGBClassifier object; and 2) Encode your labels (y) as integers starting with 0, i.e. 0, 1, 2, ..., [num_class - 1].\n",
      "  warnings.warn(label_encoder_deprecation_msg, UserWarning)\n"
     ]
    },
    {
     "name": "stdout",
     "output_type": "stream",
     "text": [
      "[CV]  nrounds=2222.0, min_child_weight=5.039684199579493, lambda=0.09921256574801249, eta=0.004556754060844206, colsample_bytree=0.2222222222222222, colsample_bylevel=0.2222222222222222, alpha=0.46293735614364534, accuracy=0.887, f1=0.156, roc_auc=0.889, total=   2.1s\n",
      "[CV] nrounds=2222.0, min_child_weight=5.039684199579493, lambda=0.09921256574801249, eta=0.004556754060844206, colsample_bytree=0.2222222222222222, colsample_bylevel=0.2222222222222222, alpha=0.46293735614364534 \n",
      "[23:39:19] WARNING: ../src/learner.cc:541: \n",
      "Parameters: { nrounds } might not be used.\n",
      "\n",
      "  This may not be accurate due to some parameters are only used in language bindings but\n",
      "  passed down to XGBoost core.  Or some parameters are not used but slip through this\n",
      "  verification. Please open an issue if you find above cases.\n",
      "\n",
      "\n",
      "[23:39:19] WARNING: ../src/learner.cc:1061: Starting in XGBoost 1.3.0, the default evaluation metric used with the objective 'binary:logistic' was changed from 'error' to 'logloss'. Explicitly set eval_metric if you'd like to restore the old behavior.\n"
     ]
    },
    {
     "name": "stderr",
     "output_type": "stream",
     "text": [
      "/home/piotr/miniconda3/lib/python3.8/site-packages/xgboost/sklearn.py:888: UserWarning: The use of label encoder in XGBClassifier is deprecated and will be removed in a future release. To remove this warning, do the following: 1) Pass option use_label_encoder=False when constructing XGBClassifier object; and 2) Encode your labels (y) as integers starting with 0, i.e. 0, 1, 2, ..., [num_class - 1].\n",
      "  warnings.warn(label_encoder_deprecation_msg, UserWarning)\n"
     ]
    },
    {
     "name": "stdout",
     "output_type": "stream",
     "text": [
      "[CV]  nrounds=2222.0, min_child_weight=5.039684199579493, lambda=0.09921256574801249, eta=0.004556754060844206, colsample_bytree=0.2222222222222222, colsample_bylevel=0.2222222222222222, alpha=0.46293735614364534, accuracy=0.886, f1=0.149, roc_auc=0.888, total=   2.1s\n",
      "[CV] nrounds=1111.0, min_child_weight=14.813995396596646, lambda=0.0009765625, eta=0.002109491677524035, colsample_bytree=0.4444444444444444, colsample_bylevel=0.2222222222222222, alpha=0.004556754060844206 \n",
      "[23:39:21] WARNING: ../src/learner.cc:541: \n",
      "Parameters: { nrounds } might not be used.\n",
      "\n",
      "  This may not be accurate due to some parameters are only used in language bindings but\n",
      "  passed down to XGBoost core.  Or some parameters are not used but slip through this\n",
      "  verification. Please open an issue if you find above cases.\n",
      "\n",
      "\n",
      "[23:39:21] WARNING: ../src/learner.cc:1061: Starting in XGBoost 1.3.0, the default evaluation metric used with the objective 'binary:logistic' was changed from 'error' to 'logloss'. Explicitly set eval_metric if you'd like to restore the old behavior.\n"
     ]
    },
    {
     "name": "stderr",
     "output_type": "stream",
     "text": [
      "/home/piotr/miniconda3/lib/python3.8/site-packages/xgboost/sklearn.py:888: UserWarning: The use of label encoder in XGBClassifier is deprecated and will be removed in a future release. To remove this warning, do the following: 1) Pass option use_label_encoder=False when constructing XGBClassifier object; and 2) Encode your labels (y) as integers starting with 0, i.e. 0, 1, 2, ..., [num_class - 1].\n",
      "  warnings.warn(label_encoder_deprecation_msg, UserWarning)\n"
     ]
    },
    {
     "name": "stdout",
     "output_type": "stream",
     "text": [
      "[CV]  nrounds=1111.0, min_child_weight=14.813995396596646, lambda=0.0009765625, eta=0.002109491677524035, colsample_bytree=0.4444444444444444, colsample_bylevel=0.2222222222222222, alpha=0.004556754060844206, accuracy=0.888, f1=0.171, roc_auc=0.879, total=   3.1s\n",
      "[CV] nrounds=1111.0, min_child_weight=14.813995396596646, lambda=0.0009765625, eta=0.002109491677524035, colsample_bytree=0.4444444444444444, colsample_bylevel=0.2222222222222222, alpha=0.004556754060844206 \n",
      "[23:39:24] WARNING: ../src/learner.cc:541: \n",
      "Parameters: { nrounds } might not be used.\n",
      "\n",
      "  This may not be accurate due to some parameters are only used in language bindings but\n",
      "  passed down to XGBoost core.  Or some parameters are not used but slip through this\n",
      "  verification. Please open an issue if you find above cases.\n",
      "\n",
      "\n",
      "[23:39:24] WARNING: ../src/learner.cc:1061: Starting in XGBoost 1.3.0, the default evaluation metric used with the objective 'binary:logistic' was changed from 'error' to 'logloss'. Explicitly set eval_metric if you'd like to restore the old behavior.\n"
     ]
    },
    {
     "name": "stderr",
     "output_type": "stream",
     "text": [
      "/home/piotr/miniconda3/lib/python3.8/site-packages/xgboost/sklearn.py:888: UserWarning: The use of label encoder in XGBClassifier is deprecated and will be removed in a future release. To remove this warning, do the following: 1) Pass option use_label_encoder=False when constructing XGBClassifier object; and 2) Encode your labels (y) as integers starting with 0, i.e. 0, 1, 2, ..., [num_class - 1].\n",
      "  warnings.warn(label_encoder_deprecation_msg, UserWarning)\n"
     ]
    },
    {
     "name": "stdout",
     "output_type": "stream",
     "text": [
      "[CV]  nrounds=1111.0, min_child_weight=14.813995396596646, lambda=0.0009765625, eta=0.002109491677524035, colsample_bytree=0.4444444444444444, colsample_bylevel=0.2222222222222222, alpha=0.004556754060844206, accuracy=0.888, f1=0.168, roc_auc=0.876, total=   3.1s\n",
      "[CV] nrounds=1111.0, min_child_weight=14.813995396596646, lambda=0.0009765625, eta=0.002109491677524035, colsample_bytree=0.4444444444444444, colsample_bylevel=0.2222222222222222, alpha=0.004556754060844206 \n",
      "[23:39:27] WARNING: ../src/learner.cc:541: \n",
      "Parameters: { nrounds } might not be used.\n",
      "\n",
      "  This may not be accurate due to some parameters are only used in language bindings but\n",
      "  passed down to XGBoost core.  Or some parameters are not used but slip through this\n",
      "  verification. Please open an issue if you find above cases.\n",
      "\n",
      "\n",
      "[23:39:27] WARNING: ../src/learner.cc:1061: Starting in XGBoost 1.3.0, the default evaluation metric used with the objective 'binary:logistic' was changed from 'error' to 'logloss'. Explicitly set eval_metric if you'd like to restore the old behavior.\n"
     ]
    },
    {
     "name": "stderr",
     "output_type": "stream",
     "text": [
      "/home/piotr/miniconda3/lib/python3.8/site-packages/xgboost/sklearn.py:888: UserWarning: The use of label encoder in XGBClassifier is deprecated and will be removed in a future release. To remove this warning, do the following: 1) Pass option use_label_encoder=False when constructing XGBClassifier object; and 2) Encode your labels (y) as integers starting with 0, i.e. 0, 1, 2, ..., [num_class - 1].\n",
      "  warnings.warn(label_encoder_deprecation_msg, UserWarning)\n"
     ]
    },
    {
     "name": "stdout",
     "output_type": "stream",
     "text": [
      "[CV]  nrounds=1111.0, min_child_weight=14.813995396596646, lambda=0.0009765625, eta=0.002109491677524035, colsample_bytree=0.4444444444444444, colsample_bylevel=0.2222222222222222, alpha=0.004556754060844206, accuracy=0.886, f1=0.146, roc_auc=0.882, total=   3.4s\n",
      "[CV] nrounds=1111.0, min_child_weight=14.813995396596646, lambda=0.0009765625, eta=0.002109491677524035, colsample_bytree=0.4444444444444444, colsample_bylevel=0.2222222222222222, alpha=0.004556754060844206 \n",
      "[23:39:30] WARNING: ../src/learner.cc:541: \n",
      "Parameters: { nrounds } might not be used.\n",
      "\n",
      "  This may not be accurate due to some parameters are only used in language bindings but\n",
      "  passed down to XGBoost core.  Or some parameters are not used but slip through this\n",
      "  verification. Please open an issue if you find above cases.\n",
      "\n",
      "\n",
      "[23:39:30] WARNING: ../src/learner.cc:1061: Starting in XGBoost 1.3.0, the default evaluation metric used with the objective 'binary:logistic' was changed from 'error' to 'logloss'. Explicitly set eval_metric if you'd like to restore the old behavior.\n"
     ]
    },
    {
     "name": "stderr",
     "output_type": "stream",
     "text": [
      "/home/piotr/miniconda3/lib/python3.8/site-packages/xgboost/sklearn.py:888: UserWarning: The use of label encoder in XGBClassifier is deprecated and will be removed in a future release. To remove this warning, do the following: 1) Pass option use_label_encoder=False when constructing XGBClassifier object; and 2) Encode your labels (y) as integers starting with 0, i.e. 0, 1, 2, ..., [num_class - 1].\n",
      "  warnings.warn(label_encoder_deprecation_msg, UserWarning)\n"
     ]
    },
    {
     "name": "stdout",
     "output_type": "stream",
     "text": [
      "[CV]  nrounds=1111.0, min_child_weight=14.813995396596646, lambda=0.0009765625, eta=0.002109491677524035, colsample_bytree=0.4444444444444444, colsample_bylevel=0.2222222222222222, alpha=0.004556754060844206, accuracy=0.887, f1=0.164, roc_auc=0.888, total=   3.1s\n",
      "[CV] nrounds=1111.0, min_child_weight=14.813995396596646, lambda=0.0009765625, eta=0.002109491677524035, colsample_bytree=0.4444444444444444, colsample_bylevel=0.2222222222222222, alpha=0.004556754060844206 \n",
      "[23:39:33] WARNING: ../src/learner.cc:541: \n",
      "Parameters: { nrounds } might not be used.\n",
      "\n",
      "  This may not be accurate due to some parameters are only used in language bindings but\n",
      "  passed down to XGBoost core.  Or some parameters are not used but slip through this\n",
      "  verification. Please open an issue if you find above cases.\n",
      "\n",
      "\n",
      "[23:39:33] WARNING: ../src/learner.cc:1061: Starting in XGBoost 1.3.0, the default evaluation metric used with the objective 'binary:logistic' was changed from 'error' to 'logloss'. Explicitly set eval_metric if you'd like to restore the old behavior.\n"
     ]
    },
    {
     "name": "stderr",
     "output_type": "stream",
     "text": [
      "/home/piotr/miniconda3/lib/python3.8/site-packages/xgboost/sklearn.py:888: UserWarning: The use of label encoder in XGBClassifier is deprecated and will be removed in a future release. To remove this warning, do the following: 1) Pass option use_label_encoder=False when constructing XGBClassifier object; and 2) Encode your labels (y) as integers starting with 0, i.e. 0, 1, 2, ..., [num_class - 1].\n",
      "  warnings.warn(label_encoder_deprecation_msg, UserWarning)\n"
     ]
    },
    {
     "name": "stdout",
     "output_type": "stream",
     "text": [
      "[CV]  nrounds=1111.0, min_child_weight=14.813995396596646, lambda=0.0009765625, eta=0.002109491677524035, colsample_bytree=0.4444444444444444, colsample_bylevel=0.2222222222222222, alpha=0.004556754060844206, accuracy=0.887, f1=0.170, roc_auc=0.889, total=   3.1s\n",
      "[CV] nrounds=1.0, min_child_weight=5.039684199579493, lambda=0.46293735614364534, eta=0.002109491677524035, colsample_bytree=1.0, colsample_bylevel=0.2222222222222222, alpha=0.021262343752724643 \n",
      "[23:39:36] WARNING: ../src/learner.cc:541: \n",
      "Parameters: { nrounds } might not be used.\n",
      "\n",
      "  This may not be accurate due to some parameters are only used in language bindings but\n",
      "  passed down to XGBoost core.  Or some parameters are not used but slip through this\n",
      "  verification. Please open an issue if you find above cases.\n",
      "\n",
      "\n"
     ]
    },
    {
     "name": "stderr",
     "output_type": "stream",
     "text": [
      "/home/piotr/miniconda3/lib/python3.8/site-packages/xgboost/sklearn.py:888: UserWarning: The use of label encoder in XGBClassifier is deprecated and will be removed in a future release. To remove this warning, do the following: 1) Pass option use_label_encoder=False when constructing XGBClassifier object; and 2) Encode your labels (y) as integers starting with 0, i.e. 0, 1, 2, ..., [num_class - 1].\n",
      "  warnings.warn(label_encoder_deprecation_msg, UserWarning)\n"
     ]
    },
    {
     "name": "stdout",
     "output_type": "stream",
     "text": [
      "[23:39:37] WARNING: ../src/learner.cc:1061: Starting in XGBoost 1.3.0, the default evaluation metric used with the objective 'binary:logistic' was changed from 'error' to 'logloss'. Explicitly set eval_metric if you'd like to restore the old behavior.\n",
      "[CV]  nrounds=1.0, min_child_weight=5.039684199579493, lambda=0.46293735614364534, eta=0.002109491677524035, colsample_bytree=1.0, colsample_bylevel=0.2222222222222222, alpha=0.021262343752724643, accuracy=0.889, f1=0.209, roc_auc=0.879, total=   5.8s\n",
      "[CV] nrounds=1.0, min_child_weight=5.039684199579493, lambda=0.46293735614364534, eta=0.002109491677524035, colsample_bytree=1.0, colsample_bylevel=0.2222222222222222, alpha=0.021262343752724643 \n",
      "[23:39:42] WARNING: ../src/learner.cc:541: \n",
      "Parameters: { nrounds } might not be used.\n",
      "\n",
      "  This may not be accurate due to some parameters are only used in language bindings but\n",
      "  passed down to XGBoost core.  Or some parameters are not used but slip through this\n",
      "  verification. Please open an issue if you find above cases.\n",
      "\n",
      "\n"
     ]
    },
    {
     "name": "stderr",
     "output_type": "stream",
     "text": [
      "/home/piotr/miniconda3/lib/python3.8/site-packages/xgboost/sklearn.py:888: UserWarning: The use of label encoder in XGBClassifier is deprecated and will be removed in a future release. To remove this warning, do the following: 1) Pass option use_label_encoder=False when constructing XGBClassifier object; and 2) Encode your labels (y) as integers starting with 0, i.e. 0, 1, 2, ..., [num_class - 1].\n",
      "  warnings.warn(label_encoder_deprecation_msg, UserWarning)\n"
     ]
    },
    {
     "name": "stdout",
     "output_type": "stream",
     "text": [
      "[23:39:42] WARNING: ../src/learner.cc:1061: Starting in XGBoost 1.3.0, the default evaluation metric used with the objective 'binary:logistic' was changed from 'error' to 'logloss'. Explicitly set eval_metric if you'd like to restore the old behavior.\n",
      "[CV]  nrounds=1.0, min_child_weight=5.039684199579493, lambda=0.46293735614364534, eta=0.002109491677524035, colsample_bytree=1.0, colsample_bylevel=0.2222222222222222, alpha=0.021262343752724643, accuracy=0.889, f1=0.230, roc_auc=0.877, total=   5.8s\n",
      "[CV] nrounds=1.0, min_child_weight=5.039684199579493, lambda=0.46293735614364534, eta=0.002109491677524035, colsample_bytree=1.0, colsample_bylevel=0.2222222222222222, alpha=0.021262343752724643 \n",
      "[23:39:48] WARNING: ../src/learner.cc:541: \n",
      "Parameters: { nrounds } might not be used.\n",
      "\n",
      "  This may not be accurate due to some parameters are only used in language bindings but\n",
      "  passed down to XGBoost core.  Or some parameters are not used but slip through this\n",
      "  verification. Please open an issue if you find above cases.\n",
      "\n",
      "\n"
     ]
    },
    {
     "name": "stderr",
     "output_type": "stream",
     "text": [
      "/home/piotr/miniconda3/lib/python3.8/site-packages/xgboost/sklearn.py:888: UserWarning: The use of label encoder in XGBClassifier is deprecated and will be removed in a future release. To remove this warning, do the following: 1) Pass option use_label_encoder=False when constructing XGBClassifier object; and 2) Encode your labels (y) as integers starting with 0, i.e. 0, 1, 2, ..., [num_class - 1].\n",
      "  warnings.warn(label_encoder_deprecation_msg, UserWarning)\n"
     ]
    },
    {
     "name": "stdout",
     "output_type": "stream",
     "text": [
      "[23:39:48] WARNING: ../src/learner.cc:1061: Starting in XGBoost 1.3.0, the default evaluation metric used with the objective 'binary:logistic' was changed from 'error' to 'logloss'. Explicitly set eval_metric if you'd like to restore the old behavior.\n",
      "[CV]  nrounds=1.0, min_child_weight=5.039684199579493, lambda=0.46293735614364534, eta=0.002109491677524035, colsample_bytree=1.0, colsample_bylevel=0.2222222222222222, alpha=0.021262343752724643, accuracy=0.889, f1=0.207, roc_auc=0.884, total=   5.7s\n",
      "[CV] nrounds=1.0, min_child_weight=5.039684199579493, lambda=0.46293735614364534, eta=0.002109491677524035, colsample_bytree=1.0, colsample_bylevel=0.2222222222222222, alpha=0.021262343752724643 \n",
      "[23:39:54] WARNING: ../src/learner.cc:541: \n",
      "Parameters: { nrounds } might not be used.\n",
      "\n",
      "  This may not be accurate due to some parameters are only used in language bindings but\n",
      "  passed down to XGBoost core.  Or some parameters are not used but slip through this\n",
      "  verification. Please open an issue if you find above cases.\n",
      "\n",
      "\n"
     ]
    },
    {
     "name": "stderr",
     "output_type": "stream",
     "text": [
      "/home/piotr/miniconda3/lib/python3.8/site-packages/xgboost/sklearn.py:888: UserWarning: The use of label encoder in XGBClassifier is deprecated and will be removed in a future release. To remove this warning, do the following: 1) Pass option use_label_encoder=False when constructing XGBClassifier object; and 2) Encode your labels (y) as integers starting with 0, i.e. 0, 1, 2, ..., [num_class - 1].\n",
      "  warnings.warn(label_encoder_deprecation_msg, UserWarning)\n"
     ]
    },
    {
     "name": "stdout",
     "output_type": "stream",
     "text": [
      "[23:39:54] WARNING: ../src/learner.cc:1061: Starting in XGBoost 1.3.0, the default evaluation metric used with the objective 'binary:logistic' was changed from 'error' to 'logloss'. Explicitly set eval_metric if you'd like to restore the old behavior.\n",
      "[CV]  nrounds=1.0, min_child_weight=5.039684199579493, lambda=0.46293735614364534, eta=0.002109491677524035, colsample_bytree=1.0, colsample_bylevel=0.2222222222222222, alpha=0.021262343752724643, accuracy=0.890, f1=0.229, roc_auc=0.892, total=   5.8s\n",
      "[CV] nrounds=1.0, min_child_weight=5.039684199579493, lambda=0.46293735614364534, eta=0.002109491677524035, colsample_bytree=1.0, colsample_bylevel=0.2222222222222222, alpha=0.021262343752724643 \n",
      "[23:40:00] WARNING: ../src/learner.cc:541: \n",
      "Parameters: { nrounds } might not be used.\n",
      "\n",
      "  This may not be accurate due to some parameters are only used in language bindings but\n",
      "  passed down to XGBoost core.  Or some parameters are not used but slip through this\n",
      "  verification. Please open an issue if you find above cases.\n",
      "\n",
      "\n"
     ]
    },
    {
     "name": "stderr",
     "output_type": "stream",
     "text": [
      "/home/piotr/miniconda3/lib/python3.8/site-packages/xgboost/sklearn.py:888: UserWarning: The use of label encoder in XGBClassifier is deprecated and will be removed in a future release. To remove this warning, do the following: 1) Pass option use_label_encoder=False when constructing XGBClassifier object; and 2) Encode your labels (y) as integers starting with 0, i.e. 0, 1, 2, ..., [num_class - 1].\n",
      "  warnings.warn(label_encoder_deprecation_msg, UserWarning)\n"
     ]
    },
    {
     "name": "stdout",
     "output_type": "stream",
     "text": [
      "[23:40:00] WARNING: ../src/learner.cc:1061: Starting in XGBoost 1.3.0, the default evaluation metric used with the objective 'binary:logistic' was changed from 'error' to 'logloss'. Explicitly set eval_metric if you'd like to restore the old behavior.\n",
      "[CV]  nrounds=1.0, min_child_weight=5.039684199579493, lambda=0.46293735614364534, eta=0.002109491677524035, colsample_bytree=1.0, colsample_bylevel=0.2222222222222222, alpha=0.021262343752724643, accuracy=0.893, f1=0.260, roc_auc=0.888, total=   5.8s\n",
      "[CV] nrounds=1667.0, min_child_weight=1.7144879657061456, lambda=0.09921256574801249, eta=1.0, colsample_bytree=0.1111111111111111, colsample_bylevel=0.7777777777777777, alpha=0.004556754060844206 \n",
      "[23:40:05] WARNING: ../src/learner.cc:541: \n",
      "Parameters: { nrounds } might not be used.\n",
      "\n",
      "  This may not be accurate due to some parameters are only used in language bindings but\n",
      "  passed down to XGBoost core.  Or some parameters are not used but slip through this\n",
      "  verification. Please open an issue if you find above cases.\n",
      "\n",
      "\n",
      "[23:40:05] WARNING: ../src/learner.cc:1061: Starting in XGBoost 1.3.0, the default evaluation metric used with the objective 'binary:logistic' was changed from 'error' to 'logloss'. Explicitly set eval_metric if you'd like to restore the old behavior.\n"
     ]
    },
    {
     "name": "stderr",
     "output_type": "stream",
     "text": [
      "/home/piotr/miniconda3/lib/python3.8/site-packages/xgboost/sklearn.py:888: UserWarning: The use of label encoder in XGBClassifier is deprecated and will be removed in a future release. To remove this warning, do the following: 1) Pass option use_label_encoder=False when constructing XGBClassifier object; and 2) Encode your labels (y) as integers starting with 0, i.e. 0, 1, 2, ..., [num_class - 1].\n",
      "  warnings.warn(label_encoder_deprecation_msg, UserWarning)\n"
     ]
    },
    {
     "name": "stdout",
     "output_type": "stream",
     "text": [
      "[CV]  nrounds=1667.0, min_child_weight=1.7144879657061456, lambda=0.09921256574801249, eta=1.0, colsample_bytree=0.1111111111111111, colsample_bylevel=0.7777777777777777, alpha=0.004556754060844206, accuracy=0.893, f1=0.480, roc_auc=0.879, total=   2.8s\n",
      "[CV] nrounds=1667.0, min_child_weight=1.7144879657061456, lambda=0.09921256574801249, eta=1.0, colsample_bytree=0.1111111111111111, colsample_bylevel=0.7777777777777777, alpha=0.004556754060844206 \n",
      "[23:40:08] WARNING: ../src/learner.cc:541: \n",
      "Parameters: { nrounds } might not be used.\n",
      "\n",
      "  This may not be accurate due to some parameters are only used in language bindings but\n",
      "  passed down to XGBoost core.  Or some parameters are not used but slip through this\n",
      "  verification. Please open an issue if you find above cases.\n",
      "\n",
      "\n",
      "[23:40:08] WARNING: ../src/learner.cc:1061: Starting in XGBoost 1.3.0, the default evaluation metric used with the objective 'binary:logistic' was changed from 'error' to 'logloss'. Explicitly set eval_metric if you'd like to restore the old behavior.\n"
     ]
    },
    {
     "name": "stderr",
     "output_type": "stream",
     "text": [
      "/home/piotr/miniconda3/lib/python3.8/site-packages/xgboost/sklearn.py:888: UserWarning: The use of label encoder in XGBClassifier is deprecated and will be removed in a future release. To remove this warning, do the following: 1) Pass option use_label_encoder=False when constructing XGBClassifier object; and 2) Encode your labels (y) as integers starting with 0, i.e. 0, 1, 2, ..., [num_class - 1].\n",
      "  warnings.warn(label_encoder_deprecation_msg, UserWarning)\n"
     ]
    },
    {
     "name": "stdout",
     "output_type": "stream",
     "text": [
      "[CV]  nrounds=1667.0, min_child_weight=1.7144879657061456, lambda=0.09921256574801249, eta=1.0, colsample_bytree=0.1111111111111111, colsample_bylevel=0.7777777777777777, alpha=0.004556754060844206, accuracy=0.897, f1=0.508, roc_auc=0.892, total=   2.8s\n",
      "[CV] nrounds=1667.0, min_child_weight=1.7144879657061456, lambda=0.09921256574801249, eta=1.0, colsample_bytree=0.1111111111111111, colsample_bylevel=0.7777777777777777, alpha=0.004556754060844206 \n",
      "[23:40:11] WARNING: ../src/learner.cc:541: \n",
      "Parameters: { nrounds } might not be used.\n",
      "\n",
      "  This may not be accurate due to some parameters are only used in language bindings but\n",
      "  passed down to XGBoost core.  Or some parameters are not used but slip through this\n",
      "  verification. Please open an issue if you find above cases.\n",
      "\n",
      "\n",
      "[23:40:11] WARNING: ../src/learner.cc:1061: Starting in XGBoost 1.3.0, the default evaluation metric used with the objective 'binary:logistic' was changed from 'error' to 'logloss'. Explicitly set eval_metric if you'd like to restore the old behavior.\n"
     ]
    },
    {
     "name": "stderr",
     "output_type": "stream",
     "text": [
      "/home/piotr/miniconda3/lib/python3.8/site-packages/xgboost/sklearn.py:888: UserWarning: The use of label encoder in XGBClassifier is deprecated and will be removed in a future release. To remove this warning, do the following: 1) Pass option use_label_encoder=False when constructing XGBClassifier object; and 2) Encode your labels (y) as integers starting with 0, i.e. 0, 1, 2, ..., [num_class - 1].\n",
      "  warnings.warn(label_encoder_deprecation_msg, UserWarning)\n"
     ]
    },
    {
     "name": "stdout",
     "output_type": "stream",
     "text": [
      "[CV]  nrounds=1667.0, min_child_weight=1.7144879657061456, lambda=0.09921256574801249, eta=1.0, colsample_bytree=0.1111111111111111, colsample_bylevel=0.7777777777777777, alpha=0.004556754060844206, accuracy=0.889, f1=0.462, roc_auc=0.885, total=   2.7s\n",
      "[CV] nrounds=1667.0, min_child_weight=1.7144879657061456, lambda=0.09921256574801249, eta=1.0, colsample_bytree=0.1111111111111111, colsample_bylevel=0.7777777777777777, alpha=0.004556754060844206 \n",
      "[23:40:14] WARNING: ../src/learner.cc:541: \n",
      "Parameters: { nrounds } might not be used.\n",
      "\n",
      "  This may not be accurate due to some parameters are only used in language bindings but\n",
      "  passed down to XGBoost core.  Or some parameters are not used but slip through this\n",
      "  verification. Please open an issue if you find above cases.\n",
      "\n",
      "\n",
      "[23:40:14] WARNING: ../src/learner.cc:1061: Starting in XGBoost 1.3.0, the default evaluation metric used with the objective 'binary:logistic' was changed from 'error' to 'logloss'. Explicitly set eval_metric if you'd like to restore the old behavior.\n"
     ]
    },
    {
     "name": "stderr",
     "output_type": "stream",
     "text": [
      "/home/piotr/miniconda3/lib/python3.8/site-packages/xgboost/sklearn.py:888: UserWarning: The use of label encoder in XGBClassifier is deprecated and will be removed in a future release. To remove this warning, do the following: 1) Pass option use_label_encoder=False when constructing XGBClassifier object; and 2) Encode your labels (y) as integers starting with 0, i.e. 0, 1, 2, ..., [num_class - 1].\n",
      "  warnings.warn(label_encoder_deprecation_msg, UserWarning)\n"
     ]
    },
    {
     "name": "stdout",
     "output_type": "stream",
     "text": [
      "[CV]  nrounds=1667.0, min_child_weight=1.7144879657061456, lambda=0.09921256574801249, eta=1.0, colsample_bytree=0.1111111111111111, colsample_bylevel=0.7777777777777777, alpha=0.004556754060844206, accuracy=0.892, f1=0.486, roc_auc=0.896, total=   2.8s\n",
      "[CV] nrounds=1667.0, min_child_weight=1.7144879657061456, lambda=0.09921256574801249, eta=1.0, colsample_bytree=0.1111111111111111, colsample_bylevel=0.7777777777777777, alpha=0.004556754060844206 \n",
      "[23:40:16] WARNING: ../src/learner.cc:541: \n",
      "Parameters: { nrounds } might not be used.\n",
      "\n",
      "  This may not be accurate due to some parameters are only used in language bindings but\n",
      "  passed down to XGBoost core.  Or some parameters are not used but slip through this\n",
      "  verification. Please open an issue if you find above cases.\n",
      "\n",
      "\n",
      "[23:40:16] WARNING: ../src/learner.cc:1061: Starting in XGBoost 1.3.0, the default evaluation metric used with the objective 'binary:logistic' was changed from 'error' to 'logloss'. Explicitly set eval_metric if you'd like to restore the old behavior.\n"
     ]
    },
    {
     "name": "stderr",
     "output_type": "stream",
     "text": [
      "/home/piotr/miniconda3/lib/python3.8/site-packages/xgboost/sklearn.py:888: UserWarning: The use of label encoder in XGBClassifier is deprecated and will be removed in a future release. To remove this warning, do the following: 1) Pass option use_label_encoder=False when constructing XGBClassifier object; and 2) Encode your labels (y) as integers starting with 0, i.e. 0, 1, 2, ..., [num_class - 1].\n",
      "  warnings.warn(label_encoder_deprecation_msg, UserWarning)\n"
     ]
    },
    {
     "name": "stdout",
     "output_type": "stream",
     "text": [
      "[CV]  nrounds=1667.0, min_child_weight=1.7144879657061456, lambda=0.09921256574801249, eta=1.0, colsample_bytree=0.1111111111111111, colsample_bylevel=0.7777777777777777, alpha=0.004556754060844206, accuracy=0.899, f1=0.520, roc_auc=0.886, total=   2.8s\n",
      "[CV] nrounds=2778.0, min_child_weight=14.813995396596646, lambda=1024.0, eta=0.21431099571326834, colsample_bytree=0.8888888888888888, colsample_bylevel=0.0, alpha=0.09921256574801249 \n",
      "[23:40:19] WARNING: ../src/learner.cc:541: \n",
      "Parameters: { nrounds } might not be used.\n",
      "\n",
      "  This may not be accurate due to some parameters are only used in language bindings but\n",
      "  passed down to XGBoost core.  Or some parameters are not used but slip through this\n",
      "  verification. Please open an issue if you find above cases.\n",
      "\n",
      "\n",
      "[23:40:19] WARNING: ../src/learner.cc:1061: Starting in XGBoost 1.3.0, the default evaluation metric used with the objective 'binary:logistic' was changed from 'error' to 'logloss'. Explicitly set eval_metric if you'd like to restore the old behavior.\n"
     ]
    },
    {
     "name": "stderr",
     "output_type": "stream",
     "text": [
      "/home/piotr/miniconda3/lib/python3.8/site-packages/xgboost/sklearn.py:888: UserWarning: The use of label encoder in XGBClassifier is deprecated and will be removed in a future release. To remove this warning, do the following: 1) Pass option use_label_encoder=False when constructing XGBClassifier object; and 2) Encode your labels (y) as integers starting with 0, i.e. 0, 1, 2, ..., [num_class - 1].\n",
      "  warnings.warn(label_encoder_deprecation_msg, UserWarning)\n"
     ]
    },
    {
     "name": "stdout",
     "output_type": "stream",
     "text": [
      "[CV]  nrounds=2778.0, min_child_weight=14.813995396596646, lambda=1024.0, eta=0.21431099571326834, colsample_bytree=0.8888888888888888, colsample_bylevel=0.0, alpha=0.09921256574801249, accuracy=0.885, f1=0.127, roc_auc=0.866, total=   1.1s\n",
      "[CV] nrounds=2778.0, min_child_weight=14.813995396596646, lambda=1024.0, eta=0.21431099571326834, colsample_bytree=0.8888888888888888, colsample_bylevel=0.0, alpha=0.09921256574801249 \n",
      "[23:40:20] WARNING: ../src/learner.cc:541: \n",
      "Parameters: { nrounds } might not be used.\n",
      "\n",
      "  This may not be accurate due to some parameters are only used in language bindings but\n",
      "  passed down to XGBoost core.  Or some parameters are not used but slip through this\n",
      "  verification. Please open an issue if you find above cases.\n",
      "\n",
      "\n",
      "[23:40:20] WARNING: ../src/learner.cc:1061: Starting in XGBoost 1.3.0, the default evaluation metric used with the objective 'binary:logistic' was changed from 'error' to 'logloss'. Explicitly set eval_metric if you'd like to restore the old behavior.\n"
     ]
    },
    {
     "name": "stderr",
     "output_type": "stream",
     "text": [
      "/home/piotr/miniconda3/lib/python3.8/site-packages/xgboost/sklearn.py:888: UserWarning: The use of label encoder in XGBClassifier is deprecated and will be removed in a future release. To remove this warning, do the following: 1) Pass option use_label_encoder=False when constructing XGBClassifier object; and 2) Encode your labels (y) as integers starting with 0, i.e. 0, 1, 2, ..., [num_class - 1].\n",
      "  warnings.warn(label_encoder_deprecation_msg, UserWarning)\n"
     ]
    },
    {
     "name": "stdout",
     "output_type": "stream",
     "text": [
      "[CV]  nrounds=2778.0, min_child_weight=14.813995396596646, lambda=1024.0, eta=0.21431099571326834, colsample_bytree=0.8888888888888888, colsample_bylevel=0.0, alpha=0.09921256574801249, accuracy=0.885, f1=0.157, roc_auc=0.864, total=   1.1s\n",
      "[CV] nrounds=2778.0, min_child_weight=14.813995396596646, lambda=1024.0, eta=0.21431099571326834, colsample_bytree=0.8888888888888888, colsample_bylevel=0.0, alpha=0.09921256574801249 \n",
      "[23:40:21] WARNING: ../src/learner.cc:541: \n",
      "Parameters: { nrounds } might not be used.\n",
      "\n",
      "  This may not be accurate due to some parameters are only used in language bindings but\n",
      "  passed down to XGBoost core.  Or some parameters are not used but slip through this\n",
      "  verification. Please open an issue if you find above cases.\n",
      "\n",
      "\n",
      "[23:40:21] WARNING: ../src/learner.cc:1061: Starting in XGBoost 1.3.0, the default evaluation metric used with the objective 'binary:logistic' was changed from 'error' to 'logloss'. Explicitly set eval_metric if you'd like to restore the old behavior.\n"
     ]
    },
    {
     "name": "stderr",
     "output_type": "stream",
     "text": [
      "/home/piotr/miniconda3/lib/python3.8/site-packages/xgboost/sklearn.py:888: UserWarning: The use of label encoder in XGBClassifier is deprecated and will be removed in a future release. To remove this warning, do the following: 1) Pass option use_label_encoder=False when constructing XGBClassifier object; and 2) Encode your labels (y) as integers starting with 0, i.e. 0, 1, 2, ..., [num_class - 1].\n",
      "  warnings.warn(label_encoder_deprecation_msg, UserWarning)\n"
     ]
    },
    {
     "name": "stdout",
     "output_type": "stream",
     "text": [
      "[CV]  nrounds=2778.0, min_child_weight=14.813995396596646, lambda=1024.0, eta=0.21431099571326834, colsample_bytree=0.8888888888888888, colsample_bylevel=0.0, alpha=0.09921256574801249, accuracy=0.885, f1=0.133, roc_auc=0.863, total=   1.1s\n",
      "[CV] nrounds=2778.0, min_child_weight=14.813995396596646, lambda=1024.0, eta=0.21431099571326834, colsample_bytree=0.8888888888888888, colsample_bylevel=0.0, alpha=0.09921256574801249 \n",
      "[23:40:22] WARNING: ../src/learner.cc:541: \n",
      "Parameters: { nrounds } might not be used.\n",
      "\n",
      "  This may not be accurate due to some parameters are only used in language bindings but\n",
      "  passed down to XGBoost core.  Or some parameters are not used but slip through this\n",
      "  verification. Please open an issue if you find above cases.\n",
      "\n",
      "\n",
      "[23:40:22] WARNING: ../src/learner.cc:1061: Starting in XGBoost 1.3.0, the default evaluation metric used with the objective 'binary:logistic' was changed from 'error' to 'logloss'. Explicitly set eval_metric if you'd like to restore the old behavior.\n"
     ]
    },
    {
     "name": "stderr",
     "output_type": "stream",
     "text": [
      "/home/piotr/miniconda3/lib/python3.8/site-packages/xgboost/sklearn.py:888: UserWarning: The use of label encoder in XGBClassifier is deprecated and will be removed in a future release. To remove this warning, do the following: 1) Pass option use_label_encoder=False when constructing XGBClassifier object; and 2) Encode your labels (y) as integers starting with 0, i.e. 0, 1, 2, ..., [num_class - 1].\n",
      "  warnings.warn(label_encoder_deprecation_msg, UserWarning)\n"
     ]
    },
    {
     "name": "stdout",
     "output_type": "stream",
     "text": [
      "[CV]  nrounds=2778.0, min_child_weight=14.813995396596646, lambda=1024.0, eta=0.21431099571326834, colsample_bytree=0.8888888888888888, colsample_bylevel=0.0, alpha=0.09921256574801249, accuracy=0.886, f1=0.152, roc_auc=0.873, total=   1.0s\n",
      "[CV] nrounds=2778.0, min_child_weight=14.813995396596646, lambda=1024.0, eta=0.21431099571326834, colsample_bytree=0.8888888888888888, colsample_bylevel=0.0, alpha=0.09921256574801249 \n",
      "[23:40:23] WARNING: ../src/learner.cc:541: \n",
      "Parameters: { nrounds } might not be used.\n",
      "\n",
      "  This may not be accurate due to some parameters are only used in language bindings but\n",
      "  passed down to XGBoost core.  Or some parameters are not used but slip through this\n",
      "  verification. Please open an issue if you find above cases.\n",
      "\n",
      "\n",
      "[23:40:23] WARNING: ../src/learner.cc:1061: Starting in XGBoost 1.3.0, the default evaluation metric used with the objective 'binary:logistic' was changed from 'error' to 'logloss'. Explicitly set eval_metric if you'd like to restore the old behavior.\n"
     ]
    },
    {
     "name": "stderr",
     "output_type": "stream",
     "text": [
      "/home/piotr/miniconda3/lib/python3.8/site-packages/xgboost/sklearn.py:888: UserWarning: The use of label encoder in XGBClassifier is deprecated and will be removed in a future release. To remove this warning, do the following: 1) Pass option use_label_encoder=False when constructing XGBClassifier object; and 2) Encode your labels (y) as integers starting with 0, i.e. 0, 1, 2, ..., [num_class - 1].\n",
      "  warnings.warn(label_encoder_deprecation_msg, UserWarning)\n"
     ]
    },
    {
     "name": "stdout",
     "output_type": "stream",
     "text": [
      "[CV]  nrounds=2778.0, min_child_weight=14.813995396596646, lambda=1024.0, eta=0.21431099571326834, colsample_bytree=0.8888888888888888, colsample_bylevel=0.0, alpha=0.09921256574801249, accuracy=0.888, f1=0.189, roc_auc=0.875, total=   1.1s\n",
      "[CV] nrounds=1667.0, min_child_weight=74.65785853287147, lambda=0.0009765625, eta=1.0, colsample_bytree=0.8888888888888888, colsample_bylevel=0.2222222222222222, alpha=2.1601194777846118 \n",
      "[23:40:24] WARNING: ../src/learner.cc:541: \n",
      "Parameters: { nrounds } might not be used.\n",
      "\n",
      "  This may not be accurate due to some parameters are only used in language bindings but\n",
      "  passed down to XGBoost core.  Or some parameters are not used but slip through this\n",
      "  verification. Please open an issue if you find above cases.\n",
      "\n",
      "\n",
      "[23:40:25] WARNING: ../src/learner.cc:1061: Starting in XGBoost 1.3.0, the default evaluation metric used with the objective 'binary:logistic' was changed from 'error' to 'logloss'. Explicitly set eval_metric if you'd like to restore the old behavior.\n"
     ]
    },
    {
     "name": "stderr",
     "output_type": "stream",
     "text": [
      "/home/piotr/miniconda3/lib/python3.8/site-packages/xgboost/sklearn.py:888: UserWarning: The use of label encoder in XGBClassifier is deprecated and will be removed in a future release. To remove this warning, do the following: 1) Pass option use_label_encoder=False when constructing XGBClassifier object; and 2) Encode your labels (y) as integers starting with 0, i.e. 0, 1, 2, ..., [num_class - 1].\n",
      "  warnings.warn(label_encoder_deprecation_msg, UserWarning)\n"
     ]
    },
    {
     "name": "stdout",
     "output_type": "stream",
     "text": [
      "[CV]  nrounds=1667.0, min_child_weight=74.65785853287147, lambda=0.0009765625, eta=1.0, colsample_bytree=0.8888888888888888, colsample_bylevel=0.2222222222222222, alpha=2.1601194777846118, accuracy=0.895, f1=0.519, roc_auc=0.890, total=   3.3s\n",
      "[CV] nrounds=1667.0, min_child_weight=74.65785853287147, lambda=0.0009765625, eta=1.0, colsample_bytree=0.8888888888888888, colsample_bylevel=0.2222222222222222, alpha=2.1601194777846118 \n",
      "[23:40:28] WARNING: ../src/learner.cc:541: \n",
      "Parameters: { nrounds } might not be used.\n",
      "\n",
      "  This may not be accurate due to some parameters are only used in language bindings but\n",
      "  passed down to XGBoost core.  Or some parameters are not used but slip through this\n",
      "  verification. Please open an issue if you find above cases.\n",
      "\n",
      "\n",
      "[23:40:28] WARNING: ../src/learner.cc:1061: Starting in XGBoost 1.3.0, the default evaluation metric used with the objective 'binary:logistic' was changed from 'error' to 'logloss'. Explicitly set eval_metric if you'd like to restore the old behavior.\n"
     ]
    },
    {
     "name": "stderr",
     "output_type": "stream",
     "text": [
      "/home/piotr/miniconda3/lib/python3.8/site-packages/xgboost/sklearn.py:888: UserWarning: The use of label encoder in XGBClassifier is deprecated and will be removed in a future release. To remove this warning, do the following: 1) Pass option use_label_encoder=False when constructing XGBClassifier object; and 2) Encode your labels (y) as integers starting with 0, i.e. 0, 1, 2, ..., [num_class - 1].\n",
      "  warnings.warn(label_encoder_deprecation_msg, UserWarning)\n"
     ]
    },
    {
     "name": "stdout",
     "output_type": "stream",
     "text": [
      "[CV]  nrounds=1667.0, min_child_weight=74.65785853287147, lambda=0.0009765625, eta=1.0, colsample_bytree=0.8888888888888888, colsample_bylevel=0.2222222222222222, alpha=2.1601194777846118, accuracy=0.896, f1=0.517, roc_auc=0.895, total=   3.3s\n",
      "[CV] nrounds=1667.0, min_child_weight=74.65785853287147, lambda=0.0009765625, eta=1.0, colsample_bytree=0.8888888888888888, colsample_bylevel=0.2222222222222222, alpha=2.1601194777846118 \n",
      "[23:40:31] WARNING: ../src/learner.cc:541: \n",
      "Parameters: { nrounds } might not be used.\n",
      "\n",
      "  This may not be accurate due to some parameters are only used in language bindings but\n",
      "  passed down to XGBoost core.  Or some parameters are not used but slip through this\n",
      "  verification. Please open an issue if you find above cases.\n",
      "\n",
      "\n",
      "[23:40:31] WARNING: ../src/learner.cc:1061: Starting in XGBoost 1.3.0, the default evaluation metric used with the objective 'binary:logistic' was changed from 'error' to 'logloss'. Explicitly set eval_metric if you'd like to restore the old behavior.\n"
     ]
    },
    {
     "name": "stderr",
     "output_type": "stream",
     "text": [
      "/home/piotr/miniconda3/lib/python3.8/site-packages/xgboost/sklearn.py:888: UserWarning: The use of label encoder in XGBClassifier is deprecated and will be removed in a future release. To remove this warning, do the following: 1) Pass option use_label_encoder=False when constructing XGBClassifier object; and 2) Encode your labels (y) as integers starting with 0, i.e. 0, 1, 2, ..., [num_class - 1].\n",
      "  warnings.warn(label_encoder_deprecation_msg, UserWarning)\n"
     ]
    },
    {
     "name": "stdout",
     "output_type": "stream",
     "text": [
      "[CV]  nrounds=1667.0, min_child_weight=74.65785853287147, lambda=0.0009765625, eta=1.0, colsample_bytree=0.8888888888888888, colsample_bylevel=0.2222222222222222, alpha=2.1601194777846118, accuracy=0.897, f1=0.521, roc_auc=0.892, total=   3.3s\n",
      "[CV] nrounds=1667.0, min_child_weight=74.65785853287147, lambda=0.0009765625, eta=1.0, colsample_bytree=0.8888888888888888, colsample_bylevel=0.2222222222222222, alpha=2.1601194777846118 \n",
      "[23:40:34] WARNING: ../src/learner.cc:541: \n",
      "Parameters: { nrounds } might not be used.\n",
      "\n",
      "  This may not be accurate due to some parameters are only used in language bindings but\n",
      "  passed down to XGBoost core.  Or some parameters are not used but slip through this\n",
      "  verification. Please open an issue if you find above cases.\n",
      "\n",
      "\n"
     ]
    },
    {
     "name": "stderr",
     "output_type": "stream",
     "text": [
      "/home/piotr/miniconda3/lib/python3.8/site-packages/xgboost/sklearn.py:888: UserWarning: The use of label encoder in XGBClassifier is deprecated and will be removed in a future release. To remove this warning, do the following: 1) Pass option use_label_encoder=False when constructing XGBClassifier object; and 2) Encode your labels (y) as integers starting with 0, i.e. 0, 1, 2, ..., [num_class - 1].\n",
      "  warnings.warn(label_encoder_deprecation_msg, UserWarning)\n"
     ]
    },
    {
     "name": "stdout",
     "output_type": "stream",
     "text": [
      "[23:40:35] WARNING: ../src/learner.cc:1061: Starting in XGBoost 1.3.0, the default evaluation metric used with the objective 'binary:logistic' was changed from 'error' to 'logloss'. Explicitly set eval_metric if you'd like to restore the old behavior.\n",
      "[CV]  nrounds=1667.0, min_child_weight=74.65785853287147, lambda=0.0009765625, eta=1.0, colsample_bytree=0.8888888888888888, colsample_bylevel=0.2222222222222222, alpha=2.1601194777846118, accuracy=0.898, f1=0.532, roc_auc=0.893, total=   3.3s\n",
      "[CV] nrounds=1667.0, min_child_weight=74.65785853287147, lambda=0.0009765625, eta=1.0, colsample_bytree=0.8888888888888888, colsample_bylevel=0.2222222222222222, alpha=2.1601194777846118 \n",
      "[23:40:38] WARNING: ../src/learner.cc:541: \n",
      "Parameters: { nrounds } might not be used.\n",
      "\n",
      "  This may not be accurate due to some parameters are only used in language bindings but\n",
      "  passed down to XGBoost core.  Or some parameters are not used but slip through this\n",
      "  verification. Please open an issue if you find above cases.\n",
      "\n",
      "\n",
      "[23:40:38] WARNING: ../src/learner.cc:1061: Starting in XGBoost 1.3.0, the default evaluation metric used with the objective 'binary:logistic' was changed from 'error' to 'logloss'. Explicitly set eval_metric if you'd like to restore the old behavior.\n"
     ]
    },
    {
     "name": "stderr",
     "output_type": "stream",
     "text": [
      "/home/piotr/miniconda3/lib/python3.8/site-packages/xgboost/sklearn.py:888: UserWarning: The use of label encoder in XGBClassifier is deprecated and will be removed in a future release. To remove this warning, do the following: 1) Pass option use_label_encoder=False when constructing XGBClassifier object; and 2) Encode your labels (y) as integers starting with 0, i.e. 0, 1, 2, ..., [num_class - 1].\n",
      "  warnings.warn(label_encoder_deprecation_msg, UserWarning)\n"
     ]
    },
    {
     "name": "stdout",
     "output_type": "stream",
     "text": [
      "[CV]  nrounds=1667.0, min_child_weight=74.65785853287147, lambda=0.0009765625, eta=1.0, colsample_bytree=0.8888888888888888, colsample_bylevel=0.2222222222222222, alpha=2.1601194777846118, accuracy=0.898, f1=0.529, roc_auc=0.890, total=   3.3s\n",
      "[CV] nrounds=1.0, min_child_weight=14.813995396596646, lambda=1024.0, eta=0.46293735614364534, colsample_bytree=0.6666666666666666, colsample_bylevel=0.2222222222222222, alpha=0.004556754060844206 \n",
      "[23:40:41] WARNING: ../src/learner.cc:541: \n",
      "Parameters: { nrounds } might not be used.\n",
      "\n",
      "  This may not be accurate due to some parameters are only used in language bindings but\n",
      "  passed down to XGBoost core.  Or some parameters are not used but slip through this\n",
      "  verification. Please open an issue if you find above cases.\n",
      "\n",
      "\n",
      "[23:40:41] WARNING: ../src/learner.cc:1061: Starting in XGBoost 1.3.0, the default evaluation metric used with the objective 'binary:logistic' was changed from 'error' to 'logloss'. Explicitly set eval_metric if you'd like to restore the old behavior.\n"
     ]
    },
    {
     "name": "stderr",
     "output_type": "stream",
     "text": [
      "/home/piotr/miniconda3/lib/python3.8/site-packages/xgboost/sklearn.py:888: UserWarning: The use of label encoder in XGBClassifier is deprecated and will be removed in a future release. To remove this warning, do the following: 1) Pass option use_label_encoder=False when constructing XGBClassifier object; and 2) Encode your labels (y) as integers starting with 0, i.e. 0, 1, 2, ..., [num_class - 1].\n",
      "  warnings.warn(label_encoder_deprecation_msg, UserWarning)\n"
     ]
    },
    {
     "name": "stdout",
     "output_type": "stream",
     "text": [
      "[CV]  nrounds=1.0, min_child_weight=14.813995396596646, lambda=1024.0, eta=0.46293735614364534, colsample_bytree=0.6666666666666666, colsample_bylevel=0.2222222222222222, alpha=0.004556754060844206, accuracy=0.905, f1=0.481, roc_auc=0.908, total=   4.1s\n",
      "[CV] nrounds=1.0, min_child_weight=14.813995396596646, lambda=1024.0, eta=0.46293735614364534, colsample_bytree=0.6666666666666666, colsample_bylevel=0.2222222222222222, alpha=0.004556754060844206 \n",
      "[23:40:45] WARNING: ../src/learner.cc:541: \n",
      "Parameters: { nrounds } might not be used.\n",
      "\n",
      "  This may not be accurate due to some parameters are only used in language bindings but\n",
      "  passed down to XGBoost core.  Or some parameters are not used but slip through this\n",
      "  verification. Please open an issue if you find above cases.\n",
      "\n",
      "\n",
      "[23:40:45] WARNING: ../src/learner.cc:1061: Starting in XGBoost 1.3.0, the default evaluation metric used with the objective 'binary:logistic' was changed from 'error' to 'logloss'. Explicitly set eval_metric if you'd like to restore the old behavior.\n"
     ]
    },
    {
     "name": "stderr",
     "output_type": "stream",
     "text": [
      "/home/piotr/miniconda3/lib/python3.8/site-packages/xgboost/sklearn.py:888: UserWarning: The use of label encoder in XGBClassifier is deprecated and will be removed in a future release. To remove this warning, do the following: 1) Pass option use_label_encoder=False when constructing XGBClassifier object; and 2) Encode your labels (y) as integers starting with 0, i.e. 0, 1, 2, ..., [num_class - 1].\n",
      "  warnings.warn(label_encoder_deprecation_msg, UserWarning)\n"
     ]
    },
    {
     "name": "stdout",
     "output_type": "stream",
     "text": [
      "[CV]  nrounds=1.0, min_child_weight=14.813995396596646, lambda=1024.0, eta=0.46293735614364534, colsample_bytree=0.6666666666666666, colsample_bylevel=0.2222222222222222, alpha=0.004556754060844206, accuracy=0.902, f1=0.467, roc_auc=0.910, total=   4.1s\n",
      "[CV] nrounds=1.0, min_child_weight=14.813995396596646, lambda=1024.0, eta=0.46293735614364534, colsample_bytree=0.6666666666666666, colsample_bylevel=0.2222222222222222, alpha=0.004556754060844206 \n",
      "[23:40:49] WARNING: ../src/learner.cc:541: \n",
      "Parameters: { nrounds } might not be used.\n",
      "\n",
      "  This may not be accurate due to some parameters are only used in language bindings but\n",
      "  passed down to XGBoost core.  Or some parameters are not used but slip through this\n",
      "  verification. Please open an issue if you find above cases.\n",
      "\n",
      "\n",
      "[23:40:49] WARNING: ../src/learner.cc:1061: Starting in XGBoost 1.3.0, the default evaluation metric used with the objective 'binary:logistic' was changed from 'error' to 'logloss'. Explicitly set eval_metric if you'd like to restore the old behavior.\n"
     ]
    },
    {
     "name": "stderr",
     "output_type": "stream",
     "text": [
      "/home/piotr/miniconda3/lib/python3.8/site-packages/xgboost/sklearn.py:888: UserWarning: The use of label encoder in XGBClassifier is deprecated and will be removed in a future release. To remove this warning, do the following: 1) Pass option use_label_encoder=False when constructing XGBClassifier object; and 2) Encode your labels (y) as integers starting with 0, i.e. 0, 1, 2, ..., [num_class - 1].\n",
      "  warnings.warn(label_encoder_deprecation_msg, UserWarning)\n"
     ]
    },
    {
     "name": "stdout",
     "output_type": "stream",
     "text": [
      "[CV]  nrounds=1.0, min_child_weight=14.813995396596646, lambda=1024.0, eta=0.46293735614364534, colsample_bytree=0.6666666666666666, colsample_bylevel=0.2222222222222222, alpha=0.004556754060844206, accuracy=0.905, f1=0.485, roc_auc=0.920, total=   4.1s\n",
      "[CV] nrounds=1.0, min_child_weight=14.813995396596646, lambda=1024.0, eta=0.46293735614364534, colsample_bytree=0.6666666666666666, colsample_bylevel=0.2222222222222222, alpha=0.004556754060844206 \n",
      "[23:40:53] WARNING: ../src/learner.cc:541: \n",
      "Parameters: { nrounds } might not be used.\n",
      "\n",
      "  This may not be accurate due to some parameters are only used in language bindings but\n",
      "  passed down to XGBoost core.  Or some parameters are not used but slip through this\n",
      "  verification. Please open an issue if you find above cases.\n",
      "\n",
      "\n",
      "[23:40:53] WARNING: ../src/learner.cc:1061: Starting in XGBoost 1.3.0, the default evaluation metric used with the objective 'binary:logistic' was changed from 'error' to 'logloss'. Explicitly set eval_metric if you'd like to restore the old behavior.\n"
     ]
    },
    {
     "name": "stderr",
     "output_type": "stream",
     "text": [
      "/home/piotr/miniconda3/lib/python3.8/site-packages/xgboost/sklearn.py:888: UserWarning: The use of label encoder in XGBClassifier is deprecated and will be removed in a future release. To remove this warning, do the following: 1) Pass option use_label_encoder=False when constructing XGBClassifier object; and 2) Encode your labels (y) as integers starting with 0, i.e. 0, 1, 2, ..., [num_class - 1].\n",
      "  warnings.warn(label_encoder_deprecation_msg, UserWarning)\n"
     ]
    },
    {
     "name": "stdout",
     "output_type": "stream",
     "text": [
      "[CV]  nrounds=1.0, min_child_weight=14.813995396596646, lambda=1024.0, eta=0.46293735614364534, colsample_bytree=0.6666666666666666, colsample_bylevel=0.2222222222222222, alpha=0.004556754060844206, accuracy=0.904, f1=0.476, roc_auc=0.918, total=   4.6s\n",
      "[CV] nrounds=1.0, min_child_weight=14.813995396596646, lambda=1024.0, eta=0.46293735614364534, colsample_bytree=0.6666666666666666, colsample_bylevel=0.2222222222222222, alpha=0.004556754060844206 \n",
      "[23:40:58] WARNING: ../src/learner.cc:541: \n",
      "Parameters: { nrounds } might not be used.\n",
      "\n",
      "  This may not be accurate due to some parameters are only used in language bindings but\n",
      "  passed down to XGBoost core.  Or some parameters are not used but slip through this\n",
      "  verification. Please open an issue if you find above cases.\n",
      "\n",
      "\n",
      "[23:40:58] WARNING: ../src/learner.cc:1061: Starting in XGBoost 1.3.0, the default evaluation metric used with the objective 'binary:logistic' was changed from 'error' to 'logloss'. Explicitly set eval_metric if you'd like to restore the old behavior.\n"
     ]
    },
    {
     "name": "stderr",
     "output_type": "stream",
     "text": [
      "/home/piotr/miniconda3/lib/python3.8/site-packages/xgboost/sklearn.py:888: UserWarning: The use of label encoder in XGBClassifier is deprecated and will be removed in a future release. To remove this warning, do the following: 1) Pass option use_label_encoder=False when constructing XGBClassifier object; and 2) Encode your labels (y) as integers starting with 0, i.e. 0, 1, 2, ..., [num_class - 1].\n",
      "  warnings.warn(label_encoder_deprecation_msg, UserWarning)\n"
     ]
    },
    {
     "name": "stdout",
     "output_type": "stream",
     "text": [
      "[CV]  nrounds=1.0, min_child_weight=14.813995396596646, lambda=1024.0, eta=0.46293735614364534, colsample_bytree=0.6666666666666666, colsample_bylevel=0.2222222222222222, alpha=0.004556754060844206, accuracy=0.905, f1=0.486, roc_auc=0.912, total=   4.2s\n",
      "[CV] nrounds=556.0, min_child_weight=8.640477911138449, lambda=0.0009765625, eta=1.0, colsample_bytree=1.0, colsample_bylevel=0.2222222222222222, alpha=0.09921256574801249 \n",
      "[23:41:02] WARNING: ../src/learner.cc:541: \n",
      "Parameters: { nrounds } might not be used.\n",
      "\n",
      "  This may not be accurate due to some parameters are only used in language bindings but\n",
      "  passed down to XGBoost core.  Or some parameters are not used but slip through this\n",
      "  verification. Please open an issue if you find above cases.\n",
      "\n",
      "\n"
     ]
    },
    {
     "name": "stderr",
     "output_type": "stream",
     "text": [
      "/home/piotr/miniconda3/lib/python3.8/site-packages/xgboost/sklearn.py:888: UserWarning: The use of label encoder in XGBClassifier is deprecated and will be removed in a future release. To remove this warning, do the following: 1) Pass option use_label_encoder=False when constructing XGBClassifier object; and 2) Encode your labels (y) as integers starting with 0, i.e. 0, 1, 2, ..., [num_class - 1].\n",
      "  warnings.warn(label_encoder_deprecation_msg, UserWarning)\n"
     ]
    },
    {
     "name": "stdout",
     "output_type": "stream",
     "text": [
      "[23:41:02] WARNING: ../src/learner.cc:1061: Starting in XGBoost 1.3.0, the default evaluation metric used with the objective 'binary:logistic' was changed from 'error' to 'logloss'. Explicitly set eval_metric if you'd like to restore the old behavior.\n",
      "[CV]  nrounds=556.0, min_child_weight=8.640477911138449, lambda=0.0009765625, eta=1.0, colsample_bytree=1.0, colsample_bylevel=0.2222222222222222, alpha=0.09921256574801249, accuracy=0.899, f1=0.527, roc_auc=0.890, total=   5.1s\n",
      "[CV] nrounds=556.0, min_child_weight=8.640477911138449, lambda=0.0009765625, eta=1.0, colsample_bytree=1.0, colsample_bylevel=0.2222222222222222, alpha=0.09921256574801249 \n",
      "[23:41:07] WARNING: ../src/learner.cc:541: \n",
      "Parameters: { nrounds } might not be used.\n",
      "\n",
      "  This may not be accurate due to some parameters are only used in language bindings but\n",
      "  passed down to XGBoost core.  Or some parameters are not used but slip through this\n",
      "  verification. Please open an issue if you find above cases.\n",
      "\n",
      "\n"
     ]
    },
    {
     "name": "stderr",
     "output_type": "stream",
     "text": [
      "/home/piotr/miniconda3/lib/python3.8/site-packages/xgboost/sklearn.py:888: UserWarning: The use of label encoder in XGBClassifier is deprecated and will be removed in a future release. To remove this warning, do the following: 1) Pass option use_label_encoder=False when constructing XGBClassifier object; and 2) Encode your labels (y) as integers starting with 0, i.e. 0, 1, 2, ..., [num_class - 1].\n",
      "  warnings.warn(label_encoder_deprecation_msg, UserWarning)\n"
     ]
    },
    {
     "name": "stdout",
     "output_type": "stream",
     "text": [
      "[23:41:07] WARNING: ../src/learner.cc:1061: Starting in XGBoost 1.3.0, the default evaluation metric used with the objective 'binary:logistic' was changed from 'error' to 'logloss'. Explicitly set eval_metric if you'd like to restore the old behavior.\n",
      "[CV]  nrounds=556.0, min_child_weight=8.640477911138449, lambda=0.0009765625, eta=1.0, colsample_bytree=1.0, colsample_bylevel=0.2222222222222222, alpha=0.09921256574801249, accuracy=0.892, f1=0.499, roc_auc=0.888, total=   5.0s\n",
      "[CV] nrounds=556.0, min_child_weight=8.640477911138449, lambda=0.0009765625, eta=1.0, colsample_bytree=1.0, colsample_bylevel=0.2222222222222222, alpha=0.09921256574801249 \n",
      "[23:41:12] WARNING: ../src/learner.cc:541: \n",
      "Parameters: { nrounds } might not be used.\n",
      "\n",
      "  This may not be accurate due to some parameters are only used in language bindings but\n",
      "  passed down to XGBoost core.  Or some parameters are not used but slip through this\n",
      "  verification. Please open an issue if you find above cases.\n",
      "\n",
      "\n"
     ]
    },
    {
     "name": "stderr",
     "output_type": "stream",
     "text": [
      "/home/piotr/miniconda3/lib/python3.8/site-packages/xgboost/sklearn.py:888: UserWarning: The use of label encoder in XGBClassifier is deprecated and will be removed in a future release. To remove this warning, do the following: 1) Pass option use_label_encoder=False when constructing XGBClassifier object; and 2) Encode your labels (y) as integers starting with 0, i.e. 0, 1, 2, ..., [num_class - 1].\n",
      "  warnings.warn(label_encoder_deprecation_msg, UserWarning)\n"
     ]
    },
    {
     "name": "stdout",
     "output_type": "stream",
     "text": [
      "[23:41:12] WARNING: ../src/learner.cc:1061: Starting in XGBoost 1.3.0, the default evaluation metric used with the objective 'binary:logistic' was changed from 'error' to 'logloss'. Explicitly set eval_metric if you'd like to restore the old behavior.\n",
      "[CV]  nrounds=556.0, min_child_weight=8.640477911138449, lambda=0.0009765625, eta=1.0, colsample_bytree=1.0, colsample_bylevel=0.2222222222222222, alpha=0.09921256574801249, accuracy=0.906, f1=0.541, roc_auc=0.897, total=   5.1s\n",
      "[CV] nrounds=556.0, min_child_weight=8.640477911138449, lambda=0.0009765625, eta=1.0, colsample_bytree=1.0, colsample_bylevel=0.2222222222222222, alpha=0.09921256574801249 \n",
      "[23:41:17] WARNING: ../src/learner.cc:541: \n",
      "Parameters: { nrounds } might not be used.\n",
      "\n",
      "  This may not be accurate due to some parameters are only used in language bindings but\n",
      "  passed down to XGBoost core.  Or some parameters are not used but slip through this\n",
      "  verification. Please open an issue if you find above cases.\n",
      "\n",
      "\n"
     ]
    },
    {
     "name": "stderr",
     "output_type": "stream",
     "text": [
      "/home/piotr/miniconda3/lib/python3.8/site-packages/xgboost/sklearn.py:888: UserWarning: The use of label encoder in XGBClassifier is deprecated and will be removed in a future release. To remove this warning, do the following: 1) Pass option use_label_encoder=False when constructing XGBClassifier object; and 2) Encode your labels (y) as integers starting with 0, i.e. 0, 1, 2, ..., [num_class - 1].\n",
      "  warnings.warn(label_encoder_deprecation_msg, UserWarning)\n"
     ]
    },
    {
     "name": "stdout",
     "output_type": "stream",
     "text": [
      "[23:41:17] WARNING: ../src/learner.cc:1061: Starting in XGBoost 1.3.0, the default evaluation metric used with the objective 'binary:logistic' was changed from 'error' to 'logloss'. Explicitly set eval_metric if you'd like to restore the old behavior.\n",
      "[CV]  nrounds=556.0, min_child_weight=8.640477911138449, lambda=0.0009765625, eta=1.0, colsample_bytree=1.0, colsample_bylevel=0.2222222222222222, alpha=0.09921256574801249, accuracy=0.897, f1=0.508, roc_auc=0.891, total=   5.0s\n",
      "[CV] nrounds=556.0, min_child_weight=8.640477911138449, lambda=0.0009765625, eta=1.0, colsample_bytree=1.0, colsample_bylevel=0.2222222222222222, alpha=0.09921256574801249 \n",
      "[23:41:22] WARNING: ../src/learner.cc:541: \n",
      "Parameters: { nrounds } might not be used.\n",
      "\n",
      "  This may not be accurate due to some parameters are only used in language bindings but\n",
      "  passed down to XGBoost core.  Or some parameters are not used but slip through this\n",
      "  verification. Please open an issue if you find above cases.\n",
      "\n",
      "\n"
     ]
    },
    {
     "name": "stderr",
     "output_type": "stream",
     "text": [
      "/home/piotr/miniconda3/lib/python3.8/site-packages/xgboost/sklearn.py:888: UserWarning: The use of label encoder in XGBClassifier is deprecated and will be removed in a future release. To remove this warning, do the following: 1) Pass option use_label_encoder=False when constructing XGBClassifier object; and 2) Encode your labels (y) as integers starting with 0, i.e. 0, 1, 2, ..., [num_class - 1].\n",
      "  warnings.warn(label_encoder_deprecation_msg, UserWarning)\n"
     ]
    },
    {
     "name": "stdout",
     "output_type": "stream",
     "text": [
      "[23:41:22] WARNING: ../src/learner.cc:1061: Starting in XGBoost 1.3.0, the default evaluation metric used with the objective 'binary:logistic' was changed from 'error' to 'logloss'. Explicitly set eval_metric if you'd like to restore the old behavior.\n",
      "[CV]  nrounds=556.0, min_child_weight=8.640477911138449, lambda=0.0009765625, eta=1.0, colsample_bytree=1.0, colsample_bylevel=0.2222222222222222, alpha=0.09921256574801249, accuracy=0.893, f1=0.497, roc_auc=0.883, total=   5.0s\n",
      "[CV] nrounds=1111.0, min_child_weight=1.7144879657061456, lambda=2.1601194777846118, eta=0.46293735614364534, colsample_bytree=0.0, colsample_bylevel=0.3333333333333333, alpha=2.1601194777846118 \n",
      "[23:41:27] WARNING: ../src/learner.cc:541: \n",
      "Parameters: { nrounds } might not be used.\n",
      "\n",
      "  This may not be accurate due to some parameters are only used in language bindings but\n",
      "  passed down to XGBoost core.  Or some parameters are not used but slip through this\n",
      "  verification. Please open an issue if you find above cases.\n",
      "\n",
      "\n",
      "[23:41:27] WARNING: ../src/learner.cc:1061: Starting in XGBoost 1.3.0, the default evaluation metric used with the objective 'binary:logistic' was changed from 'error' to 'logloss'. Explicitly set eval_metric if you'd like to restore the old behavior.\n"
     ]
    },
    {
     "name": "stderr",
     "output_type": "stream",
     "text": [
      "/home/piotr/miniconda3/lib/python3.8/site-packages/xgboost/sklearn.py:888: UserWarning: The use of label encoder in XGBClassifier is deprecated and will be removed in a future release. To remove this warning, do the following: 1) Pass option use_label_encoder=False when constructing XGBClassifier object; and 2) Encode your labels (y) as integers starting with 0, i.e. 0, 1, 2, ..., [num_class - 1].\n",
      "  warnings.warn(label_encoder_deprecation_msg, UserWarning)\n"
     ]
    },
    {
     "name": "stdout",
     "output_type": "stream",
     "text": [
      "[CV]  nrounds=1111.0, min_child_weight=1.7144879657061456, lambda=2.1601194777846118, eta=0.46293735614364534, colsample_bytree=0.0, colsample_bylevel=0.3333333333333333, alpha=2.1601194777846118, accuracy=0.887, f1=0.307, roc_auc=0.845, total=   1.1s\n",
      "[CV] nrounds=1111.0, min_child_weight=1.7144879657061456, lambda=2.1601194777846118, eta=0.46293735614364534, colsample_bytree=0.0, colsample_bylevel=0.3333333333333333, alpha=2.1601194777846118 \n",
      "[23:41:28] WARNING: ../src/learner.cc:541: \n",
      "Parameters: { nrounds } might not be used.\n",
      "\n",
      "  This may not be accurate due to some parameters are only used in language bindings but\n",
      "  passed down to XGBoost core.  Or some parameters are not used but slip through this\n",
      "  verification. Please open an issue if you find above cases.\n",
      "\n",
      "\n",
      "[23:41:28] WARNING: ../src/learner.cc:1061: Starting in XGBoost 1.3.0, the default evaluation metric used with the objective 'binary:logistic' was changed from 'error' to 'logloss'. Explicitly set eval_metric if you'd like to restore the old behavior.\n"
     ]
    },
    {
     "name": "stderr",
     "output_type": "stream",
     "text": [
      "/home/piotr/miniconda3/lib/python3.8/site-packages/xgboost/sklearn.py:888: UserWarning: The use of label encoder in XGBClassifier is deprecated and will be removed in a future release. To remove this warning, do the following: 1) Pass option use_label_encoder=False when constructing XGBClassifier object; and 2) Encode your labels (y) as integers starting with 0, i.e. 0, 1, 2, ..., [num_class - 1].\n",
      "  warnings.warn(label_encoder_deprecation_msg, UserWarning)\n"
     ]
    },
    {
     "name": "stdout",
     "output_type": "stream",
     "text": [
      "[CV]  nrounds=1111.0, min_child_weight=1.7144879657061456, lambda=2.1601194777846118, eta=0.46293735614364534, colsample_bytree=0.0, colsample_bylevel=0.3333333333333333, alpha=2.1601194777846118, accuracy=0.884, f1=0.324, roc_auc=0.844, total=   1.1s\n",
      "[CV] nrounds=1111.0, min_child_weight=1.7144879657061456, lambda=2.1601194777846118, eta=0.46293735614364534, colsample_bytree=0.0, colsample_bylevel=0.3333333333333333, alpha=2.1601194777846118 \n",
      "[23:41:29] WARNING: ../src/learner.cc:541: \n",
      "Parameters: { nrounds } might not be used.\n",
      "\n",
      "  This may not be accurate due to some parameters are only used in language bindings but\n",
      "  passed down to XGBoost core.  Or some parameters are not used but slip through this\n",
      "  verification. Please open an issue if you find above cases.\n",
      "\n",
      "\n",
      "[23:41:30] WARNING: ../src/learner.cc:1061: Starting in XGBoost 1.3.0, the default evaluation metric used with the objective 'binary:logistic' was changed from 'error' to 'logloss'. Explicitly set eval_metric if you'd like to restore the old behavior.\n"
     ]
    },
    {
     "name": "stderr",
     "output_type": "stream",
     "text": [
      "/home/piotr/miniconda3/lib/python3.8/site-packages/xgboost/sklearn.py:888: UserWarning: The use of label encoder in XGBClassifier is deprecated and will be removed in a future release. To remove this warning, do the following: 1) Pass option use_label_encoder=False when constructing XGBClassifier object; and 2) Encode your labels (y) as integers starting with 0, i.e. 0, 1, 2, ..., [num_class - 1].\n",
      "  warnings.warn(label_encoder_deprecation_msg, UserWarning)\n"
     ]
    },
    {
     "name": "stdout",
     "output_type": "stream",
     "text": [
      "[CV]  nrounds=1111.0, min_child_weight=1.7144879657061456, lambda=2.1601194777846118, eta=0.46293735614364534, colsample_bytree=0.0, colsample_bylevel=0.3333333333333333, alpha=2.1601194777846118, accuracy=0.885, f1=0.289, roc_auc=0.841, total=   1.1s\n",
      "[CV] nrounds=1111.0, min_child_weight=1.7144879657061456, lambda=2.1601194777846118, eta=0.46293735614364534, colsample_bytree=0.0, colsample_bylevel=0.3333333333333333, alpha=2.1601194777846118 \n",
      "[23:41:31] WARNING: ../src/learner.cc:541: \n",
      "Parameters: { nrounds } might not be used.\n",
      "\n",
      "  This may not be accurate due to some parameters are only used in language bindings but\n",
      "  passed down to XGBoost core.  Or some parameters are not used but slip through this\n",
      "  verification. Please open an issue if you find above cases.\n",
      "\n",
      "\n",
      "[23:41:31] WARNING: ../src/learner.cc:1061: Starting in XGBoost 1.3.0, the default evaluation metric used with the objective 'binary:logistic' was changed from 'error' to 'logloss'. Explicitly set eval_metric if you'd like to restore the old behavior.\n"
     ]
    },
    {
     "name": "stderr",
     "output_type": "stream",
     "text": [
      "/home/piotr/miniconda3/lib/python3.8/site-packages/xgboost/sklearn.py:888: UserWarning: The use of label encoder in XGBClassifier is deprecated and will be removed in a future release. To remove this warning, do the following: 1) Pass option use_label_encoder=False when constructing XGBClassifier object; and 2) Encode your labels (y) as integers starting with 0, i.e. 0, 1, 2, ..., [num_class - 1].\n",
      "  warnings.warn(label_encoder_deprecation_msg, UserWarning)\n"
     ]
    },
    {
     "name": "stdout",
     "output_type": "stream",
     "text": [
      "[CV]  nrounds=1111.0, min_child_weight=1.7144879657061456, lambda=2.1601194777846118, eta=0.46293735614364534, colsample_bytree=0.0, colsample_bylevel=0.3333333333333333, alpha=2.1601194777846118, accuracy=0.895, f1=0.360, roc_auc=0.869, total=   1.1s\n",
      "[CV] nrounds=1111.0, min_child_weight=1.7144879657061456, lambda=2.1601194777846118, eta=0.46293735614364534, colsample_bytree=0.0, colsample_bylevel=0.3333333333333333, alpha=2.1601194777846118 \n",
      "[23:41:32] WARNING: ../src/learner.cc:541: \n",
      "Parameters: { nrounds } might not be used.\n",
      "\n",
      "  This may not be accurate due to some parameters are only used in language bindings but\n",
      "  passed down to XGBoost core.  Or some parameters are not used but slip through this\n",
      "  verification. Please open an issue if you find above cases.\n",
      "\n",
      "\n",
      "[23:41:32] WARNING: ../src/learner.cc:1061: Starting in XGBoost 1.3.0, the default evaluation metric used with the objective 'binary:logistic' was changed from 'error' to 'logloss'. Explicitly set eval_metric if you'd like to restore the old behavior.\n"
     ]
    },
    {
     "name": "stderr",
     "output_type": "stream",
     "text": [
      "/home/piotr/miniconda3/lib/python3.8/site-packages/xgboost/sklearn.py:888: UserWarning: The use of label encoder in XGBClassifier is deprecated and will be removed in a future release. To remove this warning, do the following: 1) Pass option use_label_encoder=False when constructing XGBClassifier object; and 2) Encode your labels (y) as integers starting with 0, i.e. 0, 1, 2, ..., [num_class - 1].\n",
      "  warnings.warn(label_encoder_deprecation_msg, UserWarning)\n"
     ]
    },
    {
     "name": "stdout",
     "output_type": "stream",
     "text": [
      "[CV]  nrounds=1111.0, min_child_weight=1.7144879657061456, lambda=2.1601194777846118, eta=0.46293735614364534, colsample_bytree=0.0, colsample_bylevel=0.3333333333333333, alpha=2.1601194777846118, accuracy=0.886, f1=0.327, roc_auc=0.847, total=   1.1s\n",
      "[CV] nrounds=556.0, min_child_weight=74.65785853287147, lambda=0.0009765625, eta=0.0009765625, colsample_bytree=0.4444444444444444, colsample_bylevel=0.7777777777777777, alpha=10.079368399158989 \n",
      "[23:41:33] WARNING: ../src/learner.cc:541: \n",
      "Parameters: { nrounds } might not be used.\n",
      "\n",
      "  This may not be accurate due to some parameters are only used in language bindings but\n",
      "  passed down to XGBoost core.  Or some parameters are not used but slip through this\n",
      "  verification. Please open an issue if you find above cases.\n",
      "\n",
      "\n"
     ]
    },
    {
     "name": "stderr",
     "output_type": "stream",
     "text": [
      "/home/piotr/miniconda3/lib/python3.8/site-packages/xgboost/sklearn.py:888: UserWarning: The use of label encoder in XGBClassifier is deprecated and will be removed in a future release. To remove this warning, do the following: 1) Pass option use_label_encoder=False when constructing XGBClassifier object; and 2) Encode your labels (y) as integers starting with 0, i.e. 0, 1, 2, ..., [num_class - 1].\n",
      "  warnings.warn(label_encoder_deprecation_msg, UserWarning)\n"
     ]
    },
    {
     "name": "stdout",
     "output_type": "stream",
     "text": [
      "[23:41:33] WARNING: ../src/learner.cc:1061: Starting in XGBoost 1.3.0, the default evaluation metric used with the objective 'binary:logistic' was changed from 'error' to 'logloss'. Explicitly set eval_metric if you'd like to restore the old behavior.\n",
      "[CV]  nrounds=556.0, min_child_weight=74.65785853287147, lambda=0.0009765625, eta=0.0009765625, colsample_bytree=0.4444444444444444, colsample_bylevel=0.7777777777777777, alpha=10.079368399158989, accuracy=0.886, f1=0.131, roc_auc=0.853, total=   6.0s\n",
      "[CV] nrounds=556.0, min_child_weight=74.65785853287147, lambda=0.0009765625, eta=0.0009765625, colsample_bytree=0.4444444444444444, colsample_bylevel=0.7777777777777777, alpha=10.079368399158989 \n",
      "[23:41:39] WARNING: ../src/learner.cc:541: \n",
      "Parameters: { nrounds } might not be used.\n",
      "\n",
      "  This may not be accurate due to some parameters are only used in language bindings but\n",
      "  passed down to XGBoost core.  Or some parameters are not used but slip through this\n",
      "  verification. Please open an issue if you find above cases.\n",
      "\n",
      "\n"
     ]
    },
    {
     "name": "stderr",
     "output_type": "stream",
     "text": [
      "/home/piotr/miniconda3/lib/python3.8/site-packages/xgboost/sklearn.py:888: UserWarning: The use of label encoder in XGBClassifier is deprecated and will be removed in a future release. To remove this warning, do the following: 1) Pass option use_label_encoder=False when constructing XGBClassifier object; and 2) Encode your labels (y) as integers starting with 0, i.e. 0, 1, 2, ..., [num_class - 1].\n",
      "  warnings.warn(label_encoder_deprecation_msg, UserWarning)\n"
     ]
    },
    {
     "name": "stdout",
     "output_type": "stream",
     "text": [
      "[23:41:39] WARNING: ../src/learner.cc:1061: Starting in XGBoost 1.3.0, the default evaluation metric used with the objective 'binary:logistic' was changed from 'error' to 'logloss'. Explicitly set eval_metric if you'd like to restore the old behavior.\n",
      "[CV]  nrounds=556.0, min_child_weight=74.65785853287147, lambda=0.0009765625, eta=0.0009765625, colsample_bytree=0.4444444444444444, colsample_bylevel=0.7777777777777777, alpha=10.079368399158989, accuracy=0.888, f1=0.148, roc_auc=0.850, total=   6.1s\n",
      "[CV] nrounds=556.0, min_child_weight=74.65785853287147, lambda=0.0009765625, eta=0.0009765625, colsample_bytree=0.4444444444444444, colsample_bylevel=0.7777777777777777, alpha=10.079368399158989 \n",
      "[23:41:45] WARNING: ../src/learner.cc:541: \n",
      "Parameters: { nrounds } might not be used.\n",
      "\n",
      "  This may not be accurate due to some parameters are only used in language bindings but\n",
      "  passed down to XGBoost core.  Or some parameters are not used but slip through this\n",
      "  verification. Please open an issue if you find above cases.\n",
      "\n",
      "\n"
     ]
    },
    {
     "name": "stderr",
     "output_type": "stream",
     "text": [
      "/home/piotr/miniconda3/lib/python3.8/site-packages/xgboost/sklearn.py:888: UserWarning: The use of label encoder in XGBClassifier is deprecated and will be removed in a future release. To remove this warning, do the following: 1) Pass option use_label_encoder=False when constructing XGBClassifier object; and 2) Encode your labels (y) as integers starting with 0, i.e. 0, 1, 2, ..., [num_class - 1].\n",
      "  warnings.warn(label_encoder_deprecation_msg, UserWarning)\n"
     ]
    },
    {
     "name": "stdout",
     "output_type": "stream",
     "text": [
      "[23:41:45] WARNING: ../src/learner.cc:1061: Starting in XGBoost 1.3.0, the default evaluation metric used with the objective 'binary:logistic' was changed from 'error' to 'logloss'. Explicitly set eval_metric if you'd like to restore the old behavior.\n",
      "[CV]  nrounds=556.0, min_child_weight=74.65785853287147, lambda=0.0009765625, eta=0.0009765625, colsample_bytree=0.4444444444444444, colsample_bylevel=0.7777777777777777, alpha=10.079368399158989, accuracy=0.884, f1=0.111, roc_auc=0.861, total=   6.0s\n",
      "[CV] nrounds=556.0, min_child_weight=74.65785853287147, lambda=0.0009765625, eta=0.0009765625, colsample_bytree=0.4444444444444444, colsample_bylevel=0.7777777777777777, alpha=10.079368399158989 \n",
      "[23:41:51] WARNING: ../src/learner.cc:541: \n",
      "Parameters: { nrounds } might not be used.\n",
      "\n",
      "  This may not be accurate due to some parameters are only used in language bindings but\n",
      "  passed down to XGBoost core.  Or some parameters are not used but slip through this\n",
      "  verification. Please open an issue if you find above cases.\n",
      "\n",
      "\n"
     ]
    },
    {
     "name": "stderr",
     "output_type": "stream",
     "text": [
      "/home/piotr/miniconda3/lib/python3.8/site-packages/xgboost/sklearn.py:888: UserWarning: The use of label encoder in XGBClassifier is deprecated and will be removed in a future release. To remove this warning, do the following: 1) Pass option use_label_encoder=False when constructing XGBClassifier object; and 2) Encode your labels (y) as integers starting with 0, i.e. 0, 1, 2, ..., [num_class - 1].\n",
      "  warnings.warn(label_encoder_deprecation_msg, UserWarning)\n"
     ]
    },
    {
     "name": "stdout",
     "output_type": "stream",
     "text": [
      "[23:41:51] WARNING: ../src/learner.cc:1061: Starting in XGBoost 1.3.0, the default evaluation metric used with the objective 'binary:logistic' was changed from 'error' to 'logloss'. Explicitly set eval_metric if you'd like to restore the old behavior.\n",
      "[CV]  nrounds=556.0, min_child_weight=74.65785853287147, lambda=0.0009765625, eta=0.0009765625, colsample_bytree=0.4444444444444444, colsample_bylevel=0.7777777777777777, alpha=10.079368399158989, accuracy=0.883, f1=0.122, roc_auc=0.864, total=   6.1s\n",
      "[CV] nrounds=556.0, min_child_weight=74.65785853287147, lambda=0.0009765625, eta=0.0009765625, colsample_bytree=0.4444444444444444, colsample_bylevel=0.7777777777777777, alpha=10.079368399158989 \n",
      "[23:41:57] WARNING: ../src/learner.cc:541: \n",
      "Parameters: { nrounds } might not be used.\n",
      "\n",
      "  This may not be accurate due to some parameters are only used in language bindings but\n",
      "  passed down to XGBoost core.  Or some parameters are not used but slip through this\n",
      "  verification. Please open an issue if you find above cases.\n",
      "\n",
      "\n"
     ]
    },
    {
     "name": "stderr",
     "output_type": "stream",
     "text": [
      "/home/piotr/miniconda3/lib/python3.8/site-packages/xgboost/sklearn.py:888: UserWarning: The use of label encoder in XGBClassifier is deprecated and will be removed in a future release. To remove this warning, do the following: 1) Pass option use_label_encoder=False when constructing XGBClassifier object; and 2) Encode your labels (y) as integers starting with 0, i.e. 0, 1, 2, ..., [num_class - 1].\n",
      "  warnings.warn(label_encoder_deprecation_msg, UserWarning)\n"
     ]
    },
    {
     "name": "stdout",
     "output_type": "stream",
     "text": [
      "[23:41:57] WARNING: ../src/learner.cc:1061: Starting in XGBoost 1.3.0, the default evaluation metric used with the objective 'binary:logistic' was changed from 'error' to 'logloss'. Explicitly set eval_metric if you'd like to restore the old behavior.\n",
      "[CV]  nrounds=556.0, min_child_weight=74.65785853287147, lambda=0.0009765625, eta=0.0009765625, colsample_bytree=0.4444444444444444, colsample_bylevel=0.7777777777777777, alpha=10.079368399158989, accuracy=0.885, f1=0.139, roc_auc=0.868, total=   6.0s\n",
      "[CV] nrounds=3333.0, min_child_weight=8.640477911138449, lambda=0.021262343752724643, eta=1.0, colsample_bytree=0.8888888888888888, colsample_bylevel=1.0, alpha=0.004556754060844206 \n",
      "[23:42:03] WARNING: ../src/learner.cc:541: \n",
      "Parameters: { nrounds } might not be used.\n",
      "\n",
      "  This may not be accurate due to some parameters are only used in language bindings but\n",
      "  passed down to XGBoost core.  Or some parameters are not used but slip through this\n",
      "  verification. Please open an issue if you find above cases.\n",
      "\n",
      "\n"
     ]
    },
    {
     "name": "stderr",
     "output_type": "stream",
     "text": [
      "/home/piotr/miniconda3/lib/python3.8/site-packages/xgboost/sklearn.py:888: UserWarning: The use of label encoder in XGBClassifier is deprecated and will be removed in a future release. To remove this warning, do the following: 1) Pass option use_label_encoder=False when constructing XGBClassifier object; and 2) Encode your labels (y) as integers starting with 0, i.e. 0, 1, 2, ..., [num_class - 1].\n",
      "  warnings.warn(label_encoder_deprecation_msg, UserWarning)\n"
     ]
    },
    {
     "name": "stdout",
     "output_type": "stream",
     "text": [
      "[23:42:03] WARNING: ../src/learner.cc:1061: Starting in XGBoost 1.3.0, the default evaluation metric used with the objective 'binary:logistic' was changed from 'error' to 'logloss'. Explicitly set eval_metric if you'd like to restore the old behavior.\n",
      "[CV]  nrounds=3333.0, min_child_weight=8.640477911138449, lambda=0.021262343752724643, eta=1.0, colsample_bytree=0.8888888888888888, colsample_bylevel=1.0, alpha=0.004556754060844206, accuracy=0.899, f1=0.529, roc_auc=0.882, total=  16.1s\n",
      "[CV] nrounds=3333.0, min_child_weight=8.640477911138449, lambda=0.021262343752724643, eta=1.0, colsample_bytree=0.8888888888888888, colsample_bylevel=1.0, alpha=0.004556754060844206 \n",
      "[23:42:19] WARNING: ../src/learner.cc:541: \n",
      "Parameters: { nrounds } might not be used.\n",
      "\n",
      "  This may not be accurate due to some parameters are only used in language bindings but\n",
      "  passed down to XGBoost core.  Or some parameters are not used but slip through this\n",
      "  verification. Please open an issue if you find above cases.\n",
      "\n",
      "\n"
     ]
    },
    {
     "name": "stderr",
     "output_type": "stream",
     "text": [
      "/home/piotr/miniconda3/lib/python3.8/site-packages/xgboost/sklearn.py:888: UserWarning: The use of label encoder in XGBClassifier is deprecated and will be removed in a future release. To remove this warning, do the following: 1) Pass option use_label_encoder=False when constructing XGBClassifier object; and 2) Encode your labels (y) as integers starting with 0, i.e. 0, 1, 2, ..., [num_class - 1].\n",
      "  warnings.warn(label_encoder_deprecation_msg, UserWarning)\n"
     ]
    },
    {
     "name": "stdout",
     "output_type": "stream",
     "text": [
      "[23:42:19] WARNING: ../src/learner.cc:1061: Starting in XGBoost 1.3.0, the default evaluation metric used with the objective 'binary:logistic' was changed from 'error' to 'logloss'. Explicitly set eval_metric if you'd like to restore the old behavior.\n",
      "[CV]  nrounds=3333.0, min_child_weight=8.640477911138449, lambda=0.021262343752724643, eta=1.0, colsample_bytree=0.8888888888888888, colsample_bylevel=1.0, alpha=0.004556754060844206, accuracy=0.895, f1=0.494, roc_auc=0.885, total=  16.5s\n",
      "[CV] nrounds=3333.0, min_child_weight=8.640477911138449, lambda=0.021262343752724643, eta=1.0, colsample_bytree=0.8888888888888888, colsample_bylevel=1.0, alpha=0.004556754060844206 \n",
      "[23:42:36] WARNING: ../src/learner.cc:541: \n",
      "Parameters: { nrounds } might not be used.\n",
      "\n",
      "  This may not be accurate due to some parameters are only used in language bindings but\n",
      "  passed down to XGBoost core.  Or some parameters are not used but slip through this\n",
      "  verification. Please open an issue if you find above cases.\n",
      "\n",
      "\n"
     ]
    },
    {
     "name": "stderr",
     "output_type": "stream",
     "text": [
      "/home/piotr/miniconda3/lib/python3.8/site-packages/xgboost/sklearn.py:888: UserWarning: The use of label encoder in XGBClassifier is deprecated and will be removed in a future release. To remove this warning, do the following: 1) Pass option use_label_encoder=False when constructing XGBClassifier object; and 2) Encode your labels (y) as integers starting with 0, i.e. 0, 1, 2, ..., [num_class - 1].\n",
      "  warnings.warn(label_encoder_deprecation_msg, UserWarning)\n"
     ]
    },
    {
     "name": "stdout",
     "output_type": "stream",
     "text": [
      "[23:42:36] WARNING: ../src/learner.cc:1061: Starting in XGBoost 1.3.0, the default evaluation metric used with the objective 'binary:logistic' was changed from 'error' to 'logloss'. Explicitly set eval_metric if you'd like to restore the old behavior.\n",
      "[CV]  nrounds=3333.0, min_child_weight=8.640477911138449, lambda=0.021262343752724643, eta=1.0, colsample_bytree=0.8888888888888888, colsample_bylevel=1.0, alpha=0.004556754060844206, accuracy=0.893, f1=0.488, roc_auc=0.887, total=  16.2s\n",
      "[CV] nrounds=3333.0, min_child_weight=8.640477911138449, lambda=0.021262343752724643, eta=1.0, colsample_bytree=0.8888888888888888, colsample_bylevel=1.0, alpha=0.004556754060844206 \n",
      "[23:42:52] WARNING: ../src/learner.cc:541: \n",
      "Parameters: { nrounds } might not be used.\n",
      "\n",
      "  This may not be accurate due to some parameters are only used in language bindings but\n",
      "  passed down to XGBoost core.  Or some parameters are not used but slip through this\n",
      "  verification. Please open an issue if you find above cases.\n",
      "\n",
      "\n"
     ]
    },
    {
     "name": "stderr",
     "output_type": "stream",
     "text": [
      "/home/piotr/miniconda3/lib/python3.8/site-packages/xgboost/sklearn.py:888: UserWarning: The use of label encoder in XGBClassifier is deprecated and will be removed in a future release. To remove this warning, do the following: 1) Pass option use_label_encoder=False when constructing XGBClassifier object; and 2) Encode your labels (y) as integers starting with 0, i.e. 0, 1, 2, ..., [num_class - 1].\n",
      "  warnings.warn(label_encoder_deprecation_msg, UserWarning)\n"
     ]
    },
    {
     "name": "stdout",
     "output_type": "stream",
     "text": [
      "[23:42:52] WARNING: ../src/learner.cc:1061: Starting in XGBoost 1.3.0, the default evaluation metric used with the objective 'binary:logistic' was changed from 'error' to 'logloss'. Explicitly set eval_metric if you'd like to restore the old behavior.\n",
      "[CV]  nrounds=3333.0, min_child_weight=8.640477911138449, lambda=0.021262343752724643, eta=1.0, colsample_bytree=0.8888888888888888, colsample_bylevel=1.0, alpha=0.004556754060844206, accuracy=0.899, f1=0.514, roc_auc=0.893, total=  16.5s\n",
      "[CV] nrounds=3333.0, min_child_weight=8.640477911138449, lambda=0.021262343752724643, eta=1.0, colsample_bytree=0.8888888888888888, colsample_bylevel=1.0, alpha=0.004556754060844206 \n",
      "[23:43:08] WARNING: ../src/learner.cc:541: \n",
      "Parameters: { nrounds } might not be used.\n",
      "\n",
      "  This may not be accurate due to some parameters are only used in language bindings but\n",
      "  passed down to XGBoost core.  Or some parameters are not used but slip through this\n",
      "  verification. Please open an issue if you find above cases.\n",
      "\n",
      "\n"
     ]
    },
    {
     "name": "stderr",
     "output_type": "stream",
     "text": [
      "/home/piotr/miniconda3/lib/python3.8/site-packages/xgboost/sklearn.py:888: UserWarning: The use of label encoder in XGBClassifier is deprecated and will be removed in a future release. To remove this warning, do the following: 1) Pass option use_label_encoder=False when constructing XGBClassifier object; and 2) Encode your labels (y) as integers starting with 0, i.e. 0, 1, 2, ..., [num_class - 1].\n",
      "  warnings.warn(label_encoder_deprecation_msg, UserWarning)\n"
     ]
    },
    {
     "name": "stdout",
     "output_type": "stream",
     "text": [
      "[23:43:09] WARNING: ../src/learner.cc:1061: Starting in XGBoost 1.3.0, the default evaluation metric used with the objective 'binary:logistic' was changed from 'error' to 'logloss'. Explicitly set eval_metric if you'd like to restore the old behavior.\n",
      "[CV]  nrounds=3333.0, min_child_weight=8.640477911138449, lambda=0.021262343752724643, eta=1.0, colsample_bytree=0.8888888888888888, colsample_bylevel=1.0, alpha=0.004556754060844206, accuracy=0.894, f1=0.515, roc_auc=0.887, total=  16.3s\n",
      "[CV] nrounds=1667.0, min_child_weight=1.7144879657061456, lambda=0.09921256574801249, eta=0.0009765625, colsample_bytree=0.1111111111111111, colsample_bylevel=0.4444444444444444, alpha=10.079368399158989 \n",
      "[23:43:25] WARNING: ../src/learner.cc:541: \n",
      "Parameters: { nrounds } might not be used.\n",
      "\n",
      "  This may not be accurate due to some parameters are only used in language bindings but\n",
      "  passed down to XGBoost core.  Or some parameters are not used but slip through this\n",
      "  verification. Please open an issue if you find above cases.\n",
      "\n",
      "\n",
      "[23:43:25] WARNING: ../src/learner.cc:1061: Starting in XGBoost 1.3.0, the default evaluation metric used with the objective 'binary:logistic' was changed from 'error' to 'logloss'. Explicitly set eval_metric if you'd like to restore the old behavior.\n"
     ]
    },
    {
     "name": "stderr",
     "output_type": "stream",
     "text": [
      "/home/piotr/miniconda3/lib/python3.8/site-packages/xgboost/sklearn.py:888: UserWarning: The use of label encoder in XGBClassifier is deprecated and will be removed in a future release. To remove this warning, do the following: 1) Pass option use_label_encoder=False when constructing XGBClassifier object; and 2) Encode your labels (y) as integers starting with 0, i.e. 0, 1, 2, ..., [num_class - 1].\n",
      "  warnings.warn(label_encoder_deprecation_msg, UserWarning)\n"
     ]
    },
    {
     "name": "stdout",
     "output_type": "stream",
     "text": [
      "[CV]  nrounds=1667.0, min_child_weight=1.7144879657061456, lambda=0.09921256574801249, eta=0.0009765625, colsample_bytree=0.1111111111111111, colsample_bylevel=0.4444444444444444, alpha=10.079368399158989, accuracy=0.885, f1=0.076, roc_auc=0.862, total=   2.2s\n",
      "[CV] nrounds=1667.0, min_child_weight=1.7144879657061456, lambda=0.09921256574801249, eta=0.0009765625, colsample_bytree=0.1111111111111111, colsample_bylevel=0.4444444444444444, alpha=10.079368399158989 \n",
      "[23:43:27] WARNING: ../src/learner.cc:541: \n",
      "Parameters: { nrounds } might not be used.\n",
      "\n",
      "  This may not be accurate due to some parameters are only used in language bindings but\n",
      "  passed down to XGBoost core.  Or some parameters are not used but slip through this\n",
      "  verification. Please open an issue if you find above cases.\n",
      "\n",
      "\n",
      "[23:43:27] WARNING: ../src/learner.cc:1061: Starting in XGBoost 1.3.0, the default evaluation metric used with the objective 'binary:logistic' was changed from 'error' to 'logloss'. Explicitly set eval_metric if you'd like to restore the old behavior.\n"
     ]
    },
    {
     "name": "stderr",
     "output_type": "stream",
     "text": [
      "/home/piotr/miniconda3/lib/python3.8/site-packages/xgboost/sklearn.py:888: UserWarning: The use of label encoder in XGBClassifier is deprecated and will be removed in a future release. To remove this warning, do the following: 1) Pass option use_label_encoder=False when constructing XGBClassifier object; and 2) Encode your labels (y) as integers starting with 0, i.e. 0, 1, 2, ..., [num_class - 1].\n",
      "  warnings.warn(label_encoder_deprecation_msg, UserWarning)\n"
     ]
    },
    {
     "name": "stdout",
     "output_type": "stream",
     "text": [
      "[CV]  nrounds=1667.0, min_child_weight=1.7144879657061456, lambda=0.09921256574801249, eta=0.0009765625, colsample_bytree=0.1111111111111111, colsample_bylevel=0.4444444444444444, alpha=10.079368399158989, accuracy=0.884, f1=0.076, roc_auc=0.854, total=   2.1s\n",
      "[CV] nrounds=1667.0, min_child_weight=1.7144879657061456, lambda=0.09921256574801249, eta=0.0009765625, colsample_bytree=0.1111111111111111, colsample_bylevel=0.4444444444444444, alpha=10.079368399158989 \n",
      "[23:43:29] WARNING: ../src/learner.cc:541: \n",
      "Parameters: { nrounds } might not be used.\n",
      "\n",
      "  This may not be accurate due to some parameters are only used in language bindings but\n",
      "  passed down to XGBoost core.  Or some parameters are not used but slip through this\n",
      "  verification. Please open an issue if you find above cases.\n",
      "\n",
      "\n",
      "[23:43:29] WARNING: ../src/learner.cc:1061: Starting in XGBoost 1.3.0, the default evaluation metric used with the objective 'binary:logistic' was changed from 'error' to 'logloss'. Explicitly set eval_metric if you'd like to restore the old behavior.\n"
     ]
    },
    {
     "name": "stderr",
     "output_type": "stream",
     "text": [
      "/home/piotr/miniconda3/lib/python3.8/site-packages/xgboost/sklearn.py:888: UserWarning: The use of label encoder in XGBClassifier is deprecated and will be removed in a future release. To remove this warning, do the following: 1) Pass option use_label_encoder=False when constructing XGBClassifier object; and 2) Encode your labels (y) as integers starting with 0, i.e. 0, 1, 2, ..., [num_class - 1].\n",
      "  warnings.warn(label_encoder_deprecation_msg, UserWarning)\n"
     ]
    },
    {
     "name": "stdout",
     "output_type": "stream",
     "text": [
      "[CV]  nrounds=1667.0, min_child_weight=1.7144879657061456, lambda=0.09921256574801249, eta=0.0009765625, colsample_bytree=0.1111111111111111, colsample_bylevel=0.4444444444444444, alpha=10.079368399158989, accuracy=0.882, f1=0.061, roc_auc=0.857, total=   2.1s\n",
      "[CV] nrounds=1667.0, min_child_weight=1.7144879657061456, lambda=0.09921256574801249, eta=0.0009765625, colsample_bytree=0.1111111111111111, colsample_bylevel=0.4444444444444444, alpha=10.079368399158989 \n",
      "[23:43:31] WARNING: ../src/learner.cc:541: \n",
      "Parameters: { nrounds } might not be used.\n",
      "\n",
      "  This may not be accurate due to some parameters are only used in language bindings but\n",
      "  passed down to XGBoost core.  Or some parameters are not used but slip through this\n",
      "  verification. Please open an issue if you find above cases.\n",
      "\n",
      "\n",
      "[23:43:31] WARNING: ../src/learner.cc:1061: Starting in XGBoost 1.3.0, the default evaluation metric used with the objective 'binary:logistic' was changed from 'error' to 'logloss'. Explicitly set eval_metric if you'd like to restore the old behavior.\n"
     ]
    },
    {
     "name": "stderr",
     "output_type": "stream",
     "text": [
      "/home/piotr/miniconda3/lib/python3.8/site-packages/xgboost/sklearn.py:888: UserWarning: The use of label encoder in XGBClassifier is deprecated and will be removed in a future release. To remove this warning, do the following: 1) Pass option use_label_encoder=False when constructing XGBClassifier object; and 2) Encode your labels (y) as integers starting with 0, i.e. 0, 1, 2, ..., [num_class - 1].\n",
      "  warnings.warn(label_encoder_deprecation_msg, UserWarning)\n"
     ]
    },
    {
     "name": "stdout",
     "output_type": "stream",
     "text": [
      "[CV]  nrounds=1667.0, min_child_weight=1.7144879657061456, lambda=0.09921256574801249, eta=0.0009765625, colsample_bytree=0.1111111111111111, colsample_bylevel=0.4444444444444444, alpha=10.079368399158989, accuracy=0.883, f1=0.061, roc_auc=0.871, total=   2.1s\n",
      "[CV] nrounds=1667.0, min_child_weight=1.7144879657061456, lambda=0.09921256574801249, eta=0.0009765625, colsample_bytree=0.1111111111111111, colsample_bylevel=0.4444444444444444, alpha=10.079368399158989 \n",
      "[23:43:33] WARNING: ../src/learner.cc:541: \n",
      "Parameters: { nrounds } might not be used.\n",
      "\n",
      "  This may not be accurate due to some parameters are only used in language bindings but\n",
      "  passed down to XGBoost core.  Or some parameters are not used but slip through this\n",
      "  verification. Please open an issue if you find above cases.\n",
      "\n",
      "\n",
      "[23:43:33] WARNING: ../src/learner.cc:1061: Starting in XGBoost 1.3.0, the default evaluation metric used with the objective 'binary:logistic' was changed from 'error' to 'logloss'. Explicitly set eval_metric if you'd like to restore the old behavior.\n"
     ]
    },
    {
     "name": "stderr",
     "output_type": "stream",
     "text": [
      "/home/piotr/miniconda3/lib/python3.8/site-packages/xgboost/sklearn.py:888: UserWarning: The use of label encoder in XGBClassifier is deprecated and will be removed in a future release. To remove this warning, do the following: 1) Pass option use_label_encoder=False when constructing XGBClassifier object; and 2) Encode your labels (y) as integers starting with 0, i.e. 0, 1, 2, ..., [num_class - 1].\n",
      "  warnings.warn(label_encoder_deprecation_msg, UserWarning)\n"
     ]
    },
    {
     "name": "stdout",
     "output_type": "stream",
     "text": [
      "[CV]  nrounds=1667.0, min_child_weight=1.7144879657061456, lambda=0.09921256574801249, eta=0.0009765625, colsample_bytree=0.1111111111111111, colsample_bylevel=0.4444444444444444, alpha=10.079368399158989, accuracy=0.883, f1=0.065, roc_auc=0.875, total=   2.2s\n",
      "[CV] nrounds=3333.0, min_child_weight=14.813995396596646, lambda=0.46293735614364534, eta=0.002109491677524035, colsample_bytree=0.5555555555555556, colsample_bylevel=1.0, alpha=1024.0 \n",
      "[23:43:35] WARNING: ../src/learner.cc:541: \n",
      "Parameters: { nrounds } might not be used.\n",
      "\n",
      "  This may not be accurate due to some parameters are only used in language bindings but\n",
      "  passed down to XGBoost core.  Or some parameters are not used but slip through this\n",
      "  verification. Please open an issue if you find above cases.\n",
      "\n",
      "\n"
     ]
    },
    {
     "name": "stderr",
     "output_type": "stream",
     "text": [
      "/home/piotr/miniconda3/lib/python3.8/site-packages/xgboost/sklearn.py:888: UserWarning: The use of label encoder in XGBClassifier is deprecated and will be removed in a future release. To remove this warning, do the following: 1) Pass option use_label_encoder=False when constructing XGBClassifier object; and 2) Encode your labels (y) as integers starting with 0, i.e. 0, 1, 2, ..., [num_class - 1].\n",
      "  warnings.warn(label_encoder_deprecation_msg, UserWarning)\n"
     ]
    },
    {
     "name": "stdout",
     "output_type": "stream",
     "text": [
      "[23:43:36] WARNING: ../src/learner.cc:1061: Starting in XGBoost 1.3.0, the default evaluation metric used with the objective 'binary:logistic' was changed from 'error' to 'logloss'. Explicitly set eval_metric if you'd like to restore the old behavior.\n",
      "[CV]  nrounds=3333.0, min_child_weight=14.813995396596646, lambda=0.46293735614364534, eta=0.002109491677524035, colsample_bytree=0.5555555555555556, colsample_bylevel=1.0, alpha=1024.0, accuracy=0.881, f1=0.000, roc_auc=0.735, total=  12.4s\n",
      "[CV] nrounds=3333.0, min_child_weight=14.813995396596646, lambda=0.46293735614364534, eta=0.002109491677524035, colsample_bytree=0.5555555555555556, colsample_bylevel=1.0, alpha=1024.0 \n",
      "[23:43:48] WARNING: ../src/learner.cc:541: \n",
      "Parameters: { nrounds } might not be used.\n",
      "\n",
      "  This may not be accurate due to some parameters are only used in language bindings but\n",
      "  passed down to XGBoost core.  Or some parameters are not used but slip through this\n",
      "  verification. Please open an issue if you find above cases.\n",
      "\n",
      "\n"
     ]
    },
    {
     "name": "stderr",
     "output_type": "stream",
     "text": [
      "/home/piotr/miniconda3/lib/python3.8/site-packages/xgboost/sklearn.py:888: UserWarning: The use of label encoder in XGBClassifier is deprecated and will be removed in a future release. To remove this warning, do the following: 1) Pass option use_label_encoder=False when constructing XGBClassifier object; and 2) Encode your labels (y) as integers starting with 0, i.e. 0, 1, 2, ..., [num_class - 1].\n",
      "  warnings.warn(label_encoder_deprecation_msg, UserWarning)\n"
     ]
    },
    {
     "name": "stdout",
     "output_type": "stream",
     "text": [
      "[23:43:48] WARNING: ../src/learner.cc:1061: Starting in XGBoost 1.3.0, the default evaluation metric used with the objective 'binary:logistic' was changed from 'error' to 'logloss'. Explicitly set eval_metric if you'd like to restore the old behavior.\n",
      "[CV]  nrounds=3333.0, min_child_weight=14.813995396596646, lambda=0.46293735614364534, eta=0.002109491677524035, colsample_bytree=0.5555555555555556, colsample_bylevel=1.0, alpha=1024.0, accuracy=0.881, f1=0.000, roc_auc=0.749, total=  12.0s\n",
      "[CV] nrounds=3333.0, min_child_weight=14.813995396596646, lambda=0.46293735614364534, eta=0.002109491677524035, colsample_bytree=0.5555555555555556, colsample_bylevel=1.0, alpha=1024.0 \n",
      "[23:44:00] WARNING: ../src/learner.cc:541: \n",
      "Parameters: { nrounds } might not be used.\n",
      "\n",
      "  This may not be accurate due to some parameters are only used in language bindings but\n",
      "  passed down to XGBoost core.  Or some parameters are not used but slip through this\n",
      "  verification. Please open an issue if you find above cases.\n",
      "\n",
      "\n"
     ]
    },
    {
     "name": "stderr",
     "output_type": "stream",
     "text": [
      "/home/piotr/miniconda3/lib/python3.8/site-packages/xgboost/sklearn.py:888: UserWarning: The use of label encoder in XGBClassifier is deprecated and will be removed in a future release. To remove this warning, do the following: 1) Pass option use_label_encoder=False when constructing XGBClassifier object; and 2) Encode your labels (y) as integers starting with 0, i.e. 0, 1, 2, ..., [num_class - 1].\n",
      "  warnings.warn(label_encoder_deprecation_msg, UserWarning)\n"
     ]
    },
    {
     "name": "stdout",
     "output_type": "stream",
     "text": [
      "[23:44:00] WARNING: ../src/learner.cc:1061: Starting in XGBoost 1.3.0, the default evaluation metric used with the objective 'binary:logistic' was changed from 'error' to 'logloss'. Explicitly set eval_metric if you'd like to restore the old behavior.\n",
      "[CV]  nrounds=3333.0, min_child_weight=14.813995396596646, lambda=0.46293735614364534, eta=0.002109491677524035, colsample_bytree=0.5555555555555556, colsample_bylevel=1.0, alpha=1024.0, accuracy=0.881, f1=0.000, roc_auc=0.743, total=  12.1s\n",
      "[CV] nrounds=3333.0, min_child_weight=14.813995396596646, lambda=0.46293735614364534, eta=0.002109491677524035, colsample_bytree=0.5555555555555556, colsample_bylevel=1.0, alpha=1024.0 \n",
      "[23:44:12] WARNING: ../src/learner.cc:541: \n",
      "Parameters: { nrounds } might not be used.\n",
      "\n",
      "  This may not be accurate due to some parameters are only used in language bindings but\n",
      "  passed down to XGBoost core.  Or some parameters are not used but slip through this\n",
      "  verification. Please open an issue if you find above cases.\n",
      "\n",
      "\n"
     ]
    },
    {
     "name": "stderr",
     "output_type": "stream",
     "text": [
      "/home/piotr/miniconda3/lib/python3.8/site-packages/xgboost/sklearn.py:888: UserWarning: The use of label encoder in XGBClassifier is deprecated and will be removed in a future release. To remove this warning, do the following: 1) Pass option use_label_encoder=False when constructing XGBClassifier object; and 2) Encode your labels (y) as integers starting with 0, i.e. 0, 1, 2, ..., [num_class - 1].\n",
      "  warnings.warn(label_encoder_deprecation_msg, UserWarning)\n"
     ]
    },
    {
     "name": "stdout",
     "output_type": "stream",
     "text": [
      "[23:44:12] WARNING: ../src/learner.cc:1061: Starting in XGBoost 1.3.0, the default evaluation metric used with the objective 'binary:logistic' was changed from 'error' to 'logloss'. Explicitly set eval_metric if you'd like to restore the old behavior.\n",
      "[CV]  nrounds=3333.0, min_child_weight=14.813995396596646, lambda=0.46293735614364534, eta=0.002109491677524035, colsample_bytree=0.5555555555555556, colsample_bylevel=1.0, alpha=1024.0, accuracy=0.880, f1=0.000, roc_auc=0.759, total=  12.3s\n",
      "[CV] nrounds=3333.0, min_child_weight=14.813995396596646, lambda=0.46293735614364534, eta=0.002109491677524035, colsample_bytree=0.5555555555555556, colsample_bylevel=1.0, alpha=1024.0 \n",
      "[23:44:24] WARNING: ../src/learner.cc:541: \n",
      "Parameters: { nrounds } might not be used.\n",
      "\n",
      "  This may not be accurate due to some parameters are only used in language bindings but\n",
      "  passed down to XGBoost core.  Or some parameters are not used but slip through this\n",
      "  verification. Please open an issue if you find above cases.\n",
      "\n",
      "\n"
     ]
    },
    {
     "name": "stderr",
     "output_type": "stream",
     "text": [
      "/home/piotr/miniconda3/lib/python3.8/site-packages/xgboost/sklearn.py:888: UserWarning: The use of label encoder in XGBClassifier is deprecated and will be removed in a future release. To remove this warning, do the following: 1) Pass option use_label_encoder=False when constructing XGBClassifier object; and 2) Encode your labels (y) as integers starting with 0, i.e. 0, 1, 2, ..., [num_class - 1].\n",
      "  warnings.warn(label_encoder_deprecation_msg, UserWarning)\n"
     ]
    },
    {
     "name": "stdout",
     "output_type": "stream",
     "text": [
      "[23:44:24] WARNING: ../src/learner.cc:1061: Starting in XGBoost 1.3.0, the default evaluation metric used with the objective 'binary:logistic' was changed from 'error' to 'logloss'. Explicitly set eval_metric if you'd like to restore the old behavior.\n",
      "[CV]  nrounds=3333.0, min_child_weight=14.813995396596646, lambda=0.46293735614364534, eta=0.002109491677524035, colsample_bytree=0.5555555555555556, colsample_bylevel=1.0, alpha=1024.0, accuracy=0.880, f1=0.000, roc_auc=0.759, total=  12.1s\n",
      "[CV] nrounds=3889.0, min_child_weight=25.398416831491197, lambda=0.021262343752724643, eta=0.045929202883612456, colsample_bytree=0.0, colsample_bylevel=0.6666666666666666, alpha=0.46293735614364534 \n",
      "[23:44:36] WARNING: ../src/learner.cc:541: \n",
      "Parameters: { nrounds } might not be used.\n",
      "\n",
      "  This may not be accurate due to some parameters are only used in language bindings but\n",
      "  passed down to XGBoost core.  Or some parameters are not used but slip through this\n",
      "  verification. Please open an issue if you find above cases.\n",
      "\n",
      "\n",
      "[23:44:36] WARNING: ../src/learner.cc:1061: Starting in XGBoost 1.3.0, the default evaluation metric used with the objective 'binary:logistic' was changed from 'error' to 'logloss'. Explicitly set eval_metric if you'd like to restore the old behavior.\n"
     ]
    },
    {
     "name": "stderr",
     "output_type": "stream",
     "text": [
      "/home/piotr/miniconda3/lib/python3.8/site-packages/xgboost/sklearn.py:888: UserWarning: The use of label encoder in XGBClassifier is deprecated and will be removed in a future release. To remove this warning, do the following: 1) Pass option use_label_encoder=False when constructing XGBClassifier object; and 2) Encode your labels (y) as integers starting with 0, i.e. 0, 1, 2, ..., [num_class - 1].\n",
      "  warnings.warn(label_encoder_deprecation_msg, UserWarning)\n"
     ]
    },
    {
     "name": "stdout",
     "output_type": "stream",
     "text": [
      "[CV]  nrounds=3889.0, min_child_weight=25.398416831491197, lambda=0.021262343752724643, eta=0.045929202883612456, colsample_bytree=0.0, colsample_bylevel=0.6666666666666666, alpha=0.46293735614364534, accuracy=0.881, f1=0.000, roc_auc=0.832, total=   1.1s\n",
      "[CV] nrounds=3889.0, min_child_weight=25.398416831491197, lambda=0.021262343752724643, eta=0.045929202883612456, colsample_bytree=0.0, colsample_bylevel=0.6666666666666666, alpha=0.46293735614364534 \n",
      "[23:44:37] WARNING: ../src/learner.cc:541: \n",
      "Parameters: { nrounds } might not be used.\n",
      "\n",
      "  This may not be accurate due to some parameters are only used in language bindings but\n",
      "  passed down to XGBoost core.  Or some parameters are not used but slip through this\n",
      "  verification. Please open an issue if you find above cases.\n",
      "\n",
      "\n",
      "[23:44:37] WARNING: ../src/learner.cc:1061: Starting in XGBoost 1.3.0, the default evaluation metric used with the objective 'binary:logistic' was changed from 'error' to 'logloss'. Explicitly set eval_metric if you'd like to restore the old behavior.\n"
     ]
    },
    {
     "name": "stderr",
     "output_type": "stream",
     "text": [
      "/home/piotr/miniconda3/lib/python3.8/site-packages/xgboost/sklearn.py:888: UserWarning: The use of label encoder in XGBClassifier is deprecated and will be removed in a future release. To remove this warning, do the following: 1) Pass option use_label_encoder=False when constructing XGBClassifier object; and 2) Encode your labels (y) as integers starting with 0, i.e. 0, 1, 2, ..., [num_class - 1].\n",
      "  warnings.warn(label_encoder_deprecation_msg, UserWarning)\n"
     ]
    },
    {
     "name": "stdout",
     "output_type": "stream",
     "text": [
      "[CV]  nrounds=3889.0, min_child_weight=25.398416831491197, lambda=0.021262343752724643, eta=0.045929202883612456, colsample_bytree=0.0, colsample_bylevel=0.6666666666666666, alpha=0.46293735614364534, accuracy=0.881, f1=0.000, roc_auc=0.827, total=   1.1s\n",
      "[CV] nrounds=3889.0, min_child_weight=25.398416831491197, lambda=0.021262343752724643, eta=0.045929202883612456, colsample_bytree=0.0, colsample_bylevel=0.6666666666666666, alpha=0.46293735614364534 \n",
      "[23:44:38] WARNING: ../src/learner.cc:541: \n",
      "Parameters: { nrounds } might not be used.\n",
      "\n",
      "  This may not be accurate due to some parameters are only used in language bindings but\n",
      "  passed down to XGBoost core.  Or some parameters are not used but slip through this\n",
      "  verification. Please open an issue if you find above cases.\n",
      "\n",
      "\n",
      "[23:44:39] WARNING: ../src/learner.cc:1061: Starting in XGBoost 1.3.0, the default evaluation metric used with the objective 'binary:logistic' was changed from 'error' to 'logloss'. Explicitly set eval_metric if you'd like to restore the old behavior.\n"
     ]
    },
    {
     "name": "stderr",
     "output_type": "stream",
     "text": [
      "/home/piotr/miniconda3/lib/python3.8/site-packages/xgboost/sklearn.py:888: UserWarning: The use of label encoder in XGBClassifier is deprecated and will be removed in a future release. To remove this warning, do the following: 1) Pass option use_label_encoder=False when constructing XGBClassifier object; and 2) Encode your labels (y) as integers starting with 0, i.e. 0, 1, 2, ..., [num_class - 1].\n",
      "  warnings.warn(label_encoder_deprecation_msg, UserWarning)\n"
     ]
    },
    {
     "name": "stdout",
     "output_type": "stream",
     "text": [
      "[CV]  nrounds=3889.0, min_child_weight=25.398416831491197, lambda=0.021262343752724643, eta=0.045929202883612456, colsample_bytree=0.0, colsample_bylevel=0.6666666666666666, alpha=0.46293735614364534, accuracy=0.881, f1=0.000, roc_auc=0.829, total=   1.1s\n",
      "[CV] nrounds=3889.0, min_child_weight=25.398416831491197, lambda=0.021262343752724643, eta=0.045929202883612456, colsample_bytree=0.0, colsample_bylevel=0.6666666666666666, alpha=0.46293735614364534 \n",
      "[23:44:40] WARNING: ../src/learner.cc:541: \n",
      "Parameters: { nrounds } might not be used.\n",
      "\n",
      "  This may not be accurate due to some parameters are only used in language bindings but\n",
      "  passed down to XGBoost core.  Or some parameters are not used but slip through this\n",
      "  verification. Please open an issue if you find above cases.\n",
      "\n",
      "\n",
      "[23:44:40] WARNING: ../src/learner.cc:1061: Starting in XGBoost 1.3.0, the default evaluation metric used with the objective 'binary:logistic' was changed from 'error' to 'logloss'. Explicitly set eval_metric if you'd like to restore the old behavior.\n"
     ]
    },
    {
     "name": "stderr",
     "output_type": "stream",
     "text": [
      "/home/piotr/miniconda3/lib/python3.8/site-packages/xgboost/sklearn.py:888: UserWarning: The use of label encoder in XGBClassifier is deprecated and will be removed in a future release. To remove this warning, do the following: 1) Pass option use_label_encoder=False when constructing XGBClassifier object; and 2) Encode your labels (y) as integers starting with 0, i.e. 0, 1, 2, ..., [num_class - 1].\n",
      "  warnings.warn(label_encoder_deprecation_msg, UserWarning)\n"
     ]
    },
    {
     "name": "stdout",
     "output_type": "stream",
     "text": [
      "[CV]  nrounds=3889.0, min_child_weight=25.398416831491197, lambda=0.021262343752724643, eta=0.045929202883612456, colsample_bytree=0.0, colsample_bylevel=0.6666666666666666, alpha=0.46293735614364534, accuracy=0.880, f1=0.000, roc_auc=0.847, total=   1.1s\n",
      "[CV] nrounds=3889.0, min_child_weight=25.398416831491197, lambda=0.021262343752724643, eta=0.045929202883612456, colsample_bytree=0.0, colsample_bylevel=0.6666666666666666, alpha=0.46293735614364534 \n",
      "[23:44:41] WARNING: ../src/learner.cc:541: \n",
      "Parameters: { nrounds } might not be used.\n",
      "\n",
      "  This may not be accurate due to some parameters are only used in language bindings but\n",
      "  passed down to XGBoost core.  Or some parameters are not used but slip through this\n",
      "  verification. Please open an issue if you find above cases.\n",
      "\n",
      "\n",
      "[23:44:41] WARNING: ../src/learner.cc:1061: Starting in XGBoost 1.3.0, the default evaluation metric used with the objective 'binary:logistic' was changed from 'error' to 'logloss'. Explicitly set eval_metric if you'd like to restore the old behavior.\n"
     ]
    },
    {
     "name": "stderr",
     "output_type": "stream",
     "text": [
      "/home/piotr/miniconda3/lib/python3.8/site-packages/xgboost/sklearn.py:888: UserWarning: The use of label encoder in XGBClassifier is deprecated and will be removed in a future release. To remove this warning, do the following: 1) Pass option use_label_encoder=False when constructing XGBClassifier object; and 2) Encode your labels (y) as integers starting with 0, i.e. 0, 1, 2, ..., [num_class - 1].\n",
      "  warnings.warn(label_encoder_deprecation_msg, UserWarning)\n"
     ]
    },
    {
     "name": "stdout",
     "output_type": "stream",
     "text": [
      "[CV]  nrounds=3889.0, min_child_weight=25.398416831491197, lambda=0.021262343752724643, eta=0.045929202883612456, colsample_bytree=0.0, colsample_bylevel=0.6666666666666666, alpha=0.46293735614364534, accuracy=0.880, f1=0.000, roc_auc=0.840, total=   1.1s\n",
      "[CV] nrounds=556.0, min_child_weight=74.65785853287147, lambda=0.09921256574801249, eta=0.09921256574801249, colsample_bytree=0.5555555555555556, colsample_bylevel=0.6666666666666666, alpha=0.46293735614364534 \n",
      "[23:44:42] WARNING: ../src/learner.cc:541: \n",
      "Parameters: { nrounds } might not be used.\n",
      "\n",
      "  This may not be accurate due to some parameters are only used in language bindings but\n",
      "  passed down to XGBoost core.  Or some parameters are not used but slip through this\n",
      "  verification. Please open an issue if you find above cases.\n",
      "\n",
      "\n"
     ]
    },
    {
     "name": "stderr",
     "output_type": "stream",
     "text": [
      "/home/piotr/miniconda3/lib/python3.8/site-packages/xgboost/sklearn.py:888: UserWarning: The use of label encoder in XGBClassifier is deprecated and will be removed in a future release. To remove this warning, do the following: 1) Pass option use_label_encoder=False when constructing XGBClassifier object; and 2) Encode your labels (y) as integers starting with 0, i.e. 0, 1, 2, ..., [num_class - 1].\n",
      "  warnings.warn(label_encoder_deprecation_msg, UserWarning)\n"
     ]
    },
    {
     "name": "stdout",
     "output_type": "stream",
     "text": [
      "[23:44:42] WARNING: ../src/learner.cc:1061: Starting in XGBoost 1.3.0, the default evaluation metric used with the objective 'binary:logistic' was changed from 'error' to 'logloss'. Explicitly set eval_metric if you'd like to restore the old behavior.\n",
      "[CV]  nrounds=556.0, min_child_weight=74.65785853287147, lambda=0.09921256574801249, eta=0.09921256574801249, colsample_bytree=0.5555555555555556, colsample_bylevel=0.6666666666666666, alpha=0.46293735614364534, accuracy=0.908, f1=0.491, roc_auc=0.909, total=   6.8s\n",
      "[CV] nrounds=556.0, min_child_weight=74.65785853287147, lambda=0.09921256574801249, eta=0.09921256574801249, colsample_bytree=0.5555555555555556, colsample_bylevel=0.6666666666666666, alpha=0.46293735614364534 \n",
      "[23:44:48] WARNING: ../src/learner.cc:541: \n",
      "Parameters: { nrounds } might not be used.\n",
      "\n",
      "  This may not be accurate due to some parameters are only used in language bindings but\n",
      "  passed down to XGBoost core.  Or some parameters are not used but slip through this\n",
      "  verification. Please open an issue if you find above cases.\n",
      "\n",
      "\n"
     ]
    },
    {
     "name": "stderr",
     "output_type": "stream",
     "text": [
      "/home/piotr/miniconda3/lib/python3.8/site-packages/xgboost/sklearn.py:888: UserWarning: The use of label encoder in XGBClassifier is deprecated and will be removed in a future release. To remove this warning, do the following: 1) Pass option use_label_encoder=False when constructing XGBClassifier object; and 2) Encode your labels (y) as integers starting with 0, i.e. 0, 1, 2, ..., [num_class - 1].\n",
      "  warnings.warn(label_encoder_deprecation_msg, UserWarning)\n"
     ]
    },
    {
     "name": "stdout",
     "output_type": "stream",
     "text": [
      "[23:44:49] WARNING: ../src/learner.cc:1061: Starting in XGBoost 1.3.0, the default evaluation metric used with the objective 'binary:logistic' was changed from 'error' to 'logloss'. Explicitly set eval_metric if you'd like to restore the old behavior.\n",
      "[CV]  nrounds=556.0, min_child_weight=74.65785853287147, lambda=0.09921256574801249, eta=0.09921256574801249, colsample_bytree=0.5555555555555556, colsample_bylevel=0.6666666666666666, alpha=0.46293735614364534, accuracy=0.905, f1=0.477, roc_auc=0.912, total=   6.8s\n",
      "[CV] nrounds=556.0, min_child_weight=74.65785853287147, lambda=0.09921256574801249, eta=0.09921256574801249, colsample_bytree=0.5555555555555556, colsample_bylevel=0.6666666666666666, alpha=0.46293735614364534 \n",
      "[23:44:55] WARNING: ../src/learner.cc:541: \n",
      "Parameters: { nrounds } might not be used.\n",
      "\n",
      "  This may not be accurate due to some parameters are only used in language bindings but\n",
      "  passed down to XGBoost core.  Or some parameters are not used but slip through this\n",
      "  verification. Please open an issue if you find above cases.\n",
      "\n",
      "\n"
     ]
    },
    {
     "name": "stderr",
     "output_type": "stream",
     "text": [
      "/home/piotr/miniconda3/lib/python3.8/site-packages/xgboost/sklearn.py:888: UserWarning: The use of label encoder in XGBClassifier is deprecated and will be removed in a future release. To remove this warning, do the following: 1) Pass option use_label_encoder=False when constructing XGBClassifier object; and 2) Encode your labels (y) as integers starting with 0, i.e. 0, 1, 2, ..., [num_class - 1].\n",
      "  warnings.warn(label_encoder_deprecation_msg, UserWarning)\n"
     ]
    },
    {
     "name": "stdout",
     "output_type": "stream",
     "text": [
      "[23:44:55] WARNING: ../src/learner.cc:1061: Starting in XGBoost 1.3.0, the default evaluation metric used with the objective 'binary:logistic' was changed from 'error' to 'logloss'. Explicitly set eval_metric if you'd like to restore the old behavior.\n",
      "[CV]  nrounds=556.0, min_child_weight=74.65785853287147, lambda=0.09921256574801249, eta=0.09921256574801249, colsample_bytree=0.5555555555555556, colsample_bylevel=0.6666666666666666, alpha=0.46293735614364534, accuracy=0.909, f1=0.487, roc_auc=0.924, total=   7.0s\n",
      "[CV] nrounds=556.0, min_child_weight=74.65785853287147, lambda=0.09921256574801249, eta=0.09921256574801249, colsample_bytree=0.5555555555555556, colsample_bylevel=0.6666666666666666, alpha=0.46293735614364534 \n",
      "[23:45:02] WARNING: ../src/learner.cc:541: \n",
      "Parameters: { nrounds } might not be used.\n",
      "\n",
      "  This may not be accurate due to some parameters are only used in language bindings but\n",
      "  passed down to XGBoost core.  Or some parameters are not used but slip through this\n",
      "  verification. Please open an issue if you find above cases.\n",
      "\n",
      "\n"
     ]
    },
    {
     "name": "stderr",
     "output_type": "stream",
     "text": [
      "/home/piotr/miniconda3/lib/python3.8/site-packages/xgboost/sklearn.py:888: UserWarning: The use of label encoder in XGBClassifier is deprecated and will be removed in a future release. To remove this warning, do the following: 1) Pass option use_label_encoder=False when constructing XGBClassifier object; and 2) Encode your labels (y) as integers starting with 0, i.e. 0, 1, 2, ..., [num_class - 1].\n",
      "  warnings.warn(label_encoder_deprecation_msg, UserWarning)\n"
     ]
    },
    {
     "name": "stdout",
     "output_type": "stream",
     "text": [
      "[23:45:02] WARNING: ../src/learner.cc:1061: Starting in XGBoost 1.3.0, the default evaluation metric used with the objective 'binary:logistic' was changed from 'error' to 'logloss'. Explicitly set eval_metric if you'd like to restore the old behavior.\n",
      "[CV]  nrounds=556.0, min_child_weight=74.65785853287147, lambda=0.09921256574801249, eta=0.09921256574801249, colsample_bytree=0.5555555555555556, colsample_bylevel=0.6666666666666666, alpha=0.46293735614364534, accuracy=0.909, f1=0.500, roc_auc=0.919, total=   6.8s\n",
      "[CV] nrounds=556.0, min_child_weight=74.65785853287147, lambda=0.09921256574801249, eta=0.09921256574801249, colsample_bytree=0.5555555555555556, colsample_bylevel=0.6666666666666666, alpha=0.46293735614364534 \n",
      "[23:45:09] WARNING: ../src/learner.cc:541: \n",
      "Parameters: { nrounds } might not be used.\n",
      "\n",
      "  This may not be accurate due to some parameters are only used in language bindings but\n",
      "  passed down to XGBoost core.  Or some parameters are not used but slip through this\n",
      "  verification. Please open an issue if you find above cases.\n",
      "\n",
      "\n"
     ]
    },
    {
     "name": "stderr",
     "output_type": "stream",
     "text": [
      "/home/piotr/miniconda3/lib/python3.8/site-packages/xgboost/sklearn.py:888: UserWarning: The use of label encoder in XGBClassifier is deprecated and will be removed in a future release. To remove this warning, do the following: 1) Pass option use_label_encoder=False when constructing XGBClassifier object; and 2) Encode your labels (y) as integers starting with 0, i.e. 0, 1, 2, ..., [num_class - 1].\n",
      "  warnings.warn(label_encoder_deprecation_msg, UserWarning)\n"
     ]
    },
    {
     "name": "stdout",
     "output_type": "stream",
     "text": [
      "[23:45:09] WARNING: ../src/learner.cc:1061: Starting in XGBoost 1.3.0, the default evaluation metric used with the objective 'binary:logistic' was changed from 'error' to 'logloss'. Explicitly set eval_metric if you'd like to restore the old behavior.\n",
      "[CV]  nrounds=556.0, min_child_weight=74.65785853287147, lambda=0.09921256574801249, eta=0.09921256574801249, colsample_bytree=0.5555555555555556, colsample_bylevel=0.6666666666666666, alpha=0.46293735614364534, accuracy=0.908, f1=0.501, roc_auc=0.914, total=   6.8s\n",
      "[CV] nrounds=2222.0, min_child_weight=8.640477911138449, lambda=2.1601194777846118, eta=0.021262343752724643, colsample_bytree=0.5555555555555556, colsample_bylevel=0.6666666666666666, alpha=0.0009765625 \n",
      "[23:45:16] WARNING: ../src/learner.cc:541: \n",
      "Parameters: { nrounds } might not be used.\n",
      "\n",
      "  This may not be accurate due to some parameters are only used in language bindings but\n",
      "  passed down to XGBoost core.  Or some parameters are not used but slip through this\n",
      "  verification. Please open an issue if you find above cases.\n",
      "\n",
      "\n"
     ]
    },
    {
     "name": "stderr",
     "output_type": "stream",
     "text": [
      "/home/piotr/miniconda3/lib/python3.8/site-packages/xgboost/sklearn.py:888: UserWarning: The use of label encoder in XGBClassifier is deprecated and will be removed in a future release. To remove this warning, do the following: 1) Pass option use_label_encoder=False when constructing XGBClassifier object; and 2) Encode your labels (y) as integers starting with 0, i.e. 0, 1, 2, ..., [num_class - 1].\n",
      "  warnings.warn(label_encoder_deprecation_msg, UserWarning)\n"
     ]
    },
    {
     "name": "stdout",
     "output_type": "stream",
     "text": [
      "[23:45:16] WARNING: ../src/learner.cc:1061: Starting in XGBoost 1.3.0, the default evaluation metric used with the objective 'binary:logistic' was changed from 'error' to 'logloss'. Explicitly set eval_metric if you'd like to restore the old behavior.\n",
      "[CV]  nrounds=2222.0, min_child_weight=8.640477911138449, lambda=2.1601194777846118, eta=0.021262343752724643, colsample_bytree=0.5555555555555556, colsample_bylevel=0.6666666666666666, alpha=0.0009765625, accuracy=0.894, f1=0.295, roc_auc=0.894, total=   8.7s\n",
      "[CV] nrounds=2222.0, min_child_weight=8.640477911138449, lambda=2.1601194777846118, eta=0.021262343752724643, colsample_bytree=0.5555555555555556, colsample_bylevel=0.6666666666666666, alpha=0.0009765625 \n",
      "[23:45:25] WARNING: ../src/learner.cc:541: \n",
      "Parameters: { nrounds } might not be used.\n",
      "\n",
      "  This may not be accurate due to some parameters are only used in language bindings but\n",
      "  passed down to XGBoost core.  Or some parameters are not used but slip through this\n",
      "  verification. Please open an issue if you find above cases.\n",
      "\n",
      "\n"
     ]
    },
    {
     "name": "stderr",
     "output_type": "stream",
     "text": [
      "/home/piotr/miniconda3/lib/python3.8/site-packages/xgboost/sklearn.py:888: UserWarning: The use of label encoder in XGBClassifier is deprecated and will be removed in a future release. To remove this warning, do the following: 1) Pass option use_label_encoder=False when constructing XGBClassifier object; and 2) Encode your labels (y) as integers starting with 0, i.e. 0, 1, 2, ..., [num_class - 1].\n",
      "  warnings.warn(label_encoder_deprecation_msg, UserWarning)\n"
     ]
    },
    {
     "name": "stdout",
     "output_type": "stream",
     "text": [
      "[23:45:25] WARNING: ../src/learner.cc:1061: Starting in XGBoost 1.3.0, the default evaluation metric used with the objective 'binary:logistic' was changed from 'error' to 'logloss'. Explicitly set eval_metric if you'd like to restore the old behavior.\n",
      "[CV]  nrounds=2222.0, min_child_weight=8.640477911138449, lambda=2.1601194777846118, eta=0.021262343752724643, colsample_bytree=0.5555555555555556, colsample_bylevel=0.6666666666666666, alpha=0.0009765625, accuracy=0.894, f1=0.324, roc_auc=0.893, total=   8.8s\n",
      "[CV] nrounds=2222.0, min_child_weight=8.640477911138449, lambda=2.1601194777846118, eta=0.021262343752724643, colsample_bytree=0.5555555555555556, colsample_bylevel=0.6666666666666666, alpha=0.0009765625 \n",
      "[23:45:33] WARNING: ../src/learner.cc:541: \n",
      "Parameters: { nrounds } might not be used.\n",
      "\n",
      "  This may not be accurate due to some parameters are only used in language bindings but\n",
      "  passed down to XGBoost core.  Or some parameters are not used but slip through this\n",
      "  verification. Please open an issue if you find above cases.\n",
      "\n",
      "\n"
     ]
    },
    {
     "name": "stderr",
     "output_type": "stream",
     "text": [
      "/home/piotr/miniconda3/lib/python3.8/site-packages/xgboost/sklearn.py:888: UserWarning: The use of label encoder in XGBClassifier is deprecated and will be removed in a future release. To remove this warning, do the following: 1) Pass option use_label_encoder=False when constructing XGBClassifier object; and 2) Encode your labels (y) as integers starting with 0, i.e. 0, 1, 2, ..., [num_class - 1].\n",
      "  warnings.warn(label_encoder_deprecation_msg, UserWarning)\n"
     ]
    },
    {
     "name": "stdout",
     "output_type": "stream",
     "text": [
      "[23:45:33] WARNING: ../src/learner.cc:1061: Starting in XGBoost 1.3.0, the default evaluation metric used with the objective 'binary:logistic' was changed from 'error' to 'logloss'. Explicitly set eval_metric if you'd like to restore the old behavior.\n",
      "[CV]  nrounds=2222.0, min_child_weight=8.640477911138449, lambda=2.1601194777846118, eta=0.021262343752724643, colsample_bytree=0.5555555555555556, colsample_bylevel=0.6666666666666666, alpha=0.0009765625, accuracy=0.897, f1=0.320, roc_auc=0.902, total=   8.8s\n",
      "[CV] nrounds=2222.0, min_child_weight=8.640477911138449, lambda=2.1601194777846118, eta=0.021262343752724643, colsample_bytree=0.5555555555555556, colsample_bylevel=0.6666666666666666, alpha=0.0009765625 \n",
      "[23:45:42] WARNING: ../src/learner.cc:541: \n",
      "Parameters: { nrounds } might not be used.\n",
      "\n",
      "  This may not be accurate due to some parameters are only used in language bindings but\n",
      "  passed down to XGBoost core.  Or some parameters are not used but slip through this\n",
      "  verification. Please open an issue if you find above cases.\n",
      "\n",
      "\n"
     ]
    },
    {
     "name": "stderr",
     "output_type": "stream",
     "text": [
      "/home/piotr/miniconda3/lib/python3.8/site-packages/xgboost/sklearn.py:888: UserWarning: The use of label encoder in XGBClassifier is deprecated and will be removed in a future release. To remove this warning, do the following: 1) Pass option use_label_encoder=False when constructing XGBClassifier object; and 2) Encode your labels (y) as integers starting with 0, i.e. 0, 1, 2, ..., [num_class - 1].\n",
      "  warnings.warn(label_encoder_deprecation_msg, UserWarning)\n"
     ]
    },
    {
     "name": "stdout",
     "output_type": "stream",
     "text": [
      "[23:45:42] WARNING: ../src/learner.cc:1061: Starting in XGBoost 1.3.0, the default evaluation metric used with the objective 'binary:logistic' was changed from 'error' to 'logloss'. Explicitly set eval_metric if you'd like to restore the old behavior.\n",
      "[CV]  nrounds=2222.0, min_child_weight=8.640477911138449, lambda=2.1601194777846118, eta=0.021262343752724643, colsample_bytree=0.5555555555555556, colsample_bylevel=0.6666666666666666, alpha=0.0009765625, accuracy=0.897, f1=0.332, roc_auc=0.904, total=   8.7s\n",
      "[CV] nrounds=2222.0, min_child_weight=8.640477911138449, lambda=2.1601194777846118, eta=0.021262343752724643, colsample_bytree=0.5555555555555556, colsample_bylevel=0.6666666666666666, alpha=0.0009765625 \n",
      "[23:45:51] WARNING: ../src/learner.cc:541: \n",
      "Parameters: { nrounds } might not be used.\n",
      "\n",
      "  This may not be accurate due to some parameters are only used in language bindings but\n",
      "  passed down to XGBoost core.  Or some parameters are not used but slip through this\n",
      "  verification. Please open an issue if you find above cases.\n",
      "\n",
      "\n"
     ]
    },
    {
     "name": "stderr",
     "output_type": "stream",
     "text": [
      "/home/piotr/miniconda3/lib/python3.8/site-packages/xgboost/sklearn.py:888: UserWarning: The use of label encoder in XGBClassifier is deprecated and will be removed in a future release. To remove this warning, do the following: 1) Pass option use_label_encoder=False when constructing XGBClassifier object; and 2) Encode your labels (y) as integers starting with 0, i.e. 0, 1, 2, ..., [num_class - 1].\n",
      "  warnings.warn(label_encoder_deprecation_msg, UserWarning)\n"
     ]
    },
    {
     "name": "stdout",
     "output_type": "stream",
     "text": [
      "[23:45:51] WARNING: ../src/learner.cc:1061: Starting in XGBoost 1.3.0, the default evaluation metric used with the objective 'binary:logistic' was changed from 'error' to 'logloss'. Explicitly set eval_metric if you'd like to restore the old behavior.\n",
      "[CV]  nrounds=2222.0, min_child_weight=8.640477911138449, lambda=2.1601194777846118, eta=0.021262343752724643, colsample_bytree=0.5555555555555556, colsample_bylevel=0.6666666666666666, alpha=0.0009765625, accuracy=0.898, f1=0.347, roc_auc=0.899, total=   8.9s\n",
      "[CV] nrounds=1.0, min_child_weight=74.65785853287147, lambda=1024.0, eta=0.0009765625, colsample_bytree=0.8888888888888888, colsample_bylevel=0.2222222222222222, alpha=47.03150375281921 \n",
      "[23:46:00] WARNING: ../src/learner.cc:541: \n",
      "Parameters: { nrounds } might not be used.\n",
      "\n",
      "  This may not be accurate due to some parameters are only used in language bindings but\n",
      "  passed down to XGBoost core.  Or some parameters are not used but slip through this\n",
      "  verification. Please open an issue if you find above cases.\n",
      "\n",
      "\n",
      "[23:46:00] WARNING: ../src/learner.cc:1061: Starting in XGBoost 1.3.0, the default evaluation metric used with the objective 'binary:logistic' was changed from 'error' to 'logloss'. Explicitly set eval_metric if you'd like to restore the old behavior.\n"
     ]
    },
    {
     "name": "stderr",
     "output_type": "stream",
     "text": [
      "/home/piotr/miniconda3/lib/python3.8/site-packages/xgboost/sklearn.py:888: UserWarning: The use of label encoder in XGBClassifier is deprecated and will be removed in a future release. To remove this warning, do the following: 1) Pass option use_label_encoder=False when constructing XGBClassifier object; and 2) Encode your labels (y) as integers starting with 0, i.e. 0, 1, 2, ..., [num_class - 1].\n",
      "  warnings.warn(label_encoder_deprecation_msg, UserWarning)\n"
     ]
    },
    {
     "name": "stdout",
     "output_type": "stream",
     "text": [
      "[CV]  nrounds=1.0, min_child_weight=74.65785853287147, lambda=1024.0, eta=0.0009765625, colsample_bytree=0.8888888888888888, colsample_bylevel=0.2222222222222222, alpha=47.03150375281921, accuracy=0.881, f1=0.000, roc_auc=0.734, total=   3.4s\n",
      "[CV] nrounds=1.0, min_child_weight=74.65785853287147, lambda=1024.0, eta=0.0009765625, colsample_bytree=0.8888888888888888, colsample_bylevel=0.2222222222222222, alpha=47.03150375281921 \n",
      "[23:46:03] WARNING: ../src/learner.cc:541: \n",
      "Parameters: { nrounds } might not be used.\n",
      "\n",
      "  This may not be accurate due to some parameters are only used in language bindings but\n",
      "  passed down to XGBoost core.  Or some parameters are not used but slip through this\n",
      "  verification. Please open an issue if you find above cases.\n",
      "\n",
      "\n",
      "[23:46:03] WARNING: ../src/learner.cc:1061: Starting in XGBoost 1.3.0, the default evaluation metric used with the objective 'binary:logistic' was changed from 'error' to 'logloss'. Explicitly set eval_metric if you'd like to restore the old behavior.\n"
     ]
    },
    {
     "name": "stderr",
     "output_type": "stream",
     "text": [
      "/home/piotr/miniconda3/lib/python3.8/site-packages/xgboost/sklearn.py:888: UserWarning: The use of label encoder in XGBClassifier is deprecated and will be removed in a future release. To remove this warning, do the following: 1) Pass option use_label_encoder=False when constructing XGBClassifier object; and 2) Encode your labels (y) as integers starting with 0, i.e. 0, 1, 2, ..., [num_class - 1].\n",
      "  warnings.warn(label_encoder_deprecation_msg, UserWarning)\n"
     ]
    },
    {
     "name": "stdout",
     "output_type": "stream",
     "text": [
      "[CV]  nrounds=1.0, min_child_weight=74.65785853287147, lambda=1024.0, eta=0.0009765625, colsample_bytree=0.8888888888888888, colsample_bylevel=0.2222222222222222, alpha=47.03150375281921, accuracy=0.881, f1=0.000, roc_auc=0.735, total=   3.4s\n",
      "[CV] nrounds=1.0, min_child_weight=74.65785853287147, lambda=1024.0, eta=0.0009765625, colsample_bytree=0.8888888888888888, colsample_bylevel=0.2222222222222222, alpha=47.03150375281921 \n",
      "[23:46:07] WARNING: ../src/learner.cc:541: \n",
      "Parameters: { nrounds } might not be used.\n",
      "\n",
      "  This may not be accurate due to some parameters are only used in language bindings but\n",
      "  passed down to XGBoost core.  Or some parameters are not used but slip through this\n",
      "  verification. Please open an issue if you find above cases.\n",
      "\n",
      "\n",
      "[23:46:07] WARNING: ../src/learner.cc:1061: Starting in XGBoost 1.3.0, the default evaluation metric used with the objective 'binary:logistic' was changed from 'error' to 'logloss'. Explicitly set eval_metric if you'd like to restore the old behavior.\n"
     ]
    },
    {
     "name": "stderr",
     "output_type": "stream",
     "text": [
      "/home/piotr/miniconda3/lib/python3.8/site-packages/xgboost/sklearn.py:888: UserWarning: The use of label encoder in XGBClassifier is deprecated and will be removed in a future release. To remove this warning, do the following: 1) Pass option use_label_encoder=False when constructing XGBClassifier object; and 2) Encode your labels (y) as integers starting with 0, i.e. 0, 1, 2, ..., [num_class - 1].\n",
      "  warnings.warn(label_encoder_deprecation_msg, UserWarning)\n"
     ]
    },
    {
     "name": "stdout",
     "output_type": "stream",
     "text": [
      "[CV]  nrounds=1.0, min_child_weight=74.65785853287147, lambda=1024.0, eta=0.0009765625, colsample_bytree=0.8888888888888888, colsample_bylevel=0.2222222222222222, alpha=47.03150375281921, accuracy=0.881, f1=0.000, roc_auc=0.728, total=   3.3s\n",
      "[CV] nrounds=1.0, min_child_weight=74.65785853287147, lambda=1024.0, eta=0.0009765625, colsample_bytree=0.8888888888888888, colsample_bylevel=0.2222222222222222, alpha=47.03150375281921 \n",
      "[23:46:10] WARNING: ../src/learner.cc:541: \n",
      "Parameters: { nrounds } might not be used.\n",
      "\n",
      "  This may not be accurate due to some parameters are only used in language bindings but\n",
      "  passed down to XGBoost core.  Or some parameters are not used but slip through this\n",
      "  verification. Please open an issue if you find above cases.\n",
      "\n",
      "\n",
      "[23:46:10] WARNING: ../src/learner.cc:1061: Starting in XGBoost 1.3.0, the default evaluation metric used with the objective 'binary:logistic' was changed from 'error' to 'logloss'. Explicitly set eval_metric if you'd like to restore the old behavior.\n"
     ]
    },
    {
     "name": "stderr",
     "output_type": "stream",
     "text": [
      "/home/piotr/miniconda3/lib/python3.8/site-packages/xgboost/sklearn.py:888: UserWarning: The use of label encoder in XGBClassifier is deprecated and will be removed in a future release. To remove this warning, do the following: 1) Pass option use_label_encoder=False when constructing XGBClassifier object; and 2) Encode your labels (y) as integers starting with 0, i.e. 0, 1, 2, ..., [num_class - 1].\n",
      "  warnings.warn(label_encoder_deprecation_msg, UserWarning)\n"
     ]
    },
    {
     "name": "stdout",
     "output_type": "stream",
     "text": [
      "[CV]  nrounds=1.0, min_child_weight=74.65785853287147, lambda=1024.0, eta=0.0009765625, colsample_bytree=0.8888888888888888, colsample_bylevel=0.2222222222222222, alpha=47.03150375281921, accuracy=0.880, f1=0.000, roc_auc=0.749, total=   3.3s\n",
      "[CV] nrounds=1.0, min_child_weight=74.65785853287147, lambda=1024.0, eta=0.0009765625, colsample_bytree=0.8888888888888888, colsample_bylevel=0.2222222222222222, alpha=47.03150375281921 \n",
      "[23:46:13] WARNING: ../src/learner.cc:541: \n",
      "Parameters: { nrounds } might not be used.\n",
      "\n",
      "  This may not be accurate due to some parameters are only used in language bindings but\n",
      "  passed down to XGBoost core.  Or some parameters are not used but slip through this\n",
      "  verification. Please open an issue if you find above cases.\n",
      "\n",
      "\n",
      "[23:46:13] WARNING: ../src/learner.cc:1061: Starting in XGBoost 1.3.0, the default evaluation metric used with the objective 'binary:logistic' was changed from 'error' to 'logloss'. Explicitly set eval_metric if you'd like to restore the old behavior.\n"
     ]
    },
    {
     "name": "stderr",
     "output_type": "stream",
     "text": [
      "/home/piotr/miniconda3/lib/python3.8/site-packages/xgboost/sklearn.py:888: UserWarning: The use of label encoder in XGBClassifier is deprecated and will be removed in a future release. To remove this warning, do the following: 1) Pass option use_label_encoder=False when constructing XGBClassifier object; and 2) Encode your labels (y) as integers starting with 0, i.e. 0, 1, 2, ..., [num_class - 1].\n",
      "  warnings.warn(label_encoder_deprecation_msg, UserWarning)\n"
     ]
    },
    {
     "name": "stdout",
     "output_type": "stream",
     "text": [
      "[CV]  nrounds=1.0, min_child_weight=74.65785853287147, lambda=1024.0, eta=0.0009765625, colsample_bytree=0.8888888888888888, colsample_bylevel=0.2222222222222222, alpha=47.03150375281921, accuracy=0.880, f1=0.000, roc_auc=0.756, total=   3.2s\n",
      "[CV] nrounds=2778.0, min_child_weight=43.54528000558007, lambda=0.09921256574801249, eta=0.021262343752724643, colsample_bytree=1.0, colsample_bylevel=0.2222222222222222, alpha=0.004556754060844206 \n",
      "[23:46:16] WARNING: ../src/learner.cc:541: \n",
      "Parameters: { nrounds } might not be used.\n",
      "\n",
      "  This may not be accurate due to some parameters are only used in language bindings but\n",
      "  passed down to XGBoost core.  Or some parameters are not used but slip through this\n",
      "  verification. Please open an issue if you find above cases.\n",
      "\n",
      "\n"
     ]
    },
    {
     "name": "stderr",
     "output_type": "stream",
     "text": [
      "/home/piotr/miniconda3/lib/python3.8/site-packages/xgboost/sklearn.py:888: UserWarning: The use of label encoder in XGBClassifier is deprecated and will be removed in a future release. To remove this warning, do the following: 1) Pass option use_label_encoder=False when constructing XGBClassifier object; and 2) Encode your labels (y) as integers starting with 0, i.e. 0, 1, 2, ..., [num_class - 1].\n",
      "  warnings.warn(label_encoder_deprecation_msg, UserWarning)\n"
     ]
    },
    {
     "name": "stdout",
     "output_type": "stream",
     "text": [
      "[23:46:17] WARNING: ../src/learner.cc:1061: Starting in XGBoost 1.3.0, the default evaluation metric used with the objective 'binary:logistic' was changed from 'error' to 'logloss'. Explicitly set eval_metric if you'd like to restore the old behavior.\n",
      "[CV]  nrounds=2778.0, min_child_weight=43.54528000558007, lambda=0.09921256574801249, eta=0.021262343752724643, colsample_bytree=1.0, colsample_bylevel=0.2222222222222222, alpha=0.004556754060844206, accuracy=0.890, f1=0.251, roc_auc=0.889, total=   5.1s\n",
      "[CV] nrounds=2778.0, min_child_weight=43.54528000558007, lambda=0.09921256574801249, eta=0.021262343752724643, colsample_bytree=1.0, colsample_bylevel=0.2222222222222222, alpha=0.004556754060844206 \n",
      "[23:46:22] WARNING: ../src/learner.cc:541: \n",
      "Parameters: { nrounds } might not be used.\n",
      "\n",
      "  This may not be accurate due to some parameters are only used in language bindings but\n",
      "  passed down to XGBoost core.  Or some parameters are not used but slip through this\n",
      "  verification. Please open an issue if you find above cases.\n",
      "\n",
      "\n",
      "[23:46:22] WARNING: ../src/learner.cc:1061: Starting in XGBoost 1.3.0, the default evaluation metric used with the objective 'binary:logistic' was changed from 'error' to 'logloss'. Explicitly set eval_metric if you'd like to restore the old behavior."
     ]
    },
    {
     "name": "stderr",
     "output_type": "stream",
     "text": [
      "/home/piotr/miniconda3/lib/python3.8/site-packages/xgboost/sklearn.py:888: UserWarning: The use of label encoder in XGBClassifier is deprecated and will be removed in a future release. To remove this warning, do the following: 1) Pass option use_label_encoder=False when constructing XGBClassifier object; and 2) Encode your labels (y) as integers starting with 0, i.e. 0, 1, 2, ..., [num_class - 1].\n",
      "  warnings.warn(label_encoder_deprecation_msg, UserWarning)\n"
     ]
    },
    {
     "name": "stdout",
     "output_type": "stream",
     "text": [
      "\n",
      "[CV]  nrounds=2778.0, min_child_weight=43.54528000558007, lambda=0.09921256574801249, eta=0.021262343752724643, colsample_bytree=1.0, colsample_bylevel=0.2222222222222222, alpha=0.004556754060844206, accuracy=0.892, f1=0.282, roc_auc=0.888, total=   5.5s\n",
      "[CV] nrounds=2778.0, min_child_weight=43.54528000558007, lambda=0.09921256574801249, eta=0.021262343752724643, colsample_bytree=1.0, colsample_bylevel=0.2222222222222222, alpha=0.004556754060844206 \n",
      "[23:46:27] WARNING: ../src/learner.cc:541: \n",
      "Parameters: { nrounds } might not be used.\n",
      "\n",
      "  This may not be accurate due to some parameters are only used in language bindings but\n",
      "  passed down to XGBoost core.  Or some parameters are not used but slip through this\n",
      "  verification. Please open an issue if you find above cases.\n",
      "\n",
      "\n",
      "[23:46:27] WARNING: ../src/learner.cc:1061: Starting in XGBoost 1.3.0, the default evaluation metric used with the objective 'binary:logistic' was changed from 'error' to 'logloss'. Explicitly set eval_metric if you'd like to restore the old behavior."
     ]
    },
    {
     "name": "stderr",
     "output_type": "stream",
     "text": [
      "/home/piotr/miniconda3/lib/python3.8/site-packages/xgboost/sklearn.py:888: UserWarning: The use of label encoder in XGBClassifier is deprecated and will be removed in a future release. To remove this warning, do the following: 1) Pass option use_label_encoder=False when constructing XGBClassifier object; and 2) Encode your labels (y) as integers starting with 0, i.e. 0, 1, 2, ..., [num_class - 1].\n",
      "  warnings.warn(label_encoder_deprecation_msg, UserWarning)\n"
     ]
    },
    {
     "name": "stdout",
     "output_type": "stream",
     "text": [
      "\n",
      "[CV]  nrounds=2778.0, min_child_weight=43.54528000558007, lambda=0.09921256574801249, eta=0.021262343752724643, colsample_bytree=1.0, colsample_bylevel=0.2222222222222222, alpha=0.004556754060844206, accuracy=0.892, f1=0.259, roc_auc=0.898, total=   5.1s\n",
      "[CV] nrounds=2778.0, min_child_weight=43.54528000558007, lambda=0.09921256574801249, eta=0.021262343752724643, colsample_bytree=1.0, colsample_bylevel=0.2222222222222222, alpha=0.004556754060844206 \n",
      "[23:46:32] WARNING: ../src/learner.cc:541: \n",
      "Parameters: { nrounds } might not be used.\n",
      "\n",
      "  This may not be accurate due to some parameters are only used in language bindings but\n",
      "  passed down to XGBoost core.  Or some parameters are not used but slip through this\n",
      "  verification. Please open an issue if you find above cases.\n",
      "\n",
      "\n"
     ]
    },
    {
     "name": "stderr",
     "output_type": "stream",
     "text": [
      "/home/piotr/miniconda3/lib/python3.8/site-packages/xgboost/sklearn.py:888: UserWarning: The use of label encoder in XGBClassifier is deprecated and will be removed in a future release. To remove this warning, do the following: 1) Pass option use_label_encoder=False when constructing XGBClassifier object; and 2) Encode your labels (y) as integers starting with 0, i.e. 0, 1, 2, ..., [num_class - 1].\n",
      "  warnings.warn(label_encoder_deprecation_msg, UserWarning)\n"
     ]
    },
    {
     "name": "stdout",
     "output_type": "stream",
     "text": [
      "[23:46:32] WARNING: ../src/learner.cc:1061: Starting in XGBoost 1.3.0, the default evaluation metric used with the objective 'binary:logistic' was changed from 'error' to 'logloss'. Explicitly set eval_metric if you'd like to restore the old behavior.\n",
      "[CV]  nrounds=2778.0, min_child_weight=43.54528000558007, lambda=0.09921256574801249, eta=0.021262343752724643, colsample_bytree=1.0, colsample_bylevel=0.2222222222222222, alpha=0.004556754060844206, accuracy=0.891, f1=0.281, roc_auc=0.897, total=   5.2s\n",
      "[CV] nrounds=2778.0, min_child_weight=43.54528000558007, lambda=0.09921256574801249, eta=0.021262343752724643, colsample_bytree=1.0, colsample_bylevel=0.2222222222222222, alpha=0.004556754060844206 \n",
      "[23:46:37] WARNING: ../src/learner.cc:541: \n",
      "Parameters: { nrounds } might not be used.\n",
      "\n",
      "  This may not be accurate due to some parameters are only used in language bindings but\n",
      "  passed down to XGBoost core.  Or some parameters are not used but slip through this\n",
      "  verification. Please open an issue if you find above cases.\n",
      "\n",
      "\n"
     ]
    },
    {
     "name": "stderr",
     "output_type": "stream",
     "text": [
      "/home/piotr/miniconda3/lib/python3.8/site-packages/xgboost/sklearn.py:888: UserWarning: The use of label encoder in XGBClassifier is deprecated and will be removed in a future release. To remove this warning, do the following: 1) Pass option use_label_encoder=False when constructing XGBClassifier object; and 2) Encode your labels (y) as integers starting with 0, i.e. 0, 1, 2, ..., [num_class - 1].\n",
      "  warnings.warn(label_encoder_deprecation_msg, UserWarning)\n"
     ]
    },
    {
     "name": "stdout",
     "output_type": "stream",
     "text": [
      "[23:46:37] WARNING: ../src/learner.cc:1061: Starting in XGBoost 1.3.0, the default evaluation metric used with the objective 'binary:logistic' was changed from 'error' to 'logloss'. Explicitly set eval_metric if you'd like to restore the old behavior.\n",
      "[CV]  nrounds=2778.0, min_child_weight=43.54528000558007, lambda=0.09921256574801249, eta=0.021262343752724643, colsample_bytree=1.0, colsample_bylevel=0.2222222222222222, alpha=0.004556754060844206, accuracy=0.896, f1=0.307, roc_auc=0.896, total=   5.2s\n",
      "[CV] nrounds=3333.0, min_child_weight=1.0, lambda=2.1601194777846118, eta=0.002109491677524035, colsample_bytree=0.8888888888888888, colsample_bylevel=1.0, alpha=2.1601194777846118 \n",
      "[23:46:43] WARNING: ../src/learner.cc:541: \n",
      "Parameters: { nrounds } might not be used.\n",
      "\n",
      "  This may not be accurate due to some parameters are only used in language bindings but\n",
      "  passed down to XGBoost core.  Or some parameters are not used but slip through this\n",
      "  verification. Please open an issue if you find above cases.\n",
      "\n",
      "\n"
     ]
    },
    {
     "name": "stderr",
     "output_type": "stream",
     "text": [
      "/home/piotr/miniconda3/lib/python3.8/site-packages/xgboost/sklearn.py:888: UserWarning: The use of label encoder in XGBClassifier is deprecated and will be removed in a future release. To remove this warning, do the following: 1) Pass option use_label_encoder=False when constructing XGBClassifier object; and 2) Encode your labels (y) as integers starting with 0, i.e. 0, 1, 2, ..., [num_class - 1].\n",
      "  warnings.warn(label_encoder_deprecation_msg, UserWarning)\n"
     ]
    },
    {
     "name": "stdout",
     "output_type": "stream",
     "text": [
      "[23:46:43] WARNING: ../src/learner.cc:1061: Starting in XGBoost 1.3.0, the default evaluation metric used with the objective 'binary:logistic' was changed from 'error' to 'logloss'. Explicitly set eval_metric if you'd like to restore the old behavior.\n",
      "[CV]  nrounds=3333.0, min_child_weight=1.0, lambda=2.1601194777846118, eta=0.002109491677524035, colsample_bytree=0.8888888888888888, colsample_bylevel=1.0, alpha=2.1601194777846118, accuracy=0.893, f1=0.273, roc_auc=0.857, total=  20.0s\n",
      "[CV] nrounds=3333.0, min_child_weight=1.0, lambda=2.1601194777846118, eta=0.002109491677524035, colsample_bytree=0.8888888888888888, colsample_bylevel=1.0, alpha=2.1601194777846118 \n",
      "[23:47:03] WARNING: ../src/learner.cc:541: \n",
      "Parameters: { nrounds } might not be used.\n",
      "\n",
      "  This may not be accurate due to some parameters are only used in language bindings but\n",
      "  passed down to XGBoost core.  Or some parameters are not used but slip through this\n",
      "  verification. Please open an issue if you find above cases.\n",
      "\n",
      "\n"
     ]
    },
    {
     "name": "stderr",
     "output_type": "stream",
     "text": [
      "/home/piotr/miniconda3/lib/python3.8/site-packages/xgboost/sklearn.py:888: UserWarning: The use of label encoder in XGBClassifier is deprecated and will be removed in a future release. To remove this warning, do the following: 1) Pass option use_label_encoder=False when constructing XGBClassifier object; and 2) Encode your labels (y) as integers starting with 0, i.e. 0, 1, 2, ..., [num_class - 1].\n",
      "  warnings.warn(label_encoder_deprecation_msg, UserWarning)\n"
     ]
    },
    {
     "name": "stdout",
     "output_type": "stream",
     "text": [
      "[23:47:03] WARNING: ../src/learner.cc:1061: Starting in XGBoost 1.3.0, the default evaluation metric used with the objective 'binary:logistic' was changed from 'error' to 'logloss'. Explicitly set eval_metric if you'd like to restore the old behavior.\n",
      "[CV]  nrounds=3333.0, min_child_weight=1.0, lambda=2.1601194777846118, eta=0.002109491677524035, colsample_bytree=0.8888888888888888, colsample_bylevel=1.0, alpha=2.1601194777846118, accuracy=0.891, f1=0.271, roc_auc=0.863, total=  20.0s\n",
      "[CV] nrounds=3333.0, min_child_weight=1.0, lambda=2.1601194777846118, eta=0.002109491677524035, colsample_bytree=0.8888888888888888, colsample_bylevel=1.0, alpha=2.1601194777846118 \n",
      "[23:47:23] WARNING: ../src/learner.cc:541: \n",
      "Parameters: { nrounds } might not be used.\n",
      "\n",
      "  This may not be accurate due to some parameters are only used in language bindings but\n",
      "  passed down to XGBoost core.  Or some parameters are not used but slip through this\n",
      "  verification. Please open an issue if you find above cases.\n",
      "\n",
      "\n"
     ]
    },
    {
     "name": "stderr",
     "output_type": "stream",
     "text": [
      "/home/piotr/miniconda3/lib/python3.8/site-packages/xgboost/sklearn.py:888: UserWarning: The use of label encoder in XGBClassifier is deprecated and will be removed in a future release. To remove this warning, do the following: 1) Pass option use_label_encoder=False when constructing XGBClassifier object; and 2) Encode your labels (y) as integers starting with 0, i.e. 0, 1, 2, ..., [num_class - 1].\n",
      "  warnings.warn(label_encoder_deprecation_msg, UserWarning)\n"
     ]
    },
    {
     "name": "stdout",
     "output_type": "stream",
     "text": [
      "[23:47:23] WARNING: ../src/learner.cc:1061: Starting in XGBoost 1.3.0, the default evaluation metric used with the objective 'binary:logistic' was changed from 'error' to 'logloss'. Explicitly set eval_metric if you'd like to restore the old behavior.\n",
      "[CV]  nrounds=3333.0, min_child_weight=1.0, lambda=2.1601194777846118, eta=0.002109491677524035, colsample_bytree=0.8888888888888888, colsample_bylevel=1.0, alpha=2.1601194777846118, accuracy=0.892, f1=0.284, roc_auc=0.858, total=  20.5s\n",
      "[CV] nrounds=3333.0, min_child_weight=1.0, lambda=2.1601194777846118, eta=0.002109491677524035, colsample_bytree=0.8888888888888888, colsample_bylevel=1.0, alpha=2.1601194777846118 \n",
      "[23:47:43] WARNING: ../src/learner.cc:541: \n",
      "Parameters: { nrounds } might not be used.\n",
      "\n",
      "  This may not be accurate due to some parameters are only used in language bindings but\n",
      "  passed down to XGBoost core.  Or some parameters are not used but slip through this\n",
      "  verification. Please open an issue if you find above cases.\n",
      "\n",
      "\n"
     ]
    },
    {
     "name": "stderr",
     "output_type": "stream",
     "text": [
      "/home/piotr/miniconda3/lib/python3.8/site-packages/xgboost/sklearn.py:888: UserWarning: The use of label encoder in XGBClassifier is deprecated and will be removed in a future release. To remove this warning, do the following: 1) Pass option use_label_encoder=False when constructing XGBClassifier object; and 2) Encode your labels (y) as integers starting with 0, i.e. 0, 1, 2, ..., [num_class - 1].\n",
      "  warnings.warn(label_encoder_deprecation_msg, UserWarning)\n"
     ]
    },
    {
     "name": "stdout",
     "output_type": "stream",
     "text": [
      "[23:47:43] WARNING: ../src/learner.cc:1061: Starting in XGBoost 1.3.0, the default evaluation metric used with the objective 'binary:logistic' was changed from 'error' to 'logloss'. Explicitly set eval_metric if you'd like to restore the old behavior.\n",
      "[CV]  nrounds=3333.0, min_child_weight=1.0, lambda=2.1601194777846118, eta=0.002109491677524035, colsample_bytree=0.8888888888888888, colsample_bylevel=1.0, alpha=2.1601194777846118, accuracy=0.890, f1=0.283, roc_auc=0.871, total=  19.8s\n",
      "[CV] nrounds=3333.0, min_child_weight=1.0, lambda=2.1601194777846118, eta=0.002109491677524035, colsample_bytree=0.8888888888888888, colsample_bylevel=1.0, alpha=2.1601194777846118 \n",
      "[23:48:03] WARNING: ../src/learner.cc:541: \n",
      "Parameters: { nrounds } might not be used.\n",
      "\n",
      "  This may not be accurate due to some parameters are only used in language bindings but\n",
      "  passed down to XGBoost core.  Or some parameters are not used but slip through this\n",
      "  verification. Please open an issue if you find above cases.\n",
      "\n",
      "\n"
     ]
    },
    {
     "name": "stderr",
     "output_type": "stream",
     "text": [
      "/home/piotr/miniconda3/lib/python3.8/site-packages/xgboost/sklearn.py:888: UserWarning: The use of label encoder in XGBClassifier is deprecated and will be removed in a future release. To remove this warning, do the following: 1) Pass option use_label_encoder=False when constructing XGBClassifier object; and 2) Encode your labels (y) as integers starting with 0, i.e. 0, 1, 2, ..., [num_class - 1].\n",
      "  warnings.warn(label_encoder_deprecation_msg, UserWarning)\n"
     ]
    },
    {
     "name": "stdout",
     "output_type": "stream",
     "text": [
      "[23:48:03] WARNING: ../src/learner.cc:1061: Starting in XGBoost 1.3.0, the default evaluation metric used with the objective 'binary:logistic' was changed from 'error' to 'logloss'. Explicitly set eval_metric if you'd like to restore the old behavior.\n",
      "[CV]  nrounds=3333.0, min_child_weight=1.0, lambda=2.1601194777846118, eta=0.002109491677524035, colsample_bytree=0.8888888888888888, colsample_bylevel=1.0, alpha=2.1601194777846118, accuracy=0.896, f1=0.318, roc_auc=0.859, total=  21.2s\n",
      "[CV] nrounds=2222.0, min_child_weight=2.9394689845511977, lambda=47.03150375281921, eta=0.0009765625, colsample_bytree=0.8888888888888888, colsample_bylevel=0.4444444444444444, alpha=0.021262343752724643 \n",
      "[23:48:24] WARNING: ../src/learner.cc:541: \n",
      "Parameters: { nrounds } might not be used.\n",
      "\n",
      "  This may not be accurate due to some parameters are only used in language bindings but\n",
      "  passed down to XGBoost core.  Or some parameters are not used but slip through this\n",
      "  verification. Please open an issue if you find above cases.\n",
      "\n",
      "\n"
     ]
    },
    {
     "name": "stderr",
     "output_type": "stream",
     "text": [
      "/home/piotr/miniconda3/lib/python3.8/site-packages/xgboost/sklearn.py:888: UserWarning: The use of label encoder in XGBClassifier is deprecated and will be removed in a future release. To remove this warning, do the following: 1) Pass option use_label_encoder=False when constructing XGBClassifier object; and 2) Encode your labels (y) as integers starting with 0, i.e. 0, 1, 2, ..., [num_class - 1].\n",
      "  warnings.warn(label_encoder_deprecation_msg, UserWarning)\n"
     ]
    },
    {
     "name": "stdout",
     "output_type": "stream",
     "text": [
      "[23:48:24] WARNING: ../src/learner.cc:1061: Starting in XGBoost 1.3.0, the default evaluation metric used with the objective 'binary:logistic' was changed from 'error' to 'logloss'. Explicitly set eval_metric if you'd like to restore the old behavior.\n",
      "[CV]  nrounds=2222.0, min_child_weight=2.9394689845511977, lambda=47.03150375281921, eta=0.0009765625, colsample_bytree=0.8888888888888888, colsample_bylevel=0.4444444444444444, alpha=0.021262343752724643, accuracy=0.889, f1=0.202, roc_auc=0.827, total=   9.4s\n",
      "[CV] nrounds=2222.0, min_child_weight=2.9394689845511977, lambda=47.03150375281921, eta=0.0009765625, colsample_bytree=0.8888888888888888, colsample_bylevel=0.4444444444444444, alpha=0.021262343752724643 \n",
      "[23:48:33] WARNING: ../src/learner.cc:541: \n",
      "Parameters: { nrounds } might not be used.\n",
      "\n",
      "  This may not be accurate due to some parameters are only used in language bindings but\n",
      "  passed down to XGBoost core.  Or some parameters are not used but slip through this\n",
      "  verification. Please open an issue if you find above cases.\n",
      "\n",
      "\n"
     ]
    },
    {
     "name": "stderr",
     "output_type": "stream",
     "text": [
      "/home/piotr/miniconda3/lib/python3.8/site-packages/xgboost/sklearn.py:888: UserWarning: The use of label encoder in XGBClassifier is deprecated and will be removed in a future release. To remove this warning, do the following: 1) Pass option use_label_encoder=False when constructing XGBClassifier object; and 2) Encode your labels (y) as integers starting with 0, i.e. 0, 1, 2, ..., [num_class - 1].\n",
      "  warnings.warn(label_encoder_deprecation_msg, UserWarning)\n"
     ]
    },
    {
     "name": "stdout",
     "output_type": "stream",
     "text": [
      "[23:48:34] WARNING: ../src/learner.cc:1061: Starting in XGBoost 1.3.0, the default evaluation metric used with the objective 'binary:logistic' was changed from 'error' to 'logloss'. Explicitly set eval_metric if you'd like to restore the old behavior.\n",
      "[CV]  nrounds=2222.0, min_child_weight=2.9394689845511977, lambda=47.03150375281921, eta=0.0009765625, colsample_bytree=0.8888888888888888, colsample_bylevel=0.4444444444444444, alpha=0.021262343752724643, accuracy=0.888, f1=0.200, roc_auc=0.837, total=  10.5s\n",
      "[CV] nrounds=2222.0, min_child_weight=2.9394689845511977, lambda=47.03150375281921, eta=0.0009765625, colsample_bytree=0.8888888888888888, colsample_bylevel=0.4444444444444444, alpha=0.021262343752724643 \n",
      "[23:48:44] WARNING: ../src/learner.cc:541: \n",
      "Parameters: { nrounds } might not be used.\n",
      "\n",
      "  This may not be accurate due to some parameters are only used in language bindings but\n",
      "  passed down to XGBoost core.  Or some parameters are not used but slip through this\n",
      "  verification. Please open an issue if you find above cases.\n",
      "\n",
      "\n"
     ]
    },
    {
     "name": "stderr",
     "output_type": "stream",
     "text": [
      "/home/piotr/miniconda3/lib/python3.8/site-packages/xgboost/sklearn.py:888: UserWarning: The use of label encoder in XGBClassifier is deprecated and will be removed in a future release. To remove this warning, do the following: 1) Pass option use_label_encoder=False when constructing XGBClassifier object; and 2) Encode your labels (y) as integers starting with 0, i.e. 0, 1, 2, ..., [num_class - 1].\n",
      "  warnings.warn(label_encoder_deprecation_msg, UserWarning)\n"
     ]
    },
    {
     "name": "stdout",
     "output_type": "stream",
     "text": [
      "[23:48:44] WARNING: ../src/learner.cc:1061: Starting in XGBoost 1.3.0, the default evaluation metric used with the objective 'binary:logistic' was changed from 'error' to 'logloss'. Explicitly set eval_metric if you'd like to restore the old behavior.\n",
      "[CV]  nrounds=2222.0, min_child_weight=2.9394689845511977, lambda=47.03150375281921, eta=0.0009765625, colsample_bytree=0.8888888888888888, colsample_bylevel=0.4444444444444444, alpha=0.021262343752724643, accuracy=0.887, f1=0.183, roc_auc=0.838, total=  10.5s\n",
      "[CV] nrounds=2222.0, min_child_weight=2.9394689845511977, lambda=47.03150375281921, eta=0.0009765625, colsample_bytree=0.8888888888888888, colsample_bylevel=0.4444444444444444, alpha=0.021262343752724643 \n",
      "[23:48:54] WARNING: ../src/learner.cc:541: \n",
      "Parameters: { nrounds } might not be used.\n",
      "\n",
      "  This may not be accurate due to some parameters are only used in language bindings but\n",
      "  passed down to XGBoost core.  Or some parameters are not used but slip through this\n",
      "  verification. Please open an issue if you find above cases.\n",
      "\n",
      "\n"
     ]
    },
    {
     "name": "stderr",
     "output_type": "stream",
     "text": [
      "/home/piotr/miniconda3/lib/python3.8/site-packages/xgboost/sklearn.py:888: UserWarning: The use of label encoder in XGBClassifier is deprecated and will be removed in a future release. To remove this warning, do the following: 1) Pass option use_label_encoder=False when constructing XGBClassifier object; and 2) Encode your labels (y) as integers starting with 0, i.e. 0, 1, 2, ..., [num_class - 1].\n",
      "  warnings.warn(label_encoder_deprecation_msg, UserWarning)\n"
     ]
    },
    {
     "name": "stdout",
     "output_type": "stream",
     "text": [
      "[23:48:55] WARNING: ../src/learner.cc:1061: Starting in XGBoost 1.3.0, the default evaluation metric used with the objective 'binary:logistic' was changed from 'error' to 'logloss'. Explicitly set eval_metric if you'd like to restore the old behavior.\n",
      "[CV]  nrounds=2222.0, min_child_weight=2.9394689845511977, lambda=47.03150375281921, eta=0.0009765625, colsample_bytree=0.8888888888888888, colsample_bylevel=0.4444444444444444, alpha=0.021262343752724643, accuracy=0.891, f1=0.225, roc_auc=0.848, total=  10.4s\n",
      "[CV] nrounds=2222.0, min_child_weight=2.9394689845511977, lambda=47.03150375281921, eta=0.0009765625, colsample_bytree=0.8888888888888888, colsample_bylevel=0.4444444444444444, alpha=0.021262343752724643 \n",
      "[23:49:05] WARNING: ../src/learner.cc:541: \n",
      "Parameters: { nrounds } might not be used.\n",
      "\n",
      "  This may not be accurate due to some parameters are only used in language bindings but\n",
      "  passed down to XGBoost core.  Or some parameters are not used but slip through this\n",
      "  verification. Please open an issue if you find above cases.\n",
      "\n",
      "\n"
     ]
    },
    {
     "name": "stderr",
     "output_type": "stream",
     "text": [
      "/home/piotr/miniconda3/lib/python3.8/site-packages/xgboost/sklearn.py:888: UserWarning: The use of label encoder in XGBClassifier is deprecated and will be removed in a future release. To remove this warning, do the following: 1) Pass option use_label_encoder=False when constructing XGBClassifier object; and 2) Encode your labels (y) as integers starting with 0, i.e. 0, 1, 2, ..., [num_class - 1].\n",
      "  warnings.warn(label_encoder_deprecation_msg, UserWarning)\n"
     ]
    },
    {
     "name": "stdout",
     "output_type": "stream",
     "text": [
      "[23:49:05] WARNING: ../src/learner.cc:1061: Starting in XGBoost 1.3.0, the default evaluation metric used with the objective 'binary:logistic' was changed from 'error' to 'logloss'. Explicitly set eval_metric if you'd like to restore the old behavior.\n",
      "[CV]  nrounds=2222.0, min_child_weight=2.9394689845511977, lambda=47.03150375281921, eta=0.0009765625, colsample_bytree=0.8888888888888888, colsample_bylevel=0.4444444444444444, alpha=0.021262343752724643, accuracy=0.891, f1=0.218, roc_auc=0.857, total=  10.1s\n",
      "[CV] nrounds=556.0, min_child_weight=14.813995396596646, lambda=0.004556754060844206, eta=0.0098431332023037, colsample_bytree=0.4444444444444444, colsample_bylevel=1.0, alpha=219.45445961038678 \n",
      "[23:49:15] WARNING: ../src/learner.cc:541: \n",
      "Parameters: { nrounds } might not be used.\n",
      "\n",
      "  This may not be accurate due to some parameters are only used in language bindings but\n",
      "  passed down to XGBoost core.  Or some parameters are not used but slip through this\n",
      "  verification. Please open an issue if you find above cases.\n",
      "\n",
      "\n"
     ]
    },
    {
     "name": "stderr",
     "output_type": "stream",
     "text": [
      "/home/piotr/miniconda3/lib/python3.8/site-packages/xgboost/sklearn.py:888: UserWarning: The use of label encoder in XGBClassifier is deprecated and will be removed in a future release. To remove this warning, do the following: 1) Pass option use_label_encoder=False when constructing XGBClassifier object; and 2) Encode your labels (y) as integers starting with 0, i.e. 0, 1, 2, ..., [num_class - 1].\n",
      "  warnings.warn(label_encoder_deprecation_msg, UserWarning)\n"
     ]
    },
    {
     "name": "stdout",
     "output_type": "stream",
     "text": [
      "[23:49:15] WARNING: ../src/learner.cc:1061: Starting in XGBoost 1.3.0, the default evaluation metric used with the objective 'binary:logistic' was changed from 'error' to 'logloss'. Explicitly set eval_metric if you'd like to restore the old behavior.\n",
      "[CV]  nrounds=556.0, min_child_weight=14.813995396596646, lambda=0.004556754060844206, eta=0.0098431332023037, colsample_bytree=0.4444444444444444, colsample_bylevel=1.0, alpha=219.45445961038678, accuracy=0.881, f1=0.000, roc_auc=0.814, total=  10.2s\n",
      "[CV] nrounds=556.0, min_child_weight=14.813995396596646, lambda=0.004556754060844206, eta=0.0098431332023037, colsample_bytree=0.4444444444444444, colsample_bylevel=1.0, alpha=219.45445961038678 \n",
      "[23:49:25] WARNING: ../src/learner.cc:541: \n",
      "Parameters: { nrounds } might not be used.\n",
      "\n",
      "  This may not be accurate due to some parameters are only used in language bindings but\n",
      "  passed down to XGBoost core.  Or some parameters are not used but slip through this\n",
      "  verification. Please open an issue if you find above cases.\n",
      "\n",
      "\n"
     ]
    },
    {
     "name": "stderr",
     "output_type": "stream",
     "text": [
      "/home/piotr/miniconda3/lib/python3.8/site-packages/xgboost/sklearn.py:888: UserWarning: The use of label encoder in XGBClassifier is deprecated and will be removed in a future release. To remove this warning, do the following: 1) Pass option use_label_encoder=False when constructing XGBClassifier object; and 2) Encode your labels (y) as integers starting with 0, i.e. 0, 1, 2, ..., [num_class - 1].\n",
      "  warnings.warn(label_encoder_deprecation_msg, UserWarning)\n"
     ]
    },
    {
     "name": "stdout",
     "output_type": "stream",
     "text": [
      "[23:49:25] WARNING: ../src/learner.cc:1061: Starting in XGBoost 1.3.0, the default evaluation metric used with the objective 'binary:logistic' was changed from 'error' to 'logloss'. Explicitly set eval_metric if you'd like to restore the old behavior.\n",
      "[CV]  nrounds=556.0, min_child_weight=14.813995396596646, lambda=0.004556754060844206, eta=0.0098431332023037, colsample_bytree=0.4444444444444444, colsample_bylevel=1.0, alpha=219.45445961038678, accuracy=0.881, f1=0.000, roc_auc=0.814, total=  10.2s\n",
      "[CV] nrounds=556.0, min_child_weight=14.813995396596646, lambda=0.004556754060844206, eta=0.0098431332023037, colsample_bytree=0.4444444444444444, colsample_bylevel=1.0, alpha=219.45445961038678 \n",
      "[23:49:35] WARNING: ../src/learner.cc:541: \n",
      "Parameters: { nrounds } might not be used.\n",
      "\n",
      "  This may not be accurate due to some parameters are only used in language bindings but\n",
      "  passed down to XGBoost core.  Or some parameters are not used but slip through this\n",
      "  verification. Please open an issue if you find above cases.\n",
      "\n",
      "\n"
     ]
    },
    {
     "name": "stderr",
     "output_type": "stream",
     "text": [
      "/home/piotr/miniconda3/lib/python3.8/site-packages/xgboost/sklearn.py:888: UserWarning: The use of label encoder in XGBClassifier is deprecated and will be removed in a future release. To remove this warning, do the following: 1) Pass option use_label_encoder=False when constructing XGBClassifier object; and 2) Encode your labels (y) as integers starting with 0, i.e. 0, 1, 2, ..., [num_class - 1].\n",
      "  warnings.warn(label_encoder_deprecation_msg, UserWarning)\n"
     ]
    },
    {
     "name": "stdout",
     "output_type": "stream",
     "text": [
      "[23:49:36] WARNING: ../src/learner.cc:1061: Starting in XGBoost 1.3.0, the default evaluation metric used with the objective 'binary:logistic' was changed from 'error' to 'logloss'. Explicitly set eval_metric if you'd like to restore the old behavior.\n",
      "[CV]  nrounds=556.0, min_child_weight=14.813995396596646, lambda=0.004556754060844206, eta=0.0098431332023037, colsample_bytree=0.4444444444444444, colsample_bylevel=1.0, alpha=219.45445961038678, accuracy=0.881, f1=0.000, roc_auc=0.818, total=   9.9s\n",
      "[CV] nrounds=556.0, min_child_weight=14.813995396596646, lambda=0.004556754060844206, eta=0.0098431332023037, colsample_bytree=0.4444444444444444, colsample_bylevel=1.0, alpha=219.45445961038678 \n",
      "[23:49:45] WARNING: ../src/learner.cc:541: \n",
      "Parameters: { nrounds } might not be used.\n",
      "\n",
      "  This may not be accurate due to some parameters are only used in language bindings but\n",
      "  passed down to XGBoost core.  Or some parameters are not used but slip through this\n",
      "  verification. Please open an issue if you find above cases.\n",
      "\n",
      "\n"
     ]
    },
    {
     "name": "stderr",
     "output_type": "stream",
     "text": [
      "/home/piotr/miniconda3/lib/python3.8/site-packages/xgboost/sklearn.py:888: UserWarning: The use of label encoder in XGBClassifier is deprecated and will be removed in a future release. To remove this warning, do the following: 1) Pass option use_label_encoder=False when constructing XGBClassifier object; and 2) Encode your labels (y) as integers starting with 0, i.e. 0, 1, 2, ..., [num_class - 1].\n",
      "  warnings.warn(label_encoder_deprecation_msg, UserWarning)\n"
     ]
    },
    {
     "name": "stdout",
     "output_type": "stream",
     "text": [
      "[23:49:45] WARNING: ../src/learner.cc:1061: Starting in XGBoost 1.3.0, the default evaluation metric used with the objective 'binary:logistic' was changed from 'error' to 'logloss'. Explicitly set eval_metric if you'd like to restore the old behavior.\n",
      "[CV]  nrounds=556.0, min_child_weight=14.813995396596646, lambda=0.004556754060844206, eta=0.0098431332023037, colsample_bytree=0.4444444444444444, colsample_bylevel=1.0, alpha=219.45445961038678, accuracy=0.880, f1=0.000, roc_auc=0.833, total=   9.8s\n",
      "[CV] nrounds=556.0, min_child_weight=14.813995396596646, lambda=0.004556754060844206, eta=0.0098431332023037, colsample_bytree=0.4444444444444444, colsample_bylevel=1.0, alpha=219.45445961038678 \n",
      "[23:49:55] WARNING: ../src/learner.cc:541: \n",
      "Parameters: { nrounds } might not be used.\n",
      "\n",
      "  This may not be accurate due to some parameters are only used in language bindings but\n",
      "  passed down to XGBoost core.  Or some parameters are not used but slip through this\n",
      "  verification. Please open an issue if you find above cases.\n",
      "\n",
      "\n"
     ]
    },
    {
     "name": "stderr",
     "output_type": "stream",
     "text": [
      "/home/piotr/miniconda3/lib/python3.8/site-packages/xgboost/sklearn.py:888: UserWarning: The use of label encoder in XGBClassifier is deprecated and will be removed in a future release. To remove this warning, do the following: 1) Pass option use_label_encoder=False when constructing XGBClassifier object; and 2) Encode your labels (y) as integers starting with 0, i.e. 0, 1, 2, ..., [num_class - 1].\n",
      "  warnings.warn(label_encoder_deprecation_msg, UserWarning)\n"
     ]
    },
    {
     "name": "stdout",
     "output_type": "stream",
     "text": [
      "[23:49:55] WARNING: ../src/learner.cc:1061: Starting in XGBoost 1.3.0, the default evaluation metric used with the objective 'binary:logistic' was changed from 'error' to 'logloss'. Explicitly set eval_metric if you'd like to restore the old behavior.\n",
      "[CV]  nrounds=556.0, min_child_weight=14.813995396596646, lambda=0.004556754060844206, eta=0.0098431332023037, colsample_bytree=0.4444444444444444, colsample_bylevel=1.0, alpha=219.45445961038678, accuracy=0.880, f1=0.000, roc_auc=0.843, total=   9.8s\n",
      "[CV] nrounds=1111.0, min_child_weight=128.0, lambda=0.09921256574801249, eta=0.004556754060844206, colsample_bytree=0.2222222222222222, colsample_bylevel=0.8888888888888888, alpha=10.079368399158989 \n",
      "[23:50:05] WARNING: ../src/learner.cc:541: \n",
      "Parameters: { nrounds } might not be used.\n",
      "\n",
      "  This may not be accurate due to some parameters are only used in language bindings but\n",
      "  passed down to XGBoost core.  Or some parameters are not used but slip through this\n",
      "  verification. Please open an issue if you find above cases.\n",
      "\n",
      "\n",
      "[23:50:05] WARNING: ../src/learner.cc:1061: Starting in XGBoost 1.3.0, the default evaluation metric used with the objective 'binary:logistic' was changed from 'error' to 'logloss'. Explicitly set eval_metric if you'd like to restore the old behavior.\n"
     ]
    },
    {
     "name": "stderr",
     "output_type": "stream",
     "text": [
      "/home/piotr/miniconda3/lib/python3.8/site-packages/xgboost/sklearn.py:888: UserWarning: The use of label encoder in XGBClassifier is deprecated and will be removed in a future release. To remove this warning, do the following: 1) Pass option use_label_encoder=False when constructing XGBClassifier object; and 2) Encode your labels (y) as integers starting with 0, i.e. 0, 1, 2, ..., [num_class - 1].\n",
      "  warnings.warn(label_encoder_deprecation_msg, UserWarning)\n"
     ]
    },
    {
     "name": "stdout",
     "output_type": "stream",
     "text": [
      "[CV]  nrounds=1111.0, min_child_weight=128.0, lambda=0.09921256574801249, eta=0.004556754060844206, colsample_bytree=0.2222222222222222, colsample_bylevel=0.8888888888888888, alpha=10.079368399158989, accuracy=0.884, f1=0.069, roc_auc=0.858, total=   3.5s\n",
      "[CV] nrounds=1111.0, min_child_weight=128.0, lambda=0.09921256574801249, eta=0.004556754060844206, colsample_bytree=0.2222222222222222, colsample_bylevel=0.8888888888888888, alpha=10.079368399158989 \n",
      "[23:50:08] WARNING: ../src/learner.cc:541: \n",
      "Parameters: { nrounds } might not be used.\n",
      "\n",
      "  This may not be accurate due to some parameters are only used in language bindings but\n",
      "  passed down to XGBoost core.  Or some parameters are not used but slip through this\n",
      "  verification. Please open an issue if you find above cases.\n",
      "\n",
      "\n",
      "[23:50:09] WARNING: ../src/learner.cc:1061: Starting in XGBoost 1.3.0, the default evaluation metric used with the objective 'binary:logistic' was changed from 'error' to 'logloss'. Explicitly set eval_metric if you'd like to restore the old behavior.\n"
     ]
    },
    {
     "name": "stderr",
     "output_type": "stream",
     "text": [
      "/home/piotr/miniconda3/lib/python3.8/site-packages/xgboost/sklearn.py:888: UserWarning: The use of label encoder in XGBClassifier is deprecated and will be removed in a future release. To remove this warning, do the following: 1) Pass option use_label_encoder=False when constructing XGBClassifier object; and 2) Encode your labels (y) as integers starting with 0, i.e. 0, 1, 2, ..., [num_class - 1].\n",
      "  warnings.warn(label_encoder_deprecation_msg, UserWarning)\n"
     ]
    },
    {
     "name": "stdout",
     "output_type": "stream",
     "text": [
      "[CV]  nrounds=1111.0, min_child_weight=128.0, lambda=0.09921256574801249, eta=0.004556754060844206, colsample_bytree=0.2222222222222222, colsample_bylevel=0.8888888888888888, alpha=10.079368399158989, accuracy=0.884, f1=0.065, roc_auc=0.850, total=   3.5s\n",
      "[CV] nrounds=1111.0, min_child_weight=128.0, lambda=0.09921256574801249, eta=0.004556754060844206, colsample_bytree=0.2222222222222222, colsample_bylevel=0.8888888888888888, alpha=10.079368399158989 \n",
      "[23:50:12] WARNING: ../src/learner.cc:541: \n",
      "Parameters: { nrounds } might not be used.\n",
      "\n",
      "  This may not be accurate due to some parameters are only used in language bindings but\n",
      "  passed down to XGBoost core.  Or some parameters are not used but slip through this\n",
      "  verification. Please open an issue if you find above cases.\n",
      "\n",
      "\n",
      "[23:50:12] WARNING: ../src/learner.cc:1061: Starting in XGBoost 1.3.0, the default evaluation metric used with the objective 'binary:logistic' was changed from 'error' to 'logloss'. Explicitly set eval_metric if you'd like to restore the old behavior.\n"
     ]
    },
    {
     "name": "stderr",
     "output_type": "stream",
     "text": [
      "/home/piotr/miniconda3/lib/python3.8/site-packages/xgboost/sklearn.py:888: UserWarning: The use of label encoder in XGBClassifier is deprecated and will be removed in a future release. To remove this warning, do the following: 1) Pass option use_label_encoder=False when constructing XGBClassifier object; and 2) Encode your labels (y) as integers starting with 0, i.e. 0, 1, 2, ..., [num_class - 1].\n",
      "  warnings.warn(label_encoder_deprecation_msg, UserWarning)\n"
     ]
    },
    {
     "name": "stdout",
     "output_type": "stream",
     "text": [
      "[CV]  nrounds=1111.0, min_child_weight=128.0, lambda=0.09921256574801249, eta=0.004556754060844206, colsample_bytree=0.2222222222222222, colsample_bylevel=0.8888888888888888, alpha=10.079368399158989, accuracy=0.882, f1=0.044, roc_auc=0.860, total=   3.6s\n",
      "[CV] nrounds=1111.0, min_child_weight=128.0, lambda=0.09921256574801249, eta=0.004556754060844206, colsample_bytree=0.2222222222222222, colsample_bylevel=0.8888888888888888, alpha=10.079368399158989 \n",
      "[23:50:15] WARNING: ../src/learner.cc:541: \n",
      "Parameters: { nrounds } might not be used.\n",
      "\n",
      "  This may not be accurate due to some parameters are only used in language bindings but\n",
      "  passed down to XGBoost core.  Or some parameters are not used but slip through this\n",
      "  verification. Please open an issue if you find above cases.\n",
      "\n",
      "\n",
      "[23:50:16] WARNING: ../src/learner.cc:1061: Starting in XGBoost 1.3.0, the default evaluation metric used with the objective 'binary:logistic' was changed from 'error' to 'logloss'. Explicitly set eval_metric if you'd like to restore the old behavior.\n"
     ]
    },
    {
     "name": "stderr",
     "output_type": "stream",
     "text": [
      "/home/piotr/miniconda3/lib/python3.8/site-packages/xgboost/sklearn.py:888: UserWarning: The use of label encoder in XGBClassifier is deprecated and will be removed in a future release. To remove this warning, do the following: 1) Pass option use_label_encoder=False when constructing XGBClassifier object; and 2) Encode your labels (y) as integers starting with 0, i.e. 0, 1, 2, ..., [num_class - 1].\n",
      "  warnings.warn(label_encoder_deprecation_msg, UserWarning)\n"
     ]
    },
    {
     "name": "stdout",
     "output_type": "stream",
     "text": [
      "[CV]  nrounds=1111.0, min_child_weight=128.0, lambda=0.09921256574801249, eta=0.004556754060844206, colsample_bytree=0.2222222222222222, colsample_bylevel=0.8888888888888888, alpha=10.079368399158989, accuracy=0.882, f1=0.051, roc_auc=0.867, total=   3.5s\n",
      "[CV] nrounds=1111.0, min_child_weight=128.0, lambda=0.09921256574801249, eta=0.004556754060844206, colsample_bytree=0.2222222222222222, colsample_bylevel=0.8888888888888888, alpha=10.079368399158989 \n",
      "[23:50:19] WARNING: ../src/learner.cc:541: \n",
      "Parameters: { nrounds } might not be used.\n",
      "\n",
      "  This may not be accurate due to some parameters are only used in language bindings but\n",
      "  passed down to XGBoost core.  Or some parameters are not used but slip through this\n",
      "  verification. Please open an issue if you find above cases.\n",
      "\n",
      "\n",
      "[23:50:19] WARNING: ../src/learner.cc:1061: Starting in XGBoost 1.3.0, the default evaluation metric used with the objective 'binary:logistic' was changed from 'error' to 'logloss'. Explicitly set eval_metric if you'd like to restore the old behavior.\n"
     ]
    },
    {
     "name": "stderr",
     "output_type": "stream",
     "text": [
      "/home/piotr/miniconda3/lib/python3.8/site-packages/xgboost/sklearn.py:888: UserWarning: The use of label encoder in XGBClassifier is deprecated and will be removed in a future release. To remove this warning, do the following: 1) Pass option use_label_encoder=False when constructing XGBClassifier object; and 2) Encode your labels (y) as integers starting with 0, i.e. 0, 1, 2, ..., [num_class - 1].\n",
      "  warnings.warn(label_encoder_deprecation_msg, UserWarning)\n"
     ]
    },
    {
     "name": "stdout",
     "output_type": "stream",
     "text": [
      "[CV]  nrounds=1111.0, min_child_weight=128.0, lambda=0.09921256574801249, eta=0.004556754060844206, colsample_bytree=0.2222222222222222, colsample_bylevel=0.8888888888888888, alpha=10.079368399158989, accuracy=0.883, f1=0.051, roc_auc=0.872, total=   3.5s\n",
      "[CV] nrounds=2778.0, min_child_weight=74.65785853287147, lambda=0.0009765625, eta=1.0, colsample_bytree=0.8888888888888888, colsample_bylevel=0.8888888888888888, alpha=0.09921256574801249 \n",
      "[23:50:22] WARNING: ../src/learner.cc:541: \n",
      "Parameters: { nrounds } might not be used.\n",
      "\n",
      "  This may not be accurate due to some parameters are only used in language bindings but\n",
      "  passed down to XGBoost core.  Or some parameters are not used but slip through this\n",
      "  verification. Please open an issue if you find above cases.\n",
      "\n",
      "\n"
     ]
    },
    {
     "name": "stderr",
     "output_type": "stream",
     "text": [
      "/home/piotr/miniconda3/lib/python3.8/site-packages/xgboost/sklearn.py:888: UserWarning: The use of label encoder in XGBClassifier is deprecated and will be removed in a future release. To remove this warning, do the following: 1) Pass option use_label_encoder=False when constructing XGBClassifier object; and 2) Encode your labels (y) as integers starting with 0, i.e. 0, 1, 2, ..., [num_class - 1].\n",
      "  warnings.warn(label_encoder_deprecation_msg, UserWarning)\n"
     ]
    },
    {
     "name": "stdout",
     "output_type": "stream",
     "text": [
      "[23:50:23] WARNING: ../src/learner.cc:1061: Starting in XGBoost 1.3.0, the default evaluation metric used with the objective 'binary:logistic' was changed from 'error' to 'logloss'. Explicitly set eval_metric if you'd like to restore the old behavior.\n",
      "[CV]  nrounds=2778.0, min_child_weight=74.65785853287147, lambda=0.0009765625, eta=1.0, colsample_bytree=0.8888888888888888, colsample_bylevel=0.8888888888888888, alpha=0.09921256574801249, accuracy=0.897, f1=0.541, roc_auc=0.892, total=  10.2s\n",
      "[CV] nrounds=2778.0, min_child_weight=74.65785853287147, lambda=0.0009765625, eta=1.0, colsample_bytree=0.8888888888888888, colsample_bylevel=0.8888888888888888, alpha=0.09921256574801249 \n",
      "[23:50:33] WARNING: ../src/learner.cc:541: \n",
      "Parameters: { nrounds } might not be used.\n",
      "\n",
      "  This may not be accurate due to some parameters are only used in language bindings but\n",
      "  passed down to XGBoost core.  Or some parameters are not used but slip through this\n",
      "  verification. Please open an issue if you find above cases.\n",
      "\n",
      "\n"
     ]
    },
    {
     "name": "stderr",
     "output_type": "stream",
     "text": [
      "/home/piotr/miniconda3/lib/python3.8/site-packages/xgboost/sklearn.py:888: UserWarning: The use of label encoder in XGBClassifier is deprecated and will be removed in a future release. To remove this warning, do the following: 1) Pass option use_label_encoder=False when constructing XGBClassifier object; and 2) Encode your labels (y) as integers starting with 0, i.e. 0, 1, 2, ..., [num_class - 1].\n",
      "  warnings.warn(label_encoder_deprecation_msg, UserWarning)\n"
     ]
    },
    {
     "name": "stdout",
     "output_type": "stream",
     "text": [
      "[23:50:33] WARNING: ../src/learner.cc:1061: Starting in XGBoost 1.3.0, the default evaluation metric used with the objective 'binary:logistic' was changed from 'error' to 'logloss'. Explicitly set eval_metric if you'd like to restore the old behavior.\n",
      "[CV]  nrounds=2778.0, min_child_weight=74.65785853287147, lambda=0.0009765625, eta=1.0, colsample_bytree=0.8888888888888888, colsample_bylevel=0.8888888888888888, alpha=0.09921256574801249, accuracy=0.894, f1=0.515, roc_auc=0.880, total=  10.3s\n",
      "[CV] nrounds=2778.0, min_child_weight=74.65785853287147, lambda=0.0009765625, eta=1.0, colsample_bytree=0.8888888888888888, colsample_bylevel=0.8888888888888888, alpha=0.09921256574801249 \n",
      "[23:50:43] WARNING: ../src/learner.cc:541: \n",
      "Parameters: { nrounds } might not be used.\n",
      "\n",
      "  This may not be accurate due to some parameters are only used in language bindings but\n",
      "  passed down to XGBoost core.  Or some parameters are not used but slip through this\n",
      "  verification. Please open an issue if you find above cases.\n",
      "\n",
      "\n"
     ]
    },
    {
     "name": "stderr",
     "output_type": "stream",
     "text": [
      "/home/piotr/miniconda3/lib/python3.8/site-packages/xgboost/sklearn.py:888: UserWarning: The use of label encoder in XGBClassifier is deprecated and will be removed in a future release. To remove this warning, do the following: 1) Pass option use_label_encoder=False when constructing XGBClassifier object; and 2) Encode your labels (y) as integers starting with 0, i.e. 0, 1, 2, ..., [num_class - 1].\n",
      "  warnings.warn(label_encoder_deprecation_msg, UserWarning)\n"
     ]
    },
    {
     "name": "stdout",
     "output_type": "stream",
     "text": [
      "[23:50:43] WARNING: ../src/learner.cc:1061: Starting in XGBoost 1.3.0, the default evaluation metric used with the objective 'binary:logistic' was changed from 'error' to 'logloss'. Explicitly set eval_metric if you'd like to restore the old behavior.\n",
      "[CV]  nrounds=2778.0, min_child_weight=74.65785853287147, lambda=0.0009765625, eta=1.0, colsample_bytree=0.8888888888888888, colsample_bylevel=0.8888888888888888, alpha=0.09921256574801249, accuracy=0.895, f1=0.521, roc_auc=0.900, total=  10.4s\n",
      "[CV] nrounds=2778.0, min_child_weight=74.65785853287147, lambda=0.0009765625, eta=1.0, colsample_bytree=0.8888888888888888, colsample_bylevel=0.8888888888888888, alpha=0.09921256574801249 \n",
      "[23:50:53] WARNING: ../src/learner.cc:541: \n",
      "Parameters: { nrounds } might not be used.\n",
      "\n",
      "  This may not be accurate due to some parameters are only used in language bindings but\n",
      "  passed down to XGBoost core.  Or some parameters are not used but slip through this\n",
      "  verification. Please open an issue if you find above cases.\n",
      "\n",
      "\n"
     ]
    },
    {
     "name": "stderr",
     "output_type": "stream",
     "text": [
      "/home/piotr/miniconda3/lib/python3.8/site-packages/xgboost/sklearn.py:888: UserWarning: The use of label encoder in XGBClassifier is deprecated and will be removed in a future release. To remove this warning, do the following: 1) Pass option use_label_encoder=False when constructing XGBClassifier object; and 2) Encode your labels (y) as integers starting with 0, i.e. 0, 1, 2, ..., [num_class - 1].\n",
      "  warnings.warn(label_encoder_deprecation_msg, UserWarning)\n"
     ]
    },
    {
     "name": "stdout",
     "output_type": "stream",
     "text": [
      "[23:50:54] WARNING: ../src/learner.cc:1061: Starting in XGBoost 1.3.0, the default evaluation metric used with the objective 'binary:logistic' was changed from 'error' to 'logloss'. Explicitly set eval_metric if you'd like to restore the old behavior.\n",
      "[CV]  nrounds=2778.0, min_child_weight=74.65785853287147, lambda=0.0009765625, eta=1.0, colsample_bytree=0.8888888888888888, colsample_bylevel=0.8888888888888888, alpha=0.09921256574801249, accuracy=0.899, f1=0.528, roc_auc=0.892, total=  11.1s\n",
      "[CV] nrounds=2778.0, min_child_weight=74.65785853287147, lambda=0.0009765625, eta=1.0, colsample_bytree=0.8888888888888888, colsample_bylevel=0.8888888888888888, alpha=0.09921256574801249 \n",
      "[23:51:05] WARNING: ../src/learner.cc:541: \n",
      "Parameters: { nrounds } might not be used.\n",
      "\n",
      "  This may not be accurate due to some parameters are only used in language bindings but\n",
      "  passed down to XGBoost core.  Or some parameters are not used but slip through this\n",
      "  verification. Please open an issue if you find above cases.\n",
      "\n",
      "\n"
     ]
    },
    {
     "name": "stderr",
     "output_type": "stream",
     "text": [
      "/home/piotr/miniconda3/lib/python3.8/site-packages/xgboost/sklearn.py:888: UserWarning: The use of label encoder in XGBClassifier is deprecated and will be removed in a future release. To remove this warning, do the following: 1) Pass option use_label_encoder=False when constructing XGBClassifier object; and 2) Encode your labels (y) as integers starting with 0, i.e. 0, 1, 2, ..., [num_class - 1].\n",
      "  warnings.warn(label_encoder_deprecation_msg, UserWarning)\n"
     ]
    },
    {
     "name": "stdout",
     "output_type": "stream",
     "text": [
      "[23:51:05] WARNING: ../src/learner.cc:1061: Starting in XGBoost 1.3.0, the default evaluation metric used with the objective 'binary:logistic' was changed from 'error' to 'logloss'. Explicitly set eval_metric if you'd like to restore the old behavior.\n",
      "[CV]  nrounds=2778.0, min_child_weight=74.65785853287147, lambda=0.0009765625, eta=1.0, colsample_bytree=0.8888888888888888, colsample_bylevel=0.8888888888888888, alpha=0.09921256574801249, accuracy=0.894, f1=0.506, roc_auc=0.880, total=  10.3s\n",
      "[CV] nrounds=2222.0, min_child_weight=1.0, lambda=1024.0, eta=0.045929202883612456, colsample_bytree=0.2222222222222222, colsample_bylevel=0.6666666666666666, alpha=47.03150375281921 \n",
      "[23:51:15] WARNING: ../src/learner.cc:541: \n",
      "Parameters: { nrounds } might not be used.\n",
      "\n",
      "  This may not be accurate due to some parameters are only used in language bindings but\n",
      "  passed down to XGBoost core.  Or some parameters are not used but slip through this\n",
      "  verification. Please open an issue if you find above cases.\n",
      "\n",
      "\n",
      "[23:51:15] WARNING: ../src/learner.cc:1061: Starting in XGBoost 1.3.0, the default evaluation metric used with the objective 'binary:logistic' was changed from 'error' to 'logloss'. Explicitly set eval_metric if you'd like to restore the old behavior.\n"
     ]
    },
    {
     "name": "stderr",
     "output_type": "stream",
     "text": [
      "/home/piotr/miniconda3/lib/python3.8/site-packages/xgboost/sklearn.py:888: UserWarning: The use of label encoder in XGBClassifier is deprecated and will be removed in a future release. To remove this warning, do the following: 1) Pass option use_label_encoder=False when constructing XGBClassifier object; and 2) Encode your labels (y) as integers starting with 0, i.e. 0, 1, 2, ..., [num_class - 1].\n",
      "  warnings.warn(label_encoder_deprecation_msg, UserWarning)\n"
     ]
    },
    {
     "name": "stdout",
     "output_type": "stream",
     "text": [
      "[CV]  nrounds=2222.0, min_child_weight=1.0, lambda=1024.0, eta=0.045929202883612456, colsample_bytree=0.2222222222222222, colsample_bylevel=0.6666666666666666, alpha=47.03150375281921, accuracy=0.886, f1=0.128, roc_auc=0.860, total=   4.2s\n",
      "[CV] nrounds=2222.0, min_child_weight=1.0, lambda=1024.0, eta=0.045929202883612456, colsample_bytree=0.2222222222222222, colsample_bylevel=0.6666666666666666, alpha=47.03150375281921 \n",
      "[23:51:19] WARNING: ../src/learner.cc:541: \n",
      "Parameters: { nrounds } might not be used.\n",
      "\n",
      "  This may not be accurate due to some parameters are only used in language bindings but\n",
      "  passed down to XGBoost core.  Or some parameters are not used but slip through this\n",
      "  verification. Please open an issue if you find above cases.\n",
      "\n",
      "\n",
      "[23:51:19] WARNING: ../src/learner.cc:1061: Starting in XGBoost 1.3.0, the default evaluation metric used with the objective 'binary:logistic' was changed from 'error' to 'logloss'. Explicitly set eval_metric if you'd like to restore the old behavior.\n"
     ]
    },
    {
     "name": "stderr",
     "output_type": "stream",
     "text": [
      "/home/piotr/miniconda3/lib/python3.8/site-packages/xgboost/sklearn.py:888: UserWarning: The use of label encoder in XGBClassifier is deprecated and will be removed in a future release. To remove this warning, do the following: 1) Pass option use_label_encoder=False when constructing XGBClassifier object; and 2) Encode your labels (y) as integers starting with 0, i.e. 0, 1, 2, ..., [num_class - 1].\n",
      "  warnings.warn(label_encoder_deprecation_msg, UserWarning)\n"
     ]
    },
    {
     "name": "stdout",
     "output_type": "stream",
     "text": [
      "[CV]  nrounds=2222.0, min_child_weight=1.0, lambda=1024.0, eta=0.045929202883612456, colsample_bytree=0.2222222222222222, colsample_bylevel=0.6666666666666666, alpha=47.03150375281921, accuracy=0.885, f1=0.118, roc_auc=0.852, total=   4.1s\n",
      "[CV] nrounds=2222.0, min_child_weight=1.0, lambda=1024.0, eta=0.045929202883612456, colsample_bytree=0.2222222222222222, colsample_bylevel=0.6666666666666666, alpha=47.03150375281921 \n",
      "[23:51:23] WARNING: ../src/learner.cc:541: \n",
      "Parameters: { nrounds } might not be used.\n",
      "\n",
      "  This may not be accurate due to some parameters are only used in language bindings but\n",
      "  passed down to XGBoost core.  Or some parameters are not used but slip through this\n",
      "  verification. Please open an issue if you find above cases.\n",
      "\n",
      "\n",
      "[23:51:23] WARNING: ../src/learner.cc:1061: Starting in XGBoost 1.3.0, the default evaluation metric used with the objective 'binary:logistic' was changed from 'error' to 'logloss'. Explicitly set eval_metric if you'd like to restore the old behavior.\n"
     ]
    },
    {
     "name": "stderr",
     "output_type": "stream",
     "text": [
      "/home/piotr/miniconda3/lib/python3.8/site-packages/xgboost/sklearn.py:888: UserWarning: The use of label encoder in XGBClassifier is deprecated and will be removed in a future release. To remove this warning, do the following: 1) Pass option use_label_encoder=False when constructing XGBClassifier object; and 2) Encode your labels (y) as integers starting with 0, i.e. 0, 1, 2, ..., [num_class - 1].\n",
      "  warnings.warn(label_encoder_deprecation_msg, UserWarning)\n"
     ]
    },
    {
     "name": "stdout",
     "output_type": "stream",
     "text": [
      "[CV]  nrounds=2222.0, min_child_weight=1.0, lambda=1024.0, eta=0.045929202883612456, colsample_bytree=0.2222222222222222, colsample_bylevel=0.6666666666666666, alpha=47.03150375281921, accuracy=0.883, f1=0.098, roc_auc=0.857, total=   4.2s\n",
      "[CV] nrounds=2222.0, min_child_weight=1.0, lambda=1024.0, eta=0.045929202883612456, colsample_bytree=0.2222222222222222, colsample_bylevel=0.6666666666666666, alpha=47.03150375281921 \n",
      "[23:51:27] WARNING: ../src/learner.cc:541: \n",
      "Parameters: { nrounds } might not be used.\n",
      "\n",
      "  This may not be accurate due to some parameters are only used in language bindings but\n",
      "  passed down to XGBoost core.  Or some parameters are not used but slip through this\n",
      "  verification. Please open an issue if you find above cases.\n",
      "\n",
      "\n",
      "[23:51:27] WARNING: ../src/learner.cc:1061: Starting in XGBoost 1.3.0, the default evaluation metric used with the objective 'binary:logistic' was changed from 'error' to 'logloss'. Explicitly set eval_metric if you'd like to restore the old behavior.\n"
     ]
    },
    {
     "name": "stderr",
     "output_type": "stream",
     "text": [
      "/home/piotr/miniconda3/lib/python3.8/site-packages/xgboost/sklearn.py:888: UserWarning: The use of label encoder in XGBClassifier is deprecated and will be removed in a future release. To remove this warning, do the following: 1) Pass option use_label_encoder=False when constructing XGBClassifier object; and 2) Encode your labels (y) as integers starting with 0, i.e. 0, 1, 2, ..., [num_class - 1].\n",
      "  warnings.warn(label_encoder_deprecation_msg, UserWarning)\n"
     ]
    },
    {
     "name": "stdout",
     "output_type": "stream",
     "text": [
      "[CV]  nrounds=2222.0, min_child_weight=1.0, lambda=1024.0, eta=0.045929202883612456, colsample_bytree=0.2222222222222222, colsample_bylevel=0.6666666666666666, alpha=47.03150375281921, accuracy=0.886, f1=0.125, roc_auc=0.867, total=   4.1s\n",
      "[CV] nrounds=2222.0, min_child_weight=1.0, lambda=1024.0, eta=0.045929202883612456, colsample_bytree=0.2222222222222222, colsample_bylevel=0.6666666666666666, alpha=47.03150375281921 \n",
      "[23:51:31] WARNING: ../src/learner.cc:541: \n",
      "Parameters: { nrounds } might not be used.\n",
      "\n",
      "  This may not be accurate due to some parameters are only used in language bindings but\n",
      "  passed down to XGBoost core.  Or some parameters are not used but slip through this\n",
      "  verification. Please open an issue if you find above cases.\n",
      "\n",
      "\n",
      "[23:51:32] WARNING: ../src/learner.cc:1061: Starting in XGBoost 1.3.0, the default evaluation metric used with the objective 'binary:logistic' was changed from 'error' to 'logloss'. Explicitly set eval_metric if you'd like to restore the old behavior.\n"
     ]
    },
    {
     "name": "stderr",
     "output_type": "stream",
     "text": [
      "/home/piotr/miniconda3/lib/python3.8/site-packages/xgboost/sklearn.py:888: UserWarning: The use of label encoder in XGBClassifier is deprecated and will be removed in a future release. To remove this warning, do the following: 1) Pass option use_label_encoder=False when constructing XGBClassifier object; and 2) Encode your labels (y) as integers starting with 0, i.e. 0, 1, 2, ..., [num_class - 1].\n",
      "  warnings.warn(label_encoder_deprecation_msg, UserWarning)\n"
     ]
    },
    {
     "name": "stdout",
     "output_type": "stream",
     "text": [
      "[CV]  nrounds=2222.0, min_child_weight=1.0, lambda=1024.0, eta=0.045929202883612456, colsample_bytree=0.2222222222222222, colsample_bylevel=0.6666666666666666, alpha=47.03150375281921, accuracy=0.885, f1=0.124, roc_auc=0.871, total=   4.2s\n",
      "[CV] nrounds=1667.0, min_child_weight=14.813995396596646, lambda=1024.0, eta=0.09921256574801249, colsample_bytree=0.2222222222222222, colsample_bylevel=0.7777777777777777, alpha=47.03150375281921 \n",
      "[23:51:36] WARNING: ../src/learner.cc:541: \n",
      "Parameters: { nrounds } might not be used.\n",
      "\n",
      "  This may not be accurate due to some parameters are only used in language bindings but\n",
      "  passed down to XGBoost core.  Or some parameters are not used but slip through this\n",
      "  verification. Please open an issue if you find above cases.\n",
      "\n",
      "\n"
     ]
    },
    {
     "name": "stderr",
     "output_type": "stream",
     "text": [
      "/home/piotr/miniconda3/lib/python3.8/site-packages/xgboost/sklearn.py:888: UserWarning: The use of label encoder in XGBClassifier is deprecated and will be removed in a future release. To remove this warning, do the following: 1) Pass option use_label_encoder=False when constructing XGBClassifier object; and 2) Encode your labels (y) as integers starting with 0, i.e. 0, 1, 2, ..., [num_class - 1].\n",
      "  warnings.warn(label_encoder_deprecation_msg, UserWarning)\n"
     ]
    },
    {
     "name": "stdout",
     "output_type": "stream",
     "text": [
      "[23:51:36] WARNING: ../src/learner.cc:1061: Starting in XGBoost 1.3.0, the default evaluation metric used with the objective 'binary:logistic' was changed from 'error' to 'logloss'. Explicitly set eval_metric if you'd like to restore the old behavior.\n",
      "[CV]  nrounds=1667.0, min_child_weight=14.813995396596646, lambda=1024.0, eta=0.09921256574801249, colsample_bytree=0.2222222222222222, colsample_bylevel=0.7777777777777777, alpha=47.03150375281921, accuracy=0.891, f1=0.244, roc_auc=0.879, total=   4.7s\n",
      "[CV] nrounds=1667.0, min_child_weight=14.813995396596646, lambda=1024.0, eta=0.09921256574801249, colsample_bytree=0.2222222222222222, colsample_bylevel=0.7777777777777777, alpha=47.03150375281921 \n",
      "[23:51:40] WARNING: ../src/learner.cc:541: \n",
      "Parameters: { nrounds } might not be used.\n",
      "\n",
      "  This may not be accurate due to some parameters are only used in language bindings but\n",
      "  passed down to XGBoost core.  Or some parameters are not used but slip through this\n",
      "  verification. Please open an issue if you find above cases.\n",
      "\n",
      "\n",
      "[23:51:41] WARNING: ../src/learner.cc:1061: Starting in XGBoost 1.3.0, the default evaluation metric used with the objective 'binary:logistic' was changed from 'error' to 'logloss'. Explicitly set eval_metric if you'd like to restore the old behavior.\n"
     ]
    },
    {
     "name": "stderr",
     "output_type": "stream",
     "text": [
      "/home/piotr/miniconda3/lib/python3.8/site-packages/xgboost/sklearn.py:888: UserWarning: The use of label encoder in XGBClassifier is deprecated and will be removed in a future release. To remove this warning, do the following: 1) Pass option use_label_encoder=False when constructing XGBClassifier object; and 2) Encode your labels (y) as integers starting with 0, i.e. 0, 1, 2, ..., [num_class - 1].\n",
      "  warnings.warn(label_encoder_deprecation_msg, UserWarning)\n"
     ]
    },
    {
     "name": "stdout",
     "output_type": "stream",
     "text": [
      "[CV]  nrounds=1667.0, min_child_weight=14.813995396596646, lambda=1024.0, eta=0.09921256574801249, colsample_bytree=0.2222222222222222, colsample_bylevel=0.7777777777777777, alpha=47.03150375281921, accuracy=0.888, f1=0.242, roc_auc=0.877, total=   4.6s\n",
      "[CV] nrounds=1667.0, min_child_weight=14.813995396596646, lambda=1024.0, eta=0.09921256574801249, colsample_bytree=0.2222222222222222, colsample_bylevel=0.7777777777777777, alpha=47.03150375281921 \n",
      "[23:51:45] WARNING: ../src/learner.cc:541: \n",
      "Parameters: { nrounds } might not be used.\n",
      "\n",
      "  This may not be accurate due to some parameters are only used in language bindings but\n",
      "  passed down to XGBoost core.  Or some parameters are not used but slip through this\n",
      "  verification. Please open an issue if you find above cases.\n",
      "\n",
      "\n",
      "[23:51:45] WARNING: ../src/learner.cc:1061: Starting in XGBoost 1.3.0, the default evaluation metric used with the objective 'binary:logistic' was changed from 'error' to 'logloss'. Explicitly set eval_metric if you'd like to restore the old behavior.\n"
     ]
    },
    {
     "name": "stderr",
     "output_type": "stream",
     "text": [
      "/home/piotr/miniconda3/lib/python3.8/site-packages/xgboost/sklearn.py:888: UserWarning: The use of label encoder in XGBClassifier is deprecated and will be removed in a future release. To remove this warning, do the following: 1) Pass option use_label_encoder=False when constructing XGBClassifier object; and 2) Encode your labels (y) as integers starting with 0, i.e. 0, 1, 2, ..., [num_class - 1].\n",
      "  warnings.warn(label_encoder_deprecation_msg, UserWarning)\n"
     ]
    },
    {
     "name": "stdout",
     "output_type": "stream",
     "text": [
      "[CV]  nrounds=1667.0, min_child_weight=14.813995396596646, lambda=1024.0, eta=0.09921256574801249, colsample_bytree=0.2222222222222222, colsample_bylevel=0.7777777777777777, alpha=47.03150375281921, accuracy=0.887, f1=0.210, roc_auc=0.878, total=   4.6s\n",
      "[CV] nrounds=1667.0, min_child_weight=14.813995396596646, lambda=1024.0, eta=0.09921256574801249, colsample_bytree=0.2222222222222222, colsample_bylevel=0.7777777777777777, alpha=47.03150375281921 \n",
      "[23:51:50] WARNING: ../src/learner.cc:541: \n",
      "Parameters: { nrounds } might not be used.\n",
      "\n",
      "  This may not be accurate due to some parameters are only used in language bindings but\n",
      "  passed down to XGBoost core.  Or some parameters are not used but slip through this\n",
      "  verification. Please open an issue if you find above cases.\n",
      "\n",
      "\n",
      "[23:51:50] WARNING: ../src/learner.cc:1061: Starting in XGBoost 1.3.0, the default evaluation metric used with the objective 'binary:logistic' was changed from 'error' to 'logloss'. Explicitly set eval_metric if you'd like to restore the old behavior.\n"
     ]
    },
    {
     "name": "stderr",
     "output_type": "stream",
     "text": [
      "/home/piotr/miniconda3/lib/python3.8/site-packages/xgboost/sklearn.py:888: UserWarning: The use of label encoder in XGBClassifier is deprecated and will be removed in a future release. To remove this warning, do the following: 1) Pass option use_label_encoder=False when constructing XGBClassifier object; and 2) Encode your labels (y) as integers starting with 0, i.e. 0, 1, 2, ..., [num_class - 1].\n",
      "  warnings.warn(label_encoder_deprecation_msg, UserWarning)\n"
     ]
    },
    {
     "name": "stdout",
     "output_type": "stream",
     "text": [
      "[CV]  nrounds=1667.0, min_child_weight=14.813995396596646, lambda=1024.0, eta=0.09921256574801249, colsample_bytree=0.2222222222222222, colsample_bylevel=0.7777777777777777, alpha=47.03150375281921, accuracy=0.890, f1=0.264, roc_auc=0.887, total=   4.6s\n",
      "[CV] nrounds=1667.0, min_child_weight=14.813995396596646, lambda=1024.0, eta=0.09921256574801249, colsample_bytree=0.2222222222222222, colsample_bylevel=0.7777777777777777, alpha=47.03150375281921 \n",
      "[23:51:54] WARNING: ../src/learner.cc:541: \n",
      "Parameters: { nrounds } might not be used.\n",
      "\n",
      "  This may not be accurate due to some parameters are only used in language bindings but\n",
      "  passed down to XGBoost core.  Or some parameters are not used but slip through this\n",
      "  verification. Please open an issue if you find above cases.\n",
      "\n",
      "\n",
      "[23:51:54] WARNING: ../src/learner.cc:1061: Starting in XGBoost 1.3.0, the default evaluation metric used with the objective 'binary:logistic' was changed from 'error' to 'logloss'. Explicitly set eval_metric if you'd like to restore the old behavior.\n"
     ]
    },
    {
     "name": "stderr",
     "output_type": "stream",
     "text": [
      "/home/piotr/miniconda3/lib/python3.8/site-packages/xgboost/sklearn.py:888: UserWarning: The use of label encoder in XGBClassifier is deprecated and will be removed in a future release. To remove this warning, do the following: 1) Pass option use_label_encoder=False when constructing XGBClassifier object; and 2) Encode your labels (y) as integers starting with 0, i.e. 0, 1, 2, ..., [num_class - 1].\n",
      "  warnings.warn(label_encoder_deprecation_msg, UserWarning)\n"
     ]
    },
    {
     "name": "stdout",
     "output_type": "stream",
     "text": [
      "[CV]  nrounds=1667.0, min_child_weight=14.813995396596646, lambda=1024.0, eta=0.09921256574801249, colsample_bytree=0.2222222222222222, colsample_bylevel=0.7777777777777777, alpha=47.03150375281921, accuracy=0.892, f1=0.271, roc_auc=0.886, total=   4.6s\n",
      "[CV] nrounds=3889.0, min_child_weight=8.640477911138449, lambda=1024.0, eta=0.021262343752724643, colsample_bytree=0.5555555555555556, colsample_bylevel=0.6666666666666666, alpha=219.45445961038678 \n",
      "[23:51:59] WARNING: ../src/learner.cc:541: \n",
      "Parameters: { nrounds } might not be used.\n",
      "\n",
      "  This may not be accurate due to some parameters are only used in language bindings but\n",
      "  passed down to XGBoost core.  Or some parameters are not used but slip through this\n",
      "  verification. Please open an issue if you find above cases.\n",
      "\n",
      "\n"
     ]
    },
    {
     "name": "stderr",
     "output_type": "stream",
     "text": [
      "/home/piotr/miniconda3/lib/python3.8/site-packages/xgboost/sklearn.py:888: UserWarning: The use of label encoder in XGBClassifier is deprecated and will be removed in a future release. To remove this warning, do the following: 1) Pass option use_label_encoder=False when constructing XGBClassifier object; and 2) Encode your labels (y) as integers starting with 0, i.e. 0, 1, 2, ..., [num_class - 1].\n",
      "  warnings.warn(label_encoder_deprecation_msg, UserWarning)\n"
     ]
    },
    {
     "name": "stdout",
     "output_type": "stream",
     "text": [
      "[23:51:59] WARNING: ../src/learner.cc:1061: Starting in XGBoost 1.3.0, the default evaluation metric used with the objective 'binary:logistic' was changed from 'error' to 'logloss'. Explicitly set eval_metric if you'd like to restore the old behavior.\n",
      "[CV]  nrounds=3889.0, min_child_weight=8.640477911138449, lambda=1024.0, eta=0.021262343752724643, colsample_bytree=0.5555555555555556, colsample_bylevel=0.6666666666666666, alpha=219.45445961038678, accuracy=0.881, f1=0.000, roc_auc=0.818, total=   8.1s\n",
      "[CV] nrounds=3889.0, min_child_weight=8.640477911138449, lambda=1024.0, eta=0.021262343752724643, colsample_bytree=0.5555555555555556, colsample_bylevel=0.6666666666666666, alpha=219.45445961038678 \n",
      "[23:52:07] WARNING: ../src/learner.cc:541: \n",
      "Parameters: { nrounds } might not be used.\n",
      "\n",
      "  This may not be accurate due to some parameters are only used in language bindings but\n",
      "  passed down to XGBoost core.  Or some parameters are not used but slip through this\n",
      "  verification. Please open an issue if you find above cases.\n",
      "\n",
      "\n"
     ]
    },
    {
     "name": "stderr",
     "output_type": "stream",
     "text": [
      "/home/piotr/miniconda3/lib/python3.8/site-packages/xgboost/sklearn.py:888: UserWarning: The use of label encoder in XGBClassifier is deprecated and will be removed in a future release. To remove this warning, do the following: 1) Pass option use_label_encoder=False when constructing XGBClassifier object; and 2) Encode your labels (y) as integers starting with 0, i.e. 0, 1, 2, ..., [num_class - 1].\n",
      "  warnings.warn(label_encoder_deprecation_msg, UserWarning)\n"
     ]
    },
    {
     "name": "stdout",
     "output_type": "stream",
     "text": [
      "[23:52:07] WARNING: ../src/learner.cc:1061: Starting in XGBoost 1.3.0, the default evaluation metric used with the objective 'binary:logistic' was changed from 'error' to 'logloss'. Explicitly set eval_metric if you'd like to restore the old behavior.\n",
      "[CV]  nrounds=3889.0, min_child_weight=8.640477911138449, lambda=1024.0, eta=0.021262343752724643, colsample_bytree=0.5555555555555556, colsample_bylevel=0.6666666666666666, alpha=219.45445961038678, accuracy=0.881, f1=0.000, roc_auc=0.825, total=   8.1s\n",
      "[CV] nrounds=3889.0, min_child_weight=8.640477911138449, lambda=1024.0, eta=0.021262343752724643, colsample_bytree=0.5555555555555556, colsample_bylevel=0.6666666666666666, alpha=219.45445961038678 \n",
      "[23:52:15] WARNING: ../src/learner.cc:541: \n",
      "Parameters: { nrounds } might not be used.\n",
      "\n",
      "  This may not be accurate due to some parameters are only used in language bindings but\n",
      "  passed down to XGBoost core.  Or some parameters are not used but slip through this\n",
      "  verification. Please open an issue if you find above cases.\n",
      "\n",
      "\n"
     ]
    },
    {
     "name": "stderr",
     "output_type": "stream",
     "text": [
      "/home/piotr/miniconda3/lib/python3.8/site-packages/xgboost/sklearn.py:888: UserWarning: The use of label encoder in XGBClassifier is deprecated and will be removed in a future release. To remove this warning, do the following: 1) Pass option use_label_encoder=False when constructing XGBClassifier object; and 2) Encode your labels (y) as integers starting with 0, i.e. 0, 1, 2, ..., [num_class - 1].\n",
      "  warnings.warn(label_encoder_deprecation_msg, UserWarning)\n"
     ]
    },
    {
     "name": "stdout",
     "output_type": "stream",
     "text": [
      "[23:52:15] WARNING: ../src/learner.cc:1061: Starting in XGBoost 1.3.0, the default evaluation metric used with the objective 'binary:logistic' was changed from 'error' to 'logloss'. Explicitly set eval_metric if you'd like to restore the old behavior.\n",
      "[CV]  nrounds=3889.0, min_child_weight=8.640477911138449, lambda=1024.0, eta=0.021262343752724643, colsample_bytree=0.5555555555555556, colsample_bylevel=0.6666666666666666, alpha=219.45445961038678, accuracy=0.881, f1=0.000, roc_auc=0.823, total=   8.1s\n",
      "[CV] nrounds=3889.0, min_child_weight=8.640477911138449, lambda=1024.0, eta=0.021262343752724643, colsample_bytree=0.5555555555555556, colsample_bylevel=0.6666666666666666, alpha=219.45445961038678 \n",
      "[23:52:23] WARNING: ../src/learner.cc:541: \n",
      "Parameters: { nrounds } might not be used.\n",
      "\n",
      "  This may not be accurate due to some parameters are only used in language bindings but\n",
      "  passed down to XGBoost core.  Or some parameters are not used but slip through this\n",
      "  verification. Please open an issue if you find above cases.\n",
      "\n",
      "\n"
     ]
    },
    {
     "name": "stderr",
     "output_type": "stream",
     "text": [
      "/home/piotr/miniconda3/lib/python3.8/site-packages/xgboost/sklearn.py:888: UserWarning: The use of label encoder in XGBClassifier is deprecated and will be removed in a future release. To remove this warning, do the following: 1) Pass option use_label_encoder=False when constructing XGBClassifier object; and 2) Encode your labels (y) as integers starting with 0, i.e. 0, 1, 2, ..., [num_class - 1].\n",
      "  warnings.warn(label_encoder_deprecation_msg, UserWarning)\n"
     ]
    },
    {
     "name": "stdout",
     "output_type": "stream",
     "text": [
      "[23:52:23] WARNING: ../src/learner.cc:1061: Starting in XGBoost 1.3.0, the default evaluation metric used with the objective 'binary:logistic' was changed from 'error' to 'logloss'. Explicitly set eval_metric if you'd like to restore the old behavior.\n",
      "[CV]  nrounds=3889.0, min_child_weight=8.640477911138449, lambda=1024.0, eta=0.021262343752724643, colsample_bytree=0.5555555555555556, colsample_bylevel=0.6666666666666666, alpha=219.45445961038678, accuracy=0.880, f1=0.000, roc_auc=0.838, total=   8.2s\n",
      "[CV] nrounds=3889.0, min_child_weight=8.640477911138449, lambda=1024.0, eta=0.021262343752724643, colsample_bytree=0.5555555555555556, colsample_bylevel=0.6666666666666666, alpha=219.45445961038678 \n",
      "[23:52:31] WARNING: ../src/learner.cc:541: \n",
      "Parameters: { nrounds } might not be used.\n",
      "\n",
      "  This may not be accurate due to some parameters are only used in language bindings but\n",
      "  passed down to XGBoost core.  Or some parameters are not used but slip through this\n",
      "  verification. Please open an issue if you find above cases.\n",
      "\n",
      "\n"
     ]
    },
    {
     "name": "stderr",
     "output_type": "stream",
     "text": [
      "/home/piotr/miniconda3/lib/python3.8/site-packages/xgboost/sklearn.py:888: UserWarning: The use of label encoder in XGBClassifier is deprecated and will be removed in a future release. To remove this warning, do the following: 1) Pass option use_label_encoder=False when constructing XGBClassifier object; and 2) Encode your labels (y) as integers starting with 0, i.e. 0, 1, 2, ..., [num_class - 1].\n",
      "  warnings.warn(label_encoder_deprecation_msg, UserWarning)\n"
     ]
    },
    {
     "name": "stdout",
     "output_type": "stream",
     "text": [
      "[23:52:31] WARNING: ../src/learner.cc:1061: Starting in XGBoost 1.3.0, the default evaluation metric used with the objective 'binary:logistic' was changed from 'error' to 'logloss'. Explicitly set eval_metric if you'd like to restore the old behavior.\n",
      "[CV]  nrounds=3889.0, min_child_weight=8.640477911138449, lambda=1024.0, eta=0.021262343752724643, colsample_bytree=0.5555555555555556, colsample_bylevel=0.6666666666666666, alpha=219.45445961038678, accuracy=0.880, f1=0.000, roc_auc=0.846, total=   8.1s\n",
      "[CV] nrounds=3333.0, min_child_weight=1.7144879657061456, lambda=0.09921256574801249, eta=0.0009765625, colsample_bytree=0.8888888888888888, colsample_bylevel=0.0, alpha=47.03150375281921 \n",
      "[23:52:39] WARNING: ../src/learner.cc:541: \n",
      "Parameters: { nrounds } might not be used.\n",
      "\n",
      "  This may not be accurate due to some parameters are only used in language bindings but\n",
      "  passed down to XGBoost core.  Or some parameters are not used but slip through this\n",
      "  verification. Please open an issue if you find above cases.\n",
      "\n",
      "\n",
      "[23:52:40] WARNING: ../src/learner.cc:1061: Starting in XGBoost 1.3.0, the default evaluation metric used with the objective 'binary:logistic' was changed from 'error' to 'logloss'. Explicitly set eval_metric if you'd like to restore the old behavior.\n"
     ]
    },
    {
     "name": "stderr",
     "output_type": "stream",
     "text": [
      "/home/piotr/miniconda3/lib/python3.8/site-packages/xgboost/sklearn.py:888: UserWarning: The use of label encoder in XGBClassifier is deprecated and will be removed in a future release. To remove this warning, do the following: 1) Pass option use_label_encoder=False when constructing XGBClassifier object; and 2) Encode your labels (y) as integers starting with 0, i.e. 0, 1, 2, ..., [num_class - 1].\n",
      "  warnings.warn(label_encoder_deprecation_msg, UserWarning)\n"
     ]
    },
    {
     "name": "stdout",
     "output_type": "stream",
     "text": [
      "[CV]  nrounds=3333.0, min_child_weight=1.7144879657061456, lambda=0.09921256574801249, eta=0.0009765625, colsample_bytree=0.8888888888888888, colsample_bylevel=0.0, alpha=47.03150375281921, accuracy=0.881, f1=0.000, roc_auc=0.819, total=   0.9s\n",
      "[CV] nrounds=3333.0, min_child_weight=1.7144879657061456, lambda=0.09921256574801249, eta=0.0009765625, colsample_bytree=0.8888888888888888, colsample_bylevel=0.0, alpha=47.03150375281921 \n",
      "[23:52:40] WARNING: ../src/learner.cc:541: \n",
      "Parameters: { nrounds } might not be used.\n",
      "\n",
      "  This may not be accurate due to some parameters are only used in language bindings but\n",
      "  passed down to XGBoost core.  Or some parameters are not used but slip through this\n",
      "  verification. Please open an issue if you find above cases.\n",
      "\n",
      "\n",
      "[23:52:40] WARNING: ../src/learner.cc:1061: Starting in XGBoost 1.3.0, the default evaluation metric used with the objective 'binary:logistic' was changed from 'error' to 'logloss'. Explicitly set eval_metric if you'd like to restore the old behavior.\n"
     ]
    },
    {
     "name": "stderr",
     "output_type": "stream",
     "text": [
      "/home/piotr/miniconda3/lib/python3.8/site-packages/xgboost/sklearn.py:888: UserWarning: The use of label encoder in XGBClassifier is deprecated and will be removed in a future release. To remove this warning, do the following: 1) Pass option use_label_encoder=False when constructing XGBClassifier object; and 2) Encode your labels (y) as integers starting with 0, i.e. 0, 1, 2, ..., [num_class - 1].\n",
      "  warnings.warn(label_encoder_deprecation_msg, UserWarning)\n"
     ]
    },
    {
     "name": "stdout",
     "output_type": "stream",
     "text": [
      "[CV]  nrounds=3333.0, min_child_weight=1.7144879657061456, lambda=0.09921256574801249, eta=0.0009765625, colsample_bytree=0.8888888888888888, colsample_bylevel=0.0, alpha=47.03150375281921, accuracy=0.881, f1=0.000, roc_auc=0.809, total=   0.9s\n",
      "[CV] nrounds=3333.0, min_child_weight=1.7144879657061456, lambda=0.09921256574801249, eta=0.0009765625, colsample_bytree=0.8888888888888888, colsample_bylevel=0.0, alpha=47.03150375281921 \n",
      "[23:52:41] WARNING: ../src/learner.cc:541: \n",
      "Parameters: { nrounds } might not be used.\n",
      "\n",
      "  This may not be accurate due to some parameters are only used in language bindings but\n",
      "  passed down to XGBoost core.  Or some parameters are not used but slip through this\n",
      "  verification. Please open an issue if you find above cases.\n",
      "\n",
      "\n",
      "[23:52:41] WARNING: ../src/learner.cc:1061: Starting in XGBoost 1.3.0, the default evaluation metric used with the objective 'binary:logistic' was changed from 'error' to 'logloss'. Explicitly set eval_metric if you'd like to restore the old behavior.\n"
     ]
    },
    {
     "name": "stderr",
     "output_type": "stream",
     "text": [
      "/home/piotr/miniconda3/lib/python3.8/site-packages/xgboost/sklearn.py:888: UserWarning: The use of label encoder in XGBClassifier is deprecated and will be removed in a future release. To remove this warning, do the following: 1) Pass option use_label_encoder=False when constructing XGBClassifier object; and 2) Encode your labels (y) as integers starting with 0, i.e. 0, 1, 2, ..., [num_class - 1].\n",
      "  warnings.warn(label_encoder_deprecation_msg, UserWarning)\n"
     ]
    },
    {
     "name": "stdout",
     "output_type": "stream",
     "text": [
      "[CV]  nrounds=3333.0, min_child_weight=1.7144879657061456, lambda=0.09921256574801249, eta=0.0009765625, colsample_bytree=0.8888888888888888, colsample_bylevel=0.0, alpha=47.03150375281921, accuracy=0.881, f1=0.000, roc_auc=0.813, total=   0.9s\n",
      "[CV] nrounds=3333.0, min_child_weight=1.7144879657061456, lambda=0.09921256574801249, eta=0.0009765625, colsample_bytree=0.8888888888888888, colsample_bylevel=0.0, alpha=47.03150375281921 \n",
      "[23:52:42] WARNING: ../src/learner.cc:541: \n",
      "Parameters: { nrounds } might not be used.\n",
      "\n",
      "  This may not be accurate due to some parameters are only used in language bindings but\n",
      "  passed down to XGBoost core.  Or some parameters are not used but slip through this\n",
      "  verification. Please open an issue if you find above cases.\n",
      "\n",
      "\n",
      "[23:52:42] WARNING: ../src/learner.cc:1061: Starting in XGBoost 1.3.0, the default evaluation metric used with the objective 'binary:logistic' was changed from 'error' to 'logloss'. Explicitly set eval_metric if you'd like to restore the old behavior.\n"
     ]
    },
    {
     "name": "stderr",
     "output_type": "stream",
     "text": [
      "/home/piotr/miniconda3/lib/python3.8/site-packages/xgboost/sklearn.py:888: UserWarning: The use of label encoder in XGBClassifier is deprecated and will be removed in a future release. To remove this warning, do the following: 1) Pass option use_label_encoder=False when constructing XGBClassifier object; and 2) Encode your labels (y) as integers starting with 0, i.e. 0, 1, 2, ..., [num_class - 1].\n",
      "  warnings.warn(label_encoder_deprecation_msg, UserWarning)\n"
     ]
    },
    {
     "name": "stdout",
     "output_type": "stream",
     "text": [
      "[CV]  nrounds=3333.0, min_child_weight=1.7144879657061456, lambda=0.09921256574801249, eta=0.0009765625, colsample_bytree=0.8888888888888888, colsample_bylevel=0.0, alpha=47.03150375281921, accuracy=0.880, f1=0.000, roc_auc=0.829, total=   0.9s\n",
      "[CV] nrounds=3333.0, min_child_weight=1.7144879657061456, lambda=0.09921256574801249, eta=0.0009765625, colsample_bytree=0.8888888888888888, colsample_bylevel=0.0, alpha=47.03150375281921 \n",
      "[23:52:43] WARNING: ../src/learner.cc:541: \n",
      "Parameters: { nrounds } might not be used.\n",
      "\n",
      "  This may not be accurate due to some parameters are only used in language bindings but\n",
      "  passed down to XGBoost core.  Or some parameters are not used but slip through this\n",
      "  verification. Please open an issue if you find above cases.\n",
      "\n",
      "\n",
      "[23:52:43] WARNING: ../src/learner.cc:1061: Starting in XGBoost 1.3.0, the default evaluation metric used with the objective 'binary:logistic' was changed from 'error' to 'logloss'. Explicitly set eval_metric if you'd like to restore the old behavior.\n"
     ]
    },
    {
     "name": "stderr",
     "output_type": "stream",
     "text": [
      "/home/piotr/miniconda3/lib/python3.8/site-packages/xgboost/sklearn.py:888: UserWarning: The use of label encoder in XGBClassifier is deprecated and will be removed in a future release. To remove this warning, do the following: 1) Pass option use_label_encoder=False when constructing XGBClassifier object; and 2) Encode your labels (y) as integers starting with 0, i.e. 0, 1, 2, ..., [num_class - 1].\n",
      "  warnings.warn(label_encoder_deprecation_msg, UserWarning)\n"
     ]
    },
    {
     "name": "stdout",
     "output_type": "stream",
     "text": [
      "[CV]  nrounds=3333.0, min_child_weight=1.7144879657061456, lambda=0.09921256574801249, eta=0.0009765625, colsample_bytree=0.8888888888888888, colsample_bylevel=0.0, alpha=47.03150375281921, accuracy=0.880, f1=0.000, roc_auc=0.840, total=   0.9s\n",
      "[CV] nrounds=3333.0, min_child_weight=14.813995396596646, lambda=0.09921256574801249, eta=0.21431099571326834, colsample_bytree=0.0, colsample_bylevel=0.7777777777777777, alpha=1024.0 \n",
      "[23:52:44] WARNING: ../src/learner.cc:541: \n",
      "Parameters: { nrounds } might not be used.\n",
      "\n",
      "  This may not be accurate due to some parameters are only used in language bindings but\n",
      "  passed down to XGBoost core.  Or some parameters are not used but slip through this\n",
      "  verification. Please open an issue if you find above cases.\n",
      "\n",
      "\n",
      "[23:52:44] WARNING: ../src/learner.cc:1061: Starting in XGBoost 1.3.0, the default evaluation metric used with the objective 'binary:logistic' was changed from 'error' to 'logloss'. Explicitly set eval_metric if you'd like to restore the old behavior.\n"
     ]
    },
    {
     "name": "stderr",
     "output_type": "stream",
     "text": [
      "/home/piotr/miniconda3/lib/python3.8/site-packages/xgboost/sklearn.py:888: UserWarning: The use of label encoder in XGBClassifier is deprecated and will be removed in a future release. To remove this warning, do the following: 1) Pass option use_label_encoder=False when constructing XGBClassifier object; and 2) Encode your labels (y) as integers starting with 0, i.e. 0, 1, 2, ..., [num_class - 1].\n",
      "  warnings.warn(label_encoder_deprecation_msg, UserWarning)\n"
     ]
    },
    {
     "name": "stdout",
     "output_type": "stream",
     "text": [
      "[CV]  nrounds=3333.0, min_child_weight=14.813995396596646, lambda=0.09921256574801249, eta=0.21431099571326834, colsample_bytree=0.0, colsample_bylevel=0.7777777777777777, alpha=1024.0, accuracy=0.881, f1=0.000, roc_auc=0.753, total=   0.7s\n",
      "[CV] nrounds=3333.0, min_child_weight=14.813995396596646, lambda=0.09921256574801249, eta=0.21431099571326834, colsample_bytree=0.0, colsample_bylevel=0.7777777777777777, alpha=1024.0 \n",
      "[23:52:45] WARNING: ../src/learner.cc:541: \n",
      "Parameters: { nrounds } might not be used.\n",
      "\n",
      "  This may not be accurate due to some parameters are only used in language bindings but\n",
      "  passed down to XGBoost core.  Or some parameters are not used but slip through this\n",
      "  verification. Please open an issue if you find above cases.\n",
      "\n",
      "\n",
      "[23:52:45] WARNING: ../src/learner.cc:1061: Starting in XGBoost 1.3.0, the default evaluation metric used with the objective 'binary:logistic' was changed from 'error' to 'logloss'. Explicitly set eval_metric if you'd like to restore the old behavior.\n"
     ]
    },
    {
     "name": "stderr",
     "output_type": "stream",
     "text": [
      "/home/piotr/miniconda3/lib/python3.8/site-packages/xgboost/sklearn.py:888: UserWarning: The use of label encoder in XGBClassifier is deprecated and will be removed in a future release. To remove this warning, do the following: 1) Pass option use_label_encoder=False when constructing XGBClassifier object; and 2) Encode your labels (y) as integers starting with 0, i.e. 0, 1, 2, ..., [num_class - 1].\n",
      "  warnings.warn(label_encoder_deprecation_msg, UserWarning)\n"
     ]
    },
    {
     "name": "stdout",
     "output_type": "stream",
     "text": [
      "[CV]  nrounds=3333.0, min_child_weight=14.813995396596646, lambda=0.09921256574801249, eta=0.21431099571326834, colsample_bytree=0.0, colsample_bylevel=0.7777777777777777, alpha=1024.0, accuracy=0.881, f1=0.000, roc_auc=0.760, total=   0.7s\n",
      "[CV] nrounds=3333.0, min_child_weight=14.813995396596646, lambda=0.09921256574801249, eta=0.21431099571326834, colsample_bytree=0.0, colsample_bylevel=0.7777777777777777, alpha=1024.0 \n",
      "[23:52:45] WARNING: ../src/learner.cc:541: \n",
      "Parameters: { nrounds } might not be used.\n",
      "\n",
      "  This may not be accurate due to some parameters are only used in language bindings but\n",
      "  passed down to XGBoost core.  Or some parameters are not used but slip through this\n",
      "  verification. Please open an issue if you find above cases.\n",
      "\n",
      "\n",
      "[23:52:45] WARNING: ../src/learner.cc:1061: Starting in XGBoost 1.3.0, the default evaluation metric used with the objective 'binary:logistic' was changed from 'error' to 'logloss'. Explicitly set eval_metric if you'd like to restore the old behavior.\n"
     ]
    },
    {
     "name": "stderr",
     "output_type": "stream",
     "text": [
      "/home/piotr/miniconda3/lib/python3.8/site-packages/xgboost/sklearn.py:888: UserWarning: The use of label encoder in XGBClassifier is deprecated and will be removed in a future release. To remove this warning, do the following: 1) Pass option use_label_encoder=False when constructing XGBClassifier object; and 2) Encode your labels (y) as integers starting with 0, i.e. 0, 1, 2, ..., [num_class - 1].\n",
      "  warnings.warn(label_encoder_deprecation_msg, UserWarning)\n"
     ]
    },
    {
     "name": "stdout",
     "output_type": "stream",
     "text": [
      "[CV]  nrounds=3333.0, min_child_weight=14.813995396596646, lambda=0.09921256574801249, eta=0.21431099571326834, colsample_bytree=0.0, colsample_bylevel=0.7777777777777777, alpha=1024.0, accuracy=0.881, f1=0.000, roc_auc=0.766, total=   0.7s\n",
      "[CV] nrounds=3333.0, min_child_weight=14.813995396596646, lambda=0.09921256574801249, eta=0.21431099571326834, colsample_bytree=0.0, colsample_bylevel=0.7777777777777777, alpha=1024.0 \n",
      "[23:52:46] WARNING: ../src/learner.cc:541: \n",
      "Parameters: { nrounds } might not be used.\n",
      "\n",
      "  This may not be accurate due to some parameters are only used in language bindings but\n",
      "  passed down to XGBoost core.  Or some parameters are not used but slip through this\n",
      "  verification. Please open an issue if you find above cases.\n",
      "\n",
      "\n",
      "[23:52:46] WARNING: ../src/learner.cc:1061: Starting in XGBoost 1.3.0, the default evaluation metric used with the objective 'binary:logistic' was changed from 'error' to 'logloss'. Explicitly set eval_metric if you'd like to restore the old behavior.\n"
     ]
    },
    {
     "name": "stderr",
     "output_type": "stream",
     "text": [
      "/home/piotr/miniconda3/lib/python3.8/site-packages/xgboost/sklearn.py:888: UserWarning: The use of label encoder in XGBClassifier is deprecated and will be removed in a future release. To remove this warning, do the following: 1) Pass option use_label_encoder=False when constructing XGBClassifier object; and 2) Encode your labels (y) as integers starting with 0, i.e. 0, 1, 2, ..., [num_class - 1].\n",
      "  warnings.warn(label_encoder_deprecation_msg, UserWarning)\n"
     ]
    },
    {
     "name": "stdout",
     "output_type": "stream",
     "text": [
      "[CV]  nrounds=3333.0, min_child_weight=14.813995396596646, lambda=0.09921256574801249, eta=0.21431099571326834, colsample_bytree=0.0, colsample_bylevel=0.7777777777777777, alpha=1024.0, accuracy=0.880, f1=0.000, roc_auc=0.776, total=   0.7s\n",
      "[CV] nrounds=3333.0, min_child_weight=14.813995396596646, lambda=0.09921256574801249, eta=0.21431099571326834, colsample_bytree=0.0, colsample_bylevel=0.7777777777777777, alpha=1024.0 \n",
      "[23:52:47] WARNING: ../src/learner.cc:541: \n",
      "Parameters: { nrounds } might not be used.\n",
      "\n",
      "  This may not be accurate due to some parameters are only used in language bindings but\n",
      "  passed down to XGBoost core.  Or some parameters are not used but slip through this\n",
      "  verification. Please open an issue if you find above cases.\n",
      "\n",
      "\n",
      "[23:52:47] WARNING: ../src/learner.cc:1061: Starting in XGBoost 1.3.0, the default evaluation metric used with the objective 'binary:logistic' was changed from 'error' to 'logloss'. Explicitly set eval_metric if you'd like to restore the old behavior.\n"
     ]
    },
    {
     "name": "stderr",
     "output_type": "stream",
     "text": [
      "/home/piotr/miniconda3/lib/python3.8/site-packages/xgboost/sklearn.py:888: UserWarning: The use of label encoder in XGBClassifier is deprecated and will be removed in a future release. To remove this warning, do the following: 1) Pass option use_label_encoder=False when constructing XGBClassifier object; and 2) Encode your labels (y) as integers starting with 0, i.e. 0, 1, 2, ..., [num_class - 1].\n",
      "  warnings.warn(label_encoder_deprecation_msg, UserWarning)\n"
     ]
    },
    {
     "name": "stdout",
     "output_type": "stream",
     "text": [
      "[CV]  nrounds=3333.0, min_child_weight=14.813995396596646, lambda=0.09921256574801249, eta=0.21431099571326834, colsample_bytree=0.0, colsample_bylevel=0.7777777777777777, alpha=1024.0, accuracy=0.880, f1=0.000, roc_auc=0.775, total=   0.7s\n",
      "[CV] nrounds=1667.0, min_child_weight=1.0, lambda=10.079368399158989, eta=0.021262343752724643, colsample_bytree=0.0, colsample_bylevel=0.3333333333333333, alpha=47.03150375281921 \n",
      "[23:52:47] WARNING: ../src/learner.cc:541: \n",
      "Parameters: { nrounds } might not be used.\n",
      "\n",
      "  This may not be accurate due to some parameters are only used in language bindings but\n",
      "  passed down to XGBoost core.  Or some parameters are not used but slip through this\n",
      "  verification. Please open an issue if you find above cases.\n",
      "\n",
      "\n",
      "[23:52:47] WARNING: ../src/learner.cc:1061: Starting in XGBoost 1.3.0, the default evaluation metric used with the objective 'binary:logistic' was changed from 'error' to 'logloss'. Explicitly set eval_metric if you'd like to restore the old behavior.\n"
     ]
    },
    {
     "name": "stderr",
     "output_type": "stream",
     "text": [
      "/home/piotr/miniconda3/lib/python3.8/site-packages/xgboost/sklearn.py:888: UserWarning: The use of label encoder in XGBClassifier is deprecated and will be removed in a future release. To remove this warning, do the following: 1) Pass option use_label_encoder=False when constructing XGBClassifier object; and 2) Encode your labels (y) as integers starting with 0, i.e. 0, 1, 2, ..., [num_class - 1].\n",
      "  warnings.warn(label_encoder_deprecation_msg, UserWarning)\n"
     ]
    },
    {
     "name": "stdout",
     "output_type": "stream",
     "text": [
      "[CV]  nrounds=1667.0, min_child_weight=1.0, lambda=10.079368399158989, eta=0.021262343752724643, colsample_bytree=0.0, colsample_bylevel=0.3333333333333333, alpha=47.03150375281921, accuracy=0.881, f1=0.000, roc_auc=0.805, total=   0.8s\n",
      "[CV] nrounds=1667.0, min_child_weight=1.0, lambda=10.079368399158989, eta=0.021262343752724643, colsample_bytree=0.0, colsample_bylevel=0.3333333333333333, alpha=47.03150375281921 \n",
      "[23:52:48] WARNING: ../src/learner.cc:541: \n",
      "Parameters: { nrounds } might not be used.\n",
      "\n",
      "  This may not be accurate due to some parameters are only used in language bindings but\n",
      "  passed down to XGBoost core.  Or some parameters are not used but slip through this\n",
      "  verification. Please open an issue if you find above cases.\n",
      "\n",
      "\n",
      "[23:52:48] WARNING: ../src/learner.cc:1061: Starting in XGBoost 1.3.0, the default evaluation metric used with the objective 'binary:logistic' was changed from 'error' to 'logloss'. Explicitly set eval_metric if you'd like to restore the old behavior.\n"
     ]
    },
    {
     "name": "stderr",
     "output_type": "stream",
     "text": [
      "/home/piotr/miniconda3/lib/python3.8/site-packages/xgboost/sklearn.py:888: UserWarning: The use of label encoder in XGBClassifier is deprecated and will be removed in a future release. To remove this warning, do the following: 1) Pass option use_label_encoder=False when constructing XGBClassifier object; and 2) Encode your labels (y) as integers starting with 0, i.e. 0, 1, 2, ..., [num_class - 1].\n",
      "  warnings.warn(label_encoder_deprecation_msg, UserWarning)\n"
     ]
    },
    {
     "name": "stdout",
     "output_type": "stream",
     "text": [
      "[CV]  nrounds=1667.0, min_child_weight=1.0, lambda=10.079368399158989, eta=0.021262343752724643, colsample_bytree=0.0, colsample_bylevel=0.3333333333333333, alpha=47.03150375281921, accuracy=0.881, f1=0.000, roc_auc=0.801, total=   0.8s\n",
      "[CV] nrounds=1667.0, min_child_weight=1.0, lambda=10.079368399158989, eta=0.021262343752724643, colsample_bytree=0.0, colsample_bylevel=0.3333333333333333, alpha=47.03150375281921 \n",
      "[23:52:49] WARNING: ../src/learner.cc:541: \n",
      "Parameters: { nrounds } might not be used.\n",
      "\n",
      "  This may not be accurate due to some parameters are only used in language bindings but\n",
      "  passed down to XGBoost core.  Or some parameters are not used but slip through this\n",
      "  verification. Please open an issue if you find above cases.\n",
      "\n",
      "\n",
      "[23:52:49] WARNING: ../src/learner.cc:1061: Starting in XGBoost 1.3.0, the default evaluation metric used with the objective 'binary:logistic' was changed from 'error' to 'logloss'. Explicitly set eval_metric if you'd like to restore the old behavior.\n"
     ]
    },
    {
     "name": "stderr",
     "output_type": "stream",
     "text": [
      "/home/piotr/miniconda3/lib/python3.8/site-packages/xgboost/sklearn.py:888: UserWarning: The use of label encoder in XGBClassifier is deprecated and will be removed in a future release. To remove this warning, do the following: 1) Pass option use_label_encoder=False when constructing XGBClassifier object; and 2) Encode your labels (y) as integers starting with 0, i.e. 0, 1, 2, ..., [num_class - 1].\n",
      "  warnings.warn(label_encoder_deprecation_msg, UserWarning)\n"
     ]
    },
    {
     "name": "stdout",
     "output_type": "stream",
     "text": [
      "[CV]  nrounds=1667.0, min_child_weight=1.0, lambda=10.079368399158989, eta=0.021262343752724643, colsample_bytree=0.0, colsample_bylevel=0.3333333333333333, alpha=47.03150375281921, accuracy=0.881, f1=0.000, roc_auc=0.804, total=   0.8s\n",
      "[CV] nrounds=1667.0, min_child_weight=1.0, lambda=10.079368399158989, eta=0.021262343752724643, colsample_bytree=0.0, colsample_bylevel=0.3333333333333333, alpha=47.03150375281921 \n",
      "[23:52:50] WARNING: ../src/learner.cc:541: \n",
      "Parameters: { nrounds } might not be used.\n",
      "\n",
      "  This may not be accurate due to some parameters are only used in language bindings but\n",
      "  passed down to XGBoost core.  Or some parameters are not used but slip through this\n",
      "  verification. Please open an issue if you find above cases.\n",
      "\n",
      "\n",
      "[23:52:50] WARNING: ../src/learner.cc:1061: Starting in XGBoost 1.3.0, the default evaluation metric used with the objective 'binary:logistic' was changed from 'error' to 'logloss'. Explicitly set eval_metric if you'd like to restore the old behavior.\n"
     ]
    },
    {
     "name": "stderr",
     "output_type": "stream",
     "text": [
      "/home/piotr/miniconda3/lib/python3.8/site-packages/xgboost/sklearn.py:888: UserWarning: The use of label encoder in XGBClassifier is deprecated and will be removed in a future release. To remove this warning, do the following: 1) Pass option use_label_encoder=False when constructing XGBClassifier object; and 2) Encode your labels (y) as integers starting with 0, i.e. 0, 1, 2, ..., [num_class - 1].\n",
      "  warnings.warn(label_encoder_deprecation_msg, UserWarning)\n"
     ]
    },
    {
     "name": "stdout",
     "output_type": "stream",
     "text": [
      "[CV]  nrounds=1667.0, min_child_weight=1.0, lambda=10.079368399158989, eta=0.021262343752724643, colsample_bytree=0.0, colsample_bylevel=0.3333333333333333, alpha=47.03150375281921, accuracy=0.880, f1=0.000, roc_auc=0.824, total=   0.8s\n",
      "[CV] nrounds=1667.0, min_child_weight=1.0, lambda=10.079368399158989, eta=0.021262343752724643, colsample_bytree=0.0, colsample_bylevel=0.3333333333333333, alpha=47.03150375281921 \n",
      "[23:52:51] WARNING: ../src/learner.cc:541: \n",
      "Parameters: { nrounds } might not be used.\n",
      "\n",
      "  This may not be accurate due to some parameters are only used in language bindings but\n",
      "  passed down to XGBoost core.  Or some parameters are not used but slip through this\n",
      "  verification. Please open an issue if you find above cases.\n",
      "\n",
      "\n",
      "[23:52:51] WARNING: ../src/learner.cc:1061: Starting in XGBoost 1.3.0, the default evaluation metric used with the objective 'binary:logistic' was changed from 'error' to 'logloss'. Explicitly set eval_metric if you'd like to restore the old behavior.\n"
     ]
    },
    {
     "name": "stderr",
     "output_type": "stream",
     "text": [
      "/home/piotr/miniconda3/lib/python3.8/site-packages/xgboost/sklearn.py:888: UserWarning: The use of label encoder in XGBClassifier is deprecated and will be removed in a future release. To remove this warning, do the following: 1) Pass option use_label_encoder=False when constructing XGBClassifier object; and 2) Encode your labels (y) as integers starting with 0, i.e. 0, 1, 2, ..., [num_class - 1].\n",
      "  warnings.warn(label_encoder_deprecation_msg, UserWarning)\n"
     ]
    },
    {
     "name": "stdout",
     "output_type": "stream",
     "text": [
      "[CV]  nrounds=1667.0, min_child_weight=1.0, lambda=10.079368399158989, eta=0.021262343752724643, colsample_bytree=0.0, colsample_bylevel=0.3333333333333333, alpha=47.03150375281921, accuracy=0.880, f1=0.000, roc_auc=0.823, total=   0.8s\n",
      "[CV] nrounds=1111.0, min_child_weight=25.398416831491197, lambda=0.004556754060844206, eta=0.004556754060844206, colsample_bytree=1.0, colsample_bylevel=0.5555555555555556, alpha=0.0009765625 \n",
      "[23:52:51] WARNING: ../src/learner.cc:541: \n",
      "Parameters: { nrounds } might not be used.\n",
      "\n",
      "  This may not be accurate due to some parameters are only used in language bindings but\n",
      "  passed down to XGBoost core.  Or some parameters are not used but slip through this\n",
      "  verification. Please open an issue if you find above cases.\n",
      "\n",
      "\n"
     ]
    },
    {
     "name": "stderr",
     "output_type": "stream",
     "text": [
      "/home/piotr/miniconda3/lib/python3.8/site-packages/xgboost/sklearn.py:888: UserWarning: The use of label encoder in XGBClassifier is deprecated and will be removed in a future release. To remove this warning, do the following: 1) Pass option use_label_encoder=False when constructing XGBClassifier object; and 2) Encode your labels (y) as integers starting with 0, i.e. 0, 1, 2, ..., [num_class - 1].\n",
      "  warnings.warn(label_encoder_deprecation_msg, UserWarning)\n"
     ]
    },
    {
     "name": "stdout",
     "output_type": "stream",
     "text": [
      "[23:52:52] WARNING: ../src/learner.cc:1061: Starting in XGBoost 1.3.0, the default evaluation metric used with the objective 'binary:logistic' was changed from 'error' to 'logloss'. Explicitly set eval_metric if you'd like to restore the old behavior.\n",
      "[CV]  nrounds=1111.0, min_child_weight=25.398416831491197, lambda=0.004556754060844206, eta=0.004556754060844206, colsample_bytree=1.0, colsample_bylevel=0.5555555555555556, alpha=0.0009765625, accuracy=0.889, f1=0.234, roc_auc=0.873, total=  12.1s\n",
      "[CV] nrounds=1111.0, min_child_weight=25.398416831491197, lambda=0.004556754060844206, eta=0.004556754060844206, colsample_bytree=1.0, colsample_bylevel=0.5555555555555556, alpha=0.0009765625 \n",
      "[23:53:04] WARNING: ../src/learner.cc:541: \n",
      "Parameters: { nrounds } might not be used.\n",
      "\n",
      "  This may not be accurate due to some parameters are only used in language bindings but\n",
      "  passed down to XGBoost core.  Or some parameters are not used but slip through this\n",
      "  verification. Please open an issue if you find above cases.\n",
      "\n",
      "\n"
     ]
    },
    {
     "name": "stderr",
     "output_type": "stream",
     "text": [
      "/home/piotr/miniconda3/lib/python3.8/site-packages/xgboost/sklearn.py:888: UserWarning: The use of label encoder in XGBClassifier is deprecated and will be removed in a future release. To remove this warning, do the following: 1) Pass option use_label_encoder=False when constructing XGBClassifier object; and 2) Encode your labels (y) as integers starting with 0, i.e. 0, 1, 2, ..., [num_class - 1].\n",
      "  warnings.warn(label_encoder_deprecation_msg, UserWarning)\n"
     ]
    },
    {
     "name": "stdout",
     "output_type": "stream",
     "text": [
      "[23:53:04] WARNING: ../src/learner.cc:1061: Starting in XGBoost 1.3.0, the default evaluation metric used with the objective 'binary:logistic' was changed from 'error' to 'logloss'. Explicitly set eval_metric if you'd like to restore the old behavior.\n",
      "[CV]  nrounds=1111.0, min_child_weight=25.398416831491197, lambda=0.004556754060844206, eta=0.004556754060844206, colsample_bytree=1.0, colsample_bylevel=0.5555555555555556, alpha=0.0009765625, accuracy=0.889, f1=0.242, roc_auc=0.877, total=  12.0s\n",
      "[CV] nrounds=1111.0, min_child_weight=25.398416831491197, lambda=0.004556754060844206, eta=0.004556754060844206, colsample_bytree=1.0, colsample_bylevel=0.5555555555555556, alpha=0.0009765625 \n",
      "[23:53:16] WARNING: ../src/learner.cc:541: \n",
      "Parameters: { nrounds } might not be used.\n",
      "\n",
      "  This may not be accurate due to some parameters are only used in language bindings but\n",
      "  passed down to XGBoost core.  Or some parameters are not used but slip through this\n",
      "  verification. Please open an issue if you find above cases.\n",
      "\n",
      "\n"
     ]
    },
    {
     "name": "stderr",
     "output_type": "stream",
     "text": [
      "/home/piotr/miniconda3/lib/python3.8/site-packages/xgboost/sklearn.py:888: UserWarning: The use of label encoder in XGBClassifier is deprecated and will be removed in a future release. To remove this warning, do the following: 1) Pass option use_label_encoder=False when constructing XGBClassifier object; and 2) Encode your labels (y) as integers starting with 0, i.e. 0, 1, 2, ..., [num_class - 1].\n",
      "  warnings.warn(label_encoder_deprecation_msg, UserWarning)\n"
     ]
    },
    {
     "name": "stdout",
     "output_type": "stream",
     "text": [
      "[23:53:16] WARNING: ../src/learner.cc:1061: Starting in XGBoost 1.3.0, the default evaluation metric used with the objective 'binary:logistic' was changed from 'error' to 'logloss'. Explicitly set eval_metric if you'd like to restore the old behavior.\n",
      "[CV]  nrounds=1111.0, min_child_weight=25.398416831491197, lambda=0.004556754060844206, eta=0.004556754060844206, colsample_bytree=1.0, colsample_bylevel=0.5555555555555556, alpha=0.0009765625, accuracy=0.890, f1=0.230, roc_auc=0.884, total=  12.0s\n",
      "[CV] nrounds=1111.0, min_child_weight=25.398416831491197, lambda=0.004556754060844206, eta=0.004556754060844206, colsample_bytree=1.0, colsample_bylevel=0.5555555555555556, alpha=0.0009765625 \n",
      "[23:53:28] WARNING: ../src/learner.cc:541: \n",
      "Parameters: { nrounds } might not be used.\n",
      "\n",
      "  This may not be accurate due to some parameters are only used in language bindings but\n",
      "  passed down to XGBoost core.  Or some parameters are not used but slip through this\n",
      "  verification. Please open an issue if you find above cases.\n",
      "\n",
      "\n"
     ]
    },
    {
     "name": "stderr",
     "output_type": "stream",
     "text": [
      "/home/piotr/miniconda3/lib/python3.8/site-packages/xgboost/sklearn.py:888: UserWarning: The use of label encoder in XGBClassifier is deprecated and will be removed in a future release. To remove this warning, do the following: 1) Pass option use_label_encoder=False when constructing XGBClassifier object; and 2) Encode your labels (y) as integers starting with 0, i.e. 0, 1, 2, ..., [num_class - 1].\n",
      "  warnings.warn(label_encoder_deprecation_msg, UserWarning)\n"
     ]
    },
    {
     "name": "stdout",
     "output_type": "stream",
     "text": [
      "[23:53:28] WARNING: ../src/learner.cc:1061: Starting in XGBoost 1.3.0, the default evaluation metric used with the objective 'binary:logistic' was changed from 'error' to 'logloss'. Explicitly set eval_metric if you'd like to restore the old behavior.\n",
      "[CV]  nrounds=1111.0, min_child_weight=25.398416831491197, lambda=0.004556754060844206, eta=0.004556754060844206, colsample_bytree=1.0, colsample_bylevel=0.5555555555555556, alpha=0.0009765625, accuracy=0.891, f1=0.261, roc_auc=0.886, total=  12.9s\n",
      "[CV] nrounds=1111.0, min_child_weight=25.398416831491197, lambda=0.004556754060844206, eta=0.004556754060844206, colsample_bytree=1.0, colsample_bylevel=0.5555555555555556, alpha=0.0009765625 \n",
      "[23:53:40] WARNING: ../src/learner.cc:541: \n",
      "Parameters: { nrounds } might not be used.\n",
      "\n",
      "  This may not be accurate due to some parameters are only used in language bindings but\n",
      "  passed down to XGBoost core.  Or some parameters are not used but slip through this\n",
      "  verification. Please open an issue if you find above cases.\n",
      "\n",
      "\n"
     ]
    },
    {
     "name": "stderr",
     "output_type": "stream",
     "text": [
      "/home/piotr/miniconda3/lib/python3.8/site-packages/xgboost/sklearn.py:888: UserWarning: The use of label encoder in XGBClassifier is deprecated and will be removed in a future release. To remove this warning, do the following: 1) Pass option use_label_encoder=False when constructing XGBClassifier object; and 2) Encode your labels (y) as integers starting with 0, i.e. 0, 1, 2, ..., [num_class - 1].\n",
      "  warnings.warn(label_encoder_deprecation_msg, UserWarning)\n"
     ]
    },
    {
     "name": "stdout",
     "output_type": "stream",
     "text": [
      "[23:53:41] WARNING: ../src/learner.cc:1061: Starting in XGBoost 1.3.0, the default evaluation metric used with the objective 'binary:logistic' was changed from 'error' to 'logloss'. Explicitly set eval_metric if you'd like to restore the old behavior.\n",
      "[CV]  nrounds=1111.0, min_child_weight=25.398416831491197, lambda=0.004556754060844206, eta=0.004556754060844206, colsample_bytree=1.0, colsample_bylevel=0.5555555555555556, alpha=0.0009765625, accuracy=0.893, f1=0.267, roc_auc=0.883, total=  12.0s\n",
      "[CV] nrounds=1667.0, min_child_weight=128.0, lambda=1024.0, eta=0.0009765625, colsample_bytree=0.0, colsample_bylevel=0.2222222222222222, alpha=0.09921256574801249 \n",
      "[23:53:52] WARNING: ../src/learner.cc:541: \n",
      "Parameters: { nrounds } might not be used.\n",
      "\n",
      "  This may not be accurate due to some parameters are only used in language bindings but\n",
      "  passed down to XGBoost core.  Or some parameters are not used but slip through this\n",
      "  verification. Please open an issue if you find above cases.\n",
      "\n",
      "\n",
      "[23:53:53] WARNING: ../src/learner.cc:1061: Starting in XGBoost 1.3.0, the default evaluation metric used with the objective 'binary:logistic' was changed from 'error' to 'logloss'. Explicitly set eval_metric if you'd like to restore the old behavior.\n"
     ]
    },
    {
     "name": "stderr",
     "output_type": "stream",
     "text": [
      "/home/piotr/miniconda3/lib/python3.8/site-packages/xgboost/sklearn.py:888: UserWarning: The use of label encoder in XGBClassifier is deprecated and will be removed in a future release. To remove this warning, do the following: 1) Pass option use_label_encoder=False when constructing XGBClassifier object; and 2) Encode your labels (y) as integers starting with 0, i.e. 0, 1, 2, ..., [num_class - 1].\n",
      "  warnings.warn(label_encoder_deprecation_msg, UserWarning)\n"
     ]
    },
    {
     "name": "stdout",
     "output_type": "stream",
     "text": [
      "[CV]  nrounds=1667.0, min_child_weight=128.0, lambda=1024.0, eta=0.0009765625, colsample_bytree=0.0, colsample_bylevel=0.2222222222222222, alpha=0.09921256574801249, accuracy=0.881, f1=0.000, roc_auc=0.672, total=   0.7s\n",
      "[CV] nrounds=1667.0, min_child_weight=128.0, lambda=1024.0, eta=0.0009765625, colsample_bytree=0.0, colsample_bylevel=0.2222222222222222, alpha=0.09921256574801249 \n",
      "[23:53:53] WARNING: ../src/learner.cc:541: \n",
      "Parameters: { nrounds } might not be used.\n",
      "\n",
      "  This may not be accurate due to some parameters are only used in language bindings but\n",
      "  passed down to XGBoost core.  Or some parameters are not used but slip through this\n",
      "  verification. Please open an issue if you find above cases.\n",
      "\n",
      "\n",
      "[23:53:53] WARNING: ../src/learner.cc:1061: Starting in XGBoost 1.3.0, the default evaluation metric used with the objective 'binary:logistic' was changed from 'error' to 'logloss'. Explicitly set eval_metric if you'd like to restore the old behavior.\n"
     ]
    },
    {
     "name": "stderr",
     "output_type": "stream",
     "text": [
      "/home/piotr/miniconda3/lib/python3.8/site-packages/xgboost/sklearn.py:888: UserWarning: The use of label encoder in XGBClassifier is deprecated and will be removed in a future release. To remove this warning, do the following: 1) Pass option use_label_encoder=False when constructing XGBClassifier object; and 2) Encode your labels (y) as integers starting with 0, i.e. 0, 1, 2, ..., [num_class - 1].\n",
      "  warnings.warn(label_encoder_deprecation_msg, UserWarning)\n"
     ]
    },
    {
     "name": "stdout",
     "output_type": "stream",
     "text": [
      "[CV]  nrounds=1667.0, min_child_weight=128.0, lambda=1024.0, eta=0.0009765625, colsample_bytree=0.0, colsample_bylevel=0.2222222222222222, alpha=0.09921256574801249, accuracy=0.881, f1=0.000, roc_auc=0.671, total=   0.7s\n",
      "[CV] nrounds=1667.0, min_child_weight=128.0, lambda=1024.0, eta=0.0009765625, colsample_bytree=0.0, colsample_bylevel=0.2222222222222222, alpha=0.09921256574801249 \n",
      "[23:53:54] WARNING: ../src/learner.cc:541: \n",
      "Parameters: { nrounds } might not be used.\n",
      "\n",
      "  This may not be accurate due to some parameters are only used in language bindings but\n",
      "  passed down to XGBoost core.  Or some parameters are not used but slip through this\n",
      "  verification. Please open an issue if you find above cases.\n",
      "\n",
      "\n",
      "[23:53:54] WARNING: ../src/learner.cc:1061: Starting in XGBoost 1.3.0, the default evaluation metric used with the objective 'binary:logistic' was changed from 'error' to 'logloss'. Explicitly set eval_metric if you'd like to restore the old behavior.\n"
     ]
    },
    {
     "name": "stderr",
     "output_type": "stream",
     "text": [
      "/home/piotr/miniconda3/lib/python3.8/site-packages/xgboost/sklearn.py:888: UserWarning: The use of label encoder in XGBClassifier is deprecated and will be removed in a future release. To remove this warning, do the following: 1) Pass option use_label_encoder=False when constructing XGBClassifier object; and 2) Encode your labels (y) as integers starting with 0, i.e. 0, 1, 2, ..., [num_class - 1].\n",
      "  warnings.warn(label_encoder_deprecation_msg, UserWarning)\n"
     ]
    },
    {
     "name": "stdout",
     "output_type": "stream",
     "text": [
      "[CV]  nrounds=1667.0, min_child_weight=128.0, lambda=1024.0, eta=0.0009765625, colsample_bytree=0.0, colsample_bylevel=0.2222222222222222, alpha=0.09921256574801249, accuracy=0.881, f1=0.000, roc_auc=0.689, total=   0.7s\n",
      "[CV] nrounds=1667.0, min_child_weight=128.0, lambda=1024.0, eta=0.0009765625, colsample_bytree=0.0, colsample_bylevel=0.2222222222222222, alpha=0.09921256574801249 \n",
      "[23:53:55] WARNING: ../src/learner.cc:541: \n",
      "Parameters: { nrounds } might not be used.\n",
      "\n",
      "  This may not be accurate due to some parameters are only used in language bindings but\n",
      "  passed down to XGBoost core.  Or some parameters are not used but slip through this\n",
      "  verification. Please open an issue if you find above cases.\n",
      "\n",
      "\n",
      "[23:53:55] WARNING: ../src/learner.cc:1061: Starting in XGBoost 1.3.0, the default evaluation metric used with the objective 'binary:logistic' was changed from 'error' to 'logloss'. Explicitly set eval_metric if you'd like to restore the old behavior.\n"
     ]
    },
    {
     "name": "stderr",
     "output_type": "stream",
     "text": [
      "/home/piotr/miniconda3/lib/python3.8/site-packages/xgboost/sklearn.py:888: UserWarning: The use of label encoder in XGBClassifier is deprecated and will be removed in a future release. To remove this warning, do the following: 1) Pass option use_label_encoder=False when constructing XGBClassifier object; and 2) Encode your labels (y) as integers starting with 0, i.e. 0, 1, 2, ..., [num_class - 1].\n",
      "  warnings.warn(label_encoder_deprecation_msg, UserWarning)\n"
     ]
    },
    {
     "name": "stdout",
     "output_type": "stream",
     "text": [
      "[CV]  nrounds=1667.0, min_child_weight=128.0, lambda=1024.0, eta=0.0009765625, colsample_bytree=0.0, colsample_bylevel=0.2222222222222222, alpha=0.09921256574801249, accuracy=0.880, f1=0.000, roc_auc=0.675, total=   0.7s\n",
      "[CV] nrounds=1667.0, min_child_weight=128.0, lambda=1024.0, eta=0.0009765625, colsample_bytree=0.0, colsample_bylevel=0.2222222222222222, alpha=0.09921256574801249 \n",
      "[23:53:55] WARNING: ../src/learner.cc:541: \n",
      "Parameters: { nrounds } might not be used.\n",
      "\n",
      "  This may not be accurate due to some parameters are only used in language bindings but\n",
      "  passed down to XGBoost core.  Or some parameters are not used but slip through this\n",
      "  verification. Please open an issue if you find above cases.\n",
      "\n",
      "\n",
      "[23:53:55] WARNING: ../src/learner.cc:1061: Starting in XGBoost 1.3.0, the default evaluation metric used with the objective 'binary:logistic' was changed from 'error' to 'logloss'. Explicitly set eval_metric if you'd like to restore the old behavior.\n"
     ]
    },
    {
     "name": "stderr",
     "output_type": "stream",
     "text": [
      "/home/piotr/miniconda3/lib/python3.8/site-packages/xgboost/sklearn.py:888: UserWarning: The use of label encoder in XGBClassifier is deprecated and will be removed in a future release. To remove this warning, do the following: 1) Pass option use_label_encoder=False when constructing XGBClassifier object; and 2) Encode your labels (y) as integers starting with 0, i.e. 0, 1, 2, ..., [num_class - 1].\n",
      "  warnings.warn(label_encoder_deprecation_msg, UserWarning)\n"
     ]
    },
    {
     "name": "stdout",
     "output_type": "stream",
     "text": [
      "[CV]  nrounds=1667.0, min_child_weight=128.0, lambda=1024.0, eta=0.0009765625, colsample_bytree=0.0, colsample_bylevel=0.2222222222222222, alpha=0.09921256574801249, accuracy=0.880, f1=0.000, roc_auc=0.666, total=   0.7s\n",
      "[CV] nrounds=2222.0, min_child_weight=2.9394689845511977, lambda=0.0009765625, eta=0.0009765625, colsample_bytree=1.0, colsample_bylevel=0.8888888888888888, alpha=219.45445961038678 \n",
      "[23:53:56] WARNING: ../src/learner.cc:541: \n",
      "Parameters: { nrounds } might not be used.\n",
      "\n",
      "  This may not be accurate due to some parameters are only used in language bindings but\n",
      "  passed down to XGBoost core.  Or some parameters are not used but slip through this\n",
      "  verification. Please open an issue if you find above cases.\n",
      "\n",
      "\n"
     ]
    },
    {
     "name": "stderr",
     "output_type": "stream",
     "text": [
      "/home/piotr/miniconda3/lib/python3.8/site-packages/xgboost/sklearn.py:888: UserWarning: The use of label encoder in XGBClassifier is deprecated and will be removed in a future release. To remove this warning, do the following: 1) Pass option use_label_encoder=False when constructing XGBClassifier object; and 2) Encode your labels (y) as integers starting with 0, i.e. 0, 1, 2, ..., [num_class - 1].\n",
      "  warnings.warn(label_encoder_deprecation_msg, UserWarning)\n"
     ]
    },
    {
     "name": "stdout",
     "output_type": "stream",
     "text": [
      "[23:53:56] WARNING: ../src/learner.cc:1061: Starting in XGBoost 1.3.0, the default evaluation metric used with the objective 'binary:logistic' was changed from 'error' to 'logloss'. Explicitly set eval_metric if you'd like to restore the old behavior.\n",
      "[CV]  nrounds=2222.0, min_child_weight=2.9394689845511977, lambda=0.0009765625, eta=0.0009765625, colsample_bytree=1.0, colsample_bylevel=0.8888888888888888, alpha=219.45445961038678, accuracy=0.881, f1=0.000, roc_auc=0.733, total=  18.6s\n",
      "[CV] nrounds=2222.0, min_child_weight=2.9394689845511977, lambda=0.0009765625, eta=0.0009765625, colsample_bytree=1.0, colsample_bylevel=0.8888888888888888, alpha=219.45445961038678 \n",
      "[23:54:14] WARNING: ../src/learner.cc:541: \n",
      "Parameters: { nrounds } might not be used.\n",
      "\n",
      "  This may not be accurate due to some parameters are only used in language bindings but\n",
      "  passed down to XGBoost core.  Or some parameters are not used but slip through this\n",
      "  verification. Please open an issue if you find above cases.\n",
      "\n",
      "\n"
     ]
    },
    {
     "name": "stderr",
     "output_type": "stream",
     "text": [
      "/home/piotr/miniconda3/lib/python3.8/site-packages/xgboost/sklearn.py:888: UserWarning: The use of label encoder in XGBClassifier is deprecated and will be removed in a future release. To remove this warning, do the following: 1) Pass option use_label_encoder=False when constructing XGBClassifier object; and 2) Encode your labels (y) as integers starting with 0, i.e. 0, 1, 2, ..., [num_class - 1].\n",
      "  warnings.warn(label_encoder_deprecation_msg, UserWarning)\n"
     ]
    },
    {
     "name": "stdout",
     "output_type": "stream",
     "text": [
      "[23:54:15] WARNING: ../src/learner.cc:1061: Starting in XGBoost 1.3.0, the default evaluation metric used with the objective 'binary:logistic' was changed from 'error' to 'logloss'. Explicitly set eval_metric if you'd like to restore the old behavior.\n",
      "[CV]  nrounds=2222.0, min_child_weight=2.9394689845511977, lambda=0.0009765625, eta=0.0009765625, colsample_bytree=1.0, colsample_bylevel=0.8888888888888888, alpha=219.45445961038678, accuracy=0.881, f1=0.000, roc_auc=0.724, total=  18.6s\n",
      "[CV] nrounds=2222.0, min_child_weight=2.9394689845511977, lambda=0.0009765625, eta=0.0009765625, colsample_bytree=1.0, colsample_bylevel=0.8888888888888888, alpha=219.45445961038678 \n",
      "[23:54:33] WARNING: ../src/learner.cc:541: \n",
      "Parameters: { nrounds } might not be used.\n",
      "\n",
      "  This may not be accurate due to some parameters are only used in language bindings but\n",
      "  passed down to XGBoost core.  Or some parameters are not used but slip through this\n",
      "  verification. Please open an issue if you find above cases.\n",
      "\n",
      "\n"
     ]
    },
    {
     "name": "stderr",
     "output_type": "stream",
     "text": [
      "/home/piotr/miniconda3/lib/python3.8/site-packages/xgboost/sklearn.py:888: UserWarning: The use of label encoder in XGBClassifier is deprecated and will be removed in a future release. To remove this warning, do the following: 1) Pass option use_label_encoder=False when constructing XGBClassifier object; and 2) Encode your labels (y) as integers starting with 0, i.e. 0, 1, 2, ..., [num_class - 1].\n",
      "  warnings.warn(label_encoder_deprecation_msg, UserWarning)\n"
     ]
    },
    {
     "name": "stdout",
     "output_type": "stream",
     "text": [
      "[23:54:33] WARNING: ../src/learner.cc:1061: Starting in XGBoost 1.3.0, the default evaluation metric used with the objective 'binary:logistic' was changed from 'error' to 'logloss'. Explicitly set eval_metric if you'd like to restore the old behavior.\n",
      "[CV]  nrounds=2222.0, min_child_weight=2.9394689845511977, lambda=0.0009765625, eta=0.0009765625, colsample_bytree=1.0, colsample_bylevel=0.8888888888888888, alpha=219.45445961038678, accuracy=0.881, f1=0.000, roc_auc=0.702, total=  19.5s\n",
      "[CV] nrounds=2222.0, min_child_weight=2.9394689845511977, lambda=0.0009765625, eta=0.0009765625, colsample_bytree=1.0, colsample_bylevel=0.8888888888888888, alpha=219.45445961038678 \n",
      "[23:54:53] WARNING: ../src/learner.cc:541: \n",
      "Parameters: { nrounds } might not be used.\n",
      "\n",
      "  This may not be accurate due to some parameters are only used in language bindings but\n",
      "  passed down to XGBoost core.  Or some parameters are not used but slip through this\n",
      "  verification. Please open an issue if you find above cases.\n",
      "\n",
      "\n"
     ]
    },
    {
     "name": "stderr",
     "output_type": "stream",
     "text": [
      "/home/piotr/miniconda3/lib/python3.8/site-packages/xgboost/sklearn.py:888: UserWarning: The use of label encoder in XGBClassifier is deprecated and will be removed in a future release. To remove this warning, do the following: 1) Pass option use_label_encoder=False when constructing XGBClassifier object; and 2) Encode your labels (y) as integers starting with 0, i.e. 0, 1, 2, ..., [num_class - 1].\n",
      "  warnings.warn(label_encoder_deprecation_msg, UserWarning)\n"
     ]
    },
    {
     "name": "stdout",
     "output_type": "stream",
     "text": [
      "[23:54:53] WARNING: ../src/learner.cc:1061: Starting in XGBoost 1.3.0, the default evaluation metric used with the objective 'binary:logistic' was changed from 'error' to 'logloss'. Explicitly set eval_metric if you'd like to restore the old behavior.\n",
      "[CV]  nrounds=2222.0, min_child_weight=2.9394689845511977, lambda=0.0009765625, eta=0.0009765625, colsample_bytree=1.0, colsample_bylevel=0.8888888888888888, alpha=219.45445961038678, accuracy=0.880, f1=0.000, roc_auc=0.723, total=  18.9s\n",
      "[CV] nrounds=2222.0, min_child_weight=2.9394689845511977, lambda=0.0009765625, eta=0.0009765625, colsample_bytree=1.0, colsample_bylevel=0.8888888888888888, alpha=219.45445961038678 \n",
      "[23:55:11] WARNING: ../src/learner.cc:541: \n",
      "Parameters: { nrounds } might not be used.\n",
      "\n",
      "  This may not be accurate due to some parameters are only used in language bindings but\n",
      "  passed down to XGBoost core.  Or some parameters are not used but slip through this\n",
      "  verification. Please open an issue if you find above cases.\n",
      "\n",
      "\n"
     ]
    },
    {
     "name": "stderr",
     "output_type": "stream",
     "text": [
      "/home/piotr/miniconda3/lib/python3.8/site-packages/xgboost/sklearn.py:888: UserWarning: The use of label encoder in XGBClassifier is deprecated and will be removed in a future release. To remove this warning, do the following: 1) Pass option use_label_encoder=False when constructing XGBClassifier object; and 2) Encode your labels (y) as integers starting with 0, i.e. 0, 1, 2, ..., [num_class - 1].\n",
      "  warnings.warn(label_encoder_deprecation_msg, UserWarning)\n"
     ]
    },
    {
     "name": "stdout",
     "output_type": "stream",
     "text": [
      "[23:55:12] WARNING: ../src/learner.cc:1061: Starting in XGBoost 1.3.0, the default evaluation metric used with the objective 'binary:logistic' was changed from 'error' to 'logloss'. Explicitly set eval_metric if you'd like to restore the old behavior.\n",
      "[CV]  nrounds=2222.0, min_child_weight=2.9394689845511977, lambda=0.0009765625, eta=0.0009765625, colsample_bytree=1.0, colsample_bylevel=0.8888888888888888, alpha=219.45445961038678, accuracy=0.880, f1=0.000, roc_auc=0.734, total=  19.0s\n",
      "[CV] nrounds=5000.0, min_child_weight=1.7144879657061456, lambda=0.021262343752724643, eta=0.0098431332023037, colsample_bytree=1.0, colsample_bylevel=0.5555555555555556, alpha=0.004556754060844206 \n",
      "[23:55:30] WARNING: ../src/learner.cc:541: \n",
      "Parameters: { nrounds } might not be used.\n",
      "\n",
      "  This may not be accurate due to some parameters are only used in language bindings but\n",
      "  passed down to XGBoost core.  Or some parameters are not used but slip through this\n",
      "  verification. Please open an issue if you find above cases.\n",
      "\n",
      "\n"
     ]
    },
    {
     "name": "stderr",
     "output_type": "stream",
     "text": [
      "/home/piotr/miniconda3/lib/python3.8/site-packages/xgboost/sklearn.py:888: UserWarning: The use of label encoder in XGBClassifier is deprecated and will be removed in a future release. To remove this warning, do the following: 1) Pass option use_label_encoder=False when constructing XGBClassifier object; and 2) Encode your labels (y) as integers starting with 0, i.e. 0, 1, 2, ..., [num_class - 1].\n",
      "  warnings.warn(label_encoder_deprecation_msg, UserWarning)\n"
     ]
    },
    {
     "name": "stdout",
     "output_type": "stream",
     "text": [
      "[23:55:31] WARNING: ../src/learner.cc:1061: Starting in XGBoost 1.3.0, the default evaluation metric used with the objective 'binary:logistic' was changed from 'error' to 'logloss'. Explicitly set eval_metric if you'd like to restore the old behavior.\n",
      "[CV]  nrounds=5000.0, min_child_weight=1.7144879657061456, lambda=0.021262343752724643, eta=0.0098431332023037, colsample_bytree=1.0, colsample_bylevel=0.5555555555555556, alpha=0.004556754060844206, accuracy=0.894, f1=0.301, roc_auc=0.883, total=  12.8s\n",
      "[CV] nrounds=5000.0, min_child_weight=1.7144879657061456, lambda=0.021262343752724643, eta=0.0098431332023037, colsample_bytree=1.0, colsample_bylevel=0.5555555555555556, alpha=0.004556754060844206 \n",
      "[23:55:43] WARNING: ../src/learner.cc:541: \n",
      "Parameters: { nrounds } might not be used.\n",
      "\n",
      "  This may not be accurate due to some parameters are only used in language bindings but\n",
      "  passed down to XGBoost core.  Or some parameters are not used but slip through this\n",
      "  verification. Please open an issue if you find above cases.\n",
      "\n",
      "\n"
     ]
    },
    {
     "name": "stderr",
     "output_type": "stream",
     "text": [
      "/home/piotr/miniconda3/lib/python3.8/site-packages/xgboost/sklearn.py:888: UserWarning: The use of label encoder in XGBClassifier is deprecated and will be removed in a future release. To remove this warning, do the following: 1) Pass option use_label_encoder=False when constructing XGBClassifier object; and 2) Encode your labels (y) as integers starting with 0, i.e. 0, 1, 2, ..., [num_class - 1].\n",
      "  warnings.warn(label_encoder_deprecation_msg, UserWarning)\n"
     ]
    },
    {
     "name": "stdout",
     "output_type": "stream",
     "text": [
      "[23:55:43] WARNING: ../src/learner.cc:1061: Starting in XGBoost 1.3.0, the default evaluation metric used with the objective 'binary:logistic' was changed from 'error' to 'logloss'. Explicitly set eval_metric if you'd like to restore the old behavior.\n",
      "[CV]  nrounds=5000.0, min_child_weight=1.7144879657061456, lambda=0.021262343752724643, eta=0.0098431332023037, colsample_bytree=1.0, colsample_bylevel=0.5555555555555556, alpha=0.004556754060844206, accuracy=0.892, f1=0.269, roc_auc=0.886, total=  12.7s\n",
      "[CV] nrounds=5000.0, min_child_weight=1.7144879657061456, lambda=0.021262343752724643, eta=0.0098431332023037, colsample_bytree=1.0, colsample_bylevel=0.5555555555555556, alpha=0.004556754060844206 \n",
      "[23:55:56] WARNING: ../src/learner.cc:541: \n",
      "Parameters: { nrounds } might not be used.\n",
      "\n",
      "  This may not be accurate due to some parameters are only used in language bindings but\n",
      "  passed down to XGBoost core.  Or some parameters are not used but slip through this\n",
      "  verification. Please open an issue if you find above cases.\n",
      "\n",
      "\n"
     ]
    },
    {
     "name": "stderr",
     "output_type": "stream",
     "text": [
      "/home/piotr/miniconda3/lib/python3.8/site-packages/xgboost/sklearn.py:888: UserWarning: The use of label encoder in XGBClassifier is deprecated and will be removed in a future release. To remove this warning, do the following: 1) Pass option use_label_encoder=False when constructing XGBClassifier object; and 2) Encode your labels (y) as integers starting with 0, i.e. 0, 1, 2, ..., [num_class - 1].\n",
      "  warnings.warn(label_encoder_deprecation_msg, UserWarning)\n"
     ]
    },
    {
     "name": "stdout",
     "output_type": "stream",
     "text": [
      "[23:55:56] WARNING: ../src/learner.cc:1061: Starting in XGBoost 1.3.0, the default evaluation metric used with the objective 'binary:logistic' was changed from 'error' to 'logloss'. Explicitly set eval_metric if you'd like to restore the old behavior.\n",
      "[CV]  nrounds=5000.0, min_child_weight=1.7144879657061456, lambda=0.021262343752724643, eta=0.0098431332023037, colsample_bytree=1.0, colsample_bylevel=0.5555555555555556, alpha=0.004556754060844206, accuracy=0.895, f1=0.295, roc_auc=0.891, total=  13.1s\n",
      "[CV] nrounds=5000.0, min_child_weight=1.7144879657061456, lambda=0.021262343752724643, eta=0.0098431332023037, colsample_bytree=1.0, colsample_bylevel=0.5555555555555556, alpha=0.004556754060844206 \n",
      "[23:56:09] WARNING: ../src/learner.cc:541: \n",
      "Parameters: { nrounds } might not be used.\n",
      "\n",
      "  This may not be accurate due to some parameters are only used in language bindings but\n",
      "  passed down to XGBoost core.  Or some parameters are not used but slip through this\n",
      "  verification. Please open an issue if you find above cases.\n",
      "\n",
      "\n"
     ]
    },
    {
     "name": "stderr",
     "output_type": "stream",
     "text": [
      "/home/piotr/miniconda3/lib/python3.8/site-packages/xgboost/sklearn.py:888: UserWarning: The use of label encoder in XGBClassifier is deprecated and will be removed in a future release. To remove this warning, do the following: 1) Pass option use_label_encoder=False when constructing XGBClassifier object; and 2) Encode your labels (y) as integers starting with 0, i.e. 0, 1, 2, ..., [num_class - 1].\n",
      "  warnings.warn(label_encoder_deprecation_msg, UserWarning)\n"
     ]
    },
    {
     "name": "stdout",
     "output_type": "stream",
     "text": [
      "[23:56:09] WARNING: ../src/learner.cc:1061: Starting in XGBoost 1.3.0, the default evaluation metric used with the objective 'binary:logistic' was changed from 'error' to 'logloss'. Explicitly set eval_metric if you'd like to restore the old behavior.\n",
      "[CV]  nrounds=5000.0, min_child_weight=1.7144879657061456, lambda=0.021262343752724643, eta=0.0098431332023037, colsample_bytree=1.0, colsample_bylevel=0.5555555555555556, alpha=0.004556754060844206, accuracy=0.893, f1=0.305, roc_auc=0.892, total=  12.8s\n",
      "[CV] nrounds=5000.0, min_child_weight=1.7144879657061456, lambda=0.021262343752724643, eta=0.0098431332023037, colsample_bytree=1.0, colsample_bylevel=0.5555555555555556, alpha=0.004556754060844206 \n",
      "[23:56:22] WARNING: ../src/learner.cc:541: \n",
      "Parameters: { nrounds } might not be used.\n",
      "\n",
      "  This may not be accurate due to some parameters are only used in language bindings but\n",
      "  passed down to XGBoost core.  Or some parameters are not used but slip through this\n",
      "  verification. Please open an issue if you find above cases.\n",
      "\n",
      "\n"
     ]
    },
    {
     "name": "stderr",
     "output_type": "stream",
     "text": [
      "/home/piotr/miniconda3/lib/python3.8/site-packages/xgboost/sklearn.py:888: UserWarning: The use of label encoder in XGBClassifier is deprecated and will be removed in a future release. To remove this warning, do the following: 1) Pass option use_label_encoder=False when constructing XGBClassifier object; and 2) Encode your labels (y) as integers starting with 0, i.e. 0, 1, 2, ..., [num_class - 1].\n",
      "  warnings.warn(label_encoder_deprecation_msg, UserWarning)\n"
     ]
    },
    {
     "name": "stdout",
     "output_type": "stream",
     "text": [
      "[23:56:22] WARNING: ../src/learner.cc:1061: Starting in XGBoost 1.3.0, the default evaluation metric used with the objective 'binary:logistic' was changed from 'error' to 'logloss'. Explicitly set eval_metric if you'd like to restore the old behavior.\n",
      "[CV]  nrounds=5000.0, min_child_weight=1.7144879657061456, lambda=0.021262343752724643, eta=0.0098431332023037, colsample_bytree=1.0, colsample_bylevel=0.5555555555555556, alpha=0.004556754060844206, accuracy=0.896, f1=0.322, roc_auc=0.892, total=  12.8s\n",
      "[CV] nrounds=1111.0, min_child_weight=2.9394689845511977, lambda=47.03150375281921, eta=0.002109491677524035, colsample_bytree=0.1111111111111111, colsample_bylevel=0.7777777777777777, alpha=1024.0 \n",
      "[23:56:35] WARNING: ../src/learner.cc:541: \n",
      "Parameters: { nrounds } might not be used.\n",
      "\n",
      "  This may not be accurate due to some parameters are only used in language bindings but\n",
      "  passed down to XGBoost core.  Or some parameters are not used but slip through this\n",
      "  verification. Please open an issue if you find above cases.\n",
      "\n",
      "\n",
      "[23:56:35] WARNING: ../src/learner.cc:1061: Starting in XGBoost 1.3.0, the default evaluation metric used with the objective 'binary:logistic' was changed from 'error' to 'logloss'. Explicitly set eval_metric if you'd like to restore the old behavior.\n"
     ]
    },
    {
     "name": "stderr",
     "output_type": "stream",
     "text": [
      "/home/piotr/miniconda3/lib/python3.8/site-packages/xgboost/sklearn.py:888: UserWarning: The use of label encoder in XGBClassifier is deprecated and will be removed in a future release. To remove this warning, do the following: 1) Pass option use_label_encoder=False when constructing XGBClassifier object; and 2) Encode your labels (y) as integers starting with 0, i.e. 0, 1, 2, ..., [num_class - 1].\n",
      "  warnings.warn(label_encoder_deprecation_msg, UserWarning)\n"
     ]
    },
    {
     "name": "stdout",
     "output_type": "stream",
     "text": [
      "[CV]  nrounds=1111.0, min_child_weight=2.9394689845511977, lambda=47.03150375281921, eta=0.002109491677524035, colsample_bytree=0.1111111111111111, colsample_bylevel=0.7777777777777777, alpha=1024.0, accuracy=0.881, f1=0.000, roc_auc=0.769, total=   2.7s\n",
      "[CV] nrounds=1111.0, min_child_weight=2.9394689845511977, lambda=47.03150375281921, eta=0.002109491677524035, colsample_bytree=0.1111111111111111, colsample_bylevel=0.7777777777777777, alpha=1024.0 \n",
      "[23:56:37] WARNING: ../src/learner.cc:541: \n",
      "Parameters: { nrounds } might not be used.\n",
      "\n",
      "  This may not be accurate due to some parameters are only used in language bindings but\n",
      "  passed down to XGBoost core.  Or some parameters are not used but slip through this\n",
      "  verification. Please open an issue if you find above cases.\n",
      "\n",
      "\n",
      "[23:56:37] WARNING: ../src/learner.cc:1061: Starting in XGBoost 1.3.0, the default evaluation metric used with the objective 'binary:logistic' was changed from 'error' to 'logloss'. Explicitly set eval_metric if you'd like to restore the old behavior.\n"
     ]
    },
    {
     "name": "stderr",
     "output_type": "stream",
     "text": [
      "/home/piotr/miniconda3/lib/python3.8/site-packages/xgboost/sklearn.py:888: UserWarning: The use of label encoder in XGBClassifier is deprecated and will be removed in a future release. To remove this warning, do the following: 1) Pass option use_label_encoder=False when constructing XGBClassifier object; and 2) Encode your labels (y) as integers starting with 0, i.e. 0, 1, 2, ..., [num_class - 1].\n",
      "  warnings.warn(label_encoder_deprecation_msg, UserWarning)\n"
     ]
    },
    {
     "name": "stdout",
     "output_type": "stream",
     "text": [
      "[CV]  nrounds=1111.0, min_child_weight=2.9394689845511977, lambda=47.03150375281921, eta=0.002109491677524035, colsample_bytree=0.1111111111111111, colsample_bylevel=0.7777777777777777, alpha=1024.0, accuracy=0.881, f1=0.000, roc_auc=0.766, total=   2.7s\n",
      "[CV] nrounds=1111.0, min_child_weight=2.9394689845511977, lambda=47.03150375281921, eta=0.002109491677524035, colsample_bytree=0.1111111111111111, colsample_bylevel=0.7777777777777777, alpha=1024.0 \n",
      "[23:56:40] WARNING: ../src/learner.cc:541: \n",
      "Parameters: { nrounds } might not be used.\n",
      "\n",
      "  This may not be accurate due to some parameters are only used in language bindings but\n",
      "  passed down to XGBoost core.  Or some parameters are not used but slip through this\n",
      "  verification. Please open an issue if you find above cases.\n",
      "\n",
      "\n",
      "[23:56:40] WARNING: ../src/learner.cc:1061: Starting in XGBoost 1.3.0, the default evaluation metric used with the objective 'binary:logistic' was changed from 'error' to 'logloss'. Explicitly set eval_metric if you'd like to restore the old behavior.\n"
     ]
    },
    {
     "name": "stderr",
     "output_type": "stream",
     "text": [
      "/home/piotr/miniconda3/lib/python3.8/site-packages/xgboost/sklearn.py:888: UserWarning: The use of label encoder in XGBClassifier is deprecated and will be removed in a future release. To remove this warning, do the following: 1) Pass option use_label_encoder=False when constructing XGBClassifier object; and 2) Encode your labels (y) as integers starting with 0, i.e. 0, 1, 2, ..., [num_class - 1].\n",
      "  warnings.warn(label_encoder_deprecation_msg, UserWarning)\n"
     ]
    },
    {
     "name": "stdout",
     "output_type": "stream",
     "text": [
      "[CV]  nrounds=1111.0, min_child_weight=2.9394689845511977, lambda=47.03150375281921, eta=0.002109491677524035, colsample_bytree=0.1111111111111111, colsample_bylevel=0.7777777777777777, alpha=1024.0, accuracy=0.881, f1=0.000, roc_auc=0.765, total=   2.6s\n",
      "[CV] nrounds=1111.0, min_child_weight=2.9394689845511977, lambda=47.03150375281921, eta=0.002109491677524035, colsample_bytree=0.1111111111111111, colsample_bylevel=0.7777777777777777, alpha=1024.0 \n",
      "[23:56:43] WARNING: ../src/learner.cc:541: \n",
      "Parameters: { nrounds } might not be used.\n",
      "\n",
      "  This may not be accurate due to some parameters are only used in language bindings but\n",
      "  passed down to XGBoost core.  Or some parameters are not used but slip through this\n",
      "  verification. Please open an issue if you find above cases.\n",
      "\n",
      "\n",
      "[23:56:43] WARNING: ../src/learner.cc:1061: Starting in XGBoost 1.3.0, the default evaluation metric used with the objective 'binary:logistic' was changed from 'error' to 'logloss'. Explicitly set eval_metric if you'd like to restore the old behavior.\n"
     ]
    },
    {
     "name": "stderr",
     "output_type": "stream",
     "text": [
      "/home/piotr/miniconda3/lib/python3.8/site-packages/xgboost/sklearn.py:888: UserWarning: The use of label encoder in XGBClassifier is deprecated and will be removed in a future release. To remove this warning, do the following: 1) Pass option use_label_encoder=False when constructing XGBClassifier object; and 2) Encode your labels (y) as integers starting with 0, i.e. 0, 1, 2, ..., [num_class - 1].\n",
      "  warnings.warn(label_encoder_deprecation_msg, UserWarning)\n"
     ]
    },
    {
     "name": "stdout",
     "output_type": "stream",
     "text": [
      "[CV]  nrounds=1111.0, min_child_weight=2.9394689845511977, lambda=47.03150375281921, eta=0.002109491677524035, colsample_bytree=0.1111111111111111, colsample_bylevel=0.7777777777777777, alpha=1024.0, accuracy=0.880, f1=0.000, roc_auc=0.789, total=   2.7s\n",
      "[CV] nrounds=1111.0, min_child_weight=2.9394689845511977, lambda=47.03150375281921, eta=0.002109491677524035, colsample_bytree=0.1111111111111111, colsample_bylevel=0.7777777777777777, alpha=1024.0 \n",
      "[23:56:45] WARNING: ../src/learner.cc:541: \n",
      "Parameters: { nrounds } might not be used.\n",
      "\n",
      "  This may not be accurate due to some parameters are only used in language bindings but\n",
      "  passed down to XGBoost core.  Or some parameters are not used but slip through this\n",
      "  verification. Please open an issue if you find above cases.\n",
      "\n",
      "\n",
      "[23:56:45] WARNING: ../src/learner.cc:1061: Starting in XGBoost 1.3.0, the default evaluation metric used with the objective 'binary:logistic' was changed from 'error' to 'logloss'. Explicitly set eval_metric if you'd like to restore the old behavior.\n"
     ]
    },
    {
     "name": "stderr",
     "output_type": "stream",
     "text": [
      "/home/piotr/miniconda3/lib/python3.8/site-packages/xgboost/sklearn.py:888: UserWarning: The use of label encoder in XGBClassifier is deprecated and will be removed in a future release. To remove this warning, do the following: 1) Pass option use_label_encoder=False when constructing XGBClassifier object; and 2) Encode your labels (y) as integers starting with 0, i.e. 0, 1, 2, ..., [num_class - 1].\n",
      "  warnings.warn(label_encoder_deprecation_msg, UserWarning)\n"
     ]
    },
    {
     "name": "stdout",
     "output_type": "stream",
     "text": [
      "[CV]  nrounds=1111.0, min_child_weight=2.9394689845511977, lambda=47.03150375281921, eta=0.002109491677524035, colsample_bytree=0.1111111111111111, colsample_bylevel=0.7777777777777777, alpha=1024.0, accuracy=0.880, f1=0.000, roc_auc=0.775, total=   2.7s\n",
      "[CV] nrounds=3333.0, min_child_weight=43.54528000558007, lambda=0.09921256574801249, eta=0.002109491677524035, colsample_bytree=0.6666666666666666, colsample_bylevel=0.4444444444444444, alpha=0.0009765625 \n",
      "[23:56:48] WARNING: ../src/learner.cc:541: \n",
      "Parameters: { nrounds } might not be used.\n",
      "\n",
      "  This may not be accurate due to some parameters are only used in language bindings but\n",
      "  passed down to XGBoost core.  Or some parameters are not used but slip through this\n",
      "  verification. Please open an issue if you find above cases.\n",
      "\n",
      "\n"
     ]
    },
    {
     "name": "stderr",
     "output_type": "stream",
     "text": [
      "/home/piotr/miniconda3/lib/python3.8/site-packages/xgboost/sklearn.py:888: UserWarning: The use of label encoder in XGBClassifier is deprecated and will be removed in a future release. To remove this warning, do the following: 1) Pass option use_label_encoder=False when constructing XGBClassifier object; and 2) Encode your labels (y) as integers starting with 0, i.e. 0, 1, 2, ..., [num_class - 1].\n",
      "  warnings.warn(label_encoder_deprecation_msg, UserWarning)\n"
     ]
    },
    {
     "name": "stdout",
     "output_type": "stream",
     "text": [
      "[23:56:48] WARNING: ../src/learner.cc:1061: Starting in XGBoost 1.3.0, the default evaluation metric used with the objective 'binary:logistic' was changed from 'error' to 'logloss'. Explicitly set eval_metric if you'd like to restore the old behavior.\n",
      "[CV]  nrounds=3333.0, min_child_weight=43.54528000558007, lambda=0.09921256574801249, eta=0.002109491677524035, colsample_bytree=0.6666666666666666, colsample_bylevel=0.4444444444444444, alpha=0.0009765625, accuracy=0.886, f1=0.161, roc_auc=0.874, total=   6.6s\n",
      "[CV] nrounds=3333.0, min_child_weight=43.54528000558007, lambda=0.09921256574801249, eta=0.002109491677524035, colsample_bytree=0.6666666666666666, colsample_bylevel=0.4444444444444444, alpha=0.0009765625 \n",
      "[23:56:55] WARNING: ../src/learner.cc:541: \n",
      "Parameters: { nrounds } might not be used.\n",
      "\n",
      "  This may not be accurate due to some parameters are only used in language bindings but\n",
      "  passed down to XGBoost core.  Or some parameters are not used but slip through this\n",
      "  verification. Please open an issue if you find above cases.\n",
      "\n",
      "\n"
     ]
    },
    {
     "name": "stderr",
     "output_type": "stream",
     "text": [
      "/home/piotr/miniconda3/lib/python3.8/site-packages/xgboost/sklearn.py:888: UserWarning: The use of label encoder in XGBClassifier is deprecated and will be removed in a future release. To remove this warning, do the following: 1) Pass option use_label_encoder=False when constructing XGBClassifier object; and 2) Encode your labels (y) as integers starting with 0, i.e. 0, 1, 2, ..., [num_class - 1].\n",
      "  warnings.warn(label_encoder_deprecation_msg, UserWarning)\n"
     ]
    },
    {
     "name": "stdout",
     "output_type": "stream",
     "text": [
      "[23:56:55] WARNING: ../src/learner.cc:1061: Starting in XGBoost 1.3.0, the default evaluation metric used with the objective 'binary:logistic' was changed from 'error' to 'logloss'. Explicitly set eval_metric if you'd like to restore the old behavior.\n",
      "[CV]  nrounds=3333.0, min_child_weight=43.54528000558007, lambda=0.09921256574801249, eta=0.002109491677524035, colsample_bytree=0.6666666666666666, colsample_bylevel=0.4444444444444444, alpha=0.0009765625, accuracy=0.888, f1=0.192, roc_auc=0.870, total=   6.9s\n",
      "[CV] nrounds=3333.0, min_child_weight=43.54528000558007, lambda=0.09921256574801249, eta=0.002109491677524035, colsample_bytree=0.6666666666666666, colsample_bylevel=0.4444444444444444, alpha=0.0009765625 \n",
      "[23:57:02] WARNING: ../src/learner.cc:541: \n",
      "Parameters: { nrounds } might not be used.\n",
      "\n",
      "  This may not be accurate due to some parameters are only used in language bindings but\n",
      "  passed down to XGBoost core.  Or some parameters are not used but slip through this\n",
      "  verification. Please open an issue if you find above cases.\n",
      "\n",
      "\n"
     ]
    },
    {
     "name": "stderr",
     "output_type": "stream",
     "text": [
      "/home/piotr/miniconda3/lib/python3.8/site-packages/xgboost/sklearn.py:888: UserWarning: The use of label encoder in XGBClassifier is deprecated and will be removed in a future release. To remove this warning, do the following: 1) Pass option use_label_encoder=False when constructing XGBClassifier object; and 2) Encode your labels (y) as integers starting with 0, i.e. 0, 1, 2, ..., [num_class - 1].\n",
      "  warnings.warn(label_encoder_deprecation_msg, UserWarning)\n"
     ]
    },
    {
     "name": "stdout",
     "output_type": "stream",
     "text": [
      "[23:57:02] WARNING: ../src/learner.cc:1061: Starting in XGBoost 1.3.0, the default evaluation metric used with the objective 'binary:logistic' was changed from 'error' to 'logloss'. Explicitly set eval_metric if you'd like to restore the old behavior.\n",
      "[CV]  nrounds=3333.0, min_child_weight=43.54528000558007, lambda=0.09921256574801249, eta=0.002109491677524035, colsample_bytree=0.6666666666666666, colsample_bylevel=0.4444444444444444, alpha=0.0009765625, accuracy=0.887, f1=0.158, roc_auc=0.879, total=   6.7s\n",
      "[CV] nrounds=3333.0, min_child_weight=43.54528000558007, lambda=0.09921256574801249, eta=0.002109491677524035, colsample_bytree=0.6666666666666666, colsample_bylevel=0.4444444444444444, alpha=0.0009765625 \n",
      "[23:57:08] WARNING: ../src/learner.cc:541: \n",
      "Parameters: { nrounds } might not be used.\n",
      "\n",
      "  This may not be accurate due to some parameters are only used in language bindings but\n",
      "  passed down to XGBoost core.  Or some parameters are not used but slip through this\n",
      "  verification. Please open an issue if you find above cases.\n",
      "\n",
      "\n"
     ]
    },
    {
     "name": "stderr",
     "output_type": "stream",
     "text": [
      "/home/piotr/miniconda3/lib/python3.8/site-packages/xgboost/sklearn.py:888: UserWarning: The use of label encoder in XGBClassifier is deprecated and will be removed in a future release. To remove this warning, do the following: 1) Pass option use_label_encoder=False when constructing XGBClassifier object; and 2) Encode your labels (y) as integers starting with 0, i.e. 0, 1, 2, ..., [num_class - 1].\n",
      "  warnings.warn(label_encoder_deprecation_msg, UserWarning)\n"
     ]
    },
    {
     "name": "stdout",
     "output_type": "stream",
     "text": [
      "[23:57:08] WARNING: ../src/learner.cc:1061: Starting in XGBoost 1.3.0, the default evaluation metric used with the objective 'binary:logistic' was changed from 'error' to 'logloss'. Explicitly set eval_metric if you'd like to restore the old behavior.\n",
      "[CV]  nrounds=3333.0, min_child_weight=43.54528000558007, lambda=0.09921256574801249, eta=0.002109491677524035, colsample_bytree=0.6666666666666666, colsample_bylevel=0.4444444444444444, alpha=0.0009765625, accuracy=0.890, f1=0.216, roc_auc=0.884, total=   6.7s\n",
      "[CV] nrounds=3333.0, min_child_weight=43.54528000558007, lambda=0.09921256574801249, eta=0.002109491677524035, colsample_bytree=0.6666666666666666, colsample_bylevel=0.4444444444444444, alpha=0.0009765625 \n",
      "[23:57:15] WARNING: ../src/learner.cc:541: \n",
      "Parameters: { nrounds } might not be used.\n",
      "\n",
      "  This may not be accurate due to some parameters are only used in language bindings but\n",
      "  passed down to XGBoost core.  Or some parameters are not used but slip through this\n",
      "  verification. Please open an issue if you find above cases.\n",
      "\n",
      "\n"
     ]
    },
    {
     "name": "stderr",
     "output_type": "stream",
     "text": [
      "/home/piotr/miniconda3/lib/python3.8/site-packages/xgboost/sklearn.py:888: UserWarning: The use of label encoder in XGBClassifier is deprecated and will be removed in a future release. To remove this warning, do the following: 1) Pass option use_label_encoder=False when constructing XGBClassifier object; and 2) Encode your labels (y) as integers starting with 0, i.e. 0, 1, 2, ..., [num_class - 1].\n",
      "  warnings.warn(label_encoder_deprecation_msg, UserWarning)\n"
     ]
    },
    {
     "name": "stdout",
     "output_type": "stream",
     "text": [
      "[23:57:15] WARNING: ../src/learner.cc:1061: Starting in XGBoost 1.3.0, the default evaluation metric used with the objective 'binary:logistic' was changed from 'error' to 'logloss'. Explicitly set eval_metric if you'd like to restore the old behavior.\n",
      "[CV]  nrounds=3333.0, min_child_weight=43.54528000558007, lambda=0.09921256574801249, eta=0.002109491677524035, colsample_bytree=0.6666666666666666, colsample_bylevel=0.4444444444444444, alpha=0.0009765625, accuracy=0.889, f1=0.207, roc_auc=0.883, total=   6.6s\n",
      "[CV] nrounds=3889.0, min_child_weight=25.398416831491197, lambda=0.0009765625, eta=0.002109491677524035, colsample_bytree=0.4444444444444444, colsample_bylevel=0.7777777777777777, alpha=0.021262343752724643 \n",
      "[23:57:22] WARNING: ../src/learner.cc:541: \n",
      "Parameters: { nrounds } might not be used.\n",
      "\n",
      "  This may not be accurate due to some parameters are only used in language bindings but\n",
      "  passed down to XGBoost core.  Or some parameters are not used but slip through this\n",
      "  verification. Please open an issue if you find above cases.\n",
      "\n",
      "\n"
     ]
    },
    {
     "name": "stderr",
     "output_type": "stream",
     "text": [
      "/home/piotr/miniconda3/lib/python3.8/site-packages/xgboost/sklearn.py:888: UserWarning: The use of label encoder in XGBClassifier is deprecated and will be removed in a future release. To remove this warning, do the following: 1) Pass option use_label_encoder=False when constructing XGBClassifier object; and 2) Encode your labels (y) as integers starting with 0, i.e. 0, 1, 2, ..., [num_class - 1].\n",
      "  warnings.warn(label_encoder_deprecation_msg, UserWarning)\n"
     ]
    },
    {
     "name": "stdout",
     "output_type": "stream",
     "text": [
      "[23:57:22] WARNING: ../src/learner.cc:1061: Starting in XGBoost 1.3.0, the default evaluation metric used with the objective 'binary:logistic' was changed from 'error' to 'logloss'. Explicitly set eval_metric if you'd like to restore the old behavior.\n",
      "[CV]  nrounds=3889.0, min_child_weight=25.398416831491197, lambda=0.0009765625, eta=0.002109491677524035, colsample_bytree=0.4444444444444444, colsample_bylevel=0.7777777777777777, alpha=0.021262343752724643, accuracy=0.887, f1=0.181, roc_auc=0.879, total=   7.9s\n",
      "[CV] nrounds=3889.0, min_child_weight=25.398416831491197, lambda=0.0009765625, eta=0.002109491677524035, colsample_bytree=0.4444444444444444, colsample_bylevel=0.7777777777777777, alpha=0.021262343752724643 \n",
      "[23:57:29] WARNING: ../src/learner.cc:541: \n",
      "Parameters: { nrounds } might not be used.\n",
      "\n",
      "  This may not be accurate due to some parameters are only used in language bindings but\n",
      "  passed down to XGBoost core.  Or some parameters are not used but slip through this\n",
      "  verification. Please open an issue if you find above cases.\n",
      "\n",
      "\n"
     ]
    },
    {
     "name": "stderr",
     "output_type": "stream",
     "text": [
      "/home/piotr/miniconda3/lib/python3.8/site-packages/xgboost/sklearn.py:888: UserWarning: The use of label encoder in XGBClassifier is deprecated and will be removed in a future release. To remove this warning, do the following: 1) Pass option use_label_encoder=False when constructing XGBClassifier object; and 2) Encode your labels (y) as integers starting with 0, i.e. 0, 1, 2, ..., [num_class - 1].\n",
      "  warnings.warn(label_encoder_deprecation_msg, UserWarning)\n"
     ]
    },
    {
     "name": "stdout",
     "output_type": "stream",
     "text": [
      "[23:57:30] WARNING: ../src/learner.cc:1061: Starting in XGBoost 1.3.0, the default evaluation metric used with the objective 'binary:logistic' was changed from 'error' to 'logloss'. Explicitly set eval_metric if you'd like to restore the old behavior.\n",
      "[CV]  nrounds=3889.0, min_child_weight=25.398416831491197, lambda=0.0009765625, eta=0.002109491677524035, colsample_bytree=0.4444444444444444, colsample_bylevel=0.7777777777777777, alpha=0.021262343752724643, accuracy=0.888, f1=0.208, roc_auc=0.874, total=   7.9s\n",
      "[CV] nrounds=3889.0, min_child_weight=25.398416831491197, lambda=0.0009765625, eta=0.002109491677524035, colsample_bytree=0.4444444444444444, colsample_bylevel=0.7777777777777777, alpha=0.021262343752724643 \n",
      "[23:57:37] WARNING: ../src/learner.cc:541: \n",
      "Parameters: { nrounds } might not be used.\n",
      "\n",
      "  This may not be accurate due to some parameters are only used in language bindings but\n",
      "  passed down to XGBoost core.  Or some parameters are not used but slip through this\n",
      "  verification. Please open an issue if you find above cases.\n",
      "\n",
      "\n"
     ]
    },
    {
     "name": "stderr",
     "output_type": "stream",
     "text": [
      "/home/piotr/miniconda3/lib/python3.8/site-packages/xgboost/sklearn.py:888: UserWarning: The use of label encoder in XGBClassifier is deprecated and will be removed in a future release. To remove this warning, do the following: 1) Pass option use_label_encoder=False when constructing XGBClassifier object; and 2) Encode your labels (y) as integers starting with 0, i.e. 0, 1, 2, ..., [num_class - 1].\n",
      "  warnings.warn(label_encoder_deprecation_msg, UserWarning)\n"
     ]
    },
    {
     "name": "stdout",
     "output_type": "stream",
     "text": [
      "[23:57:37] WARNING: ../src/learner.cc:1061: Starting in XGBoost 1.3.0, the default evaluation metric used with the objective 'binary:logistic' was changed from 'error' to 'logloss'. Explicitly set eval_metric if you'd like to restore the old behavior.\n",
      "[CV]  nrounds=3889.0, min_child_weight=25.398416831491197, lambda=0.0009765625, eta=0.002109491677524035, colsample_bytree=0.4444444444444444, colsample_bylevel=0.7777777777777777, alpha=0.021262343752724643, accuracy=0.887, f1=0.173, roc_auc=0.886, total=   7.8s\n",
      "[CV] nrounds=3889.0, min_child_weight=25.398416831491197, lambda=0.0009765625, eta=0.002109491677524035, colsample_bytree=0.4444444444444444, colsample_bylevel=0.7777777777777777, alpha=0.021262343752724643 \n",
      "[23:57:45] WARNING: ../src/learner.cc:541: \n",
      "Parameters: { nrounds } might not be used.\n",
      "\n",
      "  This may not be accurate due to some parameters are only used in language bindings but\n",
      "  passed down to XGBoost core.  Or some parameters are not used but slip through this\n",
      "  verification. Please open an issue if you find above cases.\n",
      "\n",
      "\n"
     ]
    },
    {
     "name": "stderr",
     "output_type": "stream",
     "text": [
      "/home/piotr/miniconda3/lib/python3.8/site-packages/xgboost/sklearn.py:888: UserWarning: The use of label encoder in XGBClassifier is deprecated and will be removed in a future release. To remove this warning, do the following: 1) Pass option use_label_encoder=False when constructing XGBClassifier object; and 2) Encode your labels (y) as integers starting with 0, i.e. 0, 1, 2, ..., [num_class - 1].\n",
      "  warnings.warn(label_encoder_deprecation_msg, UserWarning)\n"
     ]
    },
    {
     "name": "stdout",
     "output_type": "stream",
     "text": [
      "[23:57:45] WARNING: ../src/learner.cc:1061: Starting in XGBoost 1.3.0, the default evaluation metric used with the objective 'binary:logistic' was changed from 'error' to 'logloss'. Explicitly set eval_metric if you'd like to restore the old behavior.\n",
      "[CV]  nrounds=3889.0, min_child_weight=25.398416831491197, lambda=0.0009765625, eta=0.002109491677524035, colsample_bytree=0.4444444444444444, colsample_bylevel=0.7777777777777777, alpha=0.021262343752724643, accuracy=0.889, f1=0.210, roc_auc=0.889, total=   7.8s\n",
      "[CV] nrounds=3889.0, min_child_weight=25.398416831491197, lambda=0.0009765625, eta=0.002109491677524035, colsample_bytree=0.4444444444444444, colsample_bylevel=0.7777777777777777, alpha=0.021262343752724643 \n",
      "[23:57:53] WARNING: ../src/learner.cc:541: \n",
      "Parameters: { nrounds } might not be used.\n",
      "\n",
      "  This may not be accurate due to some parameters are only used in language bindings but\n",
      "  passed down to XGBoost core.  Or some parameters are not used but slip through this\n",
      "  verification. Please open an issue if you find above cases.\n",
      "\n",
      "\n"
     ]
    },
    {
     "name": "stderr",
     "output_type": "stream",
     "text": [
      "/home/piotr/miniconda3/lib/python3.8/site-packages/xgboost/sklearn.py:888: UserWarning: The use of label encoder in XGBClassifier is deprecated and will be removed in a future release. To remove this warning, do the following: 1) Pass option use_label_encoder=False when constructing XGBClassifier object; and 2) Encode your labels (y) as integers starting with 0, i.e. 0, 1, 2, ..., [num_class - 1].\n",
      "  warnings.warn(label_encoder_deprecation_msg, UserWarning)\n"
     ]
    },
    {
     "name": "stdout",
     "output_type": "stream",
     "text": [
      "[23:57:53] WARNING: ../src/learner.cc:1061: Starting in XGBoost 1.3.0, the default evaluation metric used with the objective 'binary:logistic' was changed from 'error' to 'logloss'. Explicitly set eval_metric if you'd like to restore the old behavior.\n",
      "[CV]  nrounds=3889.0, min_child_weight=25.398416831491197, lambda=0.0009765625, eta=0.002109491677524035, colsample_bytree=0.4444444444444444, colsample_bylevel=0.7777777777777777, alpha=0.021262343752724643, accuracy=0.890, f1=0.216, roc_auc=0.887, total=   7.8s\n",
      "[CV] nrounds=2222.0, min_child_weight=1.7144879657061456, lambda=47.03150375281921, eta=0.21431099571326834, colsample_bytree=0.4444444444444444, colsample_bylevel=0.0, alpha=2.1601194777846118 \n",
      "[23:58:01] WARNING: ../src/learner.cc:541: \n",
      "Parameters: { nrounds } might not be used.\n",
      "\n",
      "  This may not be accurate due to some parameters are only used in language bindings but\n",
      "  passed down to XGBoost core.  Or some parameters are not used but slip through this\n",
      "  verification. Please open an issue if you find above cases.\n",
      "\n",
      "\n",
      "[23:58:01] WARNING: ../src/learner.cc:1061: Starting in XGBoost 1.3.0, the default evaluation metric used with the objective 'binary:logistic' was changed from 'error' to 'logloss'. Explicitly set eval_metric if you'd like to restore the old behavior.\n"
     ]
    },
    {
     "name": "stderr",
     "output_type": "stream",
     "text": [
      "/home/piotr/miniconda3/lib/python3.8/site-packages/xgboost/sklearn.py:888: UserWarning: The use of label encoder in XGBClassifier is deprecated and will be removed in a future release. To remove this warning, do the following: 1) Pass option use_label_encoder=False when constructing XGBClassifier object; and 2) Encode your labels (y) as integers starting with 0, i.e. 0, 1, 2, ..., [num_class - 1].\n",
      "  warnings.warn(label_encoder_deprecation_msg, UserWarning)\n"
     ]
    },
    {
     "name": "stdout",
     "output_type": "stream",
     "text": [
      "[CV]  nrounds=2222.0, min_child_weight=1.7144879657061456, lambda=47.03150375281921, eta=0.21431099571326834, colsample_bytree=0.4444444444444444, colsample_bylevel=0.0, alpha=2.1601194777846118, accuracy=0.901, f1=0.415, roc_auc=0.898, total=   1.2s\n",
      "[CV] nrounds=2222.0, min_child_weight=1.7144879657061456, lambda=47.03150375281921, eta=0.21431099571326834, colsample_bytree=0.4444444444444444, colsample_bylevel=0.0, alpha=2.1601194777846118 \n",
      "[23:58:02] WARNING: ../src/learner.cc:541: \n",
      "Parameters: { nrounds } might not be used.\n",
      "\n",
      "  This may not be accurate due to some parameters are only used in language bindings but\n",
      "  passed down to XGBoost core.  Or some parameters are not used but slip through this\n",
      "  verification. Please open an issue if you find above cases.\n",
      "\n",
      "\n",
      "[23:58:02] WARNING: ../src/learner.cc:1061: Starting in XGBoost 1.3.0, the default evaluation metric used with the objective 'binary:logistic' was changed from 'error' to 'logloss'. Explicitly set eval_metric if you'd like to restore the old behavior.\n"
     ]
    },
    {
     "name": "stderr",
     "output_type": "stream",
     "text": [
      "/home/piotr/miniconda3/lib/python3.8/site-packages/xgboost/sklearn.py:888: UserWarning: The use of label encoder in XGBClassifier is deprecated and will be removed in a future release. To remove this warning, do the following: 1) Pass option use_label_encoder=False when constructing XGBClassifier object; and 2) Encode your labels (y) as integers starting with 0, i.e. 0, 1, 2, ..., [num_class - 1].\n",
      "  warnings.warn(label_encoder_deprecation_msg, UserWarning)\n"
     ]
    },
    {
     "name": "stdout",
     "output_type": "stream",
     "text": [
      "[CV]  nrounds=2222.0, min_child_weight=1.7144879657061456, lambda=47.03150375281921, eta=0.21431099571326834, colsample_bytree=0.4444444444444444, colsample_bylevel=0.0, alpha=2.1601194777846118, accuracy=0.898, f1=0.410, roc_auc=0.904, total=   1.2s\n",
      "[CV] nrounds=2222.0, min_child_weight=1.7144879657061456, lambda=47.03150375281921, eta=0.21431099571326834, colsample_bytree=0.4444444444444444, colsample_bylevel=0.0, alpha=2.1601194777846118 \n",
      "[23:58:03] WARNING: ../src/learner.cc:541: \n",
      "Parameters: { nrounds } might not be used.\n",
      "\n",
      "  This may not be accurate due to some parameters are only used in language bindings but\n",
      "  passed down to XGBoost core.  Or some parameters are not used but slip through this\n",
      "  verification. Please open an issue if you find above cases.\n",
      "\n",
      "\n",
      "[23:58:03] WARNING: ../src/learner.cc:1061: Starting in XGBoost 1.3.0, the default evaluation metric used with the objective 'binary:logistic' was changed from 'error' to 'logloss'. Explicitly set eval_metric if you'd like to restore the old behavior.\n"
     ]
    },
    {
     "name": "stderr",
     "output_type": "stream",
     "text": [
      "/home/piotr/miniconda3/lib/python3.8/site-packages/xgboost/sklearn.py:888: UserWarning: The use of label encoder in XGBClassifier is deprecated and will be removed in a future release. To remove this warning, do the following: 1) Pass option use_label_encoder=False when constructing XGBClassifier object; and 2) Encode your labels (y) as integers starting with 0, i.e. 0, 1, 2, ..., [num_class - 1].\n",
      "  warnings.warn(label_encoder_deprecation_msg, UserWarning)\n"
     ]
    },
    {
     "name": "stdout",
     "output_type": "stream",
     "text": [
      "[CV]  nrounds=2222.0, min_child_weight=1.7144879657061456, lambda=47.03150375281921, eta=0.21431099571326834, colsample_bytree=0.4444444444444444, colsample_bylevel=0.0, alpha=2.1601194777846118, accuracy=0.901, f1=0.414, roc_auc=0.909, total=   1.2s\n",
      "[CV] nrounds=2222.0, min_child_weight=1.7144879657061456, lambda=47.03150375281921, eta=0.21431099571326834, colsample_bytree=0.4444444444444444, colsample_bylevel=0.0, alpha=2.1601194777846118 \n",
      "[23:58:04] WARNING: ../src/learner.cc:541: \n",
      "Parameters: { nrounds } might not be used.\n",
      "\n",
      "  This may not be accurate due to some parameters are only used in language bindings but\n",
      "  passed down to XGBoost core.  Or some parameters are not used but slip through this\n",
      "  verification. Please open an issue if you find above cases.\n",
      "\n",
      "\n",
      "[23:58:04] WARNING: ../src/learner.cc:1061: Starting in XGBoost 1.3.0, the default evaluation metric used with the objective 'binary:logistic' was changed from 'error' to 'logloss'. Explicitly set eval_metric if you'd like to restore the old behavior.\n"
     ]
    },
    {
     "name": "stderr",
     "output_type": "stream",
     "text": [
      "/home/piotr/miniconda3/lib/python3.8/site-packages/xgboost/sklearn.py:888: UserWarning: The use of label encoder in XGBClassifier is deprecated and will be removed in a future release. To remove this warning, do the following: 1) Pass option use_label_encoder=False when constructing XGBClassifier object; and 2) Encode your labels (y) as integers starting with 0, i.e. 0, 1, 2, ..., [num_class - 1].\n",
      "  warnings.warn(label_encoder_deprecation_msg, UserWarning)\n"
     ]
    },
    {
     "name": "stdout",
     "output_type": "stream",
     "text": [
      "[CV]  nrounds=2222.0, min_child_weight=1.7144879657061456, lambda=47.03150375281921, eta=0.21431099571326834, colsample_bytree=0.4444444444444444, colsample_bylevel=0.0, alpha=2.1601194777846118, accuracy=0.902, f1=0.439, roc_auc=0.912, total=   1.2s\n",
      "[CV] nrounds=2222.0, min_child_weight=1.7144879657061456, lambda=47.03150375281921, eta=0.21431099571326834, colsample_bytree=0.4444444444444444, colsample_bylevel=0.0, alpha=2.1601194777846118 \n",
      "[23:58:05] WARNING: ../src/learner.cc:541: \n",
      "Parameters: { nrounds } might not be used.\n",
      "\n",
      "  This may not be accurate due to some parameters are only used in language bindings but\n",
      "  passed down to XGBoost core.  Or some parameters are not used but slip through this\n",
      "  verification. Please open an issue if you find above cases.\n",
      "\n",
      "\n",
      "[23:58:06] WARNING: ../src/learner.cc:1061: Starting in XGBoost 1.3.0, the default evaluation metric used with the objective 'binary:logistic' was changed from 'error' to 'logloss'. Explicitly set eval_metric if you'd like to restore the old behavior.\n"
     ]
    },
    {
     "name": "stderr",
     "output_type": "stream",
     "text": [
      "/home/piotr/miniconda3/lib/python3.8/site-packages/xgboost/sklearn.py:888: UserWarning: The use of label encoder in XGBClassifier is deprecated and will be removed in a future release. To remove this warning, do the following: 1) Pass option use_label_encoder=False when constructing XGBClassifier object; and 2) Encode your labels (y) as integers starting with 0, i.e. 0, 1, 2, ..., [num_class - 1].\n",
      "  warnings.warn(label_encoder_deprecation_msg, UserWarning)\n"
     ]
    },
    {
     "name": "stdout",
     "output_type": "stream",
     "text": [
      "[CV]  nrounds=2222.0, min_child_weight=1.7144879657061456, lambda=47.03150375281921, eta=0.21431099571326834, colsample_bytree=0.4444444444444444, colsample_bylevel=0.0, alpha=2.1601194777846118, accuracy=0.902, f1=0.439, roc_auc=0.908, total=   1.2s\n",
      "[CV] nrounds=3333.0, min_child_weight=1.0, lambda=0.09921256574801249, eta=0.045929202883612456, colsample_bytree=0.2222222222222222, colsample_bylevel=0.7777777777777777, alpha=219.45445961038678 \n",
      "[23:58:07] WARNING: ../src/learner.cc:541: \n",
      "Parameters: { nrounds } might not be used.\n",
      "\n",
      "  This may not be accurate due to some parameters are only used in language bindings but\n",
      "  passed down to XGBoost core.  Or some parameters are not used but slip through this\n",
      "  verification. Please open an issue if you find above cases.\n",
      "\n",
      "\n",
      "[23:58:07] WARNING: ../src/learner.cc:1061: Starting in XGBoost 1.3.0, the default evaluation metric used with the objective 'binary:logistic' was changed from 'error' to 'logloss'. Explicitly set eval_metric if you'd like to restore the old behavior.\n"
     ]
    },
    {
     "name": "stderr",
     "output_type": "stream",
     "text": [
      "/home/piotr/miniconda3/lib/python3.8/site-packages/xgboost/sklearn.py:888: UserWarning: The use of label encoder in XGBClassifier is deprecated and will be removed in a future release. To remove this warning, do the following: 1) Pass option use_label_encoder=False when constructing XGBClassifier object; and 2) Encode your labels (y) as integers starting with 0, i.e. 0, 1, 2, ..., [num_class - 1].\n",
      "  warnings.warn(label_encoder_deprecation_msg, UserWarning)\n"
     ]
    },
    {
     "name": "stdout",
     "output_type": "stream",
     "text": [
      "[CV]  nrounds=3333.0, min_child_weight=1.0, lambda=0.09921256574801249, eta=0.045929202883612456, colsample_bytree=0.2222222222222222, colsample_bylevel=0.7777777777777777, alpha=219.45445961038678, accuracy=0.885, f1=0.096, roc_auc=0.861, total=   4.2s\n",
      "[CV] nrounds=3333.0, min_child_weight=1.0, lambda=0.09921256574801249, eta=0.045929202883612456, colsample_bytree=0.2222222222222222, colsample_bylevel=0.7777777777777777, alpha=219.45445961038678 \n",
      "[23:58:11] WARNING: ../src/learner.cc:541: \n",
      "Parameters: { nrounds } might not be used.\n",
      "\n",
      "  This may not be accurate due to some parameters are only used in language bindings but\n",
      "  passed down to XGBoost core.  Or some parameters are not used but slip through this\n",
      "  verification. Please open an issue if you find above cases.\n",
      "\n",
      "\n",
      "[23:58:11] WARNING: ../src/learner.cc:1061: Starting in XGBoost 1.3.0, the default evaluation metric used with the objective 'binary:logistic' was changed from 'error' to 'logloss'. Explicitly set eval_metric if you'd like to restore the old behavior.\n"
     ]
    },
    {
     "name": "stderr",
     "output_type": "stream",
     "text": [
      "/home/piotr/miniconda3/lib/python3.8/site-packages/xgboost/sklearn.py:888: UserWarning: The use of label encoder in XGBClassifier is deprecated and will be removed in a future release. To remove this warning, do the following: 1) Pass option use_label_encoder=False when constructing XGBClassifier object; and 2) Encode your labels (y) as integers starting with 0, i.e. 0, 1, 2, ..., [num_class - 1].\n",
      "  warnings.warn(label_encoder_deprecation_msg, UserWarning)\n"
     ]
    },
    {
     "name": "stdout",
     "output_type": "stream",
     "text": [
      "[CV]  nrounds=3333.0, min_child_weight=1.0, lambda=0.09921256574801249, eta=0.045929202883612456, colsample_bytree=0.2222222222222222, colsample_bylevel=0.7777777777777777, alpha=219.45445961038678, accuracy=0.883, f1=0.069, roc_auc=0.855, total=   4.1s\n",
      "[CV] nrounds=3333.0, min_child_weight=1.0, lambda=0.09921256574801249, eta=0.045929202883612456, colsample_bytree=0.2222222222222222, colsample_bylevel=0.7777777777777777, alpha=219.45445961038678 \n",
      "[23:58:15] WARNING: ../src/learner.cc:541: \n",
      "Parameters: { nrounds } might not be used.\n",
      "\n",
      "  This may not be accurate due to some parameters are only used in language bindings but\n",
      "  passed down to XGBoost core.  Or some parameters are not used but slip through this\n",
      "  verification. Please open an issue if you find above cases.\n",
      "\n",
      "\n",
      "[23:58:15] WARNING: ../src/learner.cc:1061: Starting in XGBoost 1.3.0, the default evaluation metric used with the objective 'binary:logistic' was changed from 'error' to 'logloss'. Explicitly set eval_metric if you'd like to restore the old behavior.\n"
     ]
    },
    {
     "name": "stderr",
     "output_type": "stream",
     "text": [
      "/home/piotr/miniconda3/lib/python3.8/site-packages/xgboost/sklearn.py:888: UserWarning: The use of label encoder in XGBClassifier is deprecated and will be removed in a future release. To remove this warning, do the following: 1) Pass option use_label_encoder=False when constructing XGBClassifier object; and 2) Encode your labels (y) as integers starting with 0, i.e. 0, 1, 2, ..., [num_class - 1].\n",
      "  warnings.warn(label_encoder_deprecation_msg, UserWarning)\n"
     ]
    },
    {
     "name": "stdout",
     "output_type": "stream",
     "text": [
      "[CV]  nrounds=3333.0, min_child_weight=1.0, lambda=0.09921256574801249, eta=0.045929202883612456, colsample_bytree=0.2222222222222222, colsample_bylevel=0.7777777777777777, alpha=219.45445961038678, accuracy=0.882, f1=0.044, roc_auc=0.857, total=   4.2s\n",
      "[CV] nrounds=3333.0, min_child_weight=1.0, lambda=0.09921256574801249, eta=0.045929202883612456, colsample_bytree=0.2222222222222222, colsample_bylevel=0.7777777777777777, alpha=219.45445961038678 \n",
      "[23:58:19] WARNING: ../src/learner.cc:541: \n",
      "Parameters: { nrounds } might not be used.\n",
      "\n",
      "  This may not be accurate due to some parameters are only used in language bindings but\n",
      "  passed down to XGBoost core.  Or some parameters are not used but slip through this\n",
      "  verification. Please open an issue if you find above cases.\n",
      "\n",
      "\n",
      "[23:58:19] WARNING: ../src/learner.cc:1061: Starting in XGBoost 1.3.0, the default evaluation metric used with the objective 'binary:logistic' was changed from 'error' to 'logloss'. Explicitly set eval_metric if you'd like to restore the old behavior.\n"
     ]
    },
    {
     "name": "stderr",
     "output_type": "stream",
     "text": [
      "/home/piotr/miniconda3/lib/python3.8/site-packages/xgboost/sklearn.py:888: UserWarning: The use of label encoder in XGBClassifier is deprecated and will be removed in a future release. To remove this warning, do the following: 1) Pass option use_label_encoder=False when constructing XGBClassifier object; and 2) Encode your labels (y) as integers starting with 0, i.e. 0, 1, 2, ..., [num_class - 1].\n",
      "  warnings.warn(label_encoder_deprecation_msg, UserWarning)\n"
     ]
    },
    {
     "name": "stdout",
     "output_type": "stream",
     "text": [
      "[CV]  nrounds=3333.0, min_child_weight=1.0, lambda=0.09921256574801249, eta=0.045929202883612456, colsample_bytree=0.2222222222222222, colsample_bylevel=0.7777777777777777, alpha=219.45445961038678, accuracy=0.882, f1=0.051, roc_auc=0.870, total=   4.2s\n",
      "[CV] nrounds=3333.0, min_child_weight=1.0, lambda=0.09921256574801249, eta=0.045929202883612456, colsample_bytree=0.2222222222222222, colsample_bylevel=0.7777777777777777, alpha=219.45445961038678 \n",
      "[23:58:23] WARNING: ../src/learner.cc:541: \n",
      "Parameters: { nrounds } might not be used.\n",
      "\n",
      "  This may not be accurate due to some parameters are only used in language bindings but\n",
      "  passed down to XGBoost core.  Or some parameters are not used but slip through this\n",
      "  verification. Please open an issue if you find above cases.\n",
      "\n",
      "\n",
      "[23:58:23] WARNING: ../src/learner.cc:1061: Starting in XGBoost 1.3.0, the default evaluation metric used with the objective 'binary:logistic' was changed from 'error' to 'logloss'. Explicitly set eval_metric if you'd like to restore the old behavior.\n"
     ]
    },
    {
     "name": "stderr",
     "output_type": "stream",
     "text": [
      "/home/piotr/miniconda3/lib/python3.8/site-packages/xgboost/sklearn.py:888: UserWarning: The use of label encoder in XGBClassifier is deprecated and will be removed in a future release. To remove this warning, do the following: 1) Pass option use_label_encoder=False when constructing XGBClassifier object; and 2) Encode your labels (y) as integers starting with 0, i.e. 0, 1, 2, ..., [num_class - 1].\n",
      "  warnings.warn(label_encoder_deprecation_msg, UserWarning)\n"
     ]
    },
    {
     "name": "stdout",
     "output_type": "stream",
     "text": [
      "[CV]  nrounds=3333.0, min_child_weight=1.0, lambda=0.09921256574801249, eta=0.045929202883612456, colsample_bytree=0.2222222222222222, colsample_bylevel=0.7777777777777777, alpha=219.45445961038678, accuracy=0.883, f1=0.062, roc_auc=0.870, total=   4.2s\n",
      "[CV] nrounds=4444.0, min_child_weight=5.039684199579493, lambda=0.004556754060844206, eta=0.004556754060844206, colsample_bytree=0.3333333333333333, colsample_bylevel=0.4444444444444444, alpha=10.079368399158989 \n",
      "[23:58:28] WARNING: ../src/learner.cc:541: \n",
      "Parameters: { nrounds } might not be used.\n",
      "\n",
      "  This may not be accurate due to some parameters are only used in language bindings but\n",
      "  passed down to XGBoost core.  Or some parameters are not used but slip through this\n",
      "  verification. Please open an issue if you find above cases.\n",
      "\n",
      "\n",
      "[23:58:28] WARNING: ../src/learner.cc:1061: Starting in XGBoost 1.3.0, the default evaluation metric used with the objective 'binary:logistic' was changed from 'error' to 'logloss'. Explicitly set eval_metric if you'd like to restore the old behavior.\n"
     ]
    },
    {
     "name": "stderr",
     "output_type": "stream",
     "text": [
      "/home/piotr/miniconda3/lib/python3.8/site-packages/xgboost/sklearn.py:888: UserWarning: The use of label encoder in XGBClassifier is deprecated and will be removed in a future release. To remove this warning, do the following: 1) Pass option use_label_encoder=False when constructing XGBClassifier object; and 2) Encode your labels (y) as integers starting with 0, i.e. 0, 1, 2, ..., [num_class - 1].\n",
      "  warnings.warn(label_encoder_deprecation_msg, UserWarning)\n"
     ]
    },
    {
     "name": "stdout",
     "output_type": "stream",
     "text": [
      "[CV]  nrounds=4444.0, min_child_weight=5.039684199579493, lambda=0.004556754060844206, eta=0.004556754060844206, colsample_bytree=0.3333333333333333, colsample_bylevel=0.4444444444444444, alpha=10.079368399158989, accuracy=0.888, f1=0.162, roc_auc=0.873, total=   4.1s\n",
      "[CV] nrounds=4444.0, min_child_weight=5.039684199579493, lambda=0.004556754060844206, eta=0.004556754060844206, colsample_bytree=0.3333333333333333, colsample_bylevel=0.4444444444444444, alpha=10.079368399158989 \n",
      "[23:58:32] WARNING: ../src/learner.cc:541: \n",
      "Parameters: { nrounds } might not be used.\n",
      "\n",
      "  This may not be accurate due to some parameters are only used in language bindings but\n",
      "  passed down to XGBoost core.  Or some parameters are not used but slip through this\n",
      "  verification. Please open an issue if you find above cases.\n",
      "\n",
      "\n",
      "[23:58:32] WARNING: ../src/learner.cc:1061: Starting in XGBoost 1.3.0, the default evaluation metric used with the objective 'binary:logistic' was changed from 'error' to 'logloss'. Explicitly set eval_metric if you'd like to restore the old behavior.\n"
     ]
    },
    {
     "name": "stderr",
     "output_type": "stream",
     "text": [
      "/home/piotr/miniconda3/lib/python3.8/site-packages/xgboost/sklearn.py:888: UserWarning: The use of label encoder in XGBClassifier is deprecated and will be removed in a future release. To remove this warning, do the following: 1) Pass option use_label_encoder=False when constructing XGBClassifier object; and 2) Encode your labels (y) as integers starting with 0, i.e. 0, 1, 2, ..., [num_class - 1].\n",
      "  warnings.warn(label_encoder_deprecation_msg, UserWarning)\n"
     ]
    },
    {
     "name": "stdout",
     "output_type": "stream",
     "text": [
      "[CV]  nrounds=4444.0, min_child_weight=5.039684199579493, lambda=0.004556754060844206, eta=0.004556754060844206, colsample_bytree=0.3333333333333333, colsample_bylevel=0.4444444444444444, alpha=10.079368399158989, accuracy=0.889, f1=0.178, roc_auc=0.865, total=   4.1s\n",
      "[CV] nrounds=4444.0, min_child_weight=5.039684199579493, lambda=0.004556754060844206, eta=0.004556754060844206, colsample_bytree=0.3333333333333333, colsample_bylevel=0.4444444444444444, alpha=10.079368399158989 \n",
      "[23:58:36] WARNING: ../src/learner.cc:541: \n",
      "Parameters: { nrounds } might not be used.\n",
      "\n",
      "  This may not be accurate due to some parameters are only used in language bindings but\n",
      "  passed down to XGBoost core.  Or some parameters are not used but slip through this\n",
      "  verification. Please open an issue if you find above cases.\n",
      "\n",
      "\n",
      "[23:58:36] WARNING: ../src/learner.cc:1061: Starting in XGBoost 1.3.0, the default evaluation metric used with the objective 'binary:logistic' was changed from 'error' to 'logloss'. Explicitly set eval_metric if you'd like to restore the old behavior.\n"
     ]
    },
    {
     "name": "stderr",
     "output_type": "stream",
     "text": [
      "/home/piotr/miniconda3/lib/python3.8/site-packages/xgboost/sklearn.py:888: UserWarning: The use of label encoder in XGBClassifier is deprecated and will be removed in a future release. To remove this warning, do the following: 1) Pass option use_label_encoder=False when constructing XGBClassifier object; and 2) Encode your labels (y) as integers starting with 0, i.e. 0, 1, 2, ..., [num_class - 1].\n",
      "  warnings.warn(label_encoder_deprecation_msg, UserWarning)\n"
     ]
    },
    {
     "name": "stdout",
     "output_type": "stream",
     "text": [
      "[CV]  nrounds=4444.0, min_child_weight=5.039684199579493, lambda=0.004556754060844206, eta=0.004556754060844206, colsample_bytree=0.3333333333333333, colsample_bylevel=0.4444444444444444, alpha=10.079368399158989, accuracy=0.886, f1=0.143, roc_auc=0.875, total=   4.2s\n",
      "[CV] nrounds=4444.0, min_child_weight=5.039684199579493, lambda=0.004556754060844206, eta=0.004556754060844206, colsample_bytree=0.3333333333333333, colsample_bylevel=0.4444444444444444, alpha=10.079368399158989 \n",
      "[23:58:40] WARNING: ../src/learner.cc:541: \n",
      "Parameters: { nrounds } might not be used.\n",
      "\n",
      "  This may not be accurate due to some parameters are only used in language bindings but\n",
      "  passed down to XGBoost core.  Or some parameters are not used but slip through this\n",
      "  verification. Please open an issue if you find above cases.\n",
      "\n",
      "\n",
      "[23:58:40] WARNING: ../src/learner.cc:1061: Starting in XGBoost 1.3.0, the default evaluation metric used with the objective 'binary:logistic' was changed from 'error' to 'logloss'. Explicitly set eval_metric if you'd like to restore the old behavior.\n"
     ]
    },
    {
     "name": "stderr",
     "output_type": "stream",
     "text": [
      "/home/piotr/miniconda3/lib/python3.8/site-packages/xgboost/sklearn.py:888: UserWarning: The use of label encoder in XGBClassifier is deprecated and will be removed in a future release. To remove this warning, do the following: 1) Pass option use_label_encoder=False when constructing XGBClassifier object; and 2) Encode your labels (y) as integers starting with 0, i.e. 0, 1, 2, ..., [num_class - 1].\n",
      "  warnings.warn(label_encoder_deprecation_msg, UserWarning)\n"
     ]
    },
    {
     "name": "stdout",
     "output_type": "stream",
     "text": [
      "[CV]  nrounds=4444.0, min_child_weight=5.039684199579493, lambda=0.004556754060844206, eta=0.004556754060844206, colsample_bytree=0.3333333333333333, colsample_bylevel=0.4444444444444444, alpha=10.079368399158989, accuracy=0.887, f1=0.167, roc_auc=0.882, total=   4.1s\n",
      "[CV] nrounds=4444.0, min_child_weight=5.039684199579493, lambda=0.004556754060844206, eta=0.004556754060844206, colsample_bytree=0.3333333333333333, colsample_bylevel=0.4444444444444444, alpha=10.079368399158989 \n",
      "[23:58:44] WARNING: ../src/learner.cc:541: \n",
      "Parameters: { nrounds } might not be used.\n",
      "\n",
      "  This may not be accurate due to some parameters are only used in language bindings but\n",
      "  passed down to XGBoost core.  Or some parameters are not used but slip through this\n",
      "  verification. Please open an issue if you find above cases.\n",
      "\n",
      "\n",
      "[23:58:44] WARNING: ../src/learner.cc:1061: Starting in XGBoost 1.3.0, the default evaluation metric used with the objective 'binary:logistic' was changed from 'error' to 'logloss'. Explicitly set eval_metric if you'd like to restore the old behavior.\n"
     ]
    },
    {
     "name": "stderr",
     "output_type": "stream",
     "text": [
      "/home/piotr/miniconda3/lib/python3.8/site-packages/xgboost/sklearn.py:888: UserWarning: The use of label encoder in XGBClassifier is deprecated and will be removed in a future release. To remove this warning, do the following: 1) Pass option use_label_encoder=False when constructing XGBClassifier object; and 2) Encode your labels (y) as integers starting with 0, i.e. 0, 1, 2, ..., [num_class - 1].\n",
      "  warnings.warn(label_encoder_deprecation_msg, UserWarning)\n"
     ]
    },
    {
     "name": "stdout",
     "output_type": "stream",
     "text": [
      "[CV]  nrounds=4444.0, min_child_weight=5.039684199579493, lambda=0.004556754060844206, eta=0.004556754060844206, colsample_bytree=0.3333333333333333, colsample_bylevel=0.4444444444444444, alpha=10.079368399158989, accuracy=0.888, f1=0.179, roc_auc=0.882, total=   4.1s\n",
      "[CV] nrounds=2222.0, min_child_weight=43.54528000558007, lambda=47.03150375281921, eta=0.09921256574801249, colsample_bytree=0.6666666666666666, colsample_bylevel=0.4444444444444444, alpha=47.03150375281921 \n",
      "[23:58:48] WARNING: ../src/learner.cc:541: \n",
      "Parameters: { nrounds } might not be used.\n",
      "\n",
      "  This may not be accurate due to some parameters are only used in language bindings but\n",
      "  passed down to XGBoost core.  Or some parameters are not used but slip through this\n",
      "  verification. Please open an issue if you find above cases.\n",
      "\n",
      "\n"
     ]
    },
    {
     "name": "stderr",
     "output_type": "stream",
     "text": [
      "/home/piotr/miniconda3/lib/python3.8/site-packages/xgboost/sklearn.py:888: UserWarning: The use of label encoder in XGBClassifier is deprecated and will be removed in a future release. To remove this warning, do the following: 1) Pass option use_label_encoder=False when constructing XGBClassifier object; and 2) Encode your labels (y) as integers starting with 0, i.e. 0, 1, 2, ..., [num_class - 1].\n",
      "  warnings.warn(label_encoder_deprecation_msg, UserWarning)\n"
     ]
    },
    {
     "name": "stdout",
     "output_type": "stream",
     "text": [
      "[23:58:48] WARNING: ../src/learner.cc:1061: Starting in XGBoost 1.3.0, the default evaluation metric used with the objective 'binary:logistic' was changed from 'error' to 'logloss'. Explicitly set eval_metric if you'd like to restore the old behavior.\n",
      "[CV]  nrounds=2222.0, min_child_weight=43.54528000558007, lambda=47.03150375281921, eta=0.09921256574801249, colsample_bytree=0.6666666666666666, colsample_bylevel=0.4444444444444444, alpha=47.03150375281921, accuracy=0.899, f1=0.371, roc_auc=0.899, total=   6.2s\n",
      "[CV] nrounds=2222.0, min_child_weight=43.54528000558007, lambda=47.03150375281921, eta=0.09921256574801249, colsample_bytree=0.6666666666666666, colsample_bylevel=0.4444444444444444, alpha=47.03150375281921 \n",
      "[23:58:54] WARNING: ../src/learner.cc:541: \n",
      "Parameters: { nrounds } might not be used.\n",
      "\n",
      "  This may not be accurate due to some parameters are only used in language bindings but\n",
      "  passed down to XGBoost core.  Or some parameters are not used but slip through this\n",
      "  verification. Please open an issue if you find above cases.\n",
      "\n",
      "\n"
     ]
    },
    {
     "name": "stderr",
     "output_type": "stream",
     "text": [
      "/home/piotr/miniconda3/lib/python3.8/site-packages/xgboost/sklearn.py:888: UserWarning: The use of label encoder in XGBClassifier is deprecated and will be removed in a future release. To remove this warning, do the following: 1) Pass option use_label_encoder=False when constructing XGBClassifier object; and 2) Encode your labels (y) as integers starting with 0, i.e. 0, 1, 2, ..., [num_class - 1].\n",
      "  warnings.warn(label_encoder_deprecation_msg, UserWarning)\n"
     ]
    },
    {
     "name": "stdout",
     "output_type": "stream",
     "text": [
      "[23:58:55] WARNING: ../src/learner.cc:1061: Starting in XGBoost 1.3.0, the default evaluation metric used with the objective 'binary:logistic' was changed from 'error' to 'logloss'. Explicitly set eval_metric if you'd like to restore the old behavior.\n",
      "[CV]  nrounds=2222.0, min_child_weight=43.54528000558007, lambda=47.03150375281921, eta=0.09921256574801249, colsample_bytree=0.6666666666666666, colsample_bylevel=0.4444444444444444, alpha=47.03150375281921, accuracy=0.899, f1=0.399, roc_auc=0.901, total=   6.5s\n",
      "[CV] nrounds=2222.0, min_child_weight=43.54528000558007, lambda=47.03150375281921, eta=0.09921256574801249, colsample_bytree=0.6666666666666666, colsample_bylevel=0.4444444444444444, alpha=47.03150375281921 \n",
      "[23:59:01] WARNING: ../src/learner.cc:541: \n",
      "Parameters: { nrounds } might not be used.\n",
      "\n",
      "  This may not be accurate due to some parameters are only used in language bindings but\n",
      "  passed down to XGBoost core.  Or some parameters are not used but slip through this\n",
      "  verification. Please open an issue if you find above cases.\n",
      "\n",
      "\n"
     ]
    },
    {
     "name": "stderr",
     "output_type": "stream",
     "text": [
      "/home/piotr/miniconda3/lib/python3.8/site-packages/xgboost/sklearn.py:888: UserWarning: The use of label encoder in XGBClassifier is deprecated and will be removed in a future release. To remove this warning, do the following: 1) Pass option use_label_encoder=False when constructing XGBClassifier object; and 2) Encode your labels (y) as integers starting with 0, i.e. 0, 1, 2, ..., [num_class - 1].\n",
      "  warnings.warn(label_encoder_deprecation_msg, UserWarning)\n"
     ]
    },
    {
     "name": "stdout",
     "output_type": "stream",
     "text": [
      "[23:59:01] WARNING: ../src/learner.cc:1061: Starting in XGBoost 1.3.0, the default evaluation metric used with the objective 'binary:logistic' was changed from 'error' to 'logloss'. Explicitly set eval_metric if you'd like to restore the old behavior.\n",
      "[CV]  nrounds=2222.0, min_child_weight=43.54528000558007, lambda=47.03150375281921, eta=0.09921256574801249, colsample_bytree=0.6666666666666666, colsample_bylevel=0.4444444444444444, alpha=47.03150375281921, accuracy=0.899, f1=0.385, roc_auc=0.908, total=   6.5s\n",
      "[CV] nrounds=2222.0, min_child_weight=43.54528000558007, lambda=47.03150375281921, eta=0.09921256574801249, colsample_bytree=0.6666666666666666, colsample_bylevel=0.4444444444444444, alpha=47.03150375281921 \n",
      "[23:59:07] WARNING: ../src/learner.cc:541: \n",
      "Parameters: { nrounds } might not be used.\n",
      "\n",
      "  This may not be accurate due to some parameters are only used in language bindings but\n",
      "  passed down to XGBoost core.  Or some parameters are not used but slip through this\n",
      "  verification. Please open an issue if you find above cases.\n",
      "\n",
      "\n"
     ]
    },
    {
     "name": "stderr",
     "output_type": "stream",
     "text": [
      "/home/piotr/miniconda3/lib/python3.8/site-packages/xgboost/sklearn.py:888: UserWarning: The use of label encoder in XGBClassifier is deprecated and will be removed in a future release. To remove this warning, do the following: 1) Pass option use_label_encoder=False when constructing XGBClassifier object; and 2) Encode your labels (y) as integers starting with 0, i.e. 0, 1, 2, ..., [num_class - 1].\n",
      "  warnings.warn(label_encoder_deprecation_msg, UserWarning)\n"
     ]
    },
    {
     "name": "stdout",
     "output_type": "stream",
     "text": [
      "[23:59:08] WARNING: ../src/learner.cc:1061: Starting in XGBoost 1.3.0, the default evaluation metric used with the objective 'binary:logistic' was changed from 'error' to 'logloss'. Explicitly set eval_metric if you'd like to restore the old behavior.\n",
      "[CV]  nrounds=2222.0, min_child_weight=43.54528000558007, lambda=47.03150375281921, eta=0.09921256574801249, colsample_bytree=0.6666666666666666, colsample_bylevel=0.4444444444444444, alpha=47.03150375281921, accuracy=0.899, f1=0.388, roc_auc=0.909, total=   6.2s\n",
      "[CV] nrounds=2222.0, min_child_weight=43.54528000558007, lambda=47.03150375281921, eta=0.09921256574801249, colsample_bytree=0.6666666666666666, colsample_bylevel=0.4444444444444444, alpha=47.03150375281921 \n",
      "[23:59:14] WARNING: ../src/learner.cc:541: \n",
      "Parameters: { nrounds } might not be used.\n",
      "\n",
      "  This may not be accurate due to some parameters are only used in language bindings but\n",
      "  passed down to XGBoost core.  Or some parameters are not used but slip through this\n",
      "  verification. Please open an issue if you find above cases.\n",
      "\n",
      "\n"
     ]
    },
    {
     "name": "stderr",
     "output_type": "stream",
     "text": [
      "/home/piotr/miniconda3/lib/python3.8/site-packages/xgboost/sklearn.py:888: UserWarning: The use of label encoder in XGBClassifier is deprecated and will be removed in a future release. To remove this warning, do the following: 1) Pass option use_label_encoder=False when constructing XGBClassifier object; and 2) Encode your labels (y) as integers starting with 0, i.e. 0, 1, 2, ..., [num_class - 1].\n",
      "  warnings.warn(label_encoder_deprecation_msg, UserWarning)\n"
     ]
    },
    {
     "name": "stdout",
     "output_type": "stream",
     "text": [
      "[23:59:14] WARNING: ../src/learner.cc:1061: Starting in XGBoost 1.3.0, the default evaluation metric used with the objective 'binary:logistic' was changed from 'error' to 'logloss'. Explicitly set eval_metric if you'd like to restore the old behavior.\n",
      "[CV]  nrounds=2222.0, min_child_weight=43.54528000558007, lambda=47.03150375281921, eta=0.09921256574801249, colsample_bytree=0.6666666666666666, colsample_bylevel=0.4444444444444444, alpha=47.03150375281921, accuracy=0.901, f1=0.410, roc_auc=0.908, total=   6.3s\n",
      "[CV] nrounds=3889.0, min_child_weight=5.039684199579493, lambda=10.079368399158989, eta=0.0009765625, colsample_bytree=0.1111111111111111, colsample_bylevel=0.2222222222222222, alpha=0.0009765625 \n",
      "[23:59:20] WARNING: ../src/learner.cc:541: \n",
      "Parameters: { nrounds } might not be used.\n",
      "\n",
      "  This may not be accurate due to some parameters are only used in language bindings but\n",
      "  passed down to XGBoost core.  Or some parameters are not used but slip through this\n",
      "  verification. Please open an issue if you find above cases.\n",
      "\n",
      "\n",
      "[23:59:20] WARNING: ../src/learner.cc:1061: Starting in XGBoost 1.3.0, the default evaluation metric used with the objective 'binary:logistic' was changed from 'error' to 'logloss'. Explicitly set eval_metric if you'd like to restore the old behavior.\n"
     ]
    },
    {
     "name": "stderr",
     "output_type": "stream",
     "text": [
      "/home/piotr/miniconda3/lib/python3.8/site-packages/xgboost/sklearn.py:888: UserWarning: The use of label encoder in XGBClassifier is deprecated and will be removed in a future release. To remove this warning, do the following: 1) Pass option use_label_encoder=False when constructing XGBClassifier object; and 2) Encode your labels (y) as integers starting with 0, i.e. 0, 1, 2, ..., [num_class - 1].\n",
      "  warnings.warn(label_encoder_deprecation_msg, UserWarning)\n"
     ]
    },
    {
     "name": "stdout",
     "output_type": "stream",
     "text": [
      "[CV]  nrounds=3889.0, min_child_weight=5.039684199579493, lambda=10.079368399158989, eta=0.0009765625, colsample_bytree=0.1111111111111111, colsample_bylevel=0.2222222222222222, alpha=0.0009765625, accuracy=0.884, f1=0.066, roc_auc=0.860, total=   1.4s\n",
      "[CV] nrounds=3889.0, min_child_weight=5.039684199579493, lambda=10.079368399158989, eta=0.0009765625, colsample_bytree=0.1111111111111111, colsample_bylevel=0.2222222222222222, alpha=0.0009765625 \n",
      "[23:59:21] WARNING: ../src/learner.cc:541: \n",
      "Parameters: { nrounds } might not be used.\n",
      "\n",
      "  This may not be accurate due to some parameters are only used in language bindings but\n",
      "  passed down to XGBoost core.  Or some parameters are not used but slip through this\n",
      "  verification. Please open an issue if you find above cases.\n",
      "\n",
      "\n",
      "[23:59:21] WARNING: ../src/learner.cc:1061: Starting in XGBoost 1.3.0, the default evaluation metric used with the objective 'binary:logistic' was changed from 'error' to 'logloss'. Explicitly set eval_metric if you'd like to restore the old behavior.\n"
     ]
    },
    {
     "name": "stderr",
     "output_type": "stream",
     "text": [
      "/home/piotr/miniconda3/lib/python3.8/site-packages/xgboost/sklearn.py:888: UserWarning: The use of label encoder in XGBClassifier is deprecated and will be removed in a future release. To remove this warning, do the following: 1) Pass option use_label_encoder=False when constructing XGBClassifier object; and 2) Encode your labels (y) as integers starting with 0, i.e. 0, 1, 2, ..., [num_class - 1].\n",
      "  warnings.warn(label_encoder_deprecation_msg, UserWarning)\n"
     ]
    },
    {
     "name": "stdout",
     "output_type": "stream",
     "text": [
      "[CV]  nrounds=3889.0, min_child_weight=5.039684199579493, lambda=10.079368399158989, eta=0.0009765625, colsample_bytree=0.1111111111111111, colsample_bylevel=0.2222222222222222, alpha=0.0009765625, accuracy=0.883, f1=0.051, roc_auc=0.848, total=   1.4s\n",
      "[CV] nrounds=3889.0, min_child_weight=5.039684199579493, lambda=10.079368399158989, eta=0.0009765625, colsample_bytree=0.1111111111111111, colsample_bylevel=0.2222222222222222, alpha=0.0009765625 \n",
      "[23:59:23] WARNING: ../src/learner.cc:541: \n",
      "Parameters: { nrounds } might not be used.\n",
      "\n",
      "  This may not be accurate due to some parameters are only used in language bindings but\n",
      "  passed down to XGBoost core.  Or some parameters are not used but slip through this\n",
      "  verification. Please open an issue if you find above cases.\n",
      "\n",
      "\n",
      "[23:59:23] WARNING: ../src/learner.cc:1061: Starting in XGBoost 1.3.0, the default evaluation metric used with the objective 'binary:logistic' was changed from 'error' to 'logloss'. Explicitly set eval_metric if you'd like to restore the old behavior.\n"
     ]
    },
    {
     "name": "stderr",
     "output_type": "stream",
     "text": [
      "/home/piotr/miniconda3/lib/python3.8/site-packages/xgboost/sklearn.py:888: UserWarning: The use of label encoder in XGBClassifier is deprecated and will be removed in a future release. To remove this warning, do the following: 1) Pass option use_label_encoder=False when constructing XGBClassifier object; and 2) Encode your labels (y) as integers starting with 0, i.e. 0, 1, 2, ..., [num_class - 1].\n",
      "  warnings.warn(label_encoder_deprecation_msg, UserWarning)\n"
     ]
    },
    {
     "name": "stdout",
     "output_type": "stream",
     "text": [
      "[CV]  nrounds=3889.0, min_child_weight=5.039684199579493, lambda=10.079368399158989, eta=0.0009765625, colsample_bytree=0.1111111111111111, colsample_bylevel=0.2222222222222222, alpha=0.0009765625, accuracy=0.883, f1=0.058, roc_auc=0.852, total=   1.4s\n",
      "[CV] nrounds=3889.0, min_child_weight=5.039684199579493, lambda=10.079368399158989, eta=0.0009765625, colsample_bytree=0.1111111111111111, colsample_bylevel=0.2222222222222222, alpha=0.0009765625 \n",
      "[23:59:24] WARNING: ../src/learner.cc:541: \n",
      "Parameters: { nrounds } might not be used.\n",
      "\n",
      "  This may not be accurate due to some parameters are only used in language bindings but\n",
      "  passed down to XGBoost core.  Or some parameters are not used but slip through this\n",
      "  verification. Please open an issue if you find above cases.\n",
      "\n",
      "\n",
      "[23:59:24] WARNING: ../src/learner.cc:1061: Starting in XGBoost 1.3.0, the default evaluation metric used with the objective 'binary:logistic' was changed from 'error' to 'logloss'. Explicitly set eval_metric if you'd like to restore the old behavior.\n"
     ]
    },
    {
     "name": "stderr",
     "output_type": "stream",
     "text": [
      "/home/piotr/miniconda3/lib/python3.8/site-packages/xgboost/sklearn.py:888: UserWarning: The use of label encoder in XGBClassifier is deprecated and will be removed in a future release. To remove this warning, do the following: 1) Pass option use_label_encoder=False when constructing XGBClassifier object; and 2) Encode your labels (y) as integers starting with 0, i.e. 0, 1, 2, ..., [num_class - 1].\n",
      "  warnings.warn(label_encoder_deprecation_msg, UserWarning)\n"
     ]
    },
    {
     "name": "stdout",
     "output_type": "stream",
     "text": [
      "[CV]  nrounds=3889.0, min_child_weight=5.039684199579493, lambda=10.079368399158989, eta=0.0009765625, colsample_bytree=0.1111111111111111, colsample_bylevel=0.2222222222222222, alpha=0.0009765625, accuracy=0.882, f1=0.054, roc_auc=0.866, total=   1.6s\n",
      "[CV] nrounds=3889.0, min_child_weight=5.039684199579493, lambda=10.079368399158989, eta=0.0009765625, colsample_bytree=0.1111111111111111, colsample_bylevel=0.2222222222222222, alpha=0.0009765625 \n",
      "[23:59:26] WARNING: ../src/learner.cc:541: \n",
      "Parameters: { nrounds } might not be used.\n",
      "\n",
      "  This may not be accurate due to some parameters are only used in language bindings but\n",
      "  passed down to XGBoost core.  Or some parameters are not used but slip through this\n",
      "  verification. Please open an issue if you find above cases.\n",
      "\n",
      "\n",
      "[23:59:26] WARNING: ../src/learner.cc:1061: Starting in XGBoost 1.3.0, the default evaluation metric used with the objective 'binary:logistic' was changed from 'error' to 'logloss'. Explicitly set eval_metric if you'd like to restore the old behavior.\n"
     ]
    },
    {
     "name": "stderr",
     "output_type": "stream",
     "text": [
      "/home/piotr/miniconda3/lib/python3.8/site-packages/xgboost/sklearn.py:888: UserWarning: The use of label encoder in XGBClassifier is deprecated and will be removed in a future release. To remove this warning, do the following: 1) Pass option use_label_encoder=False when constructing XGBClassifier object; and 2) Encode your labels (y) as integers starting with 0, i.e. 0, 1, 2, ..., [num_class - 1].\n",
      "  warnings.warn(label_encoder_deprecation_msg, UserWarning)\n"
     ]
    },
    {
     "name": "stdout",
     "output_type": "stream",
     "text": [
      "[CV]  nrounds=3889.0, min_child_weight=5.039684199579493, lambda=10.079368399158989, eta=0.0009765625, colsample_bytree=0.1111111111111111, colsample_bylevel=0.2222222222222222, alpha=0.0009765625, accuracy=0.882, f1=0.051, roc_auc=0.874, total=   1.6s\n",
      "[CV] nrounds=1667.0, min_child_weight=25.398416831491197, lambda=0.09921256574801249, eta=0.46293735614364534, colsample_bytree=0.4444444444444444, colsample_bylevel=0.4444444444444444, alpha=0.021262343752724643 \n",
      "[23:59:27] WARNING: ../src/learner.cc:541: \n",
      "Parameters: { nrounds } might not be used.\n",
      "\n",
      "  This may not be accurate due to some parameters are only used in language bindings but\n",
      "  passed down to XGBoost core.  Or some parameters are not used but slip through this\n",
      "  verification. Please open an issue if you find above cases.\n",
      "\n",
      "\n"
     ]
    },
    {
     "name": "stderr",
     "output_type": "stream",
     "text": [
      "/home/piotr/miniconda3/lib/python3.8/site-packages/xgboost/sklearn.py:888: UserWarning: The use of label encoder in XGBClassifier is deprecated and will be removed in a future release. To remove this warning, do the following: 1) Pass option use_label_encoder=False when constructing XGBClassifier object; and 2) Encode your labels (y) as integers starting with 0, i.e. 0, 1, 2, ..., [num_class - 1].\n",
      "  warnings.warn(label_encoder_deprecation_msg, UserWarning)\n"
     ]
    },
    {
     "name": "stdout",
     "output_type": "stream",
     "text": [
      "[23:59:27] WARNING: ../src/learner.cc:1061: Starting in XGBoost 1.3.0, the default evaluation metric used with the objective 'binary:logistic' was changed from 'error' to 'logloss'. Explicitly set eval_metric if you'd like to restore the old behavior.\n",
      "[CV]  nrounds=1667.0, min_child_weight=25.398416831491197, lambda=0.09921256574801249, eta=0.46293735614364534, colsample_bytree=0.4444444444444444, colsample_bylevel=0.4444444444444444, alpha=0.021262343752724643, accuracy=0.903, f1=0.530, roc_auc=0.907, total=   4.9s\n",
      "[CV] nrounds=1667.0, min_child_weight=25.398416831491197, lambda=0.09921256574801249, eta=0.46293735614364534, colsample_bytree=0.4444444444444444, colsample_bylevel=0.4444444444444444, alpha=0.021262343752724643 \n",
      "[23:59:32] WARNING: ../src/learner.cc:541: \n",
      "Parameters: { nrounds } might not be used.\n",
      "\n",
      "  This may not be accurate due to some parameters are only used in language bindings but\n",
      "  passed down to XGBoost core.  Or some parameters are not used but slip through this\n",
      "  verification. Please open an issue if you find above cases.\n",
      "\n",
      "\n"
     ]
    },
    {
     "name": "stderr",
     "output_type": "stream",
     "text": [
      "/home/piotr/miniconda3/lib/python3.8/site-packages/xgboost/sklearn.py:888: UserWarning: The use of label encoder in XGBClassifier is deprecated and will be removed in a future release. To remove this warning, do the following: 1) Pass option use_label_encoder=False when constructing XGBClassifier object; and 2) Encode your labels (y) as integers starting with 0, i.e. 0, 1, 2, ..., [num_class - 1].\n",
      "  warnings.warn(label_encoder_deprecation_msg, UserWarning)\n"
     ]
    },
    {
     "name": "stdout",
     "output_type": "stream",
     "text": [
      "[23:59:32] WARNING: ../src/learner.cc:1061: Starting in XGBoost 1.3.0, the default evaluation metric used with the objective 'binary:logistic' was changed from 'error' to 'logloss'. Explicitly set eval_metric if you'd like to restore the old behavior.\n",
      "[CV]  nrounds=1667.0, min_child_weight=25.398416831491197, lambda=0.09921256574801249, eta=0.46293735614364534, colsample_bytree=0.4444444444444444, colsample_bylevel=0.4444444444444444, alpha=0.021262343752724643, accuracy=0.903, f1=0.525, roc_auc=0.909, total=   4.8s\n",
      "[CV] nrounds=1667.0, min_child_weight=25.398416831491197, lambda=0.09921256574801249, eta=0.46293735614364534, colsample_bytree=0.4444444444444444, colsample_bylevel=0.4444444444444444, alpha=0.021262343752724643 \n",
      "[23:59:37] WARNING: ../src/learner.cc:541: \n",
      "Parameters: { nrounds } might not be used.\n",
      "\n",
      "  This may not be accurate due to some parameters are only used in language bindings but\n",
      "  passed down to XGBoost core.  Or some parameters are not used but slip through this\n",
      "  verification. Please open an issue if you find above cases.\n",
      "\n",
      "\n",
      "[23:59:37] WARNING: ../src/learner.cc:1061: Starting in XGBoost 1.3.0, the default evaluation metric used with the objective 'binary:logistic' was changed from 'error' to 'logloss'. Explicitly set eval_metric if you'd like to restore the old behavior.\n"
     ]
    },
    {
     "name": "stderr",
     "output_type": "stream",
     "text": [
      "/home/piotr/miniconda3/lib/python3.8/site-packages/xgboost/sklearn.py:888: UserWarning: The use of label encoder in XGBClassifier is deprecated and will be removed in a future release. To remove this warning, do the following: 1) Pass option use_label_encoder=False when constructing XGBClassifier object; and 2) Encode your labels (y) as integers starting with 0, i.e. 0, 1, 2, ..., [num_class - 1].\n",
      "  warnings.warn(label_encoder_deprecation_msg, UserWarning)\n"
     ]
    },
    {
     "name": "stdout",
     "output_type": "stream",
     "text": [
      "[CV]  nrounds=1667.0, min_child_weight=25.398416831491197, lambda=0.09921256574801249, eta=0.46293735614364534, colsample_bytree=0.4444444444444444, colsample_bylevel=0.4444444444444444, alpha=0.021262343752724643, accuracy=0.902, f1=0.512, roc_auc=0.909, total=   4.6s\n",
      "[CV] nrounds=1667.0, min_child_weight=25.398416831491197, lambda=0.09921256574801249, eta=0.46293735614364534, colsample_bytree=0.4444444444444444, colsample_bylevel=0.4444444444444444, alpha=0.021262343752724643 \n",
      "[23:59:42] WARNING: ../src/learner.cc:541: \n",
      "Parameters: { nrounds } might not be used.\n",
      "\n",
      "  This may not be accurate due to some parameters are only used in language bindings but\n",
      "  passed down to XGBoost core.  Or some parameters are not used but slip through this\n",
      "  verification. Please open an issue if you find above cases.\n",
      "\n",
      "\n",
      "[23:59:42] WARNING: ../src/learner.cc:1061: Starting in XGBoost 1.3.0, the default evaluation metric used with the objective 'binary:logistic' was changed from 'error' to 'logloss'. Explicitly set eval_metric if you'd like to restore the old behavior.\n"
     ]
    },
    {
     "name": "stderr",
     "output_type": "stream",
     "text": [
      "/home/piotr/miniconda3/lib/python3.8/site-packages/xgboost/sklearn.py:888: UserWarning: The use of label encoder in XGBClassifier is deprecated and will be removed in a future release. To remove this warning, do the following: 1) Pass option use_label_encoder=False when constructing XGBClassifier object; and 2) Encode your labels (y) as integers starting with 0, i.e. 0, 1, 2, ..., [num_class - 1].\n",
      "  warnings.warn(label_encoder_deprecation_msg, UserWarning)\n"
     ]
    },
    {
     "name": "stdout",
     "output_type": "stream",
     "text": [
      "[CV]  nrounds=1667.0, min_child_weight=25.398416831491197, lambda=0.09921256574801249, eta=0.46293735614364534, colsample_bytree=0.4444444444444444, colsample_bylevel=0.4444444444444444, alpha=0.021262343752724643, accuracy=0.907, f1=0.540, roc_auc=0.912, total=   4.5s\n",
      "[CV] nrounds=1667.0, min_child_weight=25.398416831491197, lambda=0.09921256574801249, eta=0.46293735614364534, colsample_bytree=0.4444444444444444, colsample_bylevel=0.4444444444444444, alpha=0.021262343752724643 \n",
      "[23:59:46] WARNING: ../src/learner.cc:541: \n",
      "Parameters: { nrounds } might not be used.\n",
      "\n",
      "  This may not be accurate due to some parameters are only used in language bindings but\n",
      "  passed down to XGBoost core.  Or some parameters are not used but slip through this\n",
      "  verification. Please open an issue if you find above cases.\n",
      "\n",
      "\n",
      "[23:59:46] WARNING: ../src/learner.cc:1061: Starting in XGBoost 1.3.0, the default evaluation metric used with the objective 'binary:logistic' was changed from 'error' to 'logloss'. Explicitly set eval_metric if you'd like to restore the old behavior.\n"
     ]
    },
    {
     "name": "stderr",
     "output_type": "stream",
     "text": [
      "/home/piotr/miniconda3/lib/python3.8/site-packages/xgboost/sklearn.py:888: UserWarning: The use of label encoder in XGBClassifier is deprecated and will be removed in a future release. To remove this warning, do the following: 1) Pass option use_label_encoder=False when constructing XGBClassifier object; and 2) Encode your labels (y) as integers starting with 0, i.e. 0, 1, 2, ..., [num_class - 1].\n",
      "  warnings.warn(label_encoder_deprecation_msg, UserWarning)\n"
     ]
    },
    {
     "name": "stdout",
     "output_type": "stream",
     "text": [
      "[CV]  nrounds=1667.0, min_child_weight=25.398416831491197, lambda=0.09921256574801249, eta=0.46293735614364534, colsample_bytree=0.4444444444444444, colsample_bylevel=0.4444444444444444, alpha=0.021262343752724643, accuracy=0.909, f1=0.550, roc_auc=0.909, total=   4.5s\n",
      "[CV] nrounds=1667.0, min_child_weight=2.9394689845511977, lambda=2.1601194777846118, eta=0.09921256574801249, colsample_bytree=0.2222222222222222, colsample_bylevel=0.6666666666666666, alpha=0.004556754060844206 \n",
      "[23:59:51] WARNING: ../src/learner.cc:541: \n",
      "Parameters: { nrounds } might not be used.\n",
      "\n",
      "  This may not be accurate due to some parameters are only used in language bindings but\n",
      "  passed down to XGBoost core.  Or some parameters are not used but slip through this\n",
      "  verification. Please open an issue if you find above cases.\n",
      "\n",
      "\n",
      "[23:59:51] WARNING: ../src/learner.cc:1061: Starting in XGBoost 1.3.0, the default evaluation metric used with the objective 'binary:logistic' was changed from 'error' to 'logloss'. Explicitly set eval_metric if you'd like to restore the old behavior.\n"
     ]
    },
    {
     "name": "stderr",
     "output_type": "stream",
     "text": [
      "/home/piotr/miniconda3/lib/python3.8/site-packages/xgboost/sklearn.py:888: UserWarning: The use of label encoder in XGBClassifier is deprecated and will be removed in a future release. To remove this warning, do the following: 1) Pass option use_label_encoder=False when constructing XGBClassifier object; and 2) Encode your labels (y) as integers starting with 0, i.e. 0, 1, 2, ..., [num_class - 1].\n",
      "  warnings.warn(label_encoder_deprecation_msg, UserWarning)\n"
     ]
    },
    {
     "name": "stdout",
     "output_type": "stream",
     "text": [
      "[CV]  nrounds=1667.0, min_child_weight=2.9394689845511977, lambda=2.1601194777846118, eta=0.09921256574801249, colsample_bytree=0.2222222222222222, colsample_bylevel=0.6666666666666666, alpha=0.004556754060844206, accuracy=0.906, f1=0.478, roc_auc=0.911, total=   4.6s\n",
      "[CV] nrounds=1667.0, min_child_weight=2.9394689845511977, lambda=2.1601194777846118, eta=0.09921256574801249, colsample_bytree=0.2222222222222222, colsample_bylevel=0.6666666666666666, alpha=0.004556754060844206 \n",
      "[23:59:55] WARNING: ../src/learner.cc:541: \n",
      "Parameters: { nrounds } might not be used.\n",
      "\n",
      "  This may not be accurate due to some parameters are only used in language bindings but\n",
      "  passed down to XGBoost core.  Or some parameters are not used but slip through this\n",
      "  verification. Please open an issue if you find above cases.\n",
      "\n",
      "\n",
      "[23:59:55] WARNING: ../src/learner.cc:1061: Starting in XGBoost 1.3.0, the default evaluation metric used with the objective 'binary:logistic' was changed from 'error' to 'logloss'. Explicitly set eval_metric if you'd like to restore the old behavior.\n"
     ]
    },
    {
     "name": "stderr",
     "output_type": "stream",
     "text": [
      "/home/piotr/miniconda3/lib/python3.8/site-packages/xgboost/sklearn.py:888: UserWarning: The use of label encoder in XGBClassifier is deprecated and will be removed in a future release. To remove this warning, do the following: 1) Pass option use_label_encoder=False when constructing XGBClassifier object; and 2) Encode your labels (y) as integers starting with 0, i.e. 0, 1, 2, ..., [num_class - 1].\n",
      "  warnings.warn(label_encoder_deprecation_msg, UserWarning)\n"
     ]
    },
    {
     "name": "stdout",
     "output_type": "stream",
     "text": [
      "[CV]  nrounds=1667.0, min_child_weight=2.9394689845511977, lambda=2.1601194777846118, eta=0.09921256574801249, colsample_bytree=0.2222222222222222, colsample_bylevel=0.6666666666666666, alpha=0.004556754060844206, accuracy=0.902, f1=0.461, roc_auc=0.915, total=   4.3s\n",
      "[CV] nrounds=1667.0, min_child_weight=2.9394689845511977, lambda=2.1601194777846118, eta=0.09921256574801249, colsample_bytree=0.2222222222222222, colsample_bylevel=0.6666666666666666, alpha=0.004556754060844206 \n",
      "[00:00:00] WARNING: ../src/learner.cc:541: \n",
      "Parameters: { nrounds } might not be used.\n",
      "\n",
      "  This may not be accurate due to some parameters are only used in language bindings but\n",
      "  passed down to XGBoost core.  Or some parameters are not used but slip through this\n",
      "  verification. Please open an issue if you find above cases.\n",
      "\n",
      "\n",
      "[00:00:00] WARNING: ../src/learner.cc:1061: Starting in XGBoost 1.3.0, the default evaluation metric used with the objective 'binary:logistic' was changed from 'error' to 'logloss'. Explicitly set eval_metric if you'd like to restore the old behavior.\n"
     ]
    },
    {
     "name": "stderr",
     "output_type": "stream",
     "text": [
      "/home/piotr/miniconda3/lib/python3.8/site-packages/xgboost/sklearn.py:888: UserWarning: The use of label encoder in XGBClassifier is deprecated and will be removed in a future release. To remove this warning, do the following: 1) Pass option use_label_encoder=False when constructing XGBClassifier object; and 2) Encode your labels (y) as integers starting with 0, i.e. 0, 1, 2, ..., [num_class - 1].\n",
      "  warnings.warn(label_encoder_deprecation_msg, UserWarning)\n"
     ]
    },
    {
     "name": "stdout",
     "output_type": "stream",
     "text": [
      "[CV]  nrounds=1667.0, min_child_weight=2.9394689845511977, lambda=2.1601194777846118, eta=0.09921256574801249, colsample_bytree=0.2222222222222222, colsample_bylevel=0.6666666666666666, alpha=0.004556754060844206, accuracy=0.907, f1=0.475, roc_auc=0.923, total=   4.3s\n",
      "[CV] nrounds=1667.0, min_child_weight=2.9394689845511977, lambda=2.1601194777846118, eta=0.09921256574801249, colsample_bytree=0.2222222222222222, colsample_bylevel=0.6666666666666666, alpha=0.004556754060844206 \n",
      "[00:00:04] WARNING: ../src/learner.cc:541: \n",
      "Parameters: { nrounds } might not be used.\n",
      "\n",
      "  This may not be accurate due to some parameters are only used in language bindings but\n",
      "  passed down to XGBoost core.  Or some parameters are not used but slip through this\n",
      "  verification. Please open an issue if you find above cases.\n",
      "\n",
      "\n",
      "[00:00:04] WARNING: ../src/learner.cc:1061: Starting in XGBoost 1.3.0, the default evaluation metric used with the objective 'binary:logistic' was changed from 'error' to 'logloss'. Explicitly set eval_metric if you'd like to restore the old behavior.\n"
     ]
    },
    {
     "name": "stderr",
     "output_type": "stream",
     "text": [
      "/home/piotr/miniconda3/lib/python3.8/site-packages/xgboost/sklearn.py:888: UserWarning: The use of label encoder in XGBClassifier is deprecated and will be removed in a future release. To remove this warning, do the following: 1) Pass option use_label_encoder=False when constructing XGBClassifier object; and 2) Encode your labels (y) as integers starting with 0, i.e. 0, 1, 2, ..., [num_class - 1].\n",
      "  warnings.warn(label_encoder_deprecation_msg, UserWarning)\n"
     ]
    },
    {
     "name": "stdout",
     "output_type": "stream",
     "text": [
      "[CV]  nrounds=1667.0, min_child_weight=2.9394689845511977, lambda=2.1601194777846118, eta=0.09921256574801249, colsample_bytree=0.2222222222222222, colsample_bylevel=0.6666666666666666, alpha=0.004556754060844206, accuracy=0.906, f1=0.479, roc_auc=0.925, total=   4.3s\n",
      "[CV] nrounds=1667.0, min_child_weight=2.9394689845511977, lambda=2.1601194777846118, eta=0.09921256574801249, colsample_bytree=0.2222222222222222, colsample_bylevel=0.6666666666666666, alpha=0.004556754060844206 \n",
      "[00:00:08] WARNING: ../src/learner.cc:541: \n",
      "Parameters: { nrounds } might not be used.\n",
      "\n",
      "  This may not be accurate due to some parameters are only used in language bindings but\n",
      "  passed down to XGBoost core.  Or some parameters are not used but slip through this\n",
      "  verification. Please open an issue if you find above cases.\n",
      "\n",
      "\n",
      "[00:00:08] WARNING: ../src/learner.cc:1061: Starting in XGBoost 1.3.0, the default evaluation metric used with the objective 'binary:logistic' was changed from 'error' to 'logloss'. Explicitly set eval_metric if you'd like to restore the old behavior.\n"
     ]
    },
    {
     "name": "stderr",
     "output_type": "stream",
     "text": [
      "/home/piotr/miniconda3/lib/python3.8/site-packages/xgboost/sklearn.py:888: UserWarning: The use of label encoder in XGBClassifier is deprecated and will be removed in a future release. To remove this warning, do the following: 1) Pass option use_label_encoder=False when constructing XGBClassifier object; and 2) Encode your labels (y) as integers starting with 0, i.e. 0, 1, 2, ..., [num_class - 1].\n",
      "  warnings.warn(label_encoder_deprecation_msg, UserWarning)\n"
     ]
    },
    {
     "name": "stdout",
     "output_type": "stream",
     "text": [
      "[CV]  nrounds=1667.0, min_child_weight=2.9394689845511977, lambda=2.1601194777846118, eta=0.09921256574801249, colsample_bytree=0.2222222222222222, colsample_bylevel=0.6666666666666666, alpha=0.004556754060844206, accuracy=0.909, f1=0.494, roc_auc=0.915, total=   4.3s\n",
      "[CV] nrounds=2222.0, min_child_weight=1.0, lambda=0.0009765625, eta=0.21431099571326834, colsample_bytree=0.7777777777777777, colsample_bylevel=0.5555555555555556, alpha=219.45445961038678 \n",
      "[00:00:12] WARNING: ../src/learner.cc:541: \n",
      "Parameters: { nrounds } might not be used.\n",
      "\n",
      "  This may not be accurate due to some parameters are only used in language bindings but\n",
      "  passed down to XGBoost core.  Or some parameters are not used but slip through this\n",
      "  verification. Please open an issue if you find above cases.\n",
      "\n",
      "\n"
     ]
    },
    {
     "name": "stderr",
     "output_type": "stream",
     "text": [
      "/home/piotr/miniconda3/lib/python3.8/site-packages/xgboost/sklearn.py:888: UserWarning: The use of label encoder in XGBClassifier is deprecated and will be removed in a future release. To remove this warning, do the following: 1) Pass option use_label_encoder=False when constructing XGBClassifier object; and 2) Encode your labels (y) as integers starting with 0, i.e. 0, 1, 2, ..., [num_class - 1].\n",
      "  warnings.warn(label_encoder_deprecation_msg, UserWarning)\n"
     ]
    },
    {
     "name": "stdout",
     "output_type": "stream",
     "text": [
      "[00:00:13] WARNING: ../src/learner.cc:1061: Starting in XGBoost 1.3.0, the default evaluation metric used with the objective 'binary:logistic' was changed from 'error' to 'logloss'. Explicitly set eval_metric if you'd like to restore the old behavior.\n",
      "[CV]  nrounds=2222.0, min_child_weight=1.0, lambda=0.0009765625, eta=0.21431099571326834, colsample_bytree=0.7777777777777777, colsample_bylevel=0.5555555555555556, alpha=219.45445961038678, accuracy=0.888, f1=0.192, roc_auc=0.870, total=   4.5s\n",
      "[CV] nrounds=2222.0, min_child_weight=1.0, lambda=0.0009765625, eta=0.21431099571326834, colsample_bytree=0.7777777777777777, colsample_bylevel=0.5555555555555556, alpha=219.45445961038678 \n",
      "[00:00:17] WARNING: ../src/learner.cc:541: \n",
      "Parameters: { nrounds } might not be used.\n",
      "\n",
      "  This may not be accurate due to some parameters are only used in language bindings but\n",
      "  passed down to XGBoost core.  Or some parameters are not used but slip through this\n",
      "  verification. Please open an issue if you find above cases.\n",
      "\n",
      "\n"
     ]
    },
    {
     "name": "stderr",
     "output_type": "stream",
     "text": [
      "/home/piotr/miniconda3/lib/python3.8/site-packages/xgboost/sklearn.py:888: UserWarning: The use of label encoder in XGBClassifier is deprecated and will be removed in a future release. To remove this warning, do the following: 1) Pass option use_label_encoder=False when constructing XGBClassifier object; and 2) Encode your labels (y) as integers starting with 0, i.e. 0, 1, 2, ..., [num_class - 1].\n",
      "  warnings.warn(label_encoder_deprecation_msg, UserWarning)\n"
     ]
    },
    {
     "name": "stdout",
     "output_type": "stream",
     "text": [
      "[00:00:17] WARNING: ../src/learner.cc:1061: Starting in XGBoost 1.3.0, the default evaluation metric used with the objective 'binary:logistic' was changed from 'error' to 'logloss'. Explicitly set eval_metric if you'd like to restore the old behavior.\n",
      "[CV]  nrounds=2222.0, min_child_weight=1.0, lambda=0.0009765625, eta=0.21431099571326834, colsample_bytree=0.7777777777777777, colsample_bylevel=0.5555555555555556, alpha=219.45445961038678, accuracy=0.887, f1=0.204, roc_auc=0.864, total=   4.3s\n",
      "[CV] nrounds=2222.0, min_child_weight=1.0, lambda=0.0009765625, eta=0.21431099571326834, colsample_bytree=0.7777777777777777, colsample_bylevel=0.5555555555555556, alpha=219.45445961038678 \n",
      "[00:00:21] WARNING: ../src/learner.cc:541: \n",
      "Parameters: { nrounds } might not be used.\n",
      "\n",
      "  This may not be accurate due to some parameters are only used in language bindings but\n",
      "  passed down to XGBoost core.  Or some parameters are not used but slip through this\n",
      "  verification. Please open an issue if you find above cases.\n",
      "\n",
      "\n"
     ]
    },
    {
     "name": "stderr",
     "output_type": "stream",
     "text": [
      "/home/piotr/miniconda3/lib/python3.8/site-packages/xgboost/sklearn.py:888: UserWarning: The use of label encoder in XGBClassifier is deprecated and will be removed in a future release. To remove this warning, do the following: 1) Pass option use_label_encoder=False when constructing XGBClassifier object; and 2) Encode your labels (y) as integers starting with 0, i.e. 0, 1, 2, ..., [num_class - 1].\n",
      "  warnings.warn(label_encoder_deprecation_msg, UserWarning)\n"
     ]
    },
    {
     "name": "stdout",
     "output_type": "stream",
     "text": [
      "[00:00:21] WARNING: ../src/learner.cc:1061: Starting in XGBoost 1.3.0, the default evaluation metric used with the objective 'binary:logistic' was changed from 'error' to 'logloss'. Explicitly set eval_metric if you'd like to restore the old behavior.\n",
      "[CV]  nrounds=2222.0, min_child_weight=1.0, lambda=0.0009765625, eta=0.21431099571326834, colsample_bytree=0.7777777777777777, colsample_bylevel=0.5555555555555556, alpha=219.45445961038678, accuracy=0.884, f1=0.146, roc_auc=0.867, total=   4.3s\n",
      "[CV] nrounds=2222.0, min_child_weight=1.0, lambda=0.0009765625, eta=0.21431099571326834, colsample_bytree=0.7777777777777777, colsample_bylevel=0.5555555555555556, alpha=219.45445961038678 \n",
      "[00:00:26] WARNING: ../src/learner.cc:541: \n",
      "Parameters: { nrounds } might not be used.\n",
      "\n",
      "  This may not be accurate due to some parameters are only used in language bindings but\n",
      "  passed down to XGBoost core.  Or some parameters are not used but slip through this\n",
      "  verification. Please open an issue if you find above cases.\n",
      "\n",
      "\n"
     ]
    },
    {
     "name": "stderr",
     "output_type": "stream",
     "text": [
      "/home/piotr/miniconda3/lib/python3.8/site-packages/xgboost/sklearn.py:888: UserWarning: The use of label encoder in XGBClassifier is deprecated and will be removed in a future release. To remove this warning, do the following: 1) Pass option use_label_encoder=False when constructing XGBClassifier object; and 2) Encode your labels (y) as integers starting with 0, i.e. 0, 1, 2, ..., [num_class - 1].\n",
      "  warnings.warn(label_encoder_deprecation_msg, UserWarning)\n"
     ]
    },
    {
     "name": "stdout",
     "output_type": "stream",
     "text": [
      "[00:00:26] WARNING: ../src/learner.cc:1061: Starting in XGBoost 1.3.0, the default evaluation metric used with the objective 'binary:logistic' was changed from 'error' to 'logloss'. Explicitly set eval_metric if you'd like to restore the old behavior.\n",
      "[CV]  nrounds=2222.0, min_child_weight=1.0, lambda=0.0009765625, eta=0.21431099571326834, colsample_bytree=0.7777777777777777, colsample_bylevel=0.5555555555555556, alpha=219.45445961038678, accuracy=0.890, f1=0.220, roc_auc=0.877, total=   4.3s\n",
      "[CV] nrounds=2222.0, min_child_weight=1.0, lambda=0.0009765625, eta=0.21431099571326834, colsample_bytree=0.7777777777777777, colsample_bylevel=0.5555555555555556, alpha=219.45445961038678 \n",
      "[00:00:30] WARNING: ../src/learner.cc:541: \n",
      "Parameters: { nrounds } might not be used.\n",
      "\n",
      "  This may not be accurate due to some parameters are only used in language bindings but\n",
      "  passed down to XGBoost core.  Or some parameters are not used but slip through this\n",
      "  verification. Please open an issue if you find above cases.\n",
      "\n",
      "\n"
     ]
    },
    {
     "name": "stderr",
     "output_type": "stream",
     "text": [
      "/home/piotr/miniconda3/lib/python3.8/site-packages/xgboost/sklearn.py:888: UserWarning: The use of label encoder in XGBClassifier is deprecated and will be removed in a future release. To remove this warning, do the following: 1) Pass option use_label_encoder=False when constructing XGBClassifier object; and 2) Encode your labels (y) as integers starting with 0, i.e. 0, 1, 2, ..., [num_class - 1].\n",
      "  warnings.warn(label_encoder_deprecation_msg, UserWarning)\n"
     ]
    },
    {
     "name": "stdout",
     "output_type": "stream",
     "text": [
      "[00:00:30] WARNING: ../src/learner.cc:1061: Starting in XGBoost 1.3.0, the default evaluation metric used with the objective 'binary:logistic' was changed from 'error' to 'logloss'. Explicitly set eval_metric if you'd like to restore the old behavior.\n",
      "[CV]  nrounds=2222.0, min_child_weight=1.0, lambda=0.0009765625, eta=0.21431099571326834, colsample_bytree=0.7777777777777777, colsample_bylevel=0.5555555555555556, alpha=219.45445961038678, accuracy=0.888, f1=0.223, roc_auc=0.878, total=   4.3s\n",
      "[CV] nrounds=4444.0, min_child_weight=25.398416831491197, lambda=10.079368399158989, eta=0.002109491677524035, colsample_bytree=1.0, colsample_bylevel=0.1111111111111111, alpha=0.0009765625 \n",
      "[00:00:34] WARNING: ../src/learner.cc:541: \n",
      "Parameters: { nrounds } might not be used.\n",
      "\n",
      "  This may not be accurate due to some parameters are only used in language bindings but\n",
      "  passed down to XGBoost core.  Or some parameters are not used but slip through this\n",
      "  verification. Please open an issue if you find above cases.\n",
      "\n",
      "\n",
      "[00:00:34] WARNING: ../src/learner.cc:1061: Starting in XGBoost 1.3.0, the default evaluation metric used with the objective 'binary:logistic' was changed from 'error' to 'logloss'. Explicitly set eval_metric if you'd like to restore the old behavior.\n"
     ]
    },
    {
     "name": "stderr",
     "output_type": "stream",
     "text": [
      "/home/piotr/miniconda3/lib/python3.8/site-packages/xgboost/sklearn.py:888: UserWarning: The use of label encoder in XGBClassifier is deprecated and will be removed in a future release. To remove this warning, do the following: 1) Pass option use_label_encoder=False when constructing XGBClassifier object; and 2) Encode your labels (y) as integers starting with 0, i.e. 0, 1, 2, ..., [num_class - 1].\n",
      "  warnings.warn(label_encoder_deprecation_msg, UserWarning)\n"
     ]
    },
    {
     "name": "stdout",
     "output_type": "stream",
     "text": [
      "[CV]  nrounds=4444.0, min_child_weight=25.398416831491197, lambda=10.079368399158989, eta=0.002109491677524035, colsample_bytree=1.0, colsample_bylevel=0.1111111111111111, alpha=0.0009765625, accuracy=0.887, f1=0.147, roc_auc=0.868, total=   3.1s\n",
      "[CV] nrounds=4444.0, min_child_weight=25.398416831491197, lambda=10.079368399158989, eta=0.002109491677524035, colsample_bytree=1.0, colsample_bylevel=0.1111111111111111, alpha=0.0009765625 \n",
      "[00:00:37] WARNING: ../src/learner.cc:541: \n",
      "Parameters: { nrounds } might not be used.\n",
      "\n",
      "  This may not be accurate due to some parameters are only used in language bindings but\n",
      "  passed down to XGBoost core.  Or some parameters are not used but slip through this\n",
      "  verification. Please open an issue if you find above cases.\n",
      "\n",
      "\n",
      "[00:00:37] WARNING: ../src/learner.cc:1061: Starting in XGBoost 1.3.0, the default evaluation metric used with the objective 'binary:logistic' was changed from 'error' to 'logloss'. Explicitly set eval_metric if you'd like to restore the old behavior.\n"
     ]
    },
    {
     "name": "stderr",
     "output_type": "stream",
     "text": [
      "/home/piotr/miniconda3/lib/python3.8/site-packages/xgboost/sklearn.py:888: UserWarning: The use of label encoder in XGBClassifier is deprecated and will be removed in a future release. To remove this warning, do the following: 1) Pass option use_label_encoder=False when constructing XGBClassifier object; and 2) Encode your labels (y) as integers starting with 0, i.e. 0, 1, 2, ..., [num_class - 1].\n",
      "  warnings.warn(label_encoder_deprecation_msg, UserWarning)\n"
     ]
    },
    {
     "name": "stdout",
     "output_type": "stream",
     "text": [
      "[CV]  nrounds=4444.0, min_child_weight=25.398416831491197, lambda=10.079368399158989, eta=0.002109491677524035, colsample_bytree=1.0, colsample_bylevel=0.1111111111111111, alpha=0.0009765625, accuracy=0.888, f1=0.168, roc_auc=0.860, total=   3.1s\n",
      "[CV] nrounds=4444.0, min_child_weight=25.398416831491197, lambda=10.079368399158989, eta=0.002109491677524035, colsample_bytree=1.0, colsample_bylevel=0.1111111111111111, alpha=0.0009765625 \n",
      "[00:00:40] WARNING: ../src/learner.cc:541: \n",
      "Parameters: { nrounds } might not be used.\n",
      "\n",
      "  This may not be accurate due to some parameters are only used in language bindings but\n",
      "  passed down to XGBoost core.  Or some parameters are not used but slip through this\n",
      "  verification. Please open an issue if you find above cases.\n",
      "\n",
      "\n",
      "[00:00:41] WARNING: ../src/learner.cc:1061: Starting in XGBoost 1.3.0, the default evaluation metric used with the objective 'binary:logistic' was changed from 'error' to 'logloss'. Explicitly set eval_metric if you'd like to restore the old behavior.\n"
     ]
    },
    {
     "name": "stderr",
     "output_type": "stream",
     "text": [
      "/home/piotr/miniconda3/lib/python3.8/site-packages/xgboost/sklearn.py:888: UserWarning: The use of label encoder in XGBClassifier is deprecated and will be removed in a future release. To remove this warning, do the following: 1) Pass option use_label_encoder=False when constructing XGBClassifier object; and 2) Encode your labels (y) as integers starting with 0, i.e. 0, 1, 2, ..., [num_class - 1].\n",
      "  warnings.warn(label_encoder_deprecation_msg, UserWarning)\n"
     ]
    },
    {
     "name": "stdout",
     "output_type": "stream",
     "text": [
      "[CV]  nrounds=4444.0, min_child_weight=25.398416831491197, lambda=10.079368399158989, eta=0.002109491677524035, colsample_bytree=1.0, colsample_bylevel=0.1111111111111111, alpha=0.0009765625, accuracy=0.884, f1=0.123, roc_auc=0.871, total=   3.1s\n",
      "[CV] nrounds=4444.0, min_child_weight=25.398416831491197, lambda=10.079368399158989, eta=0.002109491677524035, colsample_bytree=1.0, colsample_bylevel=0.1111111111111111, alpha=0.0009765625 \n",
      "[00:00:43] WARNING: ../src/learner.cc:541: \n",
      "Parameters: { nrounds } might not be used.\n",
      "\n",
      "  This may not be accurate due to some parameters are only used in language bindings but\n",
      "  passed down to XGBoost core.  Or some parameters are not used but slip through this\n",
      "  verification. Please open an issue if you find above cases.\n",
      "\n",
      "\n",
      "[00:00:44] WARNING: ../src/learner.cc:1061: Starting in XGBoost 1.3.0, the default evaluation metric used with the objective 'binary:logistic' was changed from 'error' to 'logloss'. Explicitly set eval_metric if you'd like to restore the old behavior.\n"
     ]
    },
    {
     "name": "stderr",
     "output_type": "stream",
     "text": [
      "/home/piotr/miniconda3/lib/python3.8/site-packages/xgboost/sklearn.py:888: UserWarning: The use of label encoder in XGBClassifier is deprecated and will be removed in a future release. To remove this warning, do the following: 1) Pass option use_label_encoder=False when constructing XGBClassifier object; and 2) Encode your labels (y) as integers starting with 0, i.e. 0, 1, 2, ..., [num_class - 1].\n",
      "  warnings.warn(label_encoder_deprecation_msg, UserWarning)\n"
     ]
    },
    {
     "name": "stdout",
     "output_type": "stream",
     "text": [
      "[CV]  nrounds=4444.0, min_child_weight=25.398416831491197, lambda=10.079368399158989, eta=0.002109491677524035, colsample_bytree=1.0, colsample_bylevel=0.1111111111111111, alpha=0.0009765625, accuracy=0.887, f1=0.178, roc_auc=0.878, total=   3.1s\n",
      "[CV] nrounds=4444.0, min_child_weight=25.398416831491197, lambda=10.079368399158989, eta=0.002109491677524035, colsample_bytree=1.0, colsample_bylevel=0.1111111111111111, alpha=0.0009765625 \n",
      "[00:00:47] WARNING: ../src/learner.cc:541: \n",
      "Parameters: { nrounds } might not be used.\n",
      "\n",
      "  This may not be accurate due to some parameters are only used in language bindings but\n",
      "  passed down to XGBoost core.  Or some parameters are not used but slip through this\n",
      "  verification. Please open an issue if you find above cases.\n",
      "\n",
      "\n",
      "[00:00:47] WARNING: ../src/learner.cc:1061: Starting in XGBoost 1.3.0, the default evaluation metric used with the objective 'binary:logistic' was changed from 'error' to 'logloss'. Explicitly set eval_metric if you'd like to restore the old behavior.\n"
     ]
    },
    {
     "name": "stderr",
     "output_type": "stream",
     "text": [
      "/home/piotr/miniconda3/lib/python3.8/site-packages/xgboost/sklearn.py:888: UserWarning: The use of label encoder in XGBClassifier is deprecated and will be removed in a future release. To remove this warning, do the following: 1) Pass option use_label_encoder=False when constructing XGBClassifier object; and 2) Encode your labels (y) as integers starting with 0, i.e. 0, 1, 2, ..., [num_class - 1].\n",
      "  warnings.warn(label_encoder_deprecation_msg, UserWarning)\n"
     ]
    },
    {
     "name": "stdout",
     "output_type": "stream",
     "text": [
      "[CV]  nrounds=4444.0, min_child_weight=25.398416831491197, lambda=10.079368399158989, eta=0.002109491677524035, colsample_bytree=1.0, colsample_bylevel=0.1111111111111111, alpha=0.0009765625, accuracy=0.888, f1=0.182, roc_auc=0.881, total=   3.1s\n",
      "[CV] nrounds=2222.0, min_child_weight=14.813995396596646, lambda=0.46293735614364534, eta=0.46293735614364534, colsample_bytree=0.8888888888888888, colsample_bylevel=0.8888888888888888, alpha=47.03150375281921 \n",
      "[00:00:50] WARNING: ../src/learner.cc:541: \n",
      "Parameters: { nrounds } might not be used.\n",
      "\n",
      "  This may not be accurate due to some parameters are only used in language bindings but\n",
      "  passed down to XGBoost core.  Or some parameters are not used but slip through this\n",
      "  verification. Please open an issue if you find above cases.\n",
      "\n",
      "\n"
     ]
    },
    {
     "name": "stderr",
     "output_type": "stream",
     "text": [
      "/home/piotr/miniconda3/lib/python3.8/site-packages/xgboost/sklearn.py:888: UserWarning: The use of label encoder in XGBClassifier is deprecated and will be removed in a future release. To remove this warning, do the following: 1) Pass option use_label_encoder=False when constructing XGBClassifier object; and 2) Encode your labels (y) as integers starting with 0, i.e. 0, 1, 2, ..., [num_class - 1].\n",
      "  warnings.warn(label_encoder_deprecation_msg, UserWarning)\n"
     ]
    },
    {
     "name": "stdout",
     "output_type": "stream",
     "text": [
      "[00:00:50] WARNING: ../src/learner.cc:1061: Starting in XGBoost 1.3.0, the default evaluation metric used with the objective 'binary:logistic' was changed from 'error' to 'logloss'. Explicitly set eval_metric if you'd like to restore the old behavior.\n",
      "[CV]  nrounds=2222.0, min_child_weight=14.813995396596646, lambda=0.46293735614364534, eta=0.46293735614364534, colsample_bytree=0.8888888888888888, colsample_bylevel=0.8888888888888888, alpha=47.03150375281921, accuracy=0.903, f1=0.467, roc_auc=0.901, total=   8.2s\n",
      "[CV] nrounds=2222.0, min_child_weight=14.813995396596646, lambda=0.46293735614364534, eta=0.46293735614364534, colsample_bytree=0.8888888888888888, colsample_bylevel=0.8888888888888888, alpha=47.03150375281921 \n",
      "[00:00:58] WARNING: ../src/learner.cc:541: \n",
      "Parameters: { nrounds } might not be used.\n",
      "\n",
      "  This may not be accurate due to some parameters are only used in language bindings but\n",
      "  passed down to XGBoost core.  Or some parameters are not used but slip through this\n",
      "  verification. Please open an issue if you find above cases.\n",
      "\n",
      "\n"
     ]
    },
    {
     "name": "stderr",
     "output_type": "stream",
     "text": [
      "/home/piotr/miniconda3/lib/python3.8/site-packages/xgboost/sklearn.py:888: UserWarning: The use of label encoder in XGBClassifier is deprecated and will be removed in a future release. To remove this warning, do the following: 1) Pass option use_label_encoder=False when constructing XGBClassifier object; and 2) Encode your labels (y) as integers starting with 0, i.e. 0, 1, 2, ..., [num_class - 1].\n",
      "  warnings.warn(label_encoder_deprecation_msg, UserWarning)\n"
     ]
    },
    {
     "name": "stdout",
     "output_type": "stream",
     "text": [
      "[00:00:58] WARNING: ../src/learner.cc:1061: Starting in XGBoost 1.3.0, the default evaluation metric used with the objective 'binary:logistic' was changed from 'error' to 'logloss'. Explicitly set eval_metric if you'd like to restore the old behavior.\n",
      "[CV]  nrounds=2222.0, min_child_weight=14.813995396596646, lambda=0.46293735614364534, eta=0.46293735614364534, colsample_bytree=0.8888888888888888, colsample_bylevel=0.8888888888888888, alpha=47.03150375281921, accuracy=0.901, f1=0.475, roc_auc=0.905, total=   8.4s\n",
      "[CV] nrounds=2222.0, min_child_weight=14.813995396596646, lambda=0.46293735614364534, eta=0.46293735614364534, colsample_bytree=0.8888888888888888, colsample_bylevel=0.8888888888888888, alpha=47.03150375281921 \n",
      "[00:01:06] WARNING: ../src/learner.cc:541: \n",
      "Parameters: { nrounds } might not be used.\n",
      "\n",
      "  This may not be accurate due to some parameters are only used in language bindings but\n",
      "  passed down to XGBoost core.  Or some parameters are not used but slip through this\n",
      "  verification. Please open an issue if you find above cases.\n",
      "\n",
      "\n"
     ]
    },
    {
     "name": "stderr",
     "output_type": "stream",
     "text": [
      "/home/piotr/miniconda3/lib/python3.8/site-packages/xgboost/sklearn.py:888: UserWarning: The use of label encoder in XGBClassifier is deprecated and will be removed in a future release. To remove this warning, do the following: 1) Pass option use_label_encoder=False when constructing XGBClassifier object; and 2) Encode your labels (y) as integers starting with 0, i.e. 0, 1, 2, ..., [num_class - 1].\n",
      "  warnings.warn(label_encoder_deprecation_msg, UserWarning)\n"
     ]
    },
    {
     "name": "stdout",
     "output_type": "stream",
     "text": [
      "[00:01:07] WARNING: ../src/learner.cc:1061: Starting in XGBoost 1.3.0, the default evaluation metric used with the objective 'binary:logistic' was changed from 'error' to 'logloss'. Explicitly set eval_metric if you'd like to restore the old behavior.\n",
      "[CV]  nrounds=2222.0, min_child_weight=14.813995396596646, lambda=0.46293735614364534, eta=0.46293735614364534, colsample_bytree=0.8888888888888888, colsample_bylevel=0.8888888888888888, alpha=47.03150375281921, accuracy=0.905, f1=0.488, roc_auc=0.916, total=   8.5s\n",
      "[CV] nrounds=2222.0, min_child_weight=14.813995396596646, lambda=0.46293735614364534, eta=0.46293735614364534, colsample_bytree=0.8888888888888888, colsample_bylevel=0.8888888888888888, alpha=47.03150375281921 \n",
      "[00:01:15] WARNING: ../src/learner.cc:541: \n",
      "Parameters: { nrounds } might not be used.\n",
      "\n",
      "  This may not be accurate due to some parameters are only used in language bindings but\n",
      "  passed down to XGBoost core.  Or some parameters are not used but slip through this\n",
      "  verification. Please open an issue if you find above cases.\n",
      "\n",
      "\n"
     ]
    },
    {
     "name": "stderr",
     "output_type": "stream",
     "text": [
      "/home/piotr/miniconda3/lib/python3.8/site-packages/xgboost/sklearn.py:888: UserWarning: The use of label encoder in XGBClassifier is deprecated and will be removed in a future release. To remove this warning, do the following: 1) Pass option use_label_encoder=False when constructing XGBClassifier object; and 2) Encode your labels (y) as integers starting with 0, i.e. 0, 1, 2, ..., [num_class - 1].\n",
      "  warnings.warn(label_encoder_deprecation_msg, UserWarning)\n"
     ]
    },
    {
     "name": "stdout",
     "output_type": "stream",
     "text": [
      "[00:01:15] WARNING: ../src/learner.cc:1061: Starting in XGBoost 1.3.0, the default evaluation metric used with the objective 'binary:logistic' was changed from 'error' to 'logloss'. Explicitly set eval_metric if you'd like to restore the old behavior.\n",
      "[CV]  nrounds=2222.0, min_child_weight=14.813995396596646, lambda=0.46293735614364534, eta=0.46293735614364534, colsample_bytree=0.8888888888888888, colsample_bylevel=0.8888888888888888, alpha=47.03150375281921, accuracy=0.903, f1=0.477, roc_auc=0.911, total=   7.7s\n",
      "[CV] nrounds=2222.0, min_child_weight=14.813995396596646, lambda=0.46293735614364534, eta=0.46293735614364534, colsample_bytree=0.8888888888888888, colsample_bylevel=0.8888888888888888, alpha=47.03150375281921 \n",
      "[00:01:22] WARNING: ../src/learner.cc:541: \n",
      "Parameters: { nrounds } might not be used.\n",
      "\n",
      "  This may not be accurate due to some parameters are only used in language bindings but\n",
      "  passed down to XGBoost core.  Or some parameters are not used but slip through this\n",
      "  verification. Please open an issue if you find above cases.\n",
      "\n",
      "\n"
     ]
    },
    {
     "name": "stderr",
     "output_type": "stream",
     "text": [
      "/home/piotr/miniconda3/lib/python3.8/site-packages/xgboost/sklearn.py:888: UserWarning: The use of label encoder in XGBClassifier is deprecated and will be removed in a future release. To remove this warning, do the following: 1) Pass option use_label_encoder=False when constructing XGBClassifier object; and 2) Encode your labels (y) as integers starting with 0, i.e. 0, 1, 2, ..., [num_class - 1].\n",
      "  warnings.warn(label_encoder_deprecation_msg, UserWarning)\n"
     ]
    },
    {
     "name": "stdout",
     "output_type": "stream",
     "text": [
      "[00:01:23] WARNING: ../src/learner.cc:1061: Starting in XGBoost 1.3.0, the default evaluation metric used with the objective 'binary:logistic' was changed from 'error' to 'logloss'. Explicitly set eval_metric if you'd like to restore the old behavior.\n",
      "[CV]  nrounds=2222.0, min_child_weight=14.813995396596646, lambda=0.46293735614364534, eta=0.46293735614364534, colsample_bytree=0.8888888888888888, colsample_bylevel=0.8888888888888888, alpha=47.03150375281921, accuracy=0.907, f1=0.503, roc_auc=0.910, total=   7.9s\n",
      "[CV] nrounds=4444.0, min_child_weight=5.039684199579493, lambda=1024.0, eta=0.021262343752724643, colsample_bytree=1.0, colsample_bylevel=0.6666666666666666, alpha=219.45445961038678 \n",
      "[00:01:30] WARNING: ../src/learner.cc:541: \n",
      "Parameters: { nrounds } might not be used.\n",
      "\n",
      "  This may not be accurate due to some parameters are only used in language bindings but\n",
      "  passed down to XGBoost core.  Or some parameters are not used but slip through this\n",
      "  verification. Please open an issue if you find above cases.\n",
      "\n",
      "\n"
     ]
    },
    {
     "name": "stderr",
     "output_type": "stream",
     "text": [
      "/home/piotr/miniconda3/lib/python3.8/site-packages/xgboost/sklearn.py:888: UserWarning: The use of label encoder in XGBClassifier is deprecated and will be removed in a future release. To remove this warning, do the following: 1) Pass option use_label_encoder=False when constructing XGBClassifier object; and 2) Encode your labels (y) as integers starting with 0, i.e. 0, 1, 2, ..., [num_class - 1].\n",
      "  warnings.warn(label_encoder_deprecation_msg, UserWarning)\n"
     ]
    },
    {
     "name": "stdout",
     "output_type": "stream",
     "text": [
      "[00:01:31] WARNING: ../src/learner.cc:1061: Starting in XGBoost 1.3.0, the default evaluation metric used with the objective 'binary:logistic' was changed from 'error' to 'logloss'. Explicitly set eval_metric if you'd like to restore the old behavior.\n",
      "[CV]  nrounds=4444.0, min_child_weight=5.039684199579493, lambda=1024.0, eta=0.021262343752724643, colsample_bytree=1.0, colsample_bylevel=0.6666666666666666, alpha=219.45445961038678, accuracy=0.881, f1=0.000, roc_auc=0.820, total=  13.9s\n",
      "[CV] nrounds=4444.0, min_child_weight=5.039684199579493, lambda=1024.0, eta=0.021262343752724643, colsample_bytree=1.0, colsample_bylevel=0.6666666666666666, alpha=219.45445961038678 \n",
      "[00:01:44] WARNING: ../src/learner.cc:541: \n",
      "Parameters: { nrounds } might not be used.\n",
      "\n",
      "  This may not be accurate due to some parameters are only used in language bindings but\n",
      "  passed down to XGBoost core.  Or some parameters are not used but slip through this\n",
      "  verification. Please open an issue if you find above cases.\n",
      "\n",
      "\n"
     ]
    },
    {
     "name": "stderr",
     "output_type": "stream",
     "text": [
      "/home/piotr/miniconda3/lib/python3.8/site-packages/xgboost/sklearn.py:888: UserWarning: The use of label encoder in XGBClassifier is deprecated and will be removed in a future release. To remove this warning, do the following: 1) Pass option use_label_encoder=False when constructing XGBClassifier object; and 2) Encode your labels (y) as integers starting with 0, i.e. 0, 1, 2, ..., [num_class - 1].\n",
      "  warnings.warn(label_encoder_deprecation_msg, UserWarning)\n"
     ]
    },
    {
     "name": "stdout",
     "output_type": "stream",
     "text": [
      "[00:01:45] WARNING: ../src/learner.cc:1061: Starting in XGBoost 1.3.0, the default evaluation metric used with the objective 'binary:logistic' was changed from 'error' to 'logloss'. Explicitly set eval_metric if you'd like to restore the old behavior.\n",
      "[CV]  nrounds=4444.0, min_child_weight=5.039684199579493, lambda=1024.0, eta=0.021262343752724643, colsample_bytree=1.0, colsample_bylevel=0.6666666666666666, alpha=219.45445961038678, accuracy=0.881, f1=0.000, roc_auc=0.825, total=  13.8s\n",
      "[CV] nrounds=4444.0, min_child_weight=5.039684199579493, lambda=1024.0, eta=0.021262343752724643, colsample_bytree=1.0, colsample_bylevel=0.6666666666666666, alpha=219.45445961038678 \n",
      "[00:01:58] WARNING: ../src/learner.cc:541: \n",
      "Parameters: { nrounds } might not be used.\n",
      "\n",
      "  This may not be accurate due to some parameters are only used in language bindings but\n",
      "  passed down to XGBoost core.  Or some parameters are not used but slip through this\n",
      "  verification. Please open an issue if you find above cases.\n",
      "\n",
      "\n"
     ]
    },
    {
     "name": "stderr",
     "output_type": "stream",
     "text": [
      "/home/piotr/miniconda3/lib/python3.8/site-packages/xgboost/sklearn.py:888: UserWarning: The use of label encoder in XGBClassifier is deprecated and will be removed in a future release. To remove this warning, do the following: 1) Pass option use_label_encoder=False when constructing XGBClassifier object; and 2) Encode your labels (y) as integers starting with 0, i.e. 0, 1, 2, ..., [num_class - 1].\n",
      "  warnings.warn(label_encoder_deprecation_msg, UserWarning)\n"
     ]
    },
    {
     "name": "stdout",
     "output_type": "stream",
     "text": [
      "[00:01:58] WARNING: ../src/learner.cc:1061: Starting in XGBoost 1.3.0, the default evaluation metric used with the objective 'binary:logistic' was changed from 'error' to 'logloss'. Explicitly set eval_metric if you'd like to restore the old behavior.\n",
      "[CV]  nrounds=4444.0, min_child_weight=5.039684199579493, lambda=1024.0, eta=0.021262343752724643, colsample_bytree=1.0, colsample_bylevel=0.6666666666666666, alpha=219.45445961038678, accuracy=0.881, f1=0.000, roc_auc=0.823, total=  13.9s\n",
      "[CV] nrounds=4444.0, min_child_weight=5.039684199579493, lambda=1024.0, eta=0.021262343752724643, colsample_bytree=1.0, colsample_bylevel=0.6666666666666666, alpha=219.45445961038678 \n",
      "[00:02:12] WARNING: ../src/learner.cc:541: \n",
      "Parameters: { nrounds } might not be used.\n",
      "\n",
      "  This may not be accurate due to some parameters are only used in language bindings but\n",
      "  passed down to XGBoost core.  Or some parameters are not used but slip through this\n",
      "  verification. Please open an issue if you find above cases.\n",
      "\n",
      "\n"
     ]
    },
    {
     "name": "stderr",
     "output_type": "stream",
     "text": [
      "/home/piotr/miniconda3/lib/python3.8/site-packages/xgboost/sklearn.py:888: UserWarning: The use of label encoder in XGBClassifier is deprecated and will be removed in a future release. To remove this warning, do the following: 1) Pass option use_label_encoder=False when constructing XGBClassifier object; and 2) Encode your labels (y) as integers starting with 0, i.e. 0, 1, 2, ..., [num_class - 1].\n",
      "  warnings.warn(label_encoder_deprecation_msg, UserWarning)\n"
     ]
    },
    {
     "name": "stdout",
     "output_type": "stream",
     "text": [
      "[00:02:12] WARNING: ../src/learner.cc:1061: Starting in XGBoost 1.3.0, the default evaluation metric used with the objective 'binary:logistic' was changed from 'error' to 'logloss'. Explicitly set eval_metric if you'd like to restore the old behavior.\n",
      "[CV]  nrounds=4444.0, min_child_weight=5.039684199579493, lambda=1024.0, eta=0.021262343752724643, colsample_bytree=1.0, colsample_bylevel=0.6666666666666666, alpha=219.45445961038678, accuracy=0.880, f1=0.000, roc_auc=0.838, total=  14.1s\n",
      "[CV] nrounds=4444.0, min_child_weight=5.039684199579493, lambda=1024.0, eta=0.021262343752724643, colsample_bytree=1.0, colsample_bylevel=0.6666666666666666, alpha=219.45445961038678 \n",
      "[00:02:26] WARNING: ../src/learner.cc:541: \n",
      "Parameters: { nrounds } might not be used.\n",
      "\n",
      "  This may not be accurate due to some parameters are only used in language bindings but\n",
      "  passed down to XGBoost core.  Or some parameters are not used but slip through this\n",
      "  verification. Please open an issue if you find above cases.\n",
      "\n",
      "\n"
     ]
    },
    {
     "name": "stderr",
     "output_type": "stream",
     "text": [
      "/home/piotr/miniconda3/lib/python3.8/site-packages/xgboost/sklearn.py:888: UserWarning: The use of label encoder in XGBClassifier is deprecated and will be removed in a future release. To remove this warning, do the following: 1) Pass option use_label_encoder=False when constructing XGBClassifier object; and 2) Encode your labels (y) as integers starting with 0, i.e. 0, 1, 2, ..., [num_class - 1].\n",
      "  warnings.warn(label_encoder_deprecation_msg, UserWarning)\n"
     ]
    },
    {
     "name": "stdout",
     "output_type": "stream",
     "text": [
      "[00:02:26] WARNING: ../src/learner.cc:1061: Starting in XGBoost 1.3.0, the default evaluation metric used with the objective 'binary:logistic' was changed from 'error' to 'logloss'. Explicitly set eval_metric if you'd like to restore the old behavior.\n",
      "[CV]  nrounds=4444.0, min_child_weight=5.039684199579493, lambda=1024.0, eta=0.021262343752724643, colsample_bytree=1.0, colsample_bylevel=0.6666666666666666, alpha=219.45445961038678, accuracy=0.880, f1=0.000, roc_auc=0.844, total=  16.0s\n",
      "[CV] nrounds=2222.0, min_child_weight=43.54528000558007, lambda=0.09921256574801249, eta=0.021262343752724643, colsample_bytree=1.0, colsample_bylevel=0.5555555555555556, alpha=47.03150375281921 \n",
      "[00:02:42] WARNING: ../src/learner.cc:541: \n",
      "Parameters: { nrounds } might not be used.\n",
      "\n",
      "  This may not be accurate due to some parameters are only used in language bindings but\n",
      "  passed down to XGBoost core.  Or some parameters are not used but slip through this\n",
      "  verification. Please open an issue if you find above cases.\n",
      "\n",
      "\n"
     ]
    },
    {
     "name": "stderr",
     "output_type": "stream",
     "text": [
      "/home/piotr/miniconda3/lib/python3.8/site-packages/xgboost/sklearn.py:888: UserWarning: The use of label encoder in XGBClassifier is deprecated and will be removed in a future release. To remove this warning, do the following: 1) Pass option use_label_encoder=False when constructing XGBClassifier object; and 2) Encode your labels (y) as integers starting with 0, i.e. 0, 1, 2, ..., [num_class - 1].\n",
      "  warnings.warn(label_encoder_deprecation_msg, UserWarning)\n"
     ]
    },
    {
     "name": "stdout",
     "output_type": "stream",
     "text": [
      "[00:02:43] WARNING: ../src/learner.cc:1061: Starting in XGBoost 1.3.0, the default evaluation metric used with the objective 'binary:logistic' was changed from 'error' to 'logloss'. Explicitly set eval_metric if you'd like to restore the old behavior.\n",
      "[CV]  nrounds=2222.0, min_child_weight=43.54528000558007, lambda=0.09921256574801249, eta=0.021262343752724643, colsample_bytree=1.0, colsample_bylevel=0.5555555555555556, alpha=47.03150375281921, accuracy=0.889, f1=0.212, roc_auc=0.866, total=  11.5s\n",
      "[CV] nrounds=2222.0, min_child_weight=43.54528000558007, lambda=0.09921256574801249, eta=0.021262343752724643, colsample_bytree=1.0, colsample_bylevel=0.5555555555555556, alpha=47.03150375281921 \n",
      "[00:02:54] WARNING: ../src/learner.cc:541: \n",
      "Parameters: { nrounds } might not be used.\n",
      "\n",
      "  This may not be accurate due to some parameters are only used in language bindings but\n",
      "  passed down to XGBoost core.  Or some parameters are not used but slip through this\n",
      "  verification. Please open an issue if you find above cases.\n",
      "\n",
      "\n"
     ]
    },
    {
     "name": "stderr",
     "output_type": "stream",
     "text": [
      "/home/piotr/miniconda3/lib/python3.8/site-packages/xgboost/sklearn.py:888: UserWarning: The use of label encoder in XGBClassifier is deprecated and will be removed in a future release. To remove this warning, do the following: 1) Pass option use_label_encoder=False when constructing XGBClassifier object; and 2) Encode your labels (y) as integers starting with 0, i.e. 0, 1, 2, ..., [num_class - 1].\n",
      "  warnings.warn(label_encoder_deprecation_msg, UserWarning)\n"
     ]
    },
    {
     "name": "stdout",
     "output_type": "stream",
     "text": [
      "[00:02:54] WARNING: ../src/learner.cc:1061: Starting in XGBoost 1.3.0, the default evaluation metric used with the objective 'binary:logistic' was changed from 'error' to 'logloss'. Explicitly set eval_metric if you'd like to restore the old behavior.\n",
      "[CV]  nrounds=2222.0, min_child_weight=43.54528000558007, lambda=0.09921256574801249, eta=0.021262343752724643, colsample_bytree=1.0, colsample_bylevel=0.5555555555555556, alpha=47.03150375281921, accuracy=0.889, f1=0.240, roc_auc=0.865, total=  11.6s\n",
      "[CV] nrounds=2222.0, min_child_weight=43.54528000558007, lambda=0.09921256574801249, eta=0.021262343752724643, colsample_bytree=1.0, colsample_bylevel=0.5555555555555556, alpha=47.03150375281921 \n",
      "[00:03:05] WARNING: ../src/learner.cc:541: \n",
      "Parameters: { nrounds } might not be used.\n",
      "\n",
      "  This may not be accurate due to some parameters are only used in language bindings but\n",
      "  passed down to XGBoost core.  Or some parameters are not used but slip through this\n",
      "  verification. Please open an issue if you find above cases.\n",
      "\n",
      "\n"
     ]
    },
    {
     "name": "stderr",
     "output_type": "stream",
     "text": [
      "/home/piotr/miniconda3/lib/python3.8/site-packages/xgboost/sklearn.py:888: UserWarning: The use of label encoder in XGBClassifier is deprecated and will be removed in a future release. To remove this warning, do the following: 1) Pass option use_label_encoder=False when constructing XGBClassifier object; and 2) Encode your labels (y) as integers starting with 0, i.e. 0, 1, 2, ..., [num_class - 1].\n",
      "  warnings.warn(label_encoder_deprecation_msg, UserWarning)\n"
     ]
    },
    {
     "name": "stdout",
     "output_type": "stream",
     "text": [
      "[00:03:06] WARNING: ../src/learner.cc:1061: Starting in XGBoost 1.3.0, the default evaluation metric used with the objective 'binary:logistic' was changed from 'error' to 'logloss'. Explicitly set eval_metric if you'd like to restore the old behavior.\n",
      "[CV]  nrounds=2222.0, min_child_weight=43.54528000558007, lambda=0.09921256574801249, eta=0.021262343752724643, colsample_bytree=1.0, colsample_bylevel=0.5555555555555556, alpha=47.03150375281921, accuracy=0.888, f1=0.198, roc_auc=0.871, total=  10.6s\n",
      "[CV] nrounds=2222.0, min_child_weight=43.54528000558007, lambda=0.09921256574801249, eta=0.021262343752724643, colsample_bytree=1.0, colsample_bylevel=0.5555555555555556, alpha=47.03150375281921 \n",
      "[00:03:16] WARNING: ../src/learner.cc:541: \n",
      "Parameters: { nrounds } might not be used.\n",
      "\n",
      "  This may not be accurate due to some parameters are only used in language bindings but\n",
      "  passed down to XGBoost core.  Or some parameters are not used but slip through this\n",
      "  verification. Please open an issue if you find above cases.\n",
      "\n",
      "\n"
     ]
    },
    {
     "name": "stderr",
     "output_type": "stream",
     "text": [
      "/home/piotr/miniconda3/lib/python3.8/site-packages/xgboost/sklearn.py:888: UserWarning: The use of label encoder in XGBClassifier is deprecated and will be removed in a future release. To remove this warning, do the following: 1) Pass option use_label_encoder=False when constructing XGBClassifier object; and 2) Encode your labels (y) as integers starting with 0, i.e. 0, 1, 2, ..., [num_class - 1].\n",
      "  warnings.warn(label_encoder_deprecation_msg, UserWarning)\n"
     ]
    },
    {
     "name": "stdout",
     "output_type": "stream",
     "text": [
      "[00:03:16] WARNING: ../src/learner.cc:1061: Starting in XGBoost 1.3.0, the default evaluation metric used with the objective 'binary:logistic' was changed from 'error' to 'logloss'. Explicitly set eval_metric if you'd like to restore the old behavior.\n",
      "[CV]  nrounds=2222.0, min_child_weight=43.54528000558007, lambda=0.09921256574801249, eta=0.021262343752724643, colsample_bytree=1.0, colsample_bylevel=0.5555555555555556, alpha=47.03150375281921, accuracy=0.891, f1=0.258, roc_auc=0.875, total=  10.8s\n",
      "[CV] nrounds=2222.0, min_child_weight=43.54528000558007, lambda=0.09921256574801249, eta=0.021262343752724643, colsample_bytree=1.0, colsample_bylevel=0.5555555555555556, alpha=47.03150375281921 \n",
      "[00:03:27] WARNING: ../src/learner.cc:541: \n",
      "Parameters: { nrounds } might not be used.\n",
      "\n",
      "  This may not be accurate due to some parameters are only used in language bindings but\n",
      "  passed down to XGBoost core.  Or some parameters are not used but slip through this\n",
      "  verification. Please open an issue if you find above cases.\n",
      "\n",
      "\n"
     ]
    },
    {
     "name": "stderr",
     "output_type": "stream",
     "text": [
      "/home/piotr/miniconda3/lib/python3.8/site-packages/xgboost/sklearn.py:888: UserWarning: The use of label encoder in XGBClassifier is deprecated and will be removed in a future release. To remove this warning, do the following: 1) Pass option use_label_encoder=False when constructing XGBClassifier object; and 2) Encode your labels (y) as integers starting with 0, i.e. 0, 1, 2, ..., [num_class - 1].\n",
      "  warnings.warn(label_encoder_deprecation_msg, UserWarning)\n"
     ]
    },
    {
     "name": "stdout",
     "output_type": "stream",
     "text": [
      "[00:03:27] WARNING: ../src/learner.cc:1061: Starting in XGBoost 1.3.0, the default evaluation metric used with the objective 'binary:logistic' was changed from 'error' to 'logloss'. Explicitly set eval_metric if you'd like to restore the old behavior.\n",
      "[CV]  nrounds=2222.0, min_child_weight=43.54528000558007, lambda=0.09921256574801249, eta=0.021262343752724643, colsample_bytree=1.0, colsample_bylevel=0.5555555555555556, alpha=47.03150375281921, accuracy=0.892, f1=0.253, roc_auc=0.879, total=  10.9s\n",
      "[00:03:38] WARNING: ../src/learner.cc:541: \n",
      "Parameters: { nrounds } might not be used.\n",
      "\n",
      "  This may not be accurate due to some parameters are only used in language bindings but\n",
      "  passed down to XGBoost core.  Or some parameters are not used but slip through this\n",
      "  verification. Please open an issue if you find above cases.\n",
      "\n",
      "\n"
     ]
    },
    {
     "name": "stderr",
     "output_type": "stream",
     "text": [
      "[Parallel(n_jobs=1)]: Done 250 out of 250 | elapsed: 26.2min finished\n",
      "/home/piotr/miniconda3/lib/python3.8/site-packages/xgboost/sklearn.py:888: UserWarning: The use of label encoder in XGBClassifier is deprecated and will be removed in a future release. To remove this warning, do the following: 1) Pass option use_label_encoder=False when constructing XGBClassifier object; and 2) Encode your labels (y) as integers starting with 0, i.e. 0, 1, 2, ..., [num_class - 1].\n",
      "  warnings.warn(label_encoder_deprecation_msg, UserWarning)\n"
     ]
    },
    {
     "name": "stdout",
     "output_type": "stream",
     "text": [
      "[00:03:38] WARNING: ../src/learner.cc:1061: Starting in XGBoost 1.3.0, the default evaluation metric used with the objective 'binary:logistic' was changed from 'error' to 'logloss'. Explicitly set eval_metric if you'd like to restore the old behavior.\n"
     ]
    }
   ],
   "source": [
    "cv_res = random_cv.fit(X_train, y_train)"
   ]
  },
  {
   "cell_type": "code",
   "execution_count": 10,
   "id": "taken-accreditation",
   "metadata": {},
   "outputs": [
    {
     "name": "stdout",
     "output_type": "stream",
     "text": [
      "Best mean AUC: \n",
      "0.9176758093334063\n"
     ]
    }
   ],
   "source": [
    "print(\"Best mean AUC: \")\n",
    "print(cv_res.best_score_)\n",
    "cv_res_df = pd.DataFrame(cv_res.cv_results_)\n",
    "cv_res_df.to_csv(\"CV_results.csv\")\n",
    "cv_res.best_estimator_.save_model(\"CV_best_model\")"
   ]
  },
  {
   "cell_type": "code",
   "execution_count": 11,
   "id": "alpha-butterfly",
   "metadata": {},
   "outputs": [
    {
     "name": "stdout",
     "output_type": "stream",
     "text": [
      "Test DF AUC: \n",
      "0.9285575200011288\n"
     ]
    }
   ],
   "source": [
    "#Score on test data\n",
    "print(\"Test DF AUC: \")\n",
    "print(cv_res.score(X_test, y_test))"
   ]
  }
 ],
 "metadata": {
  "kernelspec": {
   "display_name": "Python 3",
   "language": "python",
   "name": "python3"
  },
  "language_info": {
   "codemirror_mode": {
    "name": "ipython",
    "version": 3
   },
   "file_extension": ".py",
   "mimetype": "text/x-python",
   "name": "python",
   "nbconvert_exporter": "python",
   "pygments_lexer": "ipython3",
   "version": "3.8.5"
  }
 },
 "nbformat": 4,
 "nbformat_minor": 5
}
